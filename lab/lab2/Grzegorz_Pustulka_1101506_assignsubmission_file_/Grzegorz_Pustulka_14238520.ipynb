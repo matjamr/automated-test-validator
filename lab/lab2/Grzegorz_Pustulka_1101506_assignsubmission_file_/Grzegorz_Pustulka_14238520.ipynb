{
 "cells": [
  {
   "cell_type": "markdown",
   "metadata": {},
   "source": [
    "## Języki symboliczne - rok akademicki 2023/2023\n",
    "\n",
    "Przed rozpoczęciem pracy z notatnikiem zmień jego nazwę zgodnie z wzorem: `NrAlbumu_Nazwisko_Imie_PoprzedniaNazwa`\n",
    "\n",
    "Przed wysłaniem notatnika upewnij się, że rozwiązałeś wszystkie zadania/ćwiczenia, w szczególności, że uzupełniłeś wszystkie pola `YOUR CODE HERE` oraz `YOUR ANSWER HERE`."
   ]
  },
  {
   "cell_type": "markdown",
   "metadata": {
    "deletable": false,
    "editable": false,
    "nbgrader": {
     "cell_type": "markdown",
     "checksum": "3aa07d30eb9b4755dc5825064984cba2",
     "grade": false,
     "grade_id": "cell-ed6836e73712236e",
     "locked": true,
     "schema_version": 3,
     "solution": false
    }
   },
   "source": [
    "## Temat: Funkcje. Instrukcje `def`, `lambda`. Argumenty funkcji, wartości domyślne, parametry specjalne, napisy dokumentujące, przypisy do funkcji.\n",
    "Zapoznaj się z treścią niniejszego notatnika czytając i wykonując go komórka po komórce. Wykonaj napotkane zadania/ćwiczenia.\n",
    "\n",
    "### Definiowanie funkcji: Instrukcja `def`\n",
    "#### Składnia.\n",
    "- Struktura składni ma postać:\n",
    "\n",
    "```python\n",
    "def nazwa(argumenty):\n",
    "\tblok_instrukcji\n",
    "    return wyrażenie\n",
    "```    \n",
    "- Do tworzenia funkcji służy instrukcja `def`. \n",
    "- Lista argumentów może być pusta lub składać się z dowolnej ilości argumentów oddzielonych przecinkami. \n",
    "- Zawartość bloku instrukcji ustalana jest na podstawie wcięć. \n",
    "- Instrukcja `return` nie jest obowiązkowa. W przypadku jej braku funkcja zwraca wartość `None` \n",
    "- Wywołanie funkcji odbywa się poprzez podanie jej nazwy z odpowiednią liczbą argumentów.\n",
    "- Funkcja musi być zdefiniowana przed jej pierwszym użyciem.\n",
    "- wywołanie funkcji tworzy nową tablicę symboli przechowującą zmienne lokalne funkcji jak również aktualne argumenty przekazane do funkcji przez referencję\n",
    "\n",
    "https://docs.python.org/3/tutorial/controlflow.html#defining-functions"
   ]
  },
  {
   "cell_type": "code",
   "execution_count": 1,
   "metadata": {},
   "outputs": [
    {
     "name": "stdout",
     "output_type": "stream",
     "text": [
      "Hello\n",
      "Hello\n",
      "None\n"
     ]
    }
   ],
   "source": [
    "def przywitanie():   #definicja funkcji - bez argumentów\n",
    "    print('Hello')\n",
    "    \n",
    "przywitanie()   #wywołanie funkcji\n",
    "a = przywitanie()  #wywołanie z przypisaniem zwracanej wartości\n",
    "print(a)  #funkcja bez return zwaraca obiekt None"
   ]
  },
  {
   "cell_type": "code",
   "execution_count": 2,
   "metadata": {},
   "outputs": [
    {
     "name": "stdout",
     "output_type": "stream",
     "text": [
      "Hello Adam\n",
      "Hello Adam\n",
      "Hello Adam\n"
     ]
    }
   ],
   "source": [
    "def przywitanie_razy_n(n, imie):  #definicja funkcji z 2 argumentami\n",
    "    for i in range(n):\n",
    "        print('Hello', imie)\n",
    "    \n",
    "przywitanie_razy_n(3, 'Adam')   #wywołanie funkcji"
   ]
  },
  {
   "cell_type": "markdown",
   "metadata": {
    "deletable": false,
    "editable": false,
    "nbgrader": {
     "cell_type": "markdown",
     "checksum": "6d542b5198a4fb351cb5006b4b26933c",
     "grade": false,
     "grade_id": "cell-6ff8a240ab24d111",
     "locked": true,
     "schema_version": 3,
     "solution": false
    }
   },
   "source": [
    "Funkcja może zwracać wartość, służy do tego instrukcja `return`. Może to być pojedyncza wartość lub wiele wartości w postaci krotki."
   ]
  },
  {
   "cell_type": "code",
   "execution_count": 3,
   "metadata": {},
   "outputs": [
    {
     "name": "stdout",
     "output_type": "stream",
     "text": [
      "2\n"
     ]
    }
   ],
   "source": [
    "def funkcja():  #definicja funkcji\n",
    "    return 2    # wartość zwracana przez funkcję\n",
    "\n",
    "a = funkcja()   # wywołanie funkcji - zwracana pojedyncza wartość\n",
    "print(a)"
   ]
  },
  {
   "cell_type": "code",
   "execution_count": 4,
   "metadata": {},
   "outputs": [
    {
     "name": "stdout",
     "output_type": "stream",
     "text": [
      "(1, 2, 3, 4)\n",
      "1 2 3 4\n"
     ]
    }
   ],
   "source": [
    "def funkcja2():       #definicja funkcji\n",
    "    return 1,2,3,4    #wartości zwracane przez funkcję\n",
    "\n",
    "a = funkcja2()        #wywołanie funkcji - zwracana krotka\n",
    "print(a)\n",
    "\n",
    "x,y,z,t = funkcja2()  #kolejne wywołanie funkcji - zwracana krotka z rozpakowaniem\n",
    "print(x,y,z,t)"
   ]
  },
  {
   "cell_type": "code",
   "execution_count": 5,
   "metadata": {},
   "outputs": [
    {
     "data": {
      "text/plain": [
       "(0, 2)"
      ]
     },
     "execution_count": 5,
     "metadata": {},
     "output_type": "execute_result"
    }
   ],
   "source": [
    "def reszta(a, b):   #definicja funkcji o nazwie reszta - dwa argumenty formalne a, b \n",
    "    q = a//b       #jeżeli a, b całkowite q również całkowite\n",
    "    r = a - q*b    #reszta z dzielenia\n",
    "    return (q,r)   #funkcja zwraca dwa argumenty wynik dzielenia i resztę (to samo robi wbudowana metoda divmod())\n",
    "\n",
    "a1 = 2\n",
    "b1 = 3\n",
    "reszta(a1, b1) #wywołanie funkcji z dwoma argumentami aktualnymi "
   ]
  },
  {
   "cell_type": "markdown",
   "metadata": {
    "deletable": false,
    "editable": false,
    "nbgrader": {
     "cell_type": "markdown",
     "checksum": "ad968afec1616723f61783ec0f2ecf95",
     "grade": false,
     "grade_id": "cell-aa60a0c22b5dd7bb",
     "locked": true,
     "schema_version": 3,
     "solution": false
    }
   },
   "source": [
    "### Ćwiczenie 1\n",
    "Napisz program, który dla podanego z klawiatury promienia obliczy w funkcji pole i obwód koła. "
   ]
  },
  {
   "cell_type": "code",
   "execution_count": 10,
   "metadata": {
    "deletable": false,
    "nbgrader": {
     "cell_type": "code",
     "checksum": "e550341092d6857b5a909913c3d7edc3",
     "grade": false,
     "grade_id": "cell-692e1f3a138174d9",
     "locked": false,
     "schema_version": 3,
     "solution": true
    }
   },
   "outputs": [
    {
     "name": "stdout",
     "output_type": "stream",
     "text": [
      "Pole:  78.53981633974483 \n",
      "Obwod:  31.41592653589793\n"
     ]
    }
   ],
   "source": [
    "import math\n",
    "pi = math.pi\n",
    "r = float(input('Podaj promień: '))\n",
    "\n",
    "# YOUR CODE HERE\n",
    "def oblicz_pole(r):\n",
    "    return pi*pow(r, 2)\n",
    "\n",
    "def oblicz_obwod(r):\n",
    "    return 2*pi*r\n",
    "\n",
    "pole = oblicz_pole(r)\n",
    "obwod = oblicz_obwod(r)\n",
    "\n",
    "print(\"Pole: \", pole, \"\\nObwod: \", obwod)\n",
    "#raise NotImplementedError()"
   ]
  },
  {
   "cell_type": "markdown",
   "metadata": {
    "deletable": false,
    "editable": false,
    "nbgrader": {
     "cell_type": "markdown",
     "checksum": "70fb7509c6a1e288745f138e92ce459f",
     "grade": false,
     "grade_id": "cell-afa568896ca857aa",
     "locked": true,
     "schema_version": 3,
     "solution": false
    }
   },
   "source": [
    "### Ćwiczenie 2\n",
    "Napisz funkcję, która policzy:\n",
    "$$\n",
    "z = \\left\\{ \\begin{array}{11}\n",
    "x^{2}+y & \\textrm{dla $x^{2}+y^{2}\\leq 1$} & \\qquad (1)\\\\\n",
    "2x+y^{2} & \\textrm{dla $y \\gt x+5$} & \\qquad (2)\\\\\n",
    "\\frac{1}{2}x^{2}+y & \\textrm{dla $ x^{2}+y^{2}>1$ i $y \\leq x+5$} & \\qquad (3)\n",
    "\\end{array} \\right.\n",
    "$$\n",
    "\n",
    "oraz poda numer wzoru, wg którego wartość `z` została policzona. Wywołaj funkcję z parametrami podanymi poniżej."
   ]
  },
  {
   "cell_type": "code",
   "execution_count": 55,
   "metadata": {
    "deletable": false,
    "nbgrader": {
     "cell_type": "code",
     "checksum": "5a78c8f94b10d961d3a28f07ad5aca39",
     "grade": false,
     "grade_id": "cell-48179185dd284eba",
     "locked": false,
     "schema_version": 3,
     "solution": true
    }
   },
   "outputs": [
    {
     "name": "stdout",
     "output_type": "stream",
     "text": [
      "(0.59, 1)\n",
      "(68, 2)\n",
      "(2.5, 3)\n"
     ]
    }
   ],
   "source": [
    "import math\n",
    "# YOUR CODE HERE\n",
    "def fun_z(x,y):\n",
    "    if x*x+y*y <= 1:\n",
    "        w = x*x+y\n",
    "        nr = 1\n",
    "    if y > x + 5:\n",
    "        w = 2*x+y*y\n",
    "        nr = 2\n",
    "    if x*x+y*y > 1 and y <= x + 5:\n",
    "        w = x*x / 2 + y\n",
    "        nr = 3\n",
    "    return w,nr\n",
    "    \n",
    "#raise NotImplementedError()\n",
    "print(fun_z(0.3,0.5))\n",
    "print(fun_z(2,8))\n",
    "print(fun_z(-1,2))"
   ]
  },
  {
   "cell_type": "markdown",
   "metadata": {
    "deletable": false,
    "editable": false,
    "nbgrader": {
     "cell_type": "markdown",
     "checksum": "ad1ac490fda112303a73635954277e6c",
     "grade": false,
     "grade_id": "cell-7c018d69a7114da0",
     "locked": true,
     "schema_version": 3,
     "solution": false
    }
   },
   "source": [
    "### Argumenty funkcji.\n",
    "Funkcje mogą przyjmować dowolną ilość argumentów, argumentem może być dowolny obiekt."
   ]
  },
  {
   "cell_type": "code",
   "execution_count": 11,
   "metadata": {},
   "outputs": [
    {
     "data": {
      "text/plain": [
       "3.7416573867739413"
      ]
     },
     "execution_count": 11,
     "metadata": {},
     "output_type": "execute_result"
    }
   ],
   "source": [
    "# p-norma (dla p = 2 norma euklidesowa)\n",
    "def pnorm(wektor, p):\n",
    "    suma = 0\n",
    "    for x in wektor:\n",
    "        suma+=x**p\n",
    "    norma = suma**(1.0/p)\n",
    "    return norma\n",
    "\n",
    "pnorm([1,2,3],2)"
   ]
  },
  {
   "cell_type": "markdown",
   "metadata": {
    "deletable": false,
    "editable": false,
    "nbgrader": {
     "cell_type": "markdown",
     "checksum": "7bd50a693a8df0dc0bc9950bff99defe",
     "grade": false,
     "grade_id": "cell-0e5e4816f49cd518",
     "locked": true,
     "schema_version": 3,
     "solution": false
    }
   },
   "source": [
    "Dla tak zdefiniowanej funkcji liczba i kolejność argumentów formalnych (definicja funkcji) i aktualnych (wywołanie) musi być identyczna."
   ]
  },
  {
   "cell_type": "code",
   "execution_count": 12,
   "metadata": {},
   "outputs": [
    {
     "ename": "TypeError",
     "evalue": "pnorm() missing 1 required positional argument: 'p'",
     "output_type": "error",
     "traceback": [
      "\u001B[1;31m---------------------------------------------------------------------------\u001B[0m",
      "\u001B[1;31mTypeError\u001B[0m                                 Traceback (most recent call last)",
      "\u001B[1;32mc:\\Users\\szymo\\Downloads\\JS_Lab_2.ipynb Cell 16\u001B[0m in \u001B[0;36m<cell line: 1>\u001B[1;34m()\u001B[0m\n\u001B[1;32m----> <a href='vscode-notebook-cell:/c%3A/Users/szymo/Downloads/JS_Lab_2.ipynb#X21sZmlsZQ%3D%3D?line=0'>1</a>\u001B[0m pnorm([\u001B[39m1\u001B[39;49m,\u001B[39m2\u001B[39;49m,\u001B[39m3\u001B[39;49m])\n",
      "\u001B[1;31mTypeError\u001B[0m: pnorm() missing 1 required positional argument: 'p'"
     ]
    }
   ],
   "source": [
    "pnorm([1,2,3])"
   ]
  },
  {
   "cell_type": "code",
   "execution_count": 13,
   "metadata": {},
   "outputs": [
    {
     "ename": "TypeError",
     "evalue": "pnorm() takes 2 positional arguments but 3 were given",
     "output_type": "error",
     "traceback": [
      "\u001B[1;31m---------------------------------------------------------------------------\u001B[0m",
      "\u001B[1;31mTypeError\u001B[0m                                 Traceback (most recent call last)",
      "\u001B[1;32mc:\\Users\\szymo\\Downloads\\JS_Lab_2.ipynb Cell 17\u001B[0m in \u001B[0;36m<cell line: 1>\u001B[1;34m()\u001B[0m\n\u001B[1;32m----> <a href='vscode-notebook-cell:/c%3A/Users/szymo/Downloads/JS_Lab_2.ipynb#X22sZmlsZQ%3D%3D?line=0'>1</a>\u001B[0m pnorm([\u001B[39m1\u001B[39;49m,\u001B[39m2\u001B[39;49m,\u001B[39m3\u001B[39;49m], \u001B[39m2\u001B[39;49m, \u001B[39m3\u001B[39;49m)\n",
      "\u001B[1;31mTypeError\u001B[0m: pnorm() takes 2 positional arguments but 3 were given"
     ]
    }
   ],
   "source": [
    "pnorm([1,2,3], 2, 3)"
   ]
  },
  {
   "cell_type": "markdown",
   "metadata": {
    "deletable": false,
    "editable": false,
    "nbgrader": {
     "cell_type": "markdown",
     "checksum": "111527feb17b4ca5d17e1aad9e6777e5",
     "grade": false,
     "grade_id": "cell-5f64526d35a2abab",
     "locked": true,
     "schema_version": 3,
     "solution": false
    }
   },
   "source": [
    "Możliwe jest jednak coś takiego :) (ale tylko przy podaniu nazwy argumentu i jego wartości)."
   ]
  },
  {
   "cell_type": "code",
   "execution_count": 14,
   "metadata": {},
   "outputs": [
    {
     "data": {
      "text/plain": [
       "3.7416573867739413"
      ]
     },
     "execution_count": 14,
     "metadata": {},
     "output_type": "execute_result"
    }
   ],
   "source": [
    "pnorm(p=2, wektor=[1,2,3])"
   ]
  },
  {
   "cell_type": "markdown",
   "metadata": {
    "deletable": false,
    "editable": false,
    "nbgrader": {
     "cell_type": "markdown",
     "checksum": "00ae8c0446d7f937c46f5425b1d08763",
     "grade": false,
     "grade_id": "cell-7c2a6ef6a7829c2a",
     "locked": true,
     "schema_version": 3,
     "solution": false
    }
   },
   "source": [
    "#### Argumenty domyślne funkcji.\n",
    "\n",
    "Można definiować tzw. argumenty domyślne, których jak nie podamy w wywołaniu to przyjmą ustawioną wartość domyślną.\n",
    "\n",
    "https://docs.python.org/3/tutorial/controlflow.html#more-on-defining-functions"
   ]
  },
  {
   "cell_type": "code",
   "execution_count": 15,
   "metadata": {},
   "outputs": [
    {
     "name": "stdout",
     "output_type": "stream",
     "text": [
      "Wartość 2 normy wektora [1, 2, 3] wynosi 3.7416573867739413\n",
      "3.7416573867739413\n",
      "Wartość 3 normy wektora [1, 2, 3] wynosi 3.3019272488946263\n",
      "3.3019272488946263\n",
      "3.3019272488946263\n",
      "3.7416573867739413\n",
      "3.3019272488946263\n"
     ]
    }
   ],
   "source": [
    "# p-norma\n",
    "def pnorm(wektor, p=2, pp=True):\n",
    "    suma = 0\n",
    "    for x in wektor:\n",
    "        suma+=x**p\n",
    "    norma = suma**(1.0/p)\n",
    "    if pp:\n",
    "        print('Wartość {0} normy wektora {1} wynosi {2}' .format(p, wektor, norma))\n",
    "    return norma\n",
    "\n",
    "print(pnorm([1,2,3]))\n",
    "print(pnorm([1,2,3],3))\n",
    "print(pnorm([1,2,3],3,False))\n",
    "print(pnorm([1,2,3],pp=False))\n",
    "print(pnorm([1,2,3],p=3,pp=False))\n",
    "\n",
    "# niepoprawne wywołania\n",
    "#pnorm()                        # brak wymaganego argumentu\n",
    "#pnorm(pp=False,[1,2,3])        # argument pozycyjny za kluczowym\n",
    "#pnorm([1,2,3],wektor=[4,5,6])  # argument zduplikowany\n",
    "#pnorm([1,2,3],a=2)             # nieznany argument"
   ]
  },
  {
   "cell_type": "markdown",
   "metadata": {
    "deletable": false,
    "editable": false,
    "nbgrader": {
     "cell_type": "markdown",
     "checksum": "2e5f09dd53a3e658947cb451834ffb8f",
     "grade": false,
     "grade_id": "cell-d6795eadef2e123b",
     "locked": true,
     "schema_version": 3,
     "solution": false
    }
   },
   "source": [
    "#### Argumenty funkcji `*args`, `**kargs`.\n",
    "\n",
    "Ponieważ funkcje mogą przyjmować bardzo wiele argumentów, aby wyszystkich nie wypisywać w definicji funkcji używa się argumentów `*args` oraz `**kargs`. Argument `*args` to krotka, do której pakowane są argumenty podawane bezpośrednio (argumenty pozycyjne). Argument `**kargs` to słownik, do którego pakowane są argumenty podawane poprzez przypisanie wartości do nazwy (argumenty hasłowe). Argumenty pozycyjne muszą być podane jako pierwsze.\n",
    "\n",
    "https://docs.python.org/3/tutorial/controlflow.html#keyword-arguments"
   ]
  },
  {
   "cell_type": "code",
   "execution_count": 16,
   "metadata": {},
   "outputs": [
    {
     "name": "stdout",
     "output_type": "stream",
     "text": [
      "()\n",
      "{'z': 3, 'a': 'hello', 'b': (5, 6)}\n",
      "------------------------------------\n",
      "(3,)\n",
      "{'a': 'hello', 'b': (5, 6)}\n"
     ]
    }
   ],
   "source": [
    "def cos(*args, **kargs):\n",
    "    print(args)\n",
    "    print(kargs)\n",
    "    \n",
    "cos(z=3, a='hello', b=(5,6))\n",
    "print('------------------------------------')\n",
    "cos(3, a='hello', b=(5,6))"
   ]
  },
  {
   "cell_type": "code",
   "execution_count": 17,
   "metadata": {},
   "outputs": [
    {
     "name": "stdout",
     "output_type": "stream",
     "text": [
      "Wartość 3 normy wektora [1, 2, 3] wynosi 3.3019272488946263\n"
     ]
    },
    {
     "data": {
      "text/plain": [
       "3.3019272488946263"
      ]
     },
     "execution_count": 17,
     "metadata": {},
     "output_type": "execute_result"
    }
   ],
   "source": [
    "def pnorm2(*args, **kargs):\n",
    "    wektor = args[0]\n",
    "    p = args[1]\n",
    "    pp = kargs['pp']\n",
    "    suma = 0\n",
    "    for x in wektor:\n",
    "        suma+=x**p\n",
    "    norma = suma**(1.0/p)\n",
    "    if pp:\n",
    "        print('Wartość {0} normy wektora {1} wynosi {2}'.format(p, wektor, norma))\n",
    "    return norma\n",
    "\n",
    "pnorm2([1,2,3],3,pp=True)"
   ]
  },
  {
   "cell_type": "markdown",
   "metadata": {
    "deletable": false,
    "editable": false,
    "nbgrader": {
     "cell_type": "markdown",
     "checksum": "9ab183be3499b639af89c3de0022d57c",
     "grade": false,
     "grade_id": "cell-0501eccf1f11c33a",
     "locked": true,
     "schema_version": 3,
     "solution": false,
     "task": false
    }
   },
   "source": [
    "#### \"Rozpakowywanie\" listy argumentów.\n",
    "\n",
    "Są przypadki, że argumenty mamy już „spakowane” w postaci krotki lub listy, ale np. niektóre funkcje akceptują tylko oddzielnie podane parametry pozycyjne. W tych przypadkach najpierw krotka lub lista musi być „rozpakowana”.  Funkcja wywoływana jest wtedy z operatorem `*` aby rozpakować argumenty podawane bezpośrednio lub `**` w przypadku argumentów typu kluczowego (argumenty hasłowe).\n",
    "\n",
    "https://docs.python.org/3/tutorial/controlflow.html#unpacking-argument-lists"
   ]
  },
  {
   "cell_type": "code",
   "execution_count": 18,
   "metadata": {},
   "outputs": [
    {
     "name": "stdout",
     "output_type": "stream",
     "text": [
      "[3, 4, 5]\n",
      "3 6\n",
      "[3, 4, 5]\n"
     ]
    }
   ],
   "source": [
    "print(list(range(3,6)))          # wywołanie z oddzielnymi argumentami (argumenty pozycyjne)\n",
    "argumenty = [3, 6]\n",
    "print(*argumenty)\n",
    "print(list(range(*argumenty)))  # wywołanie z argumentami rozpakowanymi"
   ]
  },
  {
   "cell_type": "code",
   "execution_count": 19,
   "metadata": {},
   "outputs": [
    {
     "name": "stdout",
     "output_type": "stream",
     "text": [
      "({'n1': 'Multikino', 'n2': 'Świt', 'f1': 'Gladiator', 'f2': 'Piękna i bestia'},)\n",
      "{}\n",
      "------------------------------------\n",
      "()\n",
      "{'n1': 'Multikino', 'n2': 'Świt', 'f1': 'Gladiator', 'f2': 'Piękna i bestia'}\n",
      "------------------------------------\n",
      "(1, 2)\n",
      "{'n1': 'Multikino', 'n2': 'Świt', 'f1': 'Gladiator', 'f2': 'Piękna i bestia'}\n",
      "------------------------------------\n",
      "(1, 2)\n",
      "{'n1': 'Multikino', 'n2': 'Świt', 'f1': 'Gladiator', 'f2': 'Piękna i bestia', 'f3': 'Bolek i Lolek'}\n"
     ]
    }
   ],
   "source": [
    "def cos(*args, **kargs):\n",
    "    print(args)\n",
    "    print(kargs)\n",
    "\n",
    "argumenty = {'n1':'Multikino', 'n2':'Świt', 'f1':'Gladiator','f2':'Piękna i bestia'}\n",
    "\n",
    "cos(argumenty)        # wywołanie bez rozpakowania - w funkcji tylko jeden arg. pozycyjny\n",
    "print('------------------------------------')\n",
    "cos(**argumenty)      # wywołanie z argumentami rozpakowanymi - w funkcji 4 arg. hasłowe\n",
    "print('------------------------------------')\n",
    "cos(1,2,**argumenty)  # wywołanie z argumentami rozpakowanymi - w funkcji 2 arg. pozycyjne i 4 arg. hasłowe\n",
    "print('------------------------------------')\n",
    "cos(1,2,**argumenty,f3='Bolek i Lolek')  # wywołanie z argumentami rozpakowanymi - w funkcji 2 arg. pozycyjne i 5 arg. hasłowych\n"
   ]
  },
  {
   "cell_type": "markdown",
   "metadata": {
    "deletable": false,
    "editable": false,
    "nbgrader": {
     "cell_type": "markdown",
     "checksum": "689f6d27168159c086e414025cba56ba",
     "grade": false,
     "grade_id": "cell-80a332fee43b67e8",
     "locked": true,
     "schema_version": 3,
     "solution": false,
     "task": false
    }
   },
   "source": [
    "#### Parametry specjalne używane w funkcji:  `/` i `*`.\n",
    "\n",
    "Dla poprawienia czytelności/efektywności w Pythonie od wersji 3.8 wprowadzono dla funkcji dodatkowe parametry specjalne, zapisywane przy pomocy symboli `/` oraz `*`. Parametry te pozwalają na szybką orientację czy przesłane do funkcji parametry są pozycyjne czy hasłowe (kluczowe).\n",
    "\n",
    "```python\n",
    "def nazwa(poz1, poz2, /, poz_lub_kl, *, kl1, kl2):\n",
    "\t\n",
    "```    \n",
    "Symbole `/` i `*` są opcjonalne. Jeśli wystąpią mówią o tym jak należy\n",
    "potraktować poszczególne parametry – jako tylko pozycyjne, pozycyjne lub\n",
    "typu klucz-wartość lub tylko kluczowe.\n",
    "Argumenty pozycyjne znajdują się przed znakiem `/`, który używany jest w tym\n",
    "kontekście do rozdzielenia parametrów pozycyjnych od kluczowych. Parametry występujące po / mogą być pozycyjne lub kluczowe albo tylko\n",
    "kluczowe.\n",
    "\n",
    "https://docs.python.org/3/tutorial/controlflow.html#special-parameters"
   ]
  },
  {
   "cell_type": "code",
   "execution_count": 20,
   "metadata": {},
   "outputs": [
    {
     "name": "stdout",
     "output_type": "stream",
     "text": [
      "5\n"
     ]
    }
   ],
   "source": [
    "def tylko_pozycyjne_arg(arg, /):\n",
    "    print(arg)\n",
    "    \n",
    "tylko_pozycyjne_arg(5)\n",
    "#tylko_pozycyjne_arg(arg=5)  # błąd "
   ]
  },
  {
   "cell_type": "code",
   "execution_count": 21,
   "metadata": {},
   "outputs": [
    {
     "name": "stdout",
     "output_type": "stream",
     "text": [
      "5\n"
     ]
    }
   ],
   "source": [
    "def tylko_kluczowe_arg(*, arg):\n",
    "    print(arg)\n",
    "    \n",
    "tylko_kluczowe_arg(arg=5)\n",
    "#tylko_kluczowe_arg(5)      # błąd "
   ]
  },
  {
   "cell_type": "code",
   "execution_count": 22,
   "metadata": {},
   "outputs": [
    {
     "name": "stdout",
     "output_type": "stream",
     "text": [
      "1 2 3\n",
      "1 2 3\n"
     ]
    }
   ],
   "source": [
    "def mieszane_arg(poz, /, std, *, kl):\n",
    "    print(poz, std, kl)\n",
    "    \n",
    "mieszane_arg(1, std=2, kl=3)\n",
    "mieszane_arg(1, 2, kl=3)\n",
    "#mieszane_arg(1, 2, 3)      # błąd "
   ]
  },
  {
   "cell_type": "markdown",
   "metadata": {
    "deletable": false,
    "editable": false,
    "nbgrader": {
     "cell_type": "markdown",
     "checksum": "897258e0986b554ecab1566c3d1bd349",
     "grade": false,
     "grade_id": "cell-c01a99d205dacb9c",
     "locked": true,
     "schema_version": 3,
     "solution": false,
     "task": false
    }
   },
   "source": [
    "Jak uniknąć potencjalnej kolizji argumentu pozycyjnego i kluczowego - gdy klucz ma taką samą nazwę jak parametr pozycyjny?"
   ]
  },
  {
   "cell_type": "code",
   "execution_count": 23,
   "metadata": {},
   "outputs": [
    {
     "name": "stdout",
     "output_type": "stream",
     "text": [
      "3\n",
      "{'nazwa': 'hello'}\n"
     ]
    }
   ],
   "source": [
    "def cos(nazwa, **kargs):     # możliwy konflikt nazw\n",
    "    print(nazwa)\n",
    "    print(kargs)\n",
    "    \n",
    "#cos(3, nazwa='hello')       # błąd TypeError: cos() got multiple values for argument 'nazwa'\n",
    "\n",
    "def cos1(nazwa, /, **kargs): # brak konfliku nazw\n",
    "    print(nazwa)\n",
    "    print(kargs)\n",
    "\n",
    "cos1(3, nazwa='hello')"
   ]
  },
  {
   "cell_type": "markdown",
   "metadata": {
    "deletable": false,
    "editable": false,
    "nbgrader": {
     "cell_type": "markdown",
     "checksum": "b2131bda8a8c11953961a4b9b277a58f",
     "grade": false,
     "grade_id": "cell-125a34bd8fd9d531",
     "locked": true,
     "schema_version": 3,
     "solution": false
    }
   },
   "source": [
    "#### Funkcje jako argumenty innych funkcji.\n",
    "\n",
    "Funkcje mogą być argumentami innych funkcji."
   ]
  },
  {
   "cell_type": "code",
   "execution_count": 24,
   "metadata": {},
   "outputs": [],
   "source": [
    "def suma(a, b):\n",
    "    return a+b\n",
    "\n",
    "def roznica(a, b):\n",
    "    return a-b\n",
    "\n",
    "def wykonaj(x, y, f):\n",
    "    return f(x, y)"
   ]
  },
  {
   "cell_type": "code",
   "execution_count": 25,
   "metadata": {},
   "outputs": [
    {
     "name": "stdout",
     "output_type": "stream",
     "text": [
      "suma = 5\n",
      "różnica = -1\n"
     ]
    }
   ],
   "source": [
    "print('suma =', wykonaj(2, 3, suma))\n",
    "print('różnica =', wykonaj(2, 3, roznica))"
   ]
  },
  {
   "cell_type": "markdown",
   "metadata": {
    "deletable": false,
    "editable": false,
    "nbgrader": {
     "cell_type": "markdown",
     "checksum": "f807bc4e4bcd6d17faeab2d926bf592b",
     "grade": false,
     "grade_id": "cell-7ccb5d20201cff0c",
     "locked": true,
     "schema_version": 3,
     "solution": false
    }
   },
   "source": [
    "### Ćwiczenie 3\n",
    "Napisz funkcję obliczającą wartość $y=x^{2}+f(x)$, tak by funkcja $f(x)$ mogła być dowolną funkcją. Policz wartości $y$ dla $f(x)=\\sin(x)$ i $f(x)=\\cos(x)$."
   ]
  },
  {
   "cell_type": "code",
   "execution_count": 30,
   "metadata": {
    "deletable": false,
    "nbgrader": {
     "cell_type": "code",
     "checksum": "6e77a7a16b95b289e37c4d1cffbd98d2",
     "grade": false,
     "grade_id": "cell-8e38f622b92f78b6",
     "locked": false,
     "schema_version": 3,
     "solution": true
    }
   },
   "outputs": [
    {
     "name": "stdout",
     "output_type": "stream",
     "text": [
      "24.04107572533686\n",
      "25.283662185463225\n"
     ]
    }
   ],
   "source": [
    "import math\n",
    "x = float(input('Podaj x: '))\n",
    "# YOUR CODE HERE\n",
    "def fun(x, f):\n",
    "    return pow(x, 2) + f(x)\n",
    "\n",
    "print(fun(x, math.sin))\n",
    "print(fun(x, math.cos))\n",
    "#raise NotImplementedError()"
   ]
  },
  {
   "cell_type": "markdown",
   "metadata": {
    "deletable": false,
    "editable": false,
    "nbgrader": {
     "cell_type": "markdown",
     "checksum": "96e412977b29c4bcd0aff84ad6fdedd4",
     "grade": false,
     "grade_id": "cell-2740237d212db517",
     "locked": true,
     "schema_version": 3,
     "solution": false
    }
   },
   "source": [
    "#### Funkcje rekurencyjne.\n",
    "Funkcja może odwoływać się do samej siebie. Python nakłada ograniczenie na liczbę rekurencyjnych wywołań funkcji. Limit zwraca funkcja `sys.getrecursionlimit()`."
   ]
  },
  {
   "cell_type": "code",
   "execution_count": 32,
   "metadata": {},
   "outputs": [],
   "source": [
    "def silnia(n):\n",
    "    if n<2:\n",
    "        return 1\n",
    "    return n*silnia(n-1)"
   ]
  },
  {
   "cell_type": "code",
   "execution_count": 33,
   "metadata": {},
   "outputs": [
    {
     "data": {
      "text/plain": [
       "24"
      ]
     },
     "execution_count": 33,
     "metadata": {},
     "output_type": "execute_result"
    }
   ],
   "source": [
    "silnia(4)"
   ]
  },
  {
   "cell_type": "code",
   "execution_count": 34,
   "metadata": {},
   "outputs": [
    {
     "data": {
      "text/plain": [
       "3000"
      ]
     },
     "execution_count": 34,
     "metadata": {},
     "output_type": "execute_result"
    }
   ],
   "source": [
    "import sys\n",
    "sys.getrecursionlimit()"
   ]
  },
  {
   "cell_type": "markdown",
   "metadata": {
    "deletable": false,
    "editable": false,
    "nbgrader": {
     "cell_type": "markdown",
     "checksum": "7bba3e3a2539f075939567a444ff1f0a",
     "grade": false,
     "grade_id": "cell-fd0a21cb9b0e545e",
     "locked": true,
     "schema_version": 3,
     "solution": false
    }
   },
   "source": [
    "### Ćwiczenie 4\n",
    "Oblicz wartość symbolu Newtona $\\large{n \\choose k}$ dla zadanych liczb całkowitych $n, k$ gdy ($k \\leq n$). Obliczanie silni z danej liczby całkowitej umieść w funkcji."
   ]
  },
  {
   "cell_type": "code",
   "execution_count": 38,
   "metadata": {
    "deletable": false,
    "nbgrader": {
     "cell_type": "code",
     "checksum": "0882f22c94dfbac3e8e6d7d511177125",
     "grade": false,
     "grade_id": "cell-a5ef6302fe1bac61",
     "locked": false,
     "schema_version": 3,
     "solution": true
    }
   },
   "outputs": [
    {
     "name": "stdout",
     "output_type": "stream",
     "text": [
      "5.0\n"
     ]
    }
   ],
   "source": [
    "n = int(input('Podaj n: '))\n",
    "k = int(input('Podaj k: '))\n",
    "\n",
    "# YOUR CODE HERE\n",
    "def newton(n, k):\n",
    "    return silnia(n)/(silnia(k)*silnia(n-k))\n",
    "\n",
    "print(newton(n,k))\n",
    "#raise NotImplementedError()"
   ]
  },
  {
   "cell_type": "markdown",
   "metadata": {
    "deletable": false,
    "editable": false,
    "nbgrader": {
     "cell_type": "markdown",
     "checksum": "1b53cefd29f5a38eb4708310600c19d0",
     "grade": false,
     "grade_id": "cell-d9e8e0a9d5b63881",
     "locked": true,
     "schema_version": 3,
     "solution": false,
     "task": false
    }
   },
   "source": [
    "#### Dokumentacja funkcji (klasy).\n",
    "\n",
    "- Na początku definicji funkcji możemy umieścić wiersz dokumentacyjny.\n",
    "- Wiersz dokumentacyjny może być stosowany również w klasach. \n",
    "- Łancuch dokumentacyjny jest przypisywany jako wartość atrybutu `__doc__` . \n",
    "- Jeżeli nie zostanie podany łańcuch dokumentacyjny to wartością atrybutu `__doc__` jest `None`.\n",
    "\n",
    "https://docs.python.org/3/tutorial/controlflow.html#documentation-strings"
   ]
  },
  {
   "cell_type": "code",
   "execution_count": 39,
   "metadata": {},
   "outputs": [],
   "source": [
    "def funkcja():\n",
    "    \"\"\"Nasza przykładowa funkcja.\"\"\"\n",
    "    return 1,2"
   ]
  },
  {
   "cell_type": "code",
   "execution_count": 40,
   "metadata": {},
   "outputs": [
    {
     "name": "stdout",
     "output_type": "stream",
     "text": [
      "(1, 2)\n"
     ]
    },
    {
     "data": {
      "text/plain": [
       "'Nasza przykładowa funkcja.'"
      ]
     },
     "execution_count": 40,
     "metadata": {},
     "output_type": "execute_result"
    }
   ],
   "source": [
    "print(funkcja())\n",
    "funkcja.__doc__"
   ]
  },
  {
   "cell_type": "markdown",
   "metadata": {
    "deletable": false,
    "editable": false,
    "nbgrader": {
     "cell_type": "markdown",
     "checksum": "b95684d9a56fa30797fc5e3a144da831",
     "grade": false,
     "grade_id": "cell-6c8ff9b408e327c2",
     "locked": true,
     "schema_version": 3,
     "solution": false,
     "task": false
    }
   },
   "source": [
    "#### Przypisy do funkcji.\n",
    "\n",
    "- Przechowywane w atrybucie funkcji `__annotations__` jako słownik, nie mają wpływu na żadną z jej części.\n",
    "- Pomagają w identyfikacji typów argumentów przekazywanych do funkcji oraz typu jaki funkcja ma zwracać\n",
    "- Adnotacje dotyczące parametrów tworzone są poprzez dodanie dwukropka `:` po nazwie parametrów a następnie wskazaniu jego typu.\n",
    "- Adnotacje dotyczące typu zwracanego przez funkcje zdefiniowane są przy pomocy literału `->` po którym następuje typ. Literał ten znajduje się pomiędzy listą argumentów funkcji a dwukropkiem kończącym sekcję `def` funkcji.\n",
    "\n",
    "https://docs.python.org/3/tutorial/controlflow.html#function-annotations"
   ]
  },
  {
   "cell_type": "code",
   "execution_count": 41,
   "metadata": {},
   "outputs": [
    {
     "name": "stdout",
     "output_type": "stream",
     "text": [
      "Adnotacje: {'imie': <class 'str'>, 'nazwisko': <class 'str'>, 'wiek': <class 'int'>, 'return': <class 'str'>}\n",
      "Argumenty: Jan Nowak 20\n",
      "Jan Nowak wiek: 20\n"
     ]
    }
   ],
   "source": [
    "def funkcja_z_adnotacjami(imie: str, nazwisko: str = 'Nowak', wiek: int = 0) -> str:\n",
    "    print(\"Adnotacje:\", funkcja_z_adnotacjami.__annotations__)\n",
    "    print('Argumenty:', imie, nazwisko, wiek)\n",
    "    return imie + ' ' + nazwisko + ' wiek: ' + str(wiek)\n",
    "\n",
    "print(funkcja_z_adnotacjami('Jan',wiek=20))"
   ]
  },
  {
   "cell_type": "markdown",
   "metadata": {
    "deletable": false,
    "editable": false,
    "nbgrader": {
     "cell_type": "markdown",
     "checksum": "f9fbf00891dfe4631d3d6762545b48fd",
     "grade": false,
     "grade_id": "cell-0962df0cc82c234c",
     "locked": true,
     "schema_version": 3,
     "solution": false
    }
   },
   "source": [
    "### Operator `lambda`.\n",
    "#### Składnia.\n",
    "Struktura składni ma postać:\n",
    "\n",
    "```python\n",
    "lambda argumenty : wyrażenie\t\n",
    "```    \n",
    "\n",
    "Tworzy funkcję anonimową w postaci wyrażenia. Zapis w jednej linii. Argumenty oddzielone przecinkami. Funkcja nie posiada nazwy, ale może być wywołana za pomocą zmiennej, do której zostanie przypisana. Funkcja tak zdefiniowana zwraca obliczoną wartość `wyrażenie`. \n",
    "\n",
    "Więcej informacji na temat operatora `lambda` przy listach, słownikach, wyrażeniach listowych.\n",
    "\n",
    "https://docs.python.org/3/tutorial/controlflow.html#lambda-expressions"
   ]
  },
  {
   "cell_type": "code",
   "execution_count": 42,
   "metadata": {},
   "outputs": [
    {
     "name": "stdout",
     "output_type": "stream",
     "text": [
      "5\n",
      "-1\n"
     ]
    }
   ],
   "source": [
    "a = lambda x, y : x + y   #definicja funkcji - zwraca obiekt funkcji, któremu można przypisać nazwę \n",
    "\n",
    "print(a(2, 3))\n",
    "print(a(7, -8))"
   ]
  },
  {
   "cell_type": "code",
   "execution_count": 43,
   "metadata": {},
   "outputs": [
    {
     "name": "stdout",
     "output_type": "stream",
     "text": [
      "100\n",
      "195\n"
     ]
    }
   ],
   "source": [
    "def dodaj_wartosc(liczba):\n",
    "    return lambda val: val + liczba\n",
    "\n",
    "f = dodaj_wartosc(100)\n",
    "print(f(0))\n",
    "print(f(95))"
   ]
  },
  {
   "cell_type": "markdown",
   "metadata": {
    "deletable": false,
    "editable": false,
    "nbgrader": {
     "cell_type": "markdown",
     "checksum": "d52914bee4e7a82e0870f36a1c88f184",
     "grade": false,
     "grade_id": "cell-2e1ddc3ef1792861",
     "locked": true,
     "schema_version": 3,
     "solution": false
    }
   },
   "source": [
    "### Ćwiczenie 5.\n",
    "#### Tablicowanie funkcji\n",
    "Stablicować daną funkcję $y=f(x)$ w zadanym przedziale $(a,b)$ z krokiem $dx$ ($dx<<a-b$). Funkcja dana jest przepisem:\n",
    "\n",
    "$$\n",
    "z = \\left\\{ \\begin{array}{11}\n",
    "-2x+ \\frac{1}{5} & \\textrm{dla $x \\lt -2$} & \\qquad (1)\\\\\n",
    "x^{2}+3 & \\textrm{dla $-2 \\le x \\le 4$} & \\qquad (2)\\\\\n",
    "\\frac{1}{2}x^+1 & \\textrm{dla $ x \\gt 4$} & \\qquad (3)\n",
    "\\end{array} \\right.\n",
    "$$\n",
    "wydrukuj wyniki dla przykładowego wywołania z parametrami a=1, b=5, dx=1"
   ]
  },
  {
   "cell_type": "code",
   "execution_count": 57,
   "metadata": {
    "deletable": false,
    "nbgrader": {
     "cell_type": "code",
     "checksum": "38ba522e893c0bc1063f1b3bd48e8823",
     "grade": false,
     "grade_id": "cell-d1bb3fd27900debd",
     "locked": false,
     "schema_version": 3,
     "solution": true
    }
   },
   "outputs": [
    {
     "name": "stdout",
     "output_type": "stream",
     "text": [
      "7\n",
      "19\n",
      "4.0\n",
      "5.0\n"
     ]
    }
   ],
   "source": [
    "import math\n",
    "a = input('Podaj a: ')\n",
    "b = input('Podaj b: ')\n",
    "dx = input('Podaj dx: ')\n",
    "\n",
    "# YOUR CODE HERE\n",
    "a = int(a)\n",
    "b = int(b)\n",
    "dx = int(dx)\n",
    "\n",
    "def res(x):\n",
    "    if x < -2:\n",
    "        return -2 * x + 1 / 5\n",
    "    elif x >= -2 and x <= 4:\n",
    "        return pow(x, 2) + 3\n",
    "    else:\n",
    "        return x / 2 + 1\n",
    "\n",
    "for i in range(a,b + 1,dx):\n",
    "    print(res(i))\n",
    "#raise NotImplementedError()"
   ]
  },
  {
   "cell_type": "markdown",
   "metadata": {
    "deletable": false,
    "editable": false,
    "nbgrader": {
     "cell_type": "markdown",
     "checksum": "f759073a53f8d3c02d8e90af04dd735a",
     "grade": false,
     "grade_id": "cell-bcb7ebf9cfdd46d0",
     "locked": true,
     "schema_version": 3,
     "solution": false,
     "task": false
    }
   },
   "source": [
    "## Zadanie 1\n",
    "\n",
    "Napisz funkcję sprawdzającą czy liczba przesłana jako argument jest liczbą pierwszą (wykorzystaj else do pętli for). Napisz funkcję zwracającą podaną liczbę Mersenne'a $M(p)=2^{p}-1$. Sprawdź które liczby Mersenne'a dla $ p=1, 2, \\dots, 31 $ są pierwsze. Oznacz typ zwracany przez funkcje (przy pomocy `-> typ`). \n",
    "https://pl.wikipedia.org/wiki/Liczby_Mersenne%E2%80%99a"
   ]
  },
  {
   "cell_type": "code",
   "execution_count": null,
   "metadata": {
    "deletable": false,
    "nbgrader": {
     "cell_type": "code",
     "checksum": "d6c913860b0d641ae19663e66ffd9d3e",
     "grade": true,
     "grade_id": "cell-ae05c19b6a7ae984",
     "locked": false,
     "points": 2,
     "schema_version": 3,
     "solution": true,
     "task": false
    }
   },
   "outputs": [],
   "source": [
    "# YOUR CODE HERE\n",
    "\n",
    "\n",
    "\n",
    "#raise NotImplementedError()"
   ]
  },
  {
   "cell_type": "markdown",
   "metadata": {
    "deletable": false,
    "editable": false,
    "nbgrader": {
     "cell_type": "markdown",
     "checksum": "5b5ec2bc7f467774fdfc825e17a9bd81",
     "grade": false,
     "grade_id": "cell-50d2a62f541f2e4e",
     "locked": true,
     "schema_version": 3,
     "solution": false,
     "task": false
    }
   },
   "source": [
    "## Zadanie_ 2\n",
    "\n",
    "Napisz funkcję przyjmującą dwa argumenty: tekst do wypisania oraz szerokość linii (argument o domyślnej wartości 80), wypisującą przesłany tekst wycentrowany w linii.\n",
    "\n",
    "Przykładowe wywołania:\n",
    "```python\n",
    "printCenter(\"Zażółć gęślą jaźń\")\n",
    "printCenter(\"Zażółć gęślą jaźń\", 70)\n",
    "```  "
   ]
  },
  {
   "cell_type": "code",
   "execution_count": 1,
   "metadata": {
    "deletable": false,
    "nbgrader": {
     "cell_type": "code",
     "checksum": "a146229e143e1d7ee2387db27ebf05eb",
     "grade": true,
     "grade_id": "cell-187a5add7f43479d",
     "locked": false,
     "points": 1,
     "schema_version": 3,
     "solution": true,
     "task": false
    },
    "ExecuteTime": {
     "end_time": "2023-05-29T17:10:52.028634300Z",
     "start_time": "2023-05-29T17:10:52.024928400Z"
    }
   },
   "outputs": [
    {
     "name": "stdout",
     "output_type": "stream",
     "text": [
      "                               Zażółć gęślą jaźń                                \n",
      "                Zażółć gęślą jaźń                 \n"
     ]
    }
   ],
   "source": [
    "# YOUR CODE HERE\n",
    "def printCenter(word, i=80):\n",
    "    print(word.center(i, \" \"))\n",
    "#raise NotImplementedError()\n",
    "printCenter(\"Zażółć gęślą jaźń\")\n",
    "printCenter(\"Zażółć gęślą jaźń\", 50)"
   ]
  },
  {
   "cell_type": "markdown",
   "metadata": {
    "deletable": false,
    "editable": false,
    "nbgrader": {
     "cell_type": "markdown",
     "checksum": "18f3bf68e77950d95dea85d839274c70",
     "grade": false,
     "grade_id": "cell-3d671738e0dd2b1c",
     "locked": true,
     "schema_version": 3,
     "solution": false,
     "task": false
    }
   },
   "source": [
    "## Zadanie 3\n",
    "\n",
    "Napisz funkcję przyjmującą cztery argumenty: `x` początkowe (domyślnie -1), `x` końcowe\n",
    "(domyślnie 1), liczbę przedziałów (domyślnie 10) oraz funkcję `fx`. Funkcja powinna wypisywać\n",
    "wartości `x` oraz funkcji przesłanej jako argument `fx` dla każdego `x` z podanego zakresu/przedziału tablicowania/ . Zaprezentuj działanie funkcji wykorzystując operator `lambda` wyrażenia (prześlij `fx` jako lambdę).\n",
    "\n",
    "Przykład działania:\n",
    "```\n",
    "-1.000000000000  -0.841470984808\n",
    "-0.777777777778  -0.701697876147\n",
    "-0.555555555556  -0.527415385772\n",
    "-0.333333333333  -0.327194696796\n",
    "-0.111111111111  -0.110882628510\n",
    " 0.111111111111   0.110882628510\n",
    " 0.333333333333   0.327194696796\n",
    " 0.555555555556   0.527415385772\n",
    " 0.777777777778   0.701697876147\n",
    " 1.000000000000   0.841470984808```"
   ]
  },
  {
   "cell_type": "code",
   "execution_count": 60,
   "metadata": {
    "deletable": false,
    "nbgrader": {
     "cell_type": "code",
     "checksum": "4cb6f9c89bd8d811e10b24522b579a92",
     "grade": true,
     "grade_id": "cell-fb6da9a0d5b196ae",
     "locked": false,
     "points": 2,
     "schema_version": 3,
     "solution": true,
     "task": false
    }
   },
   "outputs": [
    {
     "name": "stdout",
     "output_type": "stream",
     "text": [
      " -1.000000000000    5.000000000000\n",
      " -0.777777777778    5.222222222222\n",
      " -0.555555555556    5.444444444444\n",
      " -0.333333333333    5.666666666667\n",
      " -0.111111111111    5.888888888889\n",
      "  0.111111111111    6.111111111111\n",
      "  0.333333333333    6.333333333333\n",
      "  0.555555555556    6.555555555556\n",
      "  0.777777777778    6.777777777778\n",
      "  1.000000000000    7.000000000000\n"
     ]
    }
   ],
   "source": [
    "# YOUR CODE HERE\n",
    "import numpy as numpy\n",
    "\n",
    "def printFx(fx, xp=-1, xk=1, lp=10):\n",
    "    xp, xk = (float(xp), float(xk))\n",
    "    \n",
    "    for x in numpy.linspace(xp,xk,lp):\n",
    "        print('%16.12f  %16.12f' % (x, fx(x)))\n",
    "#raise NotImplementedError()\n",
    "printFx(lambda plus : plus + 6, -1, 1, 10)"
   ]
  },
  {
   "cell_type": "markdown",
   "metadata": {
    "deletable": false,
    "editable": false,
    "nbgrader": {
     "cell_type": "markdown",
     "checksum": "a8262ade03bac68114174b5bd38f0eed",
     "grade": false,
     "grade_id": "cell-485317a41b9467a6",
     "locked": true,
     "schema_version": 3,
     "solution": false,
     "task": false
    }
   },
   "source": [
    "## Zadanie_ 4\n",
    "\n",
    "Napisz cztery funkcje:\n",
    "1. `k4` zwracająca pseudolosową liczbę całkowitą od 1 do 4 włącznie,\n",
    "2. `k8` zwracająca pseudolosową liczbę całkowitą od 1 do 8 włącznie,\n",
    "3. `k10` zwracająca pseudolosową liczbę całkowitą od 1 do 10 włącznie,\n",
    "4. `k20` zwracającą pseudolosową liczbę całkowitą od 1 do 20 włącznie.\n",
    "\n",
    "Napisz funkcję `getDice` przyjmującą jako argument zmienną tekstową, która:\n",
    "1. Dla tekstu \"k4\" zwraca funkcję `k4`,\n",
    "2. Dla tekstu \"k8\" zwraca funkcję `k8`,\n",
    "3. Dla tekstu \"k10\" zwraca funkcję `k10`,\n",
    "4. Dla tekstu \"k20\" zwraca funkcję `k20`.\n",
    "\n",
    "Przykładowe wywołanie funkcji losującej:\n",
    "```python \n",
    "import random\n",
    "def k20():\n",
    "    return random.randint(1, 20)\n",
    "```\n",
    "Napisz funkcję `rollDice` przyjmującą jako argument tekst w formacie \"XkY\", gdzie X oraz Y są\n",
    "liczbami naturalnymi. Funkcja ta powinna wyciągnąć z tekstu wartości X oraz Y (patrz poniżej: dzielenie tekstu) i wywołać X razy funkcję zwróconą przez getDice z argumentem \"kY\". Funkcja rollDice powinna zwracać sumę wylosowanych wartości.\n",
    "\n",
    "Przykładowe wywołania:\n",
    "```python \n",
    "rollDice(\"1k4\")\n",
    "rollDice(\"2k10\")\n",
    "```\n",
    "\n",
    "Co się stanie jeśli wywołamy funkcję `rollDice` z argumentami \"10k4\", \"100k4\", \"1k7\", \"0k4\"? \n",
    "Jak zmodyfikować funkcję, aby działało wywołanie \"1e5k4\" (1e5 losowań k4)?\n",
    "\n",
    "Patrz też:\n",
    "\n",
    "https://docs.python.org/3/library/random.html\n",
    "\n",
    "Dzielenie tekstu:\n",
    "```python \n",
    "tekst=\"2k8\"\n",
    "liczby=tekst.split(\"k\")\n",
    "print(liczby[0], liczby[1])\n",
    "\n",
    "# a, b=tekst.split(\"k\")\n",
    "# print(a, b)\n",
    "```"
   ]
  },
  {
   "cell_type": "code",
   "execution_count": 42,
   "metadata": {
    "deletable": false,
    "nbgrader": {
     "cell_type": "code",
     "checksum": "045d06ace771325a1d6cfb6acf69dfb6",
     "grade": true,
     "grade_id": "cell-032589c9faeec58e",
     "locked": false,
     "points": 3,
     "schema_version": 3,
     "solution": true,
     "task": false
    }
   },
   "outputs": [
    {
     "name": "stdout",
     "output_type": "stream",
     "text": [
      "Suma:  4\n",
      "Suma:  15\n"
     ]
    }
   ],
   "source": [
    "import random\n",
    "# YOUR CODE HERE\n",
    "class Dice:\n",
    "    def k4():\n",
    "        return random.randint(1, 4)\n",
    "\n",
    "    def k8():\n",
    "        return random.randint(1, 8)\n",
    "\n",
    "    def k10():\n",
    "        return random.randint(1, 10)\n",
    "\n",
    "    def k20():\n",
    "        return random.randint(1, 20)\n",
    "\n",
    "def getDice(fun):\n",
    "    return getattr(Dice, fun)()\n",
    "\n",
    "def rollDice(text):\n",
    "    a, b = text.split(\"k\")\n",
    "    sum = 0\n",
    "    for i in range(1, int(a) + 1):\n",
    "        sum += getDice('k' + b)\n",
    "    print('Suma: ', sum)\n",
    "#raise NotImplementedError()\n",
    "rollDice(\"1k4\")\n",
    "rollDice(\"2k10\")"
   ]
  },
  {
   "cell_type": "markdown",
   "metadata": {
    "deletable": false,
    "editable": false,
    "nbgrader": {
     "cell_type": "markdown",
     "checksum": "5809ddbabd74b35921a2773921d99f11",
     "grade": false,
     "grade_id": "cell-292c6e2d10252d56",
     "locked": true,
     "schema_version": 3,
     "solution": false,
     "task": false
    }
   },
   "source": [
    "## Zadanie_ 5\n",
    "\n",
    "Napisz funkcję wypisującą napisy końcowe (filmu, serialu, tego programu). Funkcja ta powinna przyjmować dowolną liczbę argumentów i wypisywać każdy kolejny co sekundę, wycentrowany – najpierw argumenty zwykłe, potem kluczowe. Wykorzystaj funkcję z zadania 2.\n",
    "\n",
    "Przykład wywołania:\n",
    "\n",
    "                          Cudowniejszy program pokazowy                          \n",
    "                         Powrót Złego Markiza Cul-de-Sac                         \n",
    "                                Scenariusz: Autor                                \n",
    "                               Scenografia: Autor                               \n",
    "                              Podziękowania: Python\n",
    "                                                           \n",
    "\n",
    "Do pobrania długości tekstu można użyć funkcji `len()`. Do czekania wykorzystaj funkcję `time.sleep()` – aby jej użyć należy zaimportować moduł time: \n",
    "```python\n",
    "import time\n",
    "```\n",
    "Dodaj dokumentację do funkcji – opisz jakie argumenty przyjmuje i co robi.\n",
    "\n"
   ]
  },
  {
   "cell_type": "code",
   "execution_count": 2,
   "metadata": {
    "deletable": false,
    "nbgrader": {
     "cell_type": "code",
     "checksum": "ae1928ae99a63ff59a5949a83a8ddad5",
     "grade": true,
     "grade_id": "cell-4330c531c4a15742",
     "locked": false,
     "points": 2,
     "schema_version": 3,
     "solution": true,
     "task": false
    },
    "ExecuteTime": {
     "end_time": "2023-05-29T17:11:58.668601600Z",
     "start_time": "2023-05-29T17:11:53.662464500Z"
    }
   },
   "outputs": [
    {
     "name": "stdout",
     "output_type": "stream",
     "text": [
      "          Cudowniejszy program pokazowy           \n",
      "         Powrót Złego Markiza Cul-de-Sac          \n",
      "                Scenariusz: Autor                 \n",
      "                Scenografia: Autor                \n",
      "              Podziękowania: Python               \n"
     ]
    }
   ],
   "source": [
    "import time\n",
    "# YOUR CODE HERE\n",
    "def credits(*args, **kargs):\n",
    "        \"\"\"Funkcja credits() przyjmuje listę argumentów nienazwanych args oraz listę argumentów nazwanych(słownik) a następnie w dwóch pętlach iteruje po obu listach wypisując zawartość oraz odczekując jedną sekundę po każdym wypisaniu\"\"\"\n",
    "        for arg in args:\n",
    "                string = str(arg)\n",
    "                print(arg.center(50))\n",
    "                time.sleep(1)\n",
    "\n",
    "        for karg in kargs.items():\n",
    "                print((karg[0] + ': ' + karg[1]).center(50))\n",
    "                time.sleep(1)\n",
    "#raise NotImplementedError()\n",
    "\n",
    "credits(\"Cudowniejszy program pokazowy\",\n",
    "        \"Powrót Złego Markiza Cul-de-Sac\",\n",
    "        Scenariusz=\"Autor\",\n",
    "        Scenografia=\"Autor\",\n",
    "        Podziękowania=\"Python\")"
   ]
  },
  {
   "cell_type": "code",
   "execution_count": null,
   "metadata": {},
   "outputs": [],
   "source": []
  }
 ],
 "metadata": {
  "kernelspec": {
   "display_name": "Python 3.10.5 64-bit",
   "language": "python",
   "name": "python3"
  },
  "language_info": {
   "codemirror_mode": {
    "name": "ipython",
    "version": 3
   },
   "file_extension": ".py",
   "mimetype": "text/x-python",
   "name": "python",
   "nbconvert_exporter": "python",
   "pygments_lexer": "ipython3",
   "version": "3.10.5"
  },
  "vscode": {
   "interpreter": {
    "hash": "8394caf736e900d7ee1789f073abf29288b24295c23c395fe862a6106f19c220"
   }
  }
 },
 "nbformat": 4,
 "nbformat_minor": 2
}
