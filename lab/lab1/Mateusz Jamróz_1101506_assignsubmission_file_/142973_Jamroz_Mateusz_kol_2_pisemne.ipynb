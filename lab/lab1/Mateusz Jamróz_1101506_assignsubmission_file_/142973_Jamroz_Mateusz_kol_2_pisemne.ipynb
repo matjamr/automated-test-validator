{
 "cells": [
  {
   "cell_type": "markdown",
   "id": "8564e1d6",
   "metadata": {
    "deletable": false,
    "editable": false,
    "nbgrader": {
     "cell_type": "markdown",
     "checksum": "6a1c53fb76f58fbf83fdfaa47c86af66",
     "grade": false,
     "grade_id": "cell-cd61064ccd9efc86",
     "locked": true,
     "schema_version": 3,
     "solution": false,
     "task": false
    },
    "id": "8564e1d6"
   },
   "source": [
    "## Języki symboliczne - rok akademicki 2022/2023\n",
    "\n",
    "Przed rozpoczęciem pracy z notatnikiem zmień jego nazwę zgodnie z wzorem: `NrAlbumu_Nazwisko_Imie_PoprzedniaNazwa`\n",
    "\n",
    "Przed wysłaniem notatnika **upewnij się jeszcze raz** że zmieniłeś nazwę i że rozwiązałeś wszystkie zadania/ćwiczenia, w szczególności, że uzupełniłeś wszystkie pola `YOUR CODE HERE` oraz `YOUR ANSWER HERE`.\n",
    "Proszę przełać 2 pliki - ten Notebook oraz `moje_monety.txt`"
   ]
  },
  {
   "cell_type": "markdown",
   "id": "e3f5b59d",
   "metadata": {
    "deletable": false,
    "editable": false,
    "nbgrader": {
     "cell_type": "markdown",
     "checksum": "89ea88c4990ff346f6efb36d5e5d4167",
     "grade": false,
     "grade_id": "cell-92513b6d03e6ba91",
     "locked": true,
     "schema_version": 3,
     "solution": false,
     "task": false
    },
    "id": "e3f5b59d"
   },
   "source": [
    "## UWAGA !!!\n",
    "### klasy (również wyjatków), proszę  udokumentować odpowiednimi Docstringami, metody i atrybuty proszę tylko wymienić i niekoniecznie je opisywać z uwagi na limit czasowy kolokwium\n",
    "- odpowiednie to takie z których utworzona będzie właściwa dokumentacja np. przy pomocy Sphinxa\n",
    "\n",
    "### metody wystarczy udokumentować przy pomocy mechanizmu \"type hinting\". Jeśli jednak nie robimy przy pomocy \"type hinting\" to należy je udokomentować odpowiednimi Docstringami\n",
    "\n",
    "### Proszę zachować dokładnie te same nazwy klas, metod i wyjatków oraz zwracanych komunikatów jak podano w treści zadań (najlepiej je kopiować). Nazwy te są `zwykle_w_takim_stylu`\n",
    "\n",
    "### Kryteria oceny (głównie na podstawie opisanych w treści zadań wymagań):\n",
    "- dokumentacja przy użyciu docstringów w jednym z wybranych, popularnych stylów\n",
    "- pozytywne przejście doctestów\n",
    "- spełnienie wymogów opisanych pogrubioną czcionką\n",
    "- poprawne zaimplementowanie metod oraz klas wyjątków których nazwy wyspecyfikowano w opisach zadań <br>\n",
    "Wysokość oceny jest proporcjonalna do ilości spełnionych wymagań"
   ]
  },
  {
   "cell_type": "code",
   "execution_count": null,
   "id": "deca31b9",
   "metadata": {
    "id": "deca31b9"
   },
   "outputs": [],
   "source": [
    "# podaj wybrany przez siebie i konsekwentnie dalej stosowany styl docstringów:\n",
    "\n",
    "doc_type = ''\n",
    "print(doc_type)"
   ]
  },
  {
   "cell_type": "markdown",
   "id": "242eefe4",
   "metadata": {
    "deletable": false,
    "editable": false,
    "nbgrader": {
     "cell_type": "markdown",
     "checksum": "47271227e6e29f05323ec39793df92de",
     "grade": false,
     "grade_id": "cell-483ed059e820c9a9",
     "locked": true,
     "schema_version": 3,
     "solution": false,
     "task": false
    },
    "id": "242eefe4"
   },
   "source": [
    "## Zadanie 1\n",
    "\n",
    "#### Utwórz:\n",
    "- klasę `Moneta` zawierającą prywatne pola (__instancji__) opisujące jej wartość i walutę,<br>\n",
    "- konstruktor ustawiający monetę na wartość i walutę przesłane jako argumenty, <br>konstruktor powinien sprawdzać, czy moneta ma jedną z dozwolonych wartości z listy `DOZWOLONE` (jeśli tak nie jest zgłoś wyjątek `ZlyNominalException`),\n",
    "oraz należy do jednej z dozwolonych walut z listy `WALUTY` (jeśli tak nie jest to zgłoś wyjątek `NieznanaWalutaException`). \n",
    "\n",
    "- klasy wyjątków `ZlyNominalException`, `NieznanaWalutaException` (mogą nic nie robić tylko być utworzone).\n",
    "- metodę klasy `pobierz_wartosc`do pobrania wartości\n",
    "- metodę klasy `pobierz_walute` do pobrania waluty\n",
    "- metodę klasy `__repr__()` zwracającą tekstową reprezentację monety (informacje do debugowania, które po skopiowaniu i wklejeniu do interpretera utworzą obiekt klasy Moneta, lub utworzą go za pomocą `eval`).\n",
    "- można sobie utworzyć rówież inne metody jeśli będzie taka potrzeba (np `__eq__`)\n",
    "\n",
    "#### Uwagi:\n",
    "- `DOZWOLONE` i `WALUTY` nie są atrubutami klas ani obiektów definiowanych klas - są globalne.\n",
    "- Waluta jest parametrem __domyślnym__ i przyjmuje wartość `NLP` gdy nie jest podana. \n",
    "- Do zapamiętania/przechowania liczby zmiennoprzecinkowej użyj modułu `decimal`.<br>\n",
    "https://docs.python.org/3/library/decimal.html?highlight=decimal#module-decimal"
   ]
  },
  {
   "cell_type": "code",
   "execution_count": 1,
   "id": "d1789135",
   "metadata": {
    "deletable": false,
    "nbgrader": {
     "cell_type": "code",
     "checksum": "4840beb4ee8ea953f9808c38e436fd6d",
     "grade": true,
     "grade_id": "cell-2ce958bf68a3a197",
     "locked": false,
     "points": 0,
     "schema_version": 3,
     "solution": true,
     "task": false
    },
    "id": "d1789135",
    "ExecuteTime": {
     "start_time": "2023-06-12T13:55:22.988929Z",
     "end_time": "2023-06-12T13:55:23.004554Z"
    }
   },
   "outputs": [],
   "source": [
    "from decimal import *\n",
    "\n",
    "DOZWOLONE = [0.01, 0.02, 0.05, 0.1, 0.2, 0.5, 1, 2, 5, 10, 20, 50, 100, 200, 500, 1000, 2000, 5000]\n",
    "WALUTY = ['NLP', 'RUE', 'PG', 'ASU']\n",
    "\n",
    "class ZlyNominalException(Exception):\n",
    "  pass\n",
    "\n",
    "class NieznanaWalutaException(Exception):\n",
    "  pass\n",
    "\n",
    "class Moneta:\n",
    "  \"\"\"\n",
    "  Klasa reprezentujaca Moneta przyjmujaca za konstruktor wartosc i opcjonlany\n",
    "  parametr waluta\n",
    "  \"\"\"\n",
    "  def __init__(self, wartosc, waluta = 'NLP'):\n",
    "    \"\"\"\n",
    "    jezeli wartosc nie jest dozwolona -> zostanie rzucony ZlyNominalException\n",
    "    jezeli waluta nie jest dostepna -> zostanie rzucony wyjatek NieznanaWalutaException\n",
    "    \"\"\"\n",
    "    if wartosc not in DOZWOLONE:\n",
    "      raise ZlyNominalException\n",
    "\n",
    "    if waluta not in WALUTY:\n",
    "      raise NieznanaWalutaException\n",
    "      \n",
    "    self._wartosc = Decimal(wartosc)\n",
    "    self._waluta = waluta\n",
    "\n",
    "  def pobierz_wartosc(self):\n",
    "    \"\"\"\n",
    "    Metoda zwraca wartosc\n",
    "    \"\"\"\n",
    "    return self._wartosc\n",
    "  \n",
    "  def pobierz_walute(self):\n",
    "    \"\"\"\n",
    "    Metoda zwraca walute\n",
    "    \"\"\"\n",
    "    return self._waluta\n",
    "  \n",
    "  def __repr__(self):\n",
    "    \"\"\"\n",
    "    Informacje debugujace o obiekcie\n",
    "    \"\"\"\n",
    "    return \"Moneta({}, '{}')\".format(self._wartosc, self._waluta)\n",
    "\n",
    "  def __eq__(self, other):\n",
    "    \"\"\"\n",
    "    Metoda uzywana do sprawdzenia czy element jest w liscie\n",
    "    \"\"\"\n",
    "    return isinstance(other, Moneta) and \\\n",
    "        self._wartosc == other.pobierz_wartosc() and \\\n",
    "        self._waluta == other.pobierz_walute()"
   ]
  },
  {
   "cell_type": "code",
   "execution_count": 2,
   "id": "24e38d1a",
   "metadata": {
    "deletable": false,
    "nbgrader": {
     "cell_type": "code",
     "checksum": "e1193c7c1b1e1a2e9d35ab9c4dc2264a",
     "grade": true,
     "grade_id": "cell-81600fa5084778d5",
     "locked": false,
     "points": 0,
     "schema_version": 3,
     "solution": true,
     "task": false
    },
    "colab": {
     "base_uri": "https://localhost:8080/"
    },
    "id": "24e38d1a",
    "outputId": "fdd5793b-f7b3-4776-eea1-840abd596233",
    "ExecuteTime": {
     "start_time": "2023-06-12T13:55:23.004554Z",
     "end_time": "2023-06-12T13:55:23.067629Z"
    }
   },
   "outputs": [
    {
     "data": {
      "text/plain": "TestResults(failed=0, attempted=4)"
     },
     "execution_count": 2,
     "metadata": {},
     "output_type": "execute_result"
    }
   ],
   "source": [
    "import doctest\n",
    "#poniższe testy można również dodać do docstringa klasy Moneta aby je przetestować\n",
    "\"\"\"\n",
    ">>> moneta = Moneta(1, 'NLP')\n",
    ">>> moneta = Moneta(1)\n",
    ">>> moneta.pobierz_wartosc()\n",
    "Decimal('1')\n",
    ">>> moneta2 = eval(repr(moneta))\n",
    "\"\"\"\n",
    "doctest.testmod()  #doctest.testmod(verbose=True) -  dostaniemy dokładniejszy opis"
   ]
  },
  {
   "cell_type": "markdown",
   "id": "6b708a41",
   "metadata": {
    "deletable": false,
    "editable": false,
    "nbgrader": {
     "cell_type": "markdown",
     "checksum": "68eb0475b51ff5601315a36bac77c972",
     "grade": false,
     "grade_id": "cell-f8ad52da713010ce",
     "locked": true,
     "schema_version": 3,
     "solution": false,
     "task": false
    },
    "id": "6b708a41"
   },
   "source": [
    "## Zadanie 2\n",
    "\n",
    "#### Utwórz:\n",
    "- klasę `Sakiewka` pozwalającą na przechowywanie monet z zadania 1. Klasa ta powinna zawierać metody:\n",
    "- `dodaj_monete` pozwalającą na dodanie monety do Sakiewki,\n",
    "- `suma` zwracającą łączną wartość przechowywanych monet (niezależnie od waluty),\n",
    "- `zwroc_monete` zwracającą monetę o podanym nominale (pierwszą napotkaną - niezależnie jakiej waluty, moneta jest usuwana z sakiewki), lub wypisującą komunikat `Brak monety o podanym nominale` w przypadku jej braku.\n",
    "- `zwroc_dopuszczone_waluty` zwracającą listę dopuszczonych walut - bez powtórzeń (wyłuskaj z listy dopuszczalnych monet)\n",
    "- `zwroc_dopuszczone_monety` zwracającą listę dopuszczonych monet\n",
    "- `Sakiewka` powinna posiadać prywatne __pole instancji__ zawierające listę dopuszczalnych monet (listę obiektów klasy Moneta, które będą \"przedstawicielami\" monet które mogą być przechowywane w Sakiewce), przesyłaną jako argument konstruktora.\n",
    "#### Uwagi:\n",
    "- lista dopuszczalnych monet przykazywanych jako parametr może się __zmienić__ poza obiektem klasy!, co nie powinno mieć wpływu na jego działanie... (np. może być zmodyfikowana na cele inicjalizacji innej sakiewki) - zwróć więc uwagę na sposób jej tworzenia.\n",
    "- Metoda dodająca monetę powinna sprawdzać, czy przesłany obiekt jest monetą (wykorzystując funkcję `isinstance`). Jeśli obiekt nie jest monetą, funkcja zamiast dodawać go do listy monet powinna wypisać komunikat: `Przesłany obiekt nie jest monetą`. Metoda ta powinna również sprawdzić czy moneta jest na liscie dopuszczalnych monet i nie dodawać jej jesli jej tam nie ma wypisujac komunikat: `Brak monety o zadanym nominale i walucie na liście obsługiwanych monet`. \n",
    "- do klasy `Sakiewka` dodaj metodę `monety_w_sakiewce` będącą generatorem zwracającym kolejno wszystkie przechowywane monety posortowane __malejąco__ po nominale."
   ]
  },
  {
   "cell_type": "code",
   "execution_count": 3,
   "id": "9c87cf9d",
   "metadata": {
    "deletable": false,
    "nbgrader": {
     "cell_type": "code",
     "checksum": "864643e2cbf46734a3b875a5eeae33f8",
     "grade": true,
     "grade_id": "cell-81a3d57100d3262b",
     "locked": false,
     "points": 0,
     "schema_version": 3,
     "solution": true,
     "task": false
    },
    "id": "9c87cf9d",
    "ExecuteTime": {
     "start_time": "2023-06-12T13:55:25.102269Z",
     "end_time": "2023-06-12T13:55:25.134140Z"
    }
   },
   "outputs": [],
   "source": [
    "class Sakiewka:\n",
    "    \"\"\"\n",
    "    klasa Sakiewka pozwalająca na przechowywanie obiektow typu Moneta   \n",
    "    \"\"\"\n",
    "    def __init__(self, dopuszczalne_monety):\n",
    "        \"\"\"\n",
    "        Konstruktor przyjmujacy za paramter liste dopuszczalne_monety, ktore\n",
    "        nastepnie sa kopiowane ew. Nie jest przekazywany adres a zawartosc listy\n",
    "        \"\"\"\n",
    "        self._lista_monet = []\n",
    "        self._dopuszczalne_monety = dopuszczalne_monety.copy()\n",
    "\n",
    "    def dodaj_monete(self, moneta):\n",
    "        if not isinstance(moneta, Moneta):\n",
    "            print(\"Przesłany obiekt nie jest monetą\")\n",
    "        elif moneta not in self._dopuszczalne_monety:\n",
    "            print(\"Brak monety o zadanym nominale i walucie na liście obsługiwanych monet\")\n",
    "        else:\n",
    "            self._lista_monet.append(moneta)\n",
    "\n",
    "    def suma(self):\n",
    "        \"\"\"\n",
    "        Metoda zwracajaca sume elementow, ktore sa zamieniane w jednolinijkowej\n",
    "        petli ze skladowych obiektu\n",
    "        \"\"\"\n",
    "        return sum([x.pobierz_wartosc() for x in self._lista_monet])\n",
    "\n",
    "    def zwroc_monete(self, wartosc):\n",
    "        \"\"\"\n",
    "        Metoda zwracajca pierwsza napotkana monete o danej wartosci. Uzywamy .remove\n",
    "        jako ze remove usuwa obiekt z listy\n",
    "        \"\"\"\n",
    "        for moneta in self._lista_monet:\n",
    "            if moneta.pobierz_wartosc() == wartosc:\n",
    "                self._lista_monet.remove(moneta)\n",
    "                return moneta\n",
    "\n",
    "        print(\"Brak monety o podanym nominale\")\n",
    "\n",
    "    def zwroc_dopuszczone_monety(self):\n",
    "        \"\"\"\n",
    "        Zwracamy dopuszczalne monety\n",
    "        \"\"\"\n",
    "        return self._dopuszczalne_monety\n",
    "      \n",
    "    def zwroc_dopuszczone_waluty(self):\n",
    "        \"\"\"\n",
    "        Zwracamy dopuszczalne waluty poprzez uzycie set(), ktore ze swojej budowy\n",
    "        Pozwala na wyeliminowanie powtorzen, nastepnie konwersja na liste\n",
    "        \"\"\"\n",
    "        return list(set([moneta.pobierz_walute() for moneta in self._dopuszczalne_monety]))\n",
    "\n",
    "    def monety_w_sakiewce(self):\n",
    "        \"\"\"\n",
    "        Utworzenie generatora pozwalajacego na iterowanie przez liste monet\n",
    "        \"\"\"\n",
    "        self._lista_monet.sort(key=lambda moneta: moneta.pobierz_wartosc(), reverse=True)\n",
    "\n",
    "        i = 0\n",
    "        while i < len(self._lista_monet):\n",
    "            yield self._lista_monet[i]\n",
    "\n",
    "            i += 1"
   ]
  },
  {
   "cell_type": "code",
   "execution_count": 4,
   "id": "f1e780f2",
   "metadata": {
    "deletable": false,
    "nbgrader": {
     "cell_type": "code",
     "checksum": "4354428e5c0f29aab740a2f9731562b1",
     "grade": true,
     "grade_id": "cell-1295b175a40b0ae5",
     "locked": false,
     "points": 0,
     "schema_version": 3,
     "solution": true,
     "task": false
    },
    "colab": {
     "base_uri": "https://localhost:8080/"
    },
    "id": "f1e780f2",
    "outputId": "a4e66794-9658-4a13-c915-bd1c6558faf7",
    "ExecuteTime": {
     "start_time": "2023-06-12T13:55:26.147853Z",
     "end_time": "2023-06-12T13:55:26.179136Z"
    }
   },
   "outputs": [
    {
     "data": {
      "text/plain": "TestResults(failed=0, attempted=15)"
     },
     "execution_count": 4,
     "metadata": {},
     "output_type": "execute_result"
    }
   ],
   "source": [
    "#testy klasy Sakiewka\n",
    "\"\"\"\n",
    ">>> m_obslugiwane = [Moneta(1), Moneta(2), Moneta(5), Moneta(5, 'PG')]\n",
    ">>> sakiewka = Sakiewka(m_obslugiwane)\n",
    ">>> sorted(sakiewka.zwroc_dopuszczone_waluty())\n",
    "['NLP', 'PG']\n",
    ">>> sakiewka.dodaj_monete(Moneta(10))\n",
    "Brak monety o zadanym nominale i walucie na liście obsługiwanych monet\n",
    ">>> sakiewka.dodaj_monete(Moneta(2, 'NLP'))\n",
    ">>> sakiewka.dodaj_monete(Moneta(5, 'PG'))\n",
    ">>> sakiewka.dodaj_monete(Moneta(5))\n",
    ">>> sakiewka.suma()\n",
    "Decimal('12')\n",
    ">>> sakiewka.zwroc_monete(1000)\n",
    "Brak monety o podanym nominale\n",
    ">>> sakiewka.zwroc_monete(5)\n",
    "Moneta(5, 'PG')\n",
    ">>> sakiewka.suma()\n",
    "Decimal('7')\n",
    ">>> for i in sakiewka.monety_w_sakiewce():\n",
    "...    print(repr(i))\n",
    "Moneta(5, 'NLP')\n",
    "Moneta(2, 'NLP')\n",
    ">>> sakiewka.zwroc_dopuszczone_monety()\n",
    "[Moneta(1, 'NLP'), Moneta(2, 'NLP'), Moneta(5, 'NLP'), Moneta(5, 'PG')]\n",
    ">>> #test na poprawne skopiowanie listy dopuszczonych monet w konstruktorze:\n",
    ">>> del m_obslugiwane[0]\n",
    ">>> sakiewka.zwroc_dopuszczone_monety()\n",
    "[Moneta(1, 'NLP'), Moneta(2, 'NLP'), Moneta(5, 'NLP'), Moneta(5, 'PG')]\n",
    "\"\"\"\n",
    "doctest.testmod()  #doctest.testmod(verbose=True) -  dostaniemy dokładniejszy opis\n",
    "\n",
    "# YOUR CODE HERE"
   ]
  },
  {
   "cell_type": "markdown",
   "id": "bf566345",
   "metadata": {
    "deletable": false,
    "editable": false,
    "nbgrader": {
     "cell_type": "markdown",
     "checksum": "7d9b0af318598cd84e251ab9ff4f42dc",
     "grade": false,
     "grade_id": "cell-b5de71810aa63daa",
     "locked": true,
     "schema_version": 3,
     "solution": false,
     "task": false
    },
    "id": "bf566345"
   },
   "source": [
    "## Zadanie 3\n",
    "#### Utwórz:\n",
    "- klasę `Skarbonka` pozwalającą na przechowywanie monet z zadania 1 tylko dla jednej waluty, tak aby __dziedziczyła__ po klasie `Sakiewka`,\n",
    "- do klasy `Skarbonka` dodaj prywatne __pole klasy__ `_waluta` opisujące obsługiwaną walutę (np. tylko `NLP`),\n",
    "- do klasy `Skarbonka` dodaj metodę `rozbij()` usuwającą ze skarbonki wszystkie monety, ustawiającą pole `rozbita`(__pole instancji__) na `True` oraz zwracającą monety,\n",
    " - do rozbitej skarbonki nie można wrzucać monet - __nadpisz__ w niej metodę dodającą monetę tak, aby wypisywany był komunikat `Do rozbitej skarbonki nie można wrzucać monet`,\n",
    " - ze skarbonki nie można wyjąć pojedynczej monety - __nadpisz__ w niej metodę zwracającą monetę tak, aby wypisywany był komunikat `\"Nie można wyciągnąć pojedynczej monety\"`\n",
    "\n",
    "#### Uwaga:\n",
    "- konstruktor klasy `Skarbonka` nie posiada __żadnych dodatkowych__ argumentów (oprócz self oczywiście...) - klasa nadrzędna inicjowana jest z wykorzystaniem informacji z atrubutu `_waluta` i w związku z tym dopuszczone są w niej monety każdego nominału z `DOZWOLONE` dla tej waluty.\n",
    "- proszę nie pisać metod których nie trzeba od nowa tylko __nadpisać__ te z klasy po której dziedziczymy - to jest __ścisłe__ wymaganie.\n"
   ]
  },
  {
   "cell_type": "code",
   "execution_count": 5,
   "id": "43147ea6",
   "metadata": {
    "deletable": false,
    "nbgrader": {
     "cell_type": "code",
     "checksum": "a5804965914b68d6511783d7c1971a47",
     "grade": true,
     "grade_id": "cell-1942f395ff863962",
     "locked": false,
     "points": 0,
     "schema_version": 3,
     "solution": true,
     "task": false
    },
    "id": "43147ea6",
    "ExecuteTime": {
     "start_time": "2023-06-12T13:55:36.216031Z",
     "end_time": "2023-06-12T13:55:36.231569Z"
    }
   },
   "outputs": [],
   "source": [
    "class Skarbonka(Sakiewka):\n",
    "  _waluta = 'NLP'\n",
    "  \n",
    "  def __init__(self):\n",
    "    super().__init__([Moneta(x, self._waluta) for x in DOZWOLONE])\n",
    "    self._rozbita = False\n",
    "  \n",
    "  def rozbij(self):\n",
    "\n",
    "    if self._rozbita:\n",
    "      raise Exception\n",
    "\n",
    "    self._rozbita = True\n",
    "    monety = self._lista_monet.copy()\n",
    "    self._lista_monet = []\n",
    "    return monety\n",
    "\n",
    "  def dodaj_monete(self, moneta):\n",
    "    if self._rozbita:\n",
    "      print(\"Do rozbitej skarbonki nie można wrzucać monet\")\n",
    "    else:\n",
    "      super().dodaj_monete(moneta)\n",
    "  \n",
    "  def zwroc_monete(self, wartosc):\n",
    "    print(\"Nie można wyciągnąć pojedynczej monety\")"
   ]
  },
  {
   "cell_type": "code",
   "execution_count": 6,
   "id": "b4b1f873",
   "metadata": {
    "deletable": false,
    "nbgrader": {
     "cell_type": "code",
     "checksum": "27b663aa445d6c9343de4d7dbbeed798",
     "grade": true,
     "grade_id": "cell-9fccb7e95dbd3ecc",
     "locked": false,
     "points": 0,
     "schema_version": 3,
     "solution": true,
     "task": false
    },
    "colab": {
     "base_uri": "https://localhost:8080/"
    },
    "id": "b4b1f873",
    "outputId": "a9942b09-0367-4f2d-aefb-614e874e248d",
    "ExecuteTime": {
     "start_time": "2023-06-12T13:55:37.793559Z",
     "end_time": "2023-06-12T13:55:37.903733Z"
    }
   },
   "outputs": [
    {
     "data": {
      "text/plain": "TestResults(failed=0, attempted=12)"
     },
     "execution_count": 6,
     "metadata": {},
     "output_type": "execute_result"
    }
   ],
   "source": [
    "#testy klasy Skarbonka\n",
    "\"\"\"\n",
    ">>> skarbonka = Skarbonka()\n",
    ">>> skarbonka.zwroc_dopuszczone_waluty()[0] == Skarbonka._waluta\n",
    "True\n",
    ">>> skarbonka.dodaj_monete(Moneta(1))\n",
    ">>> skarbonka.dodaj_monete(Moneta(2))\n",
    ">>> skarbonka.dodaj_monete(Moneta(5))\n",
    ">>> skarbonka.dodaj_monete(2)\n",
    "Przesłany obiekt nie jest monetą\n",
    ">>> skarbonka.dodaj_monete(Moneta(5, 'PG'))\n",
    "Brak monety o zadanym nominale i walucie na liście obsługiwanych monet\n",
    ">>> skarbonka.zwroc_monete(1)\n",
    "Nie można wyciągnąć pojedynczej monety\n",
    ">>> print(skarbonka.suma())\n",
    "8\n",
    ">>> skarbonka.rozbij()\n",
    "[Moneta(1, 'NLP'), Moneta(2, 'NLP'), Moneta(5, 'NLP')]\n",
    ">>> skarbonka.dodaj_monete(Moneta(5))\n",
    "Do rozbitej skarbonki nie można wrzucać monet\n",
    ">>> print(skarbonka.suma())\n",
    "0\n",
    "\"\"\"\n",
    "doctest.testmod()  #doctest.testmod(verbose=True) -  dostaniemy dokładniejszy opis\n",
    "# YOUR CODE HER"
   ]
  },
  {
   "cell_type": "markdown",
   "id": "6b8aec0b",
   "metadata": {
    "deletable": false,
    "editable": false,
    "nbgrader": {
     "cell_type": "markdown",
     "checksum": "dcddf0dbf8df1fb8c23bfa4e8a900420",
     "grade": false,
     "grade_id": "cell-f9ca8255747ec71f",
     "locked": true,
     "schema_version": 3,
     "solution": false,
     "task": false
    },
    "id": "6b8aec0b"
   },
   "source": [
    "## Zadanie 4\n",
    "Napisz funkcję `moje_monety(mój_nr_indeksu_str, powtorzony_n_krotnie, moje_Nazwisko_bez_polskich_liter_str)` tworzącą plik `moje_monety.txt` którego format jest następujący:\n",
    "\n",
    "`[nominał],[liczba monet danego nominału]`\n",
    "\n",
    "w każdej kolejnej linii [liczba monet danego nominału] jest kolejną cyfrą ze stringu będącego n_krotnym powtórzeniem numeru indeksu, a [nominał] jest równy wartości `ord(c) modulo 10`, gdzie c jest kolejną literą Nazwiska (uwaga: pierwsza litera Nazwiska jest dużą literą - i taka ma pozostać a kolejne są małymi). Jeśli Nazwisko ma mniej liter niż jest cyfr w stringu z powtórzeniami numeru indeksu to należy je uzupełnic dodatkowymi spacjami na końcu. \n",
    "\n",
    "\n",
    "\n",
    "Napisz funkcję `czytaj_moje_monety(nazwa_pliku)` z pliku `moje_monety.txt`\n",
    "\n",
    "Utwórz klasę wyjątku `ListaMonetException` przechowującą listę monet - wyjątek ten będzie używany do zwracania tych monet, które udało się wczytać z pliku, klasę `ZlyFormatPlikuException` dziedziczącą po niej, oraz `NiedopuszczalnyNominalException` tak, aby też dziedziczył po `ListaMonetException`.\n",
    "\n",
    "W funkcji wczytującej utwórz pustą listę. Następnie w bloku `try` otwórz plik, wczytaj każdą linię i podziel ją przy pomocy metody `split` (do otwarcia i wczytywania linii z pliku wykorzystaj konstrukcję with ... as ...). Utwórz obiekty klasy `Moneta` o odczytanym nominale i dodaj je do listy. \n",
    "\n",
    "Jeśli w linii jest inna liczba wartości niż 2, rzuć wyjątek `ZlyFormatPlikuException` z pustą listą. \n",
    "\n",
    "Jeśli w pliku jest moneta o nieobsługiwanym nominale, rzuć wyjątek `NiedopuszczalnyNominalException` z listą wczytanych monet. \n",
    "\n",
    "Jeśli w trakcie działania funkcji został rzucony dowolny wyjątek, przekaż go dalej. W przeciwnym razie wypisz informację o poprawnym wczytaniu, posortuj monety po nominale malejąco i zwróć listę wczytanych monet (wykorzystaj `else` dla `try`).\n",
    "\n",
    "Wrzuć wczytane monety do skarbonki o nazwie `moja_skarbonka`. <br>\n",
    "Przy pomocy metody `monety_w_sakiewce` (oraz repr(kolejna_moneta)) dopisz wszystkie monety w kolejnych wierszach do pliku `moje_monety.txt`.<br>\n",
    "Sumę monet ze skarbonki (`xxx`) dopisz do pliku `moje_monety.txt`\n",
    "jako ostatni wiersz w postaci: `suma moich monet: xxx`\n",
    "Na końcu rozbij skarbonkę ...\n",
    "\n",
    "\n",
    "Przykładowy plik zawierający 6+4 monet o nominale 1, 9 monet o nominale 2 i 3 monety o nominale 5:\n",
    "\n",
    "1,6 <br>\n",
    "2,9<br>\n",
    "1,4<br>\n",
    "5,3<br>\n",
    "\n",
    "Przykładowe dwukrotne powtórzenie nr indeksu \"987643\" to \"987643987643\""
   ]
  },
  {
   "cell_type": "code",
   "source": [
    "class ListaMonetException(Exception):\n",
    "  def __init__(self, li):\n",
    "    self._lista_monet = li.copy()\n",
    "\n",
    "\n",
    "class ZlyFormatPlikuException(ListaMonetException):\n",
    "  def __init__(self, li):\n",
    "    super().__init__(li)\n",
    "\n",
    "class NiedopuszczalnyNominalException(ListaMonetException):\n",
    "  def __init__(self, li):\n",
    "    super().__init__(li)\n",
    "\n",
    "def moje_monety(mój_nr_indeksu_str, powtorzony_n_krotnie, moje_Nazwisko_bez_polskich_liter_str):\n",
    "\n",
    "  nowy_nr = mój_nr_indeksu_str * powtorzony_n_krotnie\n",
    "  nazwisko = moje_Nazwisko_bez_polskich_liter_str\n",
    "\n",
    "  if len(nowy_nr) > len(moje_Nazwisko_bez_polskich_liter_str):\n",
    "    nazwisko = nazwisko + \" \"*(len(nowy_nr) - len(moje_Nazwisko_bez_polskich_liter_str))\n",
    "\n",
    "  with open('moje_monety.txt', 'w') as file:\n",
    "    for i in range(len(nowy_nr) - 1):\n",
    "      file.write(\"{},{}\\n\".format(nowy_nr[i], ord(nazwisko[i]) % 10))\n",
    "\n",
    "    file.write(\"{},{}\".format(nowy_nr[i+1], ord(nazwisko[i+1]) % 10))\n",
    "\n",
    "\n",
    "def czytaj_moje_monety(nazwa_pliku):\n",
    "  monety = []\n",
    "  try:\n",
    "    with open(nazwa_pliku, 'r') as file:\n",
    "      lines = file.readlines()\n",
    "      \n",
    "      for line in lines:\n",
    "        splitted = line.split(\",\")\n",
    "\n",
    "        if len(splitted) > 2:\n",
    "          raise ZlyFormatPlikuException([])\n",
    "\n",
    "        nominal = splitted[0]\n",
    "        liczba = splitted[1]\n",
    "\n",
    "        if nominal not in DOZWOLONE:\n",
    "          raise NiedopuszczalnyNominalException(monety)\n",
    "\n",
    "        for times in liczba:\n",
    "          monety.append(Moneta(nominal))\n",
    "\n",
    "  except Exception as e:\n",
    "    raise e\n",
    "  else:\n",
    "    print(\"Poprawne wczytanie\")\n",
    "    monety.sort(key=lambda moneta: moneta, reverse=True)\n",
    "    return monety\n",
    "\n",
    "\n",
    "\n",
    "nr = '142973'\n",
    "n = 3\n",
    "nazwisko = 'Jamroz'\n",
    "\n",
    "moje_monety(nr, n, nazwisko)\n",
    "\n",
    "\n",
    "moja_skarbonka = Skarbonka(czytaj_moje_monety('moje_monety.txt'))\n",
    "\n",
    "with open('moje_monety' 'w') as file:\n",
    "  for moneta in moja_skarbonka.monety_w_sakiewce():\n",
    "    file.write(repr(moneta) + \"\\n\")\n",
    "  file.write(\"suma moich monet: \" + moja_skarbonka.suma())\n",
    "\n",
    "moja_skarbonka.rozbij()"
   ],
   "metadata": {
    "colab": {
     "base_uri": "https://localhost:8080/",
     "height": 389
    },
    "id": "iyxRWGOy2YXr",
    "outputId": "3a297fc1-2d1c-461a-9f81-d2fc26560894"
   },
   "id": "iyxRWGOy2YXr",
   "execution_count": 57,
   "outputs": [
    {
     "output_type": "error",
     "ename": "NiedopuszczalnyNominalException",
     "evalue": "ignored",
     "traceback": [
      "\u001B[0;31m---------------------------------------------------------------------------\u001B[0m",
      "\u001B[0;31mNiedopuszczalnyNominalException\u001B[0m           Traceback (most recent call last)",
      "\u001B[0;32m<ipython-input-57-d4b5589eb656>\u001B[0m in \u001B[0;36m<cell line: 66>\u001B[0;34m()\u001B[0m\n\u001B[1;32m     64\u001B[0m \u001B[0;34m\u001B[0m\u001B[0m\n\u001B[1;32m     65\u001B[0m \u001B[0;34m\u001B[0m\u001B[0m\n\u001B[0;32m---> 66\u001B[0;31m \u001B[0mmoja_skarbonka\u001B[0m \u001B[0;34m=\u001B[0m \u001B[0mSkarbonka\u001B[0m\u001B[0;34m(\u001B[0m\u001B[0mczytaj_moje_monety\u001B[0m\u001B[0;34m(\u001B[0m\u001B[0;34m'moje_monety.txt'\u001B[0m\u001B[0;34m)\u001B[0m\u001B[0;34m)\u001B[0m\u001B[0;34m\u001B[0m\u001B[0;34m\u001B[0m\u001B[0m\n\u001B[0m\u001B[1;32m     67\u001B[0m \u001B[0;34m\u001B[0m\u001B[0m\n\u001B[1;32m     68\u001B[0m \u001B[0;32mwith\u001B[0m \u001B[0mopen\u001B[0m\u001B[0;34m(\u001B[0m\u001B[0;34m'moje_monety'\u001B[0m \u001B[0;34m'w'\u001B[0m\u001B[0;34m)\u001B[0m \u001B[0;32mas\u001B[0m \u001B[0mfile\u001B[0m\u001B[0;34m:\u001B[0m\u001B[0;34m\u001B[0m\u001B[0;34m\u001B[0m\u001B[0m\n",
      "\u001B[0;32m<ipython-input-57-d4b5589eb656>\u001B[0m in \u001B[0;36mczytaj_moje_monety\u001B[0;34m(nazwa_pliku)\u001B[0m\n\u001B[1;32m     49\u001B[0m \u001B[0;34m\u001B[0m\u001B[0m\n\u001B[1;32m     50\u001B[0m   \u001B[0;32mexcept\u001B[0m \u001B[0mException\u001B[0m \u001B[0;32mas\u001B[0m \u001B[0me\u001B[0m\u001B[0;34m:\u001B[0m\u001B[0;34m\u001B[0m\u001B[0;34m\u001B[0m\u001B[0m\n\u001B[0;32m---> 51\u001B[0;31m     \u001B[0;32mraise\u001B[0m \u001B[0me\u001B[0m\u001B[0;34m\u001B[0m\u001B[0;34m\u001B[0m\u001B[0m\n\u001B[0m\u001B[1;32m     52\u001B[0m   \u001B[0;32melse\u001B[0m\u001B[0;34m:\u001B[0m\u001B[0;34m\u001B[0m\u001B[0;34m\u001B[0m\u001B[0m\n\u001B[1;32m     53\u001B[0m     \u001B[0mprint\u001B[0m\u001B[0;34m(\u001B[0m\u001B[0;34m\"Poprawne wczytanie\"\u001B[0m\u001B[0;34m)\u001B[0m\u001B[0;34m\u001B[0m\u001B[0;34m\u001B[0m\u001B[0m\n",
      "\u001B[0;32m<ipython-input-57-d4b5589eb656>\u001B[0m in \u001B[0;36mczytaj_moje_monety\u001B[0;34m(nazwa_pliku)\u001B[0m\n\u001B[1;32m     43\u001B[0m \u001B[0;34m\u001B[0m\u001B[0m\n\u001B[1;32m     44\u001B[0m         \u001B[0;32mif\u001B[0m \u001B[0mnominal\u001B[0m \u001B[0;32mnot\u001B[0m \u001B[0;32min\u001B[0m \u001B[0mDOZWOLONE\u001B[0m\u001B[0;34m:\u001B[0m\u001B[0;34m\u001B[0m\u001B[0;34m\u001B[0m\u001B[0m\n\u001B[0;32m---> 45\u001B[0;31m           \u001B[0;32mraise\u001B[0m \u001B[0mNiedopuszczalnyNominalException\u001B[0m\u001B[0;34m(\u001B[0m\u001B[0mmonety\u001B[0m\u001B[0;34m)\u001B[0m\u001B[0;34m\u001B[0m\u001B[0;34m\u001B[0m\u001B[0m\n\u001B[0m\u001B[1;32m     46\u001B[0m \u001B[0;34m\u001B[0m\u001B[0m\n\u001B[1;32m     47\u001B[0m         \u001B[0;32mfor\u001B[0m \u001B[0mtimes\u001B[0m \u001B[0;32min\u001B[0m \u001B[0mliczba\u001B[0m\u001B[0;34m:\u001B[0m\u001B[0;34m\u001B[0m\u001B[0;34m\u001B[0m\u001B[0m\n",
      "\u001B[0;31mNiedopuszczalnyNominalException\u001B[0m: []"
     ]
    }
   ]
  }
 ],
 "metadata": {
  "kernelspec": {
   "display_name": "Python 3 (ipykernel)",
   "language": "python",
   "name": "python3"
  },
  "language_info": {
   "codemirror_mode": {
    "name": "ipython",
    "version": 3
   },
   "file_extension": ".py",
   "mimetype": "text/x-python",
   "name": "python",
   "nbconvert_exporter": "python",
   "pygments_lexer": "ipython3",
   "version": "3.9.7"
  },
  "colab": {
   "provenance": []
  }
 },
 "nbformat": 4,
 "nbformat_minor": 5
}
