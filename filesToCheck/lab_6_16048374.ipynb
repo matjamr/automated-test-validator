{
 "cells": [
  {
   "cell_type": "markdown",
   "metadata": {
    "id": "e5PTQqOfMy07"
   },
   "source": [
    "## Języki symboliczne - rok akademicki 2022/2023\n",
    "\n",
    "Przed rozpoczęciem pracy z notatnikiem zmień jego nazwę zgodnie z wzorem: `NrAlbumu_Nazwisko_Imie_PoprzedniaNazwa`\n",
    "\n",
    "Przed wysłaniem notatnika **upewnij się jeszcze raz** że zmieniłeś nazwę i że rozwiązałeś wszystkie zadania/ćwiczenia, w szczególności, że uzupełniłeś wszystkie pola `YOUR CODE HERE` oraz `YOUR ANSWER HERE`."
   ]
  },
  {
   "cell_type": "markdown",
   "metadata": {
    "deletable": false,
    "editable": false,
    "id": "NmNqEvT0My09",
    "nbgrader": {
     "cell_type": "markdown",
     "checksum": "f247ec1d19f9087147e414e0c8385a26",
     "grade": false,
     "grade_id": "cell-4aca44267419a21f",
     "locked": true,
     "schema_version": 3,
     "solution": false
    }
   },
   "source": [
    "# Temat: Klasy - iteratory, generatory, wyrażenia generatora.\n",
    "Zapoznaj się z treścią niniejszego notatnika czytając i wykonując go komórka po komórce. Wykonaj napotkane zadania/ćwiczenia.\n",
    "\n",
    "\n",
    "## Iteratory\n",
    "\n",
    "https://docs.python.org/3/tutorial/classes.html#Iterators\n",
    "\n",
    "- po większości obiektów będących kontenerami możemy iterować używając pętli `for`;\n",
    "- funkcjonalność ta realizowana jest poprzez wywołanie przez `for` metody `iter()` na obiekcie kontenera, która zwraca obiekt iteratora definiujący metodę `__next__()` udostępniającą raz po razie kolejne elementy kontenera;\n",
    "- w przypadku gdy nie ma już kolejnych elementów `__next__()` zgłasza wyjątek `StopIteration` powiadamiajacy pętlę `for`, że należy ją zakończyć;\n",
    "- `__next__()` może być wywołane poprzez funkcję wbudowaną `next()`;\n",
    "\n"
   ]
  },
  {
   "cell_type": "code",
   "execution_count": 1,
   "metadata": {
    "colab": {
     "base_uri": "https://localhost:8080/"
    },
    "id": "ErPH-BEhMy0-",
    "outputId": "23d5e4c0-bb4f-4fa1-8221-a19fc644be08",
    "ExecuteTime": {
     "end_time": "2023-05-29T17:16:17.004707600Z",
     "start_time": "2023-05-29T17:16:17.001479400Z"
    }
   },
   "outputs": [
    {
     "name": "stdout",
     "output_type": "stream",
     "text": [
      "a b c d "
     ]
    }
   ],
   "source": [
    "for element in 'abcd':\n",
    "    print(element, end = ' ')"
   ]
  },
  {
   "cell_type": "code",
   "execution_count": 2,
   "metadata": {
    "colab": {
     "base_uri": "https://localhost:8080/",
     "height": 298
    },
    "id": "khbGO91gMy0_",
    "outputId": "f9c508dd-3c20-41f1-9fc9-9f3ea7d832a7",
    "ExecuteTime": {
     "end_time": "2023-05-29T17:16:17.239647Z",
     "start_time": "2023-05-29T17:16:17.004707600Z"
    }
   },
   "outputs": [
    {
     "name": "stdout",
     "output_type": "stream",
     "text": [
      "<str_ascii_iterator object at 0x0000024E2D5B71F0>\n",
      "a\n",
      "b\n",
      "c\n",
      "d\n"
     ]
    },
    {
     "ename": "StopIteration",
     "evalue": "",
     "output_type": "error",
     "traceback": [
      "\u001B[1;31m---------------------------------------------------------------------------\u001B[0m",
      "\u001B[1;31mStopIteration\u001B[0m                             Traceback (most recent call last)",
      "Cell \u001B[1;32mIn[2], line 8\u001B[0m\n\u001B[0;32m      6\u001B[0m \u001B[38;5;28mprint\u001B[39m(\u001B[38;5;28mnext\u001B[39m(it))\n\u001B[0;32m      7\u001B[0m \u001B[38;5;28mprint\u001B[39m(\u001B[38;5;28mnext\u001B[39m(it))\n\u001B[1;32m----> 8\u001B[0m \u001B[38;5;28;43mnext\u001B[39;49m\u001B[43m(\u001B[49m\u001B[43mit\u001B[49m\u001B[43m)\u001B[49m          \u001B[38;5;66;03m# zgłoszenie wyjątku StopIteration \u001B[39;00m\n",
      "\u001B[1;31mStopIteration\u001B[0m: "
     ]
    }
   ],
   "source": [
    "s = 'abcd'\n",
    "it = iter(s)     # wywołanie metody iter() na obiekcie kontenera (str) zwraca obiekt iteratora definujący metodę __next__()\n",
    "print(it)\n",
    "print(next(it))  # wywołuje metodę __next__() \n",
    "print(next(it))\n",
    "print(next(it))\n",
    "print(next(it))\n",
    "next(it)          # zgłoszenie wyjątku StopIteration "
   ]
  },
  {
   "cell_type": "markdown",
   "metadata": {
    "deletable": false,
    "editable": false,
    "id": "INO3u8n3My1A",
    "nbgrader": {
     "cell_type": "markdown",
     "checksum": "e7e96b2ec2e370e363269d56655f1ef5",
     "grade": false,
     "grade_id": "cell-a1ca26518f45f1a1",
     "locked": true,
     "schema_version": 3,
     "solution": false,
     "task": false
    }
   },
   "source": [
    "Znając mechanizmy iteratora stosunkowo łatwo jest go zaimplementować w swoich klasach.\n",
    "\n",
    "- należy zdefiniować metodę `__iter__()` zwracającą obiekt z metodą `__next__()`. \n",
    "- Jeśli klasa definiuje `__next__()` to `__iter__()` zwraca po prostu `self`.\n",
    "\n",
    "__Przykład__. Napisz klasę`Wspak` przyjmującą jako argument konstruktora tekst. Klasa ta powinna pełnić rolę iteratora, iterującego po podanym tekście wspak."
   ]
  },
  {
   "cell_type": "code",
   "execution_count": null,
   "metadata": {
    "id": "fUdaT1VcMy1A"
   },
   "outputs": [],
   "source": [
    "class Wspak:\n",
    "    def __init__(self, text):\n",
    "        self.text = text\n",
    "        self.index = len(text)\n",
    "\n",
    "    def __iter__(self):\n",
    "        return self\n",
    "\n",
    "    def __next__(self):\n",
    "        if self.index == 0:\n",
    "            raise StopIteration\n",
    "        self.index = self.index - 1\n",
    "        return self.text[self.index]"
   ]
  },
  {
   "cell_type": "code",
   "execution_count": null,
   "metadata": {
    "colab": {
     "base_uri": "https://localhost:8080/"
    },
    "id": "eysj4LN8My1B",
    "outputId": "0936cec3-7020-4b2f-f5be-96565819c89c"
   },
   "outputs": [],
   "source": [
    "wsp = Wspak('spam') # konkretyzacja klasy  - iterator\n",
    "print(wsp)\n",
    "print(type(wsp))\n",
    "for znak in wsp:\n",
    "    print(znak)"
   ]
  },
  {
   "cell_type": "code",
   "execution_count": null,
   "metadata": {
    "colab": {
     "base_uri": "https://localhost:8080/",
     "height": 298
    },
    "id": "Z_o7y-d_My1B",
    "outputId": "d7c65940-e42e-4cdd-e7f4-de0c9bc73852"
   },
   "outputs": [],
   "source": [
    "next(wsp) # zgłasza wyjątek StopIteration "
   ]
  },
  {
   "cell_type": "code",
   "execution_count": null,
   "metadata": {
    "colab": {
     "base_uri": "https://localhost:8080/"
    },
    "id": "iSyCE_DJMy1B",
    "outputId": "69412bb3-43f7-4aa3-8894-5f7e62fdfdbf"
   },
   "outputs": [],
   "source": [
    "wsp1 = Wspak('maps')\n",
    "wsp1.__next__(), wsp1.__next__(), wsp1.__next__(), wsp1.__next__() # wywołanie metody __next__()\n",
    "#wsp1.__next__() # to wywołanie metody __next__() zgłasza wyjątek StopIteration "
   ]
  },
  {
   "cell_type": "markdown",
   "metadata": {
    "deletable": false,
    "editable": false,
    "id": "OHMJQSsVMy1C",
    "nbgrader": {
     "cell_type": "markdown",
     "checksum": "529f9639157231d48ae223d44a2f2b70",
     "grade": false,
     "grade_id": "cell-0d2411548714fce7",
     "locked": true,
     "schema_version": 3,
     "solution": false,
     "task": false
    }
   },
   "source": [
    "## Generatory\n",
    "\n",
    "https://docs.python.org/3/tutorial/classes.html#generators\n",
    "\n",
    "W Pythonie mamy dwa rodzaje generatorów:\n",
    "- tworzone przez funkcje generujące;\n",
    "- tworzone przez wyrażenia generujące.\n",
    "\n",
    "\n",
    "Generatory można traktować jak funkcje, których działanie można wstrzymywać i wznawiać (zmienne lokalne nie są niszczone po opuszczeniu generatora umożliwiając późniejsze wznowienie w tym samym miejscu):\n",
    "- Na potrzeby generatorów zostało wprowadzone nowe słowo kluczowe `yield`. \n",
    "- Każda funkcja, która zawiera instrukcję `yield` staje się automatycznie funkcją generującą. \n",
    "- Przy wywołaniu funkcji generującej nie jest zwracana pojedyncza wartość. Zamiast tego zwracany jest obiekt generatora, który obsługuje protokół iteratora.\n",
    "- instrukcja `yield` występuje zamiast instrukcji `return`.  Różnica pomiędzy tymi instrukcjami polega jednak na tym, że w przypadku instrukcji `yield` zostaje zapamiętany stan wykonywania generatora oraz wartości wszystkich zmiennych lokalnych. Przy kolejnym wywołaniu metody `__next()__` generatora wykonywanie funkcji jest wznawiane bezpośrednio po ostatnio napotkanej instrukcji `yield`.\n",
    "\n",
    "\n"
   ]
  },
  {
   "cell_type": "code",
   "execution_count": null,
   "metadata": {
    "colab": {
     "base_uri": "https://localhost:8080/"
    },
    "id": "O5HxWwsLMy1C",
    "outputId": "1e30de40-d678-4ab6-d540-f7ceb3940cdc"
   },
   "outputs": [],
   "source": [
    "def wygeneruj_calkowite(N):\n",
    "    for i in range(N):\n",
    "        yield i              # yield oznacza, że jest to generator - nie zwykła funkcja\n",
    "\n",
    "g = wygeneruj_calkowite(10); # funkcja wygeneruj_calkowite(10) zwraca obiekt generatora\n",
    "print(g)\n",
    "\n",
    "for j in g:\n",
    "    print(j, end = ' ')"
   ]
  },
  {
   "cell_type": "markdown",
   "metadata": {
    "deletable": false,
    "editable": false,
    "id": "vr-M9DWFMy1C",
    "nbgrader": {
     "cell_type": "markdown",
     "checksum": "bc5e5183707d786f14590a176f505ea9",
     "grade": false,
     "grade_id": "cell-edd8a83b590b59d1",
     "locked": true,
     "schema_version": 3,
     "solution": false,
     "task": false
    }
   },
   "source": [
    "- Generator (funkcja realizująca generator) generuje i zwraca za każdym razem (z każdym wywołaniem funkcji) jedną wartość.\n",
    "- Wywołanie po raz pierwszy metody generatora `__next__()` dla obiektu generatora powoduje wykonanie kodu w `utworz_licznik` do pierwszego wystąpienia `yield`, a następnie zwrócenie wydobytej wartości (w przykładzie poniżej 10).\n",
    "- Kolejne wywołania `__next__()` rozpoczynają od miejsca ostatniego wyjścia z funkcji i działają do kolejnego napotkania `yield`. "
   ]
  },
  {
   "cell_type": "code",
   "execution_count": null,
   "metadata": {
    "colab": {
     "base_uri": "https://localhost:8080/"
    },
    "id": "4kr4p1tZMy1D",
    "outputId": "0d29ad7b-755f-44aa-8781-201867fc09e0"
   },
   "outputs": [],
   "source": [
    "def utworz_licznik(x):\n",
    "    print('Wejście do licznika')\n",
    "    while True:\n",
    "        yield x                   # yield oznacza, że jest to generator\n",
    "        print('zwiększenie x')\n",
    "        x = x + 1\n",
    "\n",
    "l = utworz_licznik(10)            # funkcja utworz_licznik(10) zwraca obiekt generatora\n",
    "print(l)\n",
    "\n",
    "next(l), next(l), next(l)"
   ]
  },
  {
   "cell_type": "markdown",
   "metadata": {
    "deletable": false,
    "editable": false,
    "id": "7tzcKc_sMy1D",
    "nbgrader": {
     "cell_type": "markdown",
     "checksum": "d597ab2f5e4aa1ac3893727c33b86b85",
     "grade": false,
     "grade_id": "cell-30cb01c5fcca61d7",
     "locked": true,
     "schema_version": 3,
     "solution": false,
     "task": false
    }
   },
   "source": [
    "- wszystko co może być zrobione za pomocą generatorów można zaimplementować również za pomocą iteratorów bazujących na klasach.\n",
    "- to co wpływa na kompaktowość generatorów to to, że metody `__iter__()` oraz `__next__()` są tworzone automatycznie\n",
    "- kolejną, kluczową ich cechą jest pamiętanie lokalnych zmiennych i stanu wykonywanego kodu pomiędzy kolejnymi do niego odwołaniami.\n",
    "- to upraszcza implementację w stosunku do podejścia w którym używa się `self.index` i `self.data`.\n",
    "- w przypadku zakończenia działania generatora zgłasza on automatycznie wyjątek `StopIteration`."
   ]
  },
  {
   "cell_type": "code",
   "execution_count": null,
   "metadata": {
    "id": "tsxHqbA0My1D"
   },
   "outputs": [],
   "source": [
    "# generator\n",
    "'''\n",
    "def utworz(N):\n",
    "    for i in range(N):\n",
    "        yield i \n",
    "'''\n",
    "# iterator\n",
    "class Utworz_1:  \n",
    "    def __init__(self, data):\n",
    "        self.data = data\n",
    "        self.index = 0\n",
    "\n",
    "    def __iter__(self):\n",
    "        return self\n",
    "\n",
    "    def __next__(self):\n",
    "        if self.index == self.data:\n",
    "            raise StopIteration\n",
    "        self.index = self.index + 1\n",
    "        return self.index"
   ]
  },
  {
   "cell_type": "code",
   "execution_count": null,
   "metadata": {
    "colab": {
     "base_uri": "https://localhost:8080/"
    },
    "id": "OPNyMjD5My1D",
    "outputId": "a43bf7b5-e5bb-4dfa-94ce-34124faa008f"
   },
   "outputs": [],
   "source": [
    "gg = Utworz_1(10); # konkretyzacja klasy  - iterator\n",
    "print(gg)\n",
    "\n",
    "for j in gg:\n",
    "    print(j, end = ' ')"
   ]
  },
  {
   "cell_type": "markdown",
   "metadata": {
    "deletable": false,
    "editable": false,
    "id": "MRRjr86DMy1D",
    "nbgrader": {
     "cell_type": "markdown",
     "checksum": "5ac6a192603e492cf02f85d903412381",
     "grade": false,
     "grade_id": "cell-727bc3ae4379ab30",
     "locked": true,
     "schema_version": 3,
     "solution": false,
     "task": false
    }
   },
   "source": [
    "## Wyrażenia generujące (`generator expressions`)\n",
    "\n",
    "https://docs.python.org/3/tutorial/classes.html#generator-expressions\n",
    "\n",
    "\n",
    "- Niektóre proste generatory mogą być efektywnie implementowane jako wyrażenia przy pomocy mechanizmu typu `list comprehension`, ale zamiast nawiasów kwadratowych `[]` używają nawiasów okrągłych `()`.\n",
    "\n",
    "- Wyrażenia te przeznaczone są dla sytuacji w których generator jest użyty bezpośrednio w wywołującej go funkcji.\n"
   ]
  },
  {
   "cell_type": "code",
   "execution_count": null,
   "metadata": {
    "id": "8TiM91_XMy1D"
   },
   "outputs": [],
   "source": [
    "g = (i**2 for i in range(10))\n",
    "print(g)\n",
    "for j in g:\n",
    "    print(j, end = ' ')"
   ]
  },
  {
   "cell_type": "markdown",
   "metadata": {
    "deletable": false,
    "editable": false,
    "id": "ztQnfDHxMy1D",
    "nbgrader": {
     "cell_type": "markdown",
     "checksum": "4e88098433194a84e8c508fe61a1ab27",
     "grade": false,
     "grade_id": "cell-f79130e3d4f59cc9",
     "locked": true,
     "schema_version": 3,
     "solution": false,
     "task": false
    }
   },
   "source": [
    "Wyrażenia generatora często są używane z takimi funkcjami jak `sum`, `min`, `max`."
   ]
  },
  {
   "cell_type": "code",
   "execution_count": null,
   "metadata": {
    "id": "ITVlIFJTMy1E"
   },
   "outputs": [],
   "source": [
    "sum(i**2 for i in range(10)) # użycie generatora bezpośrednio w funkcji sum()"
   ]
  },
  {
   "cell_type": "markdown",
   "metadata": {
    "deletable": false,
    "editable": false,
    "id": "rTdPzI46My1E",
    "nbgrader": {
     "cell_type": "markdown",
     "checksum": "dcf7660b0747a14bd152f92ebe408020",
     "grade": false,
     "grade_id": "cell-564ac429ab59fae7",
     "locked": true,
     "schema_version": 3,
     "solution": false,
     "task": false
    }
   },
   "source": [
    "## Przestrzenie nazw. Polecenia `nonlocal`, `global`.\n",
    "\n",
    "- Przestrzenie nazw tworzone są w różnych chwilach i są aktywne przez różny czas.\n",
    "\n",
    "\n",
    "- Przestrzeń nazw zawierająca nazwy wbudowane tworzona jest podczas rozpoczęcia pracy interpretera Pythona i nigdy nie jest usuwana. Nazwy wbudowane przechowywane są w module o nazwie `builtins`.\n",
    "\n",
    "\n",
    "- Przestrzeń nazw globalnych modułu tworzona jest podczas wczytywania jego definicji i jest aktywna również do chwili zakończenia pracy interpretera.\n",
    "\n",
    "\n",
    "- Instrukcje wykonywane przez wywołania interpretera, zarówno czytane z pliku jak i wprowadzane interaktywnie, są częścią modułu o nazwie `__main__` - tak więc posiadają swoją własną przestrzeń nazw globalnych.\n",
    "\n",
    "\n",
    "- Przestrzeń nazw lokalnych funkcji tworzona jest w momencie jej wywołania i niszczona, gdy następuje powrót z funkcji lub zgłoszony został w niej wyjątek, który nie został tam obsłużony.\n",
    "\n",
    "\n",
    "- Wywołanie rekurencyjne powoduje tworzenie za każdym razem nowej przestrzeni nazw lokalnych.\n",
    "\n",
    "\n",
    "- W każdym momencie wykonania programu, istnieją co najmniej trzy zagnieżdżone zasięgi nazw (tzn. wprost osiągalne są trzy przestrzenie nazw):\n",
    "  - najbardziej zagnieżdżony, w którym najpierw poszukuje się nazwy, zawiera on nazwy lokalne; \n",
    "  - środkowy, przeszukiwany w następnej kolejności, który zawiera aktualne nazwy globalne modułu; \n",
    "  - zewnętrzny (przeszukiwany na końcu) jest zasięgiem nazw wbudowanych.\n",
    "\n",
    "\n",
    "__`globals()`__ -  zwraca słownik reprezentujący bieżącą globalną tablicę symboli. Jest to zawsze słownik bieżącego modułu (wewnątrz funkcji lub metody jest to moduł, w którym jest zdefiniowany, a nie moduł, z którego jest wywoływany).\n",
    "\n",
    "__`locals()`__ - zwraca słownik reprezentujący bieżącą lokalną tablicę symboli. Na poziomie modułu `locals()` i `globals()` są tym samym słownikiem.\n",
    "\n"
   ]
  },
  {
   "cell_type": "code",
   "execution_count": null,
   "metadata": {
    "colab": {
     "base_uri": "https://localhost:8080/"
    },
    "id": "vhqpgm_rMy1E",
    "outputId": "1f4f91cd-6cdc-4eab-afb6-922155b7dd91"
   },
   "outputs": [],
   "source": [
    "# Przed każdym uruchomieniem naciśnij: Kernel / Restart & clear output\n",
    "\n",
    "def scope_test():\n",
    "    \n",
    "    def do_local():\n",
    "        spam = \"test_3\"\n",
    "        print('3)\\n', locals())\n",
    "\n",
    "    spam = \"test_2\"\n",
    "    print('2)\\n', locals())\n",
    "    do_local()\n",
    "\n",
    "spam = 'test_1'    \n",
    "print('1)\\n', locals())\n",
    "scope_test()\n",
    "\n",
    "locals() == globals()\n",
    "\n",
    "#dir(__builtins__) # zwraca nazwy zdefiniowane w module builtins"
   ]
  },
  {
   "cell_type": "markdown",
   "metadata": {
    "deletable": false,
    "editable": false,
    "id": "IwkIeQHxMy1E",
    "nbgrader": {
     "cell_type": "markdown",
     "checksum": "0f3f2ffbeeca71389d5e3d14e9a5c519",
     "grade": false,
     "grade_id": "cell-5f102460f198404f",
     "locked": true,
     "schema_version": 3,
     "solution": false,
     "task": false
    }
   },
   "source": [
    "### Deklaracje `nonlocal`, `global`.\n",
    "\n",
    "- deklaracji `nonlocal` używamy aby odwołać się do zmiennych znajdujących się poza najbardziej zagnieżdżonym zasięgiem. Bez niej zmienne te byłyby tylko do odczytu. Podczas zapisu tworzona by była zmienna o tej samej nazwie, a ta zewnętrzna pozostała by niezmieniona.\n",
    "\n",
    "\n",
    "- deklaracja `global` może zostać użyta do oznaczenia, że wyszczególniona nazwa należy do przestrzeni nazw globalnych\n",
    "\n",
    "\n",
    "- Zasięgi nazw zdeterminowane są przez ich zasięg w tekście. Zasięg globalny funkcji zdefiniowanej w danym module jest zasięgiem związanym z tym modułem, niezależnie gdzie i jak (przy pomocy jakiego aliasu funkcja jest wywoływana)\n",
    "\n",
    "\n",
    "- Jedną z cech szczególnych Pythona jest to, że przypisanie zawsze zachodzi w najbardziej zagnieżdżonym zasięgu. Przypisania nie powodują kopiowania danych - przywiązują jedynie nazwy do obiektów.\n",
    "\n",
    "\n",
    "- To samo zachodzi w przypadku usuwania: instrukcja `del x` usuwa związek obiektu identyfikowanego przez nazwę x z tą nazwą w przestrzeni nazw lokalnych"
   ]
  },
  {
   "cell_type": "code",
   "execution_count": null,
   "metadata": {
    "colab": {
     "base_uri": "https://localhost:8080/"
    },
    "id": "qiOEu1eJMy1F",
    "outputId": "4b6087bd-7518-4168-ac8d-e69480491b9b"
   },
   "outputs": [],
   "source": [
    "def scope_test():\n",
    "    def do_local():\n",
    "        spam = \"local spam\"     # lokalne związanie nie zmienia spam w scope_test()\n",
    "\n",
    "    def do_nonlocal():\n",
    "        nonlocal spam           # nonlocal zmienia spam w scope_test()\n",
    "        spam = \"nonlocal spam\"  \n",
    "\n",
    "    def do_global():\n",
    "        global spam             # global zmienia spam na poziomie modułu\n",
    "        spam = \"global spam\"\n",
    "\n",
    "    spam = \"test spam\"\n",
    "    do_local()\n",
    "    print(\"After local assignment:\", spam)\n",
    "    do_nonlocal()\n",
    "    print(\"After nonlocal assignment:\", spam)\n",
    "    do_global()\n",
    "    print(\"After global assignment:\", spam)\n",
    "    \n",
    "scope_test()\n",
    "print(\"In global scope:\", spam)"
   ]
  },
  {
   "cell_type": "markdown",
   "metadata": {
    "deletable": false,
    "editable": false,
    "id": "SjRHWnIVMy1F",
    "nbgrader": {
     "cell_type": "markdown",
     "checksum": "5a53e0eda71a0790ca2b44f2e1ec15e6",
     "grade": false,
     "grade_id": "cell-e8f0fee5edaeafc1",
     "locked": true,
     "schema_version": 3,
     "solution": false
    }
   },
   "source": [
    "## Zadanie 1\n",
    "\n",
    "Napisz klasę`SamogloskaUpss` przyjmującą jako argument konstruktora tekst. Klasa ta powinna pełnić rolę iteratora, iterującego po podanym tekście. W przypadku napotkania samogłoski iterator zwraca tekst `Upss`. stworzenie klasy z parametrem \"artur Haluch\"\n",
    "\n",
    "https://docs.python.org/3/tutorial/classes.html#iterators\n",
    "\n",
    "Wynik:\n",
    "('ups', 'r', 't', 'ups')"
   ]
  },
  {
   "cell_type": "code",
   "execution_count": 4,
   "metadata": {
    "colab": {
     "base_uri": "https://localhost:8080/"
    },
    "deletable": false,
    "id": "Dl9xVJnxMy1F",
    "nbgrader": {
     "cell_type": "code",
     "checksum": "b81d77ef3e3831026e681f8f18f7c058",
     "grade": true,
     "grade_id": "cell-07002b2861d7761e",
     "locked": false,
     "points": 1,
     "schema_version": 3,
     "solution": true
    },
    "outputId": "5f2d40b6-010d-4366-d7b9-22a074239dc2",
    "ExecuteTime": {
     "end_time": "2023-05-29T17:18:19.479453700Z",
     "start_time": "2023-05-29T17:18:19.475647900Z"
    }
   },
   "outputs": [
    {
     "data": {
      "text/plain": "('ups', 'r', 't', 'ups')"
     },
     "execution_count": 4,
     "metadata": {},
     "output_type": "execute_result"
    }
   ],
   "source": [
    "# YOUR CODE HERE\n",
    "class SamogloskaUpss:\n",
    "  samogloski = (\"a\", \"ą\", \"e\", \"ę\", \"i\", \"y\", \"o\", \"u\", \"ó\")\n",
    "  def __init__(self, tekst):\n",
    "    self.tekst=tekst\n",
    "    self.index=0\n",
    "  def __iter__(self):\n",
    "        return self\n",
    "\n",
    "  def __next__(self):\n",
    "    if self.index >= len(self.tekst):\n",
    "      raise StopIteration\n",
    "    self.index = self.index + 1\n",
    "    if(self.tekst[self.index-1] in self.samogloski):\n",
    "      return \"ups\"\n",
    "    else:\n",
    "      return self.tekst[self.index-1]\n",
    "\n",
    "    \n",
    "\n",
    "\n",
    "iterator = SamogloskaUpss(\"artur Haluch\"); # konkretyzacja klasy  - iterator\n",
    "iterator.__next__(),iterator.__next__(),iterator.__next__(),next(iterator)\n"
   ]
  },
  {
   "cell_type": "markdown",
   "metadata": {
    "deletable": false,
    "editable": false,
    "id": "Gd7TSe77My1G",
    "nbgrader": {
     "cell_type": "markdown",
     "checksum": "02d80030beb8d895f5d488766201f1a4",
     "grade": false,
     "grade_id": "cell-9a0be2fbb9c21bf3",
     "locked": true,
     "schema_version": 3,
     "solution": false
    }
   },
   "source": [
    "## Zadanie 2\n",
    "Napisz klasę `Unikalne` przyjmującą jako argument konstruktora pewną listę [1,2,3,4,3,2,3,4,55,4,3,2,4,4,5,6,7,8,95,2,2,1,0,123]. Klasa ta powinna pełnić rolę iteratora, iterującego po unikalnych (występujących dokładnie jeden raz) elementach listy.\n",
    "\n",
    "Wynik:\n",
    "55\n",
    "5\n",
    "6\n",
    "7\n",
    "8\n",
    "95\n",
    "0\n",
    "123"
   ]
  },
  {
   "cell_type": "code",
   "execution_count": 7,
   "metadata": {
    "colab": {
     "base_uri": "https://localhost:8080/"
    },
    "deletable": false,
    "id": "2ySGVEMZMy1G",
    "nbgrader": {
     "cell_type": "code",
     "checksum": "a621cd80665fbae367cd562f810e246a",
     "grade": true,
     "grade_id": "cell-4e9dc8765382deaf",
     "locked": false,
     "points": 1,
     "schema_version": 3,
     "solution": true
    },
    "outputId": "de154401-e88c-4f8b-c852-173c8adeb66a",
    "ExecuteTime": {
     "end_time": "2023-05-29T17:19:48.829185400Z",
     "start_time": "2023-05-29T17:19:48.819553Z"
    }
   },
   "outputs": [
    {
     "name": "stdout",
     "output_type": "stream",
     "text": [
      "55\n",
      "5\n",
      "6\n",
      "7\n",
      "8\n",
      "95\n",
      "0\n",
      "123\n"
     ]
    }
   ],
   "source": [
    "# YOUR CODE HERE\n",
    "class Unikalne:\n",
    "  def __init__(self,lista):\n",
    "    self.lista=lista\n",
    "    self.index = 0\n",
    "    self.unique=[x for x in self.lista if self.lista.count(x)==1]\n",
    "\n",
    "  def __iter__(self):\n",
    "    return self\n",
    "\n",
    "\n",
    "  def __next__(self):\n",
    "    if self.index >= len(self.unique):\n",
    "      raise StopIteration\n",
    "    self.index+=1\n",
    "    return self.unique[self.index-1]\n",
    "      \n",
    "\n",
    "\n",
    "uniq = Unikalne([1,2,3,4,3,2,3,4,55,4,3,2,4,4,5,6,7,8,95,2,2,1,0,123])\n",
    "for x in uniq:\n",
    "  print(x)"
   ]
  },
  {
   "cell_type": "markdown",
   "metadata": {
    "deletable": false,
    "editable": false,
    "id": "nXMg2vogMy1G",
    "nbgrader": {
     "cell_type": "markdown",
     "checksum": "51823f21a29a3ea3fa43459eff909243",
     "grade": false,
     "grade_id": "cell-c12f33b297cd92a6",
     "locked": true,
     "schema_version": 3,
     "solution": false
    }
   },
   "source": [
    "## Zadanie 3\n",
    "Napisz funkcję `liczby_pierwsze` przyjmującą jako argument liczbę całkowitą. Funkcja ta powinna być generatorem zwracającym liczby pierwsze od 2 do liczby przesłanej jako argument, bez niej. Wykorzystaj słowo kluczowe `yield`.\n",
    "\n",
    "Przykładowe użycie funkcji `liczby_pierwsze`:\n",
    "\n",
    "\n",
    "```python\n",
    "for i in liczby_pierwsze(100):\n",
    "    print(i)\n",
    "# powyższy kod powinien wypisać liczby pierwsze do liczby 97 włącznie, kazda liczba ma byc wyprintowana poprzez print(num)\n",
    "```\n",
    "\n",
    "https://docs.python.org/3/tutorial/classes.html#generators"
   ]
  },
  {
   "cell_type": "code",
   "execution_count": 8,
   "metadata": {
    "colab": {
     "base_uri": "https://localhost:8080/"
    },
    "deletable": false,
    "id": "X5S5Sd81My1G",
    "nbgrader": {
     "cell_type": "code",
     "checksum": "bcf44c536743e9cd6f8a5c840780fb28",
     "grade": true,
     "grade_id": "cell-f9abfb50896389c7",
     "locked": false,
     "points": 1,
     "schema_version": 3,
     "solution": true
    },
    "outputId": "669ddae0-3805-4e4e-ed67-ef9de89776dc",
    "ExecuteTime": {
     "end_time": "2023-05-29T17:22:47.333842300Z",
     "start_time": "2023-05-29T17:22:47.330198500Z"
    }
   },
   "outputs": [
    {
     "name": "stdout",
     "output_type": "stream",
     "text": [
      "2\n",
      "3\n",
      "5\n",
      "7\n",
      "9\n",
      "11\n",
      "13\n",
      "15\n",
      "17\n",
      "19\n",
      "23\n",
      "25\n",
      "29\n",
      "31\n",
      "35\n",
      "37\n",
      "41\n",
      "43\n",
      "47\n",
      "49\n",
      "53\n",
      "59\n",
      "61\n",
      "67\n",
      "71\n",
      "73\n",
      "79\n",
      "83\n",
      "89\n",
      "97\n"
     ]
    }
   ],
   "source": [
    "# YOUR CODE HERE\n",
    "def czy_pierwsza(n):\n",
    "    if n == 2:\n",
    "        return True\n",
    "    if n % 2 == 0 or n <= 1:\n",
    "        return False\n",
    "\n",
    "    pierw = int(n**0.5)\n",
    "    for dzielnik in range(3, pierw, 2):\n",
    "        if n % dzielnik == 0:\n",
    "            return False\n",
    "    return True\n",
    "\n",
    "def liczby_pierwsze(n):\n",
    "  for i in range(2,n):\n",
    "    if czy_pierwsza(i):\n",
    "      yield i\n",
    "\n",
    "for i in liczby_pierwsze(100):\n",
    "    print(i)\n",
    "\n"
   ]
  },
  {
   "cell_type": "markdown",
   "metadata": {
    "deletable": false,
    "editable": false,
    "id": "vXElQIgoMy1G",
    "nbgrader": {
     "cell_type": "markdown",
     "checksum": "064d28df37b0d6245ff06958f827e893",
     "grade": false,
     "grade_id": "cell-7083f6bf70bee9b3",
     "locked": true,
     "schema_version": 3,
     "solution": false,
     "task": false
    }
   },
   "source": [
    "## Zadanie_ 4\n",
    "Napisz funkcję `JednorekiBandyta`, przyjmującą jako argument pewną kwotę w groszach. Funkcja ta powinna być generatorem tworzącym obiekty monet o nominałach 1 lub 2 grosze, do kwoty zadanej argumentem. Klasa `Moneta` z poprzednich laboratoriów.\n",
    "\n",
    "Przykładowo, wywołanie `JednorekiBandyta(100)` powinno wygenerować na przykład 100 monet 1gr, lub 50 monet 2gr, lub dowolną inną kombinację dającą w sumie 100gr.\n"
   ]
  },
  {
   "cell_type": "code",
   "execution_count": 10,
   "metadata": {
    "id": "pKG7LFjTI6P-",
    "ExecuteTime": {
     "end_time": "2023-05-29T17:24:59.492142Z",
     "start_time": "2023-05-29T17:24:59.488610100Z"
    }
   },
   "outputs": [],
   "source": [
    "from decimal import *\n",
    "from random import randint as randint\n",
    "class Moneta:\n",
    "    possible_val=(0.01, 0.02, 0.05, 0.1, 0.2, 0.5, 1, 2, 5)\n",
    "    def __init__(self,val,cur=\"\"):\n",
    "        if(val in self.possible_val):\n",
    "            self.val=Decimal(val)\n",
    "        else:\n",
    "            self.val=0\n",
    "        self.cur=cur\n",
    "    def __str__(self):\n",
    "        return f\"Moneta o nominale: {self.val:.2f} i walucie: {self.cur}\"\n",
    "    \n",
    "    def __repr__(self):\n",
    "        return f\"Moneta (val={self.val:.2f}, cur='{self.cur}')\"\n",
    "    \n",
    "    def print(self):\n",
    "        print(f\"{self.val} {self.cur}\")\n",
    "        \n",
    "    def pobierz_wartosc(self):\n",
    "        return self.val\n",
    "    \n",
    "    def pobierz_walute(self):\n",
    "        return self.cur"
   ]
  },
  {
   "cell_type": "code",
   "execution_count": null,
   "metadata": {
    "colab": {
     "base_uri": "https://localhost:8080/"
    },
    "deletable": false,
    "id": "gklr6_3lMy1G",
    "nbgrader": {
     "cell_type": "code",
     "checksum": "19c885cb172830c33a1a9001190e1c4b",
     "grade": true,
     "grade_id": "cell-fb77ca19bb2b3d52",
     "locked": false,
     "points": 1,
     "schema_version": 3,
     "solution": true,
     "task": false
    },
    "outputId": "6668d605-5310-457a-9b69-8dd733c1e965"
   },
   "outputs": [],
   "source": [
    "# YOUR CODE HERE\n",
    "import random\n",
    "def JednorekiBandyta(kwota :float) -> list:\n",
    "  \n",
    "  \"\"\"funkcja zwracająca kwotę rozbitą na bilon o nominale: 1 lub 2 grosze, w sposó losowy wybierana jest ilość monet 2 groszowych i dopełniana jest monetami 1 groszowymi\n",
    "\n",
    "  Args:\n",
    "    kwota (float): kwota jaka ma zostać rozbita na drobne W GROSZACH!\n",
    "\n",
    "  Yields:\n",
    "    monety (list): lista monet z jakich da się utworzyć kwotę \n",
    "\n",
    "  \"\"\"\n",
    "  monety=[]\n",
    "  ile_razy_mozna_zmiescic_2=int(kwota//2)\n",
    "  ileRazy=random.randint(0,ile_razy_mozna_zmiescic_2)\n",
    "  print(f\"{ile_razy_mozna_zmiescic_2}x{2} {ileRazy}\")\n",
    "  for d in range(ileRazy):\n",
    "    monety.append(Moneta(2/100))\n",
    "  for j in range(kwota-ileRazy*2):\n",
    "    monety.append(Moneta(1/100))\n",
    "  yield monety\n",
    "    \n",
    "for m in JednorekiBandyta(100):\n",
    "  print(m)"
   ]
  },
  {
   "cell_type": "markdown",
   "metadata": {
    "deletable": false,
    "editable": false,
    "id": "PJ_KWVEQMy1G",
    "nbgrader": {
     "cell_type": "markdown",
     "checksum": "ed3b5e1b534f01530c0aacdd34e02b68",
     "grade": false,
     "grade_id": "cell-53ad863665f0c035",
     "locked": true,
     "schema_version": 3,
     "solution": false,
     "task": false
    }
   },
   "source": [
    "## Zadanie 5\n",
    "\n",
    "Do klasy `PrzechowywaczMonet` z poprzednich laboratoriów dodaj metodę `wszystkieMonety` (dodaj ta klase rowniez do tego pola) będącą generatorem zwracającym kolejno wszystkie przechowywane monety posortowane rosnąco po nominale.\n"
   ]
  },
  {
   "cell_type": "code",
   "execution_count": 11,
   "metadata": {
    "colab": {
     "base_uri": "https://localhost:8080/"
    },
    "deletable": false,
    "id": "1wzKGzOvMy1G",
    "nbgrader": {
     "cell_type": "code",
     "checksum": "1d9c9e4464986052e83bbd7565ea0ec7",
     "grade": true,
     "grade_id": "cell-b09c7702bc510a5f",
     "locked": false,
     "points": 1,
     "schema_version": 3,
     "solution": true,
     "task": false
    },
    "outputId": "52ee2776-3587-4b3c-eb63-3bfddfe8fde0",
    "ExecuteTime": {
     "end_time": "2023-05-29T17:25:29.093103400Z",
     "start_time": "2023-05-29T17:25:29.081877400Z"
    }
   },
   "outputs": [
    {
     "name": "stdout",
     "output_type": "stream",
     "text": [
      "Moneta o nominale: 0.01 i walucie: \n",
      "Moneta o nominale: 0.02 i walucie: \n",
      "Moneta o nominale: 0.50 i walucie: \n",
      "Moneta o nominale: 0.50 i walucie: \n",
      "Moneta o nominale: 1.00 i walucie: \n",
      "Moneta o nominale: 2.00 i walucie: \n",
      "Moneta o nominale: 5.00 i walucie: \n"
     ]
    }
   ],
   "source": [
    "# YOUR CODE HERE\n",
    "from decimal import *\n",
    "from random import randint as randint\n",
    "class Moneta:\n",
    "    possible_val=(0.01, 0.02, 0.05, 0.1, 0.2, 0.5, 1, 2, 5)\n",
    "    def __init__(self,val,cur=\"\"):\n",
    "        if(val in self.possible_val):\n",
    "            self.val=Decimal(val)\n",
    "        else:\n",
    "            self.val=0\n",
    "        self.cur=cur\n",
    "    def __str__(self):\n",
    "        return f\"Moneta o nominale: {self.val:.2f} i walucie: {self.cur}\"\n",
    "\n",
    "    def __repr__(self):\n",
    "        return f\"Moneta (val={self.val:.2f}, cur='{self.cur}')\"\n",
    "\n",
    "    def print(self):\n",
    "        print(f\"{self.val} {self.cur}\")\n",
    "\n",
    "    def pobierz_wartosc(self):\n",
    "        return self.val\n",
    "\n",
    "    def pobierz_walute(self):\n",
    "        return self.cur\n",
    "\n",
    "\n",
    "class PrzechowywaczMonet:\n",
    "    def __init__(self,lista):\n",
    "        self.__lista=lista\n",
    "        self.monety=[]\n",
    "    def sprawdz_monete(self,moneta):\n",
    "        try:\n",
    "            if(moneta.val in self.__lista):\n",
    "                return True\n",
    "            else:\n",
    "                raise ZlyNominalException(moneta.val)\n",
    "        except ZlyNominalException as e:\n",
    "            print(f\"Nominiał {e.val} nieobsługowany {type(e)}\")\n",
    "            return False\n",
    "        \n",
    "    def dodaj_monete(self,moneta):\n",
    "        if(self.sprawdz_monete(moneta)):\n",
    "            self.monety.append(moneta)\n",
    "    \n",
    "    def suma(self):\n",
    "        return sum(m.val for m in self.monety)\n",
    "\n",
    "    def zwroc_monete(self,nominal):\n",
    "        for i,m in enumerate(self.monety):\n",
    "              if(m.val==nominal):\n",
    "                return self.monety.pop(i)\n",
    "        print(\"nie ma takiej monety\")\n",
    "        return 0\n",
    "\n",
    "    def wszystkieMonety(self):\n",
    "      self.monety.sort(key=lambda x: x.val)\n",
    "      for i in self.monety:\n",
    "        yield i\n",
    "\n",
    "class SkarbonkaError(Exception):\n",
    "    pass\n",
    "\n",
    "class ZlyNominalException(SkarbonkaError):\n",
    "    def __init__(self,val):\n",
    "        self.val=val\n",
    "\n",
    "possible_val=(0.01, 0.02, 0.05, 0.1, 0.2, 0.5, 1, 2, 5)\n",
    "p = PrzechowywaczMonet(possible_val)\n",
    "p.dodaj_monete(Moneta(1))\n",
    "p.dodaj_monete(Moneta(0.01))\n",
    "p.dodaj_monete(Moneta(0.02))\n",
    "p.dodaj_monete(Moneta(2))\n",
    "p.dodaj_monete(Moneta(5))\n",
    "p.dodaj_monete(Moneta(0.5))\n",
    "p.dodaj_monete(Moneta(0.5))\n",
    "for x in p.wszystkieMonety():\n",
    "  print(x)"
   ]
  },
  {
   "cell_type": "markdown",
   "metadata": {
    "deletable": false,
    "editable": false,
    "id": "-2C9KZ7aMy1H",
    "nbgrader": {
     "cell_type": "markdown",
     "checksum": "945a4317900151d247c1a2800e411f62",
     "grade": false,
     "grade_id": "cell-b862d7e7eb87ec9c",
     "locked": true,
     "schema_version": 3,
     "solution": false,
     "task": false
    }
   },
   "source": [
    "## Zadanie 6\n",
    "Napisz funkcję liczącą sumę iloczynów elementów dwóch list `a` i `b`: \n",
    "\n",
    "`a[0]*b[0]+a[1]*b[1]+....`\n",
    "\n",
    "Obie listy powinny być równej długości. Wykorzystaj `generator expressions` oraz funkcję `zip`.\n",
    "\n",
    "https://docs.python.org/3/tutorial/classes.html#generator-expressions"
   ]
  },
  {
   "cell_type": "code",
   "execution_count": null,
   "metadata": {
    "colab": {
     "base_uri": "https://localhost:8080/"
    },
    "deletable": false,
    "id": "HzHv26Y1My1H",
    "nbgrader": {
     "cell_type": "code",
     "checksum": "6f0161f6bcef1a915fdd3ab7a722ac59",
     "grade": true,
     "grade_id": "cell-d78d82a743570324",
     "locked": false,
     "points": 1,
     "schema_version": 3,
     "solution": true,
     "task": false
    },
    "outputId": "8df9f492-31de-484f-c439-ddd196b39100"
   },
   "outputs": [],
   "source": [
    "# YOUR CODE HERE\n",
    "a=[0,1,2,3,4,5,6,7,8,9]\n",
    "b=[9,8,7,6,5,4,3,2,1,0]\n",
    "\n",
    "def sumailoczynow(a,b):\n",
    "  return sum(i*j for i,j in zip(a,b))\n",
    "\n",
    "print(sumailoczynow(a,b))\n"
   ]
  },
  {
   "cell_type": "markdown",
   "metadata": {
    "deletable": false,
    "editable": false,
    "id": "qocQ3yA_My1H",
    "nbgrader": {
     "cell_type": "markdown",
     "checksum": "83d17d186d9a190d3dc032c27a89dc77",
     "grade": false,
     "grade_id": "cell-fea6ecb5d527f4f0",
     "locked": true,
     "schema_version": 3,
     "solution": false,
     "task": false
    }
   },
   "source": [
    "## Zadanie 7\n",
    "\n",
    "Napisz funkcję `srednia` będącą generatorem, liczącym średnią arytmetyczną wartości przesłanych do niej przy pomocy metody `send`.\n",
    "\n",
    "Przykładowy kod używający `send`:\n",
    "\n",
    "```python\n",
    "def sumowanie():\n",
    "    suma=0\n",
    "    while True:\n",
    "        a=(yield)\n",
    "        print(\"Otrzymano:\", a)\n",
    "        suma+=a\n",
    "        yield suma\n",
    "\n",
    "generator=sumowanie()\n",
    "\n",
    "for i in [1, 2, 3, 5, 7, 11]:\n",
    "    next(generator)\n",
    "    print(\"Generator zwrócił:\", generator.send(i))\n",
    "```\n",
    "\n",
    "\n",
    "\n",
    "https://docs.python.org/3/reference/expressions.html#yield-expressions"
   ]
  },
  {
   "cell_type": "code",
   "execution_count": null,
   "metadata": {
    "colab": {
     "base_uri": "https://localhost:8080/"
    },
    "deletable": false,
    "id": "eiq_T50WMy1H",
    "nbgrader": {
     "cell_type": "code",
     "checksum": "291bf30729ba1312a15d90b8e70c1eaa",
     "grade": true,
     "grade_id": "cell-a1f3c211a750990f",
     "locked": false,
     "points": 1,
     "schema_version": 3,
     "solution": true,
     "task": false
    },
    "outputId": "b8154114-bb86-487b-87a9-037f4cb29a1f"
   },
   "outputs": [],
   "source": [
    "# YOUR CODE HERE\n",
    "def srednia():\n",
    "  srednia=0\n",
    "  suma=0\n",
    "  el=0\n",
    "  while True:\n",
    "    a=(yield)\n",
    "    print(f\"otrzymano {a}\")\n",
    "    el+=1\n",
    "    suma+=a\n",
    "    srednia=suma/el\n",
    "    yield srednia\n",
    "\n",
    "generator=srednia()\n",
    "\n",
    "for i in [1, 2, 3, 5, 7, 11]:\n",
    "    next(generator)\n",
    "    print(\"Generator zwrócił:\", generator.send(i))"
   ]
  },
  {
   "cell_type": "markdown",
   "metadata": {
    "deletable": false,
    "editable": false,
    "id": "yIQAhXF2My1H",
    "nbgrader": {
     "cell_type": "markdown",
     "checksum": "c4039e105e484c90ecd7efcf02a208c2",
     "grade": false,
     "grade_id": "cell-09cc09d00c2da555",
     "locked": true,
     "schema_version": 3,
     "solution": false,
     "task": false
    }
   },
   "source": [
    "## Zadanie 8\n",
    "\n",
    "Dany jest kod:\n",
    "\n",
    "```python\n",
    "x=0\n",
    "\n",
    "def bla():\n",
    "    x+=1\n",
    "    \n",
    "print(x)\n",
    "bla()\n",
    "print(x)\n",
    "```\n",
    "\n",
    "Zmodyfikuj funkcję `bla` tak, aby zwiększała wartość zmiennej globalnej `x` o 1.\n",
    "\n",
    "Wykorzystaj słowo kluczowe `global`.\n",
    "\n"
   ]
  },
  {
   "cell_type": "code",
   "execution_count": null,
   "metadata": {
    "colab": {
     "base_uri": "https://localhost:8080/"
    },
    "deletable": false,
    "id": "MEAhn5sbMy1H",
    "nbgrader": {
     "cell_type": "code",
     "checksum": "1f6d6d4d67141976306da0f3f5d96db3",
     "grade": true,
     "grade_id": "cell-3446be6132b274f2",
     "locked": false,
     "points": 1,
     "schema_version": 3,
     "solution": true,
     "task": false
    },
    "outputId": "74ec8f6f-0342-48ec-db1e-ff6878c08cc3"
   },
   "outputs": [],
   "source": [
    "# YOUR CODE HERE\n",
    "x=0\n",
    "\n",
    "def bla():\n",
    "    global x\n",
    "    x+=1\n",
    "    \n",
    "print(x)\n",
    "bla()\n",
    "print(x)"
   ]
  },
  {
   "cell_type": "markdown",
   "metadata": {
    "deletable": false,
    "editable": false,
    "id": "lMv0gwxtMy1H",
    "nbgrader": {
     "cell_type": "markdown",
     "checksum": "628988cfa90b1e74f6ba50f3082c1b93",
     "grade": false,
     "grade_id": "cell-8112ca5138f60501",
     "locked": true,
     "schema_version": 3,
     "solution": false,
     "task": false
    }
   },
   "source": [
    "## Zadanie 9\n",
    "\n",
    "Dany jest kod:\n",
    "\n",
    "```python\n",
    "x=1337\n",
    "\n",
    "def foo():\n",
    "    def bar():\n",
    "        x+=1\n",
    "    x=0\n",
    "    print(x)\n",
    "    bar()\n",
    "    print(x)\n",
    "    \n",
    "print(x) \n",
    "foo()\n",
    "print(x)\n",
    "\n",
    "```\n",
    "\n",
    "Zmodyfikuj funkcje `foo` i `bar` tak, aby funkcja `bar` zwiększała zmienną `x` zdefiniowaną w funkcji `foo` o 1, nie zmieniając wartości zmiennej globalnej `x`. \n",
    "\n",
    "Wykorzystaj słowo kluczowe `nonlocal`."
   ]
  },
  {
   "cell_type": "code",
   "execution_count": null,
   "metadata": {
    "colab": {
     "base_uri": "https://localhost:8080/"
    },
    "deletable": false,
    "id": "pX459DaRMy1H",
    "nbgrader": {
     "cell_type": "code",
     "checksum": "9aa3a1a5e10c1b2bca8dffc2973fefd9",
     "grade": true,
     "grade_id": "cell-9d4e49c8b0e243c2",
     "locked": false,
     "points": 1,
     "schema_version": 3,
     "solution": true,
     "task": false
    },
    "outputId": "1eeea87c-8fac-4421-b5c6-8e80b3d45803"
   },
   "outputs": [],
   "source": [
    "# YOUR CODE HERE\n",
    "x=1337\n",
    "\n",
    "def foo():\n",
    "    def bar():\n",
    "      nonlocal x\n",
    "      x+=1\n",
    "    x=0\n",
    "    print(x)\n",
    "    bar()\n",
    "    print(x)\n",
    "    \n",
    "print(x) \n",
    "foo()\n",
    "print(x)"
   ]
  },
  {
   "cell_type": "code",
   "execution_count": null,
   "metadata": {
    "id": "h_TZQG-tMy1I"
   },
   "outputs": [],
   "source": [
    "arr=[\"A\",\"B\",\"C\"]\n",
    "i=arr.index(\"B\")\n",
    "print(i)\n",
    "print(arr.pop(i))\n",
    "print(arr)"
   ]
  }
 ],
 "metadata": {
  "colab": {
   "provenance": []
  },
  "kernelspec": {
   "display_name": "Python 3",
   "language": "python",
   "name": "python3"
  },
  "language_info": {
   "codemirror_mode": {
    "name": "ipython",
    "version": 3
   },
   "file_extension": ".py",
   "mimetype": "text/x-python",
   "name": "python",
   "nbconvert_exporter": "python",
   "pygments_lexer": "ipython3",
   "version": "3.11.0"
  },
  "vscode": {
   "interpreter": {
    "hash": "c261aea317cc0286b3b3261fbba9abdec21eaa57589985bb7a274bf54d6cc0a7"
   }
  }
 },
 "nbformat": 4,
 "nbformat_minor": 0
}
