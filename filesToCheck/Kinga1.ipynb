{
 "cells": [
  {
   "cell_type": "markdown",
   "metadata": {
    "id": "rOenv2xLmo5O"
   },
   "source": [
    "## Języki symboliczne\n",
    "\n",
    "Przed rozpoczęciem pracy z notatnikiem zmień jego nazwę zgodnie z wzorem: `NrAlbumu_Nazwisko_Imie_PoprzedniaNazwaNotatnika`\n",
    "\n",
    "Przed wysłaniem notatnika upewnij się, że rozwiązałeś wszystkie zadania/ćwiczenia, w szczególności, że uzupełniłeś wszystkie pola `YOUR CODE HERE` oraz `YOUR ANSWER HERE`."
   ]
  },
  {
   "cell_type": "markdown",
   "metadata": {
    "deletable": false,
    "editable": false,
    "nbgrader": {
     "cell_type": "markdown",
     "checksum": "62b64b8efde52f4c7f14094ce6ab65ac",
     "grade": false,
     "grade_id": "cell-b21531a0b0d3d259",
     "locked": true,
     "schema_version": 3,
     "solution": false
    },
    "id": "KEvaHQKamo5W"
   },
   "source": [
    "## Temat_1: \n",
    "## Wprowadzenie do środowiska Jupyter. Typy liczbowe. Praca z tekstem. Instrukcje sterujące. Pętle.\n",
    "Zapoznaj się z treścią niniejszego notatnika czytając i wykonując go komórka po komórce. Wykonaj napotkane zadania/ćwiczenia.\n",
    "\n",
    "### Informacje wstępne\n",
    "#### Instalacja Windows\n",
    "Na zajęciach korzystać będziemy z Pythona w wersji 3.8+ z dystrybucji Anaconda. W salach komputerowych Anaconda została już zainstalowana. \n",
    "Sposób instalacji patrz: \"Instrukcja konfiguracji środowiska\" zawarta w Informacjach Ogólnych kursu.\n",
    "\n",
    "Podczas zajęć pracujemy z wykorzystaniem narzędzia `Jupyter Notebook` (dostępnego w Start -> Anaconda -> Jupyter Notebook). Jest to interaktywna konsola Pythona (pracująca w oparciu o przeglądarkę) w postaci notebook-a, czyli taki plik jak właśnie przeglądasz, więcej o Jupyter na http://jupyter.org/.\n",
    "\n",
    "Stąd pobierzesz dystrybucję Anacondy: https://www.anaconda.com/products/individual\n",
    "\n",
    "Obsługa notebook-ów Jupyter jest możliwa również w innych środowiskach m.in. w środowisku developerskim `Spyder', Visual Studio Code\n",
    "\n",
    "Tu pokazano jak zainstalować obsługę notebook-ów dla środowiska `Spyder`: https://anaconda.org/conda-forge/spyder-notebook\n",
    "\n",
    "Dokumentacja Python 3 https://docs.python.org/3/.\n",
    "Można też skorzystać z dostpnej online  platformy Google Colab\n",
    "\n",
    "### Jupyter Notebook z pakietu Anaconda\n",
    "Najłatwiej uruchomić Jupyter Notebook klikając w Start -> Anaconda -> Jupyter Notebook, jednak lepiej uruchomić konsolę `cmd`, ustawić się w katalogu (należy go wcześniej utworzyć), w którym przechowywane będą materiały z zajęć komendą \n",
    "```\n",
    "cd sciezka\\do\\katalogu\n",
    "```\n",
    "a następnie uruchomić Jupyter Notebook komendą\n",
    "```\n",
    "jupyter notebook\n",
    "```\n",
    "Tak procedura spowoduje, że Jupyter uruchomi się w przeglądarce i odrazu ustawi jako katalog roboczy folder który sobie stworzyliśmy.\n",
    "\n",
    "Czasami przy pierwszym uruchomieniu w konsoli pojawia się link z tokenem, który należy skopiować i wkleić do przeglądarki www.\n",
    "\n",
    "### Zaczynamy\n",
    "### Komentarze w kodzie"
   ]
  },
  {
   "cell_type": "code",
   "execution_count": null,
   "metadata": {
    "id": "6RUAGv16mo5Y"
   },
   "outputs": [],
   "source": [
    "# to jest komentarz jednolinijkowy, interpreter pomija linie zaczynające się od '#'\n",
    "# Wykonaj komórkę (Shift+Enter) i zobacz że nic się nie wykona"
   ]
  },
  {
   "cell_type": "code",
   "execution_count": null,
   "metadata": {
    "id": "Y2CIYP3tmo5a"
   },
   "outputs": [],
   "source": [
    "'''\n",
    "To jest komentarz wielolinijkowy, wszystko pomiędzy trzema znakami cudzysłowia (alternatywnie trzema apostrofami)\n",
    "traktowane jest jako łańcuch znaków. Jeśli nie zostanie on przypisany do żadnej zmiennej to będzie traktowany jako \n",
    "komentarz. Często taki sposób wykorzystywany jest do dokumentowania kodu.\n",
    "'''"
   ]
  },
  {
   "cell_type": "markdown",
   "metadata": {
    "deletable": false,
    "editable": false,
    "nbgrader": {
     "cell_type": "markdown",
     "checksum": "1e878d75d23bf0a17dd9d6dc44d128e3",
     "grade": false,
     "grade_id": "cell-11d15726331efec0",
     "locked": true,
     "schema_version": 3,
     "solution": false
    },
    "id": "rItZGDoNmo5b"
   },
   "source": [
    "### Funkcja `print()`\n",
    "Funkcja `print()` przyjmuje dowolną liczbę argumentów, dowolnego typu (no nie do końca dowolnego) i ma też parę parametrów/opcji, ale o tym innym razem. \n",
    "\n",
    "Funkcja `print` jest tak zwaną funkcją wbudowaną, inne dostępne i czasami przydatne funkcje wbudowane https://docs.python.org/3/library/functions.html."
   ]
  },
  {
   "cell_type": "code",
   "execution_count": null,
   "metadata": {
    "colab": {
     "base_uri": "https://localhost:8080/"
    },
    "id": "t6wYtVVZmo5b",
    "executionInfo": {
     "status": "ok",
     "timestamp": 1677883763035,
     "user_tz": -60,
     "elapsed": 208,
     "user": {
      "displayName": "Kinga Gajek",
      "userId": "01215373408593541942"
     }
    },
    "outputId": "97db7080-3a9b-4a30-dec1-9a2702476bff"
   },
   "outputs": [
    {
     "output_type": "stream",
     "name": "stdout",
     "text": [
      "Hello\n",
      "Hello 1 3 [1, 3] (2+4j)\n",
      "Hello;1;3;[1, 3];(2+4j):"
     ]
    }
   ],
   "source": [
    "print('Hello')\n",
    "print('Hello',1,3,[1,3],2+4j)\n",
    "print('Hello',1,3,[1,3],2+4j, sep=';',end=':')"
   ]
  },
  {
   "cell_type": "markdown",
   "metadata": {
    "deletable": false,
    "editable": false,
    "nbgrader": {
     "cell_type": "markdown",
     "checksum": "64fb6a4a0ba1f3b74b38d6fc0096f7a1",
     "grade": false,
     "grade_id": "cell-783d71e00a052b6b",
     "locked": true,
     "schema_version": 3,
     "solution": false
    },
    "id": "X7J3X879mo5c"
   },
   "source": [
    "### Podstawowe typy danych\n",
    "Python jest językiem dynamicznie typowanym, to znaczy, że nie ma potrzeby jawnego określania typu danej zmiennej, interpreter zrobi to za nas sam. Co więcej Python jest językiem w pełni obiektowy, w którym również zmienne są obiektami.\n",
    "#### Typ `int` (liczby całkowite)"
   ]
  },
  {
   "cell_type": "code",
   "execution_count": null,
   "metadata": {
    "colab": {
     "base_uri": "https://localhost:8080/"
    },
    "id": "za5UhrMbmo5c",
    "executionInfo": {
     "status": "ok",
     "timestamp": 1677883766861,
     "user_tz": -60,
     "elapsed": 230,
     "user": {
      "displayName": "Kinga Gajek",
      "userId": "01215373408593541942"
     }
    },
    "outputId": "19361cc7-50f4-4716-e236-3a07c048a4cb"
   },
   "outputs": [
    {
     "output_type": "stream",
     "name": "stdout",
     "text": [
      "2\n"
     ]
    },
    {
     "output_type": "execute_result",
     "data": {
      "text/plain": [
       "int"
      ]
     },
     "metadata": {},
     "execution_count": 23
    }
   ],
   "source": [
    "a = 2    # przypisujemy zmiennej a liczbę całkowitą 2\n",
    "print(a) # wydruk zmiennej a\n",
    "type(a)  # wbudowana funkcja type() zwraca typ danego obiektu"
   ]
  },
  {
   "cell_type": "markdown",
   "metadata": {
    "deletable": false,
    "editable": false,
    "nbgrader": {
     "cell_type": "markdown",
     "checksum": "502b8d3e88255d1f2dbf2e7aa2d3b28f",
     "grade": false,
     "grade_id": "cell-13bca2b2ca90a1b8",
     "locked": true,
     "schema_version": 3,
     "solution": false
    },
    "id": "4op1GfK-mo5d"
   },
   "source": [
    "Przykładowe metody obiektu `int`. Wciskając po napisaniu kropki `Tab` wyświetlone zostaną dostępne pola i metody danego obiektu."
   ]
  },
  {
   "cell_type": "code",
   "execution_count": null,
   "metadata": {
    "colab": {
     "base_uri": "https://localhost:8080/"
    },
    "id": "ESCqOjubmo5d",
    "executionInfo": {
     "status": "ok",
     "timestamp": 1677883768887,
     "user_tz": -60,
     "elapsed": 248,
     "user": {
      "displayName": "Kinga Gajek",
      "userId": "01215373408593541942"
     }
    },
    "outputId": "f60f9e46-41fe-4922-9136-16a6d44a0dc3"
   },
   "outputs": [
    {
     "output_type": "execute_result",
     "data": {
      "text/plain": [
       "2"
      ]
     },
     "metadata": {},
     "execution_count": 24
    }
   ],
   "source": [
    "a.bit_length()"
   ]
  },
  {
   "cell_type": "markdown",
   "metadata": {
    "deletable": false,
    "editable": false,
    "nbgrader": {
     "cell_type": "markdown",
     "checksum": "3e7096fa26337c3bdd15745c81a1f1ec",
     "grade": false,
     "grade_id": "cell-c415c9d17d13ce89",
     "locked": true,
     "schema_version": 3,
     "solution": false
    },
    "id": "rgI5S_vVmo5e"
   },
   "source": [
    "#### Typ `float` (liczba zmiennoprzecinkowa)"
   ]
  },
  {
   "cell_type": "code",
   "execution_count": null,
   "metadata": {
    "colab": {
     "base_uri": "https://localhost:8080/"
    },
    "id": "jz9sMZM8mo5e",
    "executionInfo": {
     "status": "ok",
     "timestamp": 1677883770638,
     "user_tz": -60,
     "elapsed": 234,
     "user": {
      "displayName": "Kinga Gajek",
      "userId": "01215373408593541942"
     }
    },
    "outputId": "d868a6bf-870c-43b0-e2c5-91b953088041"
   },
   "outputs": [
    {
     "output_type": "stream",
     "name": "stdout",
     "text": [
      "2.5\n"
     ]
    },
    {
     "output_type": "execute_result",
     "data": {
      "text/plain": [
       "float"
      ]
     },
     "metadata": {},
     "execution_count": 25
    }
   ],
   "source": [
    "b = 2.5\n",
    "print(b)\n",
    "type(b)"
   ]
  },
  {
   "cell_type": "code",
   "execution_count": null,
   "metadata": {
    "colab": {
     "base_uri": "https://localhost:8080/"
    },
    "id": "Zzfx--pImo5f",
    "executionInfo": {
     "status": "ok",
     "timestamp": 1677883773082,
     "user_tz": -60,
     "elapsed": 3,
     "user": {
      "displayName": "Kinga Gajek",
      "userId": "01215373408593541942"
     }
    },
    "outputId": "1c28e8e1-5f14-4d8b-86fc-5926387a90b4"
   },
   "outputs": [
    {
     "output_type": "execute_result",
     "data": {
      "text/plain": [
       "False"
      ]
     },
     "metadata": {},
     "execution_count": 26
    }
   ],
   "source": [
    "b.is_integer()"
   ]
  },
  {
   "cell_type": "markdown",
   "metadata": {
    "deletable": false,
    "editable": false,
    "nbgrader": {
     "cell_type": "markdown",
     "checksum": "a09663d1785e20b4c65d6b3038e10b03",
     "grade": false,
     "grade_id": "cell-239baf5303697212",
     "locked": true,
     "schema_version": 3,
     "solution": false
    },
    "id": "nVTVkemdmo5f"
   },
   "source": [
    "#### Typ `complex` (liczba zespolona)"
   ]
  },
  {
   "cell_type": "code",
   "execution_count": null,
   "metadata": {
    "colab": {
     "base_uri": "https://localhost:8080/"
    },
    "id": "lum9fzaXmo5g",
    "executionInfo": {
     "status": "ok",
     "timestamp": 1677883775160,
     "user_tz": -60,
     "elapsed": 326,
     "user": {
      "displayName": "Kinga Gajek",
      "userId": "01215373408593541942"
     }
    },
    "outputId": "617d0ee2-d4fa-495a-e59d-60718c2b28b0"
   },
   "outputs": [
    {
     "output_type": "stream",
     "name": "stdout",
     "text": [
      "(2+4j)\n"
     ]
    },
    {
     "output_type": "execute_result",
     "data": {
      "text/plain": [
       "complex"
      ]
     },
     "metadata": {},
     "execution_count": 27
    }
   ],
   "source": [
    "z = 2+4j # j jednostka urojona, piszemy z prawej strony bez spacji\n",
    "print(z)\n",
    "type(z)"
   ]
  },
  {
   "cell_type": "code",
   "execution_count": null,
   "metadata": {
    "colab": {
     "base_uri": "https://localhost:8080/"
    },
    "id": "fRt2DwtOmo5g",
    "executionInfo": {
     "status": "ok",
     "timestamp": 1677883777037,
     "user_tz": -60,
     "elapsed": 205,
     "user": {
      "displayName": "Kinga Gajek",
      "userId": "01215373408593541942"
     }
    },
    "outputId": "a796557b-124e-43d3-adb1-dffb10309ddb"
   },
   "outputs": [
    {
     "output_type": "execute_result",
     "data": {
      "text/plain": [
       "4.0"
      ]
     },
     "metadata": {},
     "execution_count": 28
    }
   ],
   "source": [
    "z.imag"
   ]
  },
  {
   "cell_type": "markdown",
   "metadata": {
    "deletable": false,
    "editable": false,
    "nbgrader": {
     "cell_type": "markdown",
     "checksum": "c280b7d38908b792adb9763d62cb628e",
     "grade": false,
     "grade_id": "cell-2cc0c3c12da24875",
     "locked": true,
     "schema_version": 3,
     "solution": false
    },
    "id": "VU4QGpU4mo5h"
   },
   "source": [
    "#### Typ `bool` (prawda, fałsz)"
   ]
  },
  {
   "cell_type": "code",
   "execution_count": null,
   "metadata": {
    "colab": {
     "base_uri": "https://localhost:8080/"
    },
    "id": "a2ouTJzymo5h",
    "executionInfo": {
     "status": "ok",
     "timestamp": 1677883778912,
     "user_tz": -60,
     "elapsed": 229,
     "user": {
      "displayName": "Kinga Gajek",
      "userId": "01215373408593541942"
     }
    },
    "outputId": "8b7b0013-7b16-497e-a833-68d7d27d0dd8"
   },
   "outputs": [
    {
     "output_type": "execute_result",
     "data": {
      "text/plain": [
       "bool"
      ]
     },
     "metadata": {},
     "execution_count": 29
    }
   ],
   "source": [
    "prawda = True\n",
    "falsz = False\n",
    "type(prawda)"
   ]
  },
  {
   "cell_type": "markdown",
   "metadata": {
    "deletable": false,
    "editable": false,
    "nbgrader": {
     "cell_type": "markdown",
     "checksum": "b0cf786528995c64658a867789c7af76",
     "grade": false,
     "grade_id": "cell-437d194315718328",
     "locked": true,
     "schema_version": 3,
     "solution": false
    },
    "id": "oJuzWBDhmo5h"
   },
   "source": [
    "#### Typ `tuple` (krotka)\n",
    "Krotka to zestawienie kilku obiektów w jeden obiekt. Mogą to być obiekty różnych typów."
   ]
  },
  {
   "cell_type": "code",
   "execution_count": null,
   "metadata": {
    "colab": {
     "base_uri": "https://localhost:8080/"
    },
    "id": "JCdXzj7Fmo5i",
    "executionInfo": {
     "status": "ok",
     "timestamp": 1677883780993,
     "user_tz": -60,
     "elapsed": 250,
     "user": {
      "displayName": "Kinga Gajek",
      "userId": "01215373408593541942"
     }
    },
    "outputId": "66061a4e-d91d-44d7-f6d2-f6ca8cf0670d"
   },
   "outputs": [
    {
     "output_type": "stream",
     "name": "stdout",
     "text": [
      "(1, 2, 3, 4)\n",
      "(1, 3.5, 'a', (1, 2, 3, 4))\n",
      "4\n"
     ]
    },
    {
     "output_type": "execute_result",
     "data": {
      "text/plain": [
       "tuple"
      ]
     },
     "metadata": {},
     "execution_count": 30
    }
   ],
   "source": [
    "a = (1, 2, 3, 4)\n",
    "b = (1, 3.5, 'a', a)\n",
    "print(a)\n",
    "print(b)\n",
    "print(len(a))\n",
    "type(a)"
   ]
  },
  {
   "cell_type": "markdown",
   "metadata": {
    "deletable": false,
    "editable": false,
    "nbgrader": {
     "cell_type": "markdown",
     "checksum": "b2a8ee2396feb8ca8301017fbc3b2d08",
     "grade": false,
     "grade_id": "cell-50a495acc20659da",
     "locked": true,
     "schema_version": 3,
     "solution": false
    },
    "id": "wbxSv1Rgmo5i"
   },
   "source": [
    "Elementy krotki można rozpakować do pojedynczych zmiennych."
   ]
  },
  {
   "cell_type": "code",
   "execution_count": null,
   "metadata": {
    "colab": {
     "base_uri": "https://localhost:8080/"
    },
    "id": "h10JEk8umo5i",
    "executionInfo": {
     "status": "ok",
     "timestamp": 1677883785062,
     "user_tz": -60,
     "elapsed": 229,
     "user": {
      "displayName": "Kinga Gajek",
      "userId": "01215373408593541942"
     }
    },
    "outputId": "dc4a7233-4d42-4c99-e96d-af2179d774b9"
   },
   "outputs": [
    {
     "output_type": "stream",
     "name": "stdout",
     "text": [
      "1\n",
      "2.5\n",
      "(1+3j)\n",
      "(1, 2.5, (1+3j))\n"
     ]
    }
   ],
   "source": [
    "# rozpakowywanie krotki\n",
    "a,b,c = (1, 2.5, 1+3j)\n",
    "d = (1, 2.5, 1+3j)\n",
    "print(a)\n",
    "print(b)\n",
    "print(c)\n",
    "print(d)"
   ]
  },
  {
   "cell_type": "markdown",
   "metadata": {
    "deletable": false,
    "editable": false,
    "nbgrader": {
     "cell_type": "markdown",
     "checksum": "6229463d08185c07ee1c011c6b7782bf",
     "grade": false,
     "grade_id": "cell-c43f50a835620f3e",
     "locked": true,
     "schema_version": 3,
     "solution": false
    },
    "id": "j0vl3wl3mo5j"
   },
   "source": [
    "Krotka jest obiektem niemodyfikowalnym tzn. nie można przypisać nowego wartości na danej pozycji."
   ]
  },
  {
   "cell_type": "code",
   "execution_count": null,
   "metadata": {
    "colab": {
     "base_uri": "https://localhost:8080/",
     "height": 217
    },
    "id": "laCpW6U-mo5j",
    "executionInfo": {
     "status": "error",
     "timestamp": 1677883787677,
     "user_tz": -60,
     "elapsed": 8,
     "user": {
      "displayName": "Kinga Gajek",
      "userId": "01215373408593541942"
     }
    },
    "outputId": "bafb8d60-dda4-40cc-fc8c-0322a5e3cc4a"
   },
   "outputs": [
    {
     "output_type": "stream",
     "name": "stdout",
     "text": [
      "1\n"
     ]
    },
    {
     "output_type": "error",
     "ename": "TypeError",
     "evalue": "ignored",
     "traceback": [
      "\u001B[0;31m---------------------------------------------------------------------------\u001B[0m",
      "\u001B[0;31mTypeError\u001B[0m                                 Traceback (most recent call last)",
      "\u001B[0;32m<ipython-input-32-68ca2ae0cfb2>\u001B[0m in \u001B[0;36m<module>\u001B[0;34m\u001B[0m\n\u001B[1;32m      1\u001B[0m \u001B[0mk\u001B[0m \u001B[0;34m=\u001B[0m \u001B[0;34m(\u001B[0m\u001B[0;36m1\u001B[0m\u001B[0;34m,\u001B[0m \u001B[0;36m2.5\u001B[0m\u001B[0;34m)\u001B[0m\u001B[0;34m\u001B[0m\u001B[0;34m\u001B[0m\u001B[0m\n\u001B[1;32m      2\u001B[0m \u001B[0mprint\u001B[0m\u001B[0;34m(\u001B[0m\u001B[0mk\u001B[0m\u001B[0;34m[\u001B[0m\u001B[0;36m0\u001B[0m\u001B[0;34m]\u001B[0m\u001B[0;34m)\u001B[0m\u001B[0;34m\u001B[0m\u001B[0;34m\u001B[0m\u001B[0m\n\u001B[0;32m----> 3\u001B[0;31m \u001B[0mk\u001B[0m\u001B[0;34m[\u001B[0m\u001B[0;36m0\u001B[0m\u001B[0;34m]\u001B[0m \u001B[0;34m=\u001B[0m \u001B[0;36m4.5\u001B[0m\u001B[0;34m\u001B[0m\u001B[0;34m\u001B[0m\u001B[0m\n\u001B[0m",
      "\u001B[0;31mTypeError\u001B[0m: 'tuple' object does not support item assignment"
     ]
    }
   ],
   "source": [
    "k = (1, 2.5)\n",
    "print(k[0])\n",
    "k[0] = 4.5"
   ]
  },
  {
   "cell_type": "markdown",
   "metadata": {
    "deletable": false,
    "editable": false,
    "nbgrader": {
     "cell_type": "markdown",
     "checksum": "24f6cce46ac8b55fd4f46de1e37777f7",
     "grade": false,
     "grade_id": "cell-bda034424c17f070",
     "locked": true,
     "schema_version": 3,
     "solution": false
    },
    "id": "b5xwlIstmo5j"
   },
   "source": [
    "#### Typ `str` (łańcuch znaków)"
   ]
  },
  {
   "cell_type": "code",
   "execution_count": null,
   "metadata": {
    "colab": {
     "base_uri": "https://localhost:8080/"
    },
    "id": "fekU51d_mo5j",
    "executionInfo": {
     "status": "ok",
     "timestamp": 1677883791456,
     "user_tz": -60,
     "elapsed": 245,
     "user": {
      "displayName": "Kinga Gajek",
      "userId": "01215373408593541942"
     }
    },
    "outputId": "dba85d7c-62da-4236-deda-a4eb48ffbbab"
   },
   "outputs": [
    {
     "output_type": "stream",
     "name": "stdout",
     "text": [
      "Witaj świecie\n"
     ]
    },
    {
     "output_type": "execute_result",
     "data": {
      "text/plain": [
       "str"
      ]
     },
     "metadata": {},
     "execution_count": 33
    }
   ],
   "source": [
    "z = 'Witaj świecie'\n",
    "print(z)\n",
    "type(z)"
   ]
  },
  {
   "cell_type": "code",
   "execution_count": null,
   "metadata": {
    "colab": {
     "base_uri": "https://localhost:8080/",
     "height": 165
    },
    "id": "XBwNSlB3mo5k",
    "executionInfo": {
     "status": "error",
     "timestamp": 1677883750481,
     "user_tz": -60,
     "elapsed": 222,
     "user": {
      "displayName": "Kinga Gajek",
      "userId": "01215373408593541942"
     }
    },
    "outputId": "db6b8272-35b2-44a0-e14d-87db5d0b7cfc"
   },
   "outputs": [
    {
     "output_type": "error",
     "ename": "AttributeError",
     "evalue": "ignored",
     "traceback": [
      "\u001B[0;31m---------------------------------------------------------------------------\u001B[0m",
      "\u001B[0;31mAttributeError\u001B[0m                            Traceback (most recent call last)",
      "\u001B[0;32m<ipython-input-21-530ec327fe53>\u001B[0m in \u001B[0;36m<module>\u001B[0;34m\u001B[0m\n\u001B[0;32m----> 1\u001B[0;31m \u001B[0mprint\u001B[0m\u001B[0;34m(\u001B[0m\u001B[0mz\u001B[0m\u001B[0;34m.\u001B[0m\u001B[0mupper\u001B[0m\u001B[0;34m(\u001B[0m\u001B[0;34m)\u001B[0m\u001B[0;34m)\u001B[0m\u001B[0;34m\u001B[0m\u001B[0;34m\u001B[0m\u001B[0m\n\u001B[0m",
      "\u001B[0;31mAttributeError\u001B[0m: 'float' object has no attribute 'upper'"
     ]
    }
   ],
   "source": [
    "print(z.upper())"
   ]
  },
  {
   "cell_type": "markdown",
   "metadata": {
    "deletable": false,
    "editable": false,
    "nbgrader": {
     "cell_type": "markdown",
     "checksum": "8bb3b764b9b156001ccc3e9dd81a5204",
     "grade": false,
     "grade_id": "cell-12b6fd3d31a5e83e",
     "locked": true,
     "schema_version": 3,
     "solution": false
    },
    "id": "q52NqZvCmo5k"
   },
   "source": [
    "### Operatory arytmetyczne (`+, -, *, /, //, **, %`)"
   ]
  },
  {
   "cell_type": "code",
   "execution_count": null,
   "metadata": {
    "colab": {
     "base_uri": "https://localhost:8080/"
    },
    "id": "chztkTY5mo5k",
    "executionInfo": {
     "status": "ok",
     "timestamp": 1677883747968,
     "user_tz": -60,
     "elapsed": 229,
     "user": {
      "displayName": "Kinga Gajek",
      "userId": "01215373408593541942"
     }
    },
    "outputId": "3687a015-7ffc-469f-f848-f9ce899c332a"
   },
   "outputs": [
    {
     "output_type": "stream",
     "name": "stdout",
     "text": [
      "7\n",
      "-3\n",
      "10\n",
      "0.4\n",
      "0\n",
      "32\n",
      "2\n"
     ]
    }
   ],
   "source": [
    "# dwie liczby typu int\n",
    "a = 2\n",
    "b = 5\n",
    "print(a+b)\n",
    "print(a-b)\n",
    "print(a*b)\n",
    "print(a/b) # rzutuje na float\n",
    "print(a//b) # int\n",
    "print(a**b) # potęgowanie\n",
    "print(a%b) # reszta z dzielenia, modulo"
   ]
  },
  {
   "cell_type": "markdown",
   "metadata": {
    "deletable": false,
    "editable": false,
    "nbgrader": {
     "cell_type": "markdown",
     "checksum": "5302a0787c535f96ee7a26a3cac7fa6d",
     "grade": false,
     "grade_id": "cell-21476b07590d5ca6",
     "locked": true,
     "schema_version": 3,
     "solution": false
    },
    "id": "8bD9EiLTmo5k"
   },
   "source": [
    "Operatory arytmetyczne definiowane są również dla prawie wszystkich typów danych nie tylko liczbowych. Co ważne, Python jest silnie typowany co oznacza m.in., że nie można dowolnie łączyć typów w operacjach arytmetycznych."
   ]
  },
  {
   "cell_type": "code",
   "execution_count": null,
   "metadata": {
    "colab": {
     "base_uri": "https://localhost:8080/",
     "height": 165
    },
    "id": "yRGYm6xdmo5k",
    "executionInfo": {
     "status": "error",
     "timestamp": 1677883741536,
     "user_tz": -60,
     "elapsed": 24,
     "user": {
      "displayName": "Kinga Gajek",
      "userId": "01215373408593541942"
     }
    },
    "outputId": "460b9dc1-e9c6-4ead-f185-15012d1ceaa0"
   },
   "outputs": [
    {
     "output_type": "error",
     "ename": "TypeError",
     "evalue": "ignored",
     "traceback": [
      "\u001B[0;31m---------------------------------------------------------------------------\u001B[0m",
      "\u001B[0;31mTypeError\u001B[0m                                 Traceback (most recent call last)",
      "\u001B[0;32m<ipython-input-19-b9051abaf34a>\u001B[0m in \u001B[0;36m<module>\u001B[0;34m\u001B[0m\n\u001B[0;32m----> 1\u001B[0;31m \u001B[0;36m2.5\u001B[0m \u001B[0;34m+\u001B[0m \u001B[0;34m'a'\u001B[0m\u001B[0;34m\u001B[0m\u001B[0;34m\u001B[0m\u001B[0m\n\u001B[0m",
      "\u001B[0;31mTypeError\u001B[0m: unsupported operand type(s) for +: 'float' and 'str'"
     ]
    }
   ],
   "source": [
    "2.5 + 'a'"
   ]
  },
  {
   "cell_type": "markdown",
   "metadata": {
    "deletable": false,
    "editable": false,
    "nbgrader": {
     "cell_type": "markdown",
     "checksum": "994608a070731fe84f3130726f1fab06",
     "grade": false,
     "grade_id": "cell-86c09924fd76d0c0",
     "locked": true,
     "schema_version": 3,
     "solution": false
    },
    "id": "JDTtGsyTmo5l"
   },
   "source": [
    "Jednak dla niektórych typów działa tak zwana konwersja niejawna (rzutowanie na obiekt klasy \"nadrzędnej\")"
   ]
  },
  {
   "cell_type": "code",
   "execution_count": null,
   "metadata": {
    "colab": {
     "base_uri": "https://localhost:8080/"
    },
    "id": "gn7WFNNamo5l",
    "executionInfo": {
     "status": "ok",
     "timestamp": 1677883738944,
     "user_tz": -60,
     "elapsed": 219,
     "user": {
      "displayName": "Kinga Gajek",
      "userId": "01215373408593541942"
     }
    },
    "outputId": "45fb9c57-f9c3-4e2c-e385-c57b72996460"
   },
   "outputs": [
    {
     "output_type": "stream",
     "name": "stdout",
     "text": [
      "(4.5-3j)\n"
     ]
    },
    {
     "output_type": "execute_result",
     "data": {
      "text/plain": [
       "complex"
      ]
     },
     "metadata": {},
     "execution_count": 18
    }
   ],
   "source": [
    "a = 2.5 + (2-3j)\n",
    "print(a)\n",
    "type(a)"
   ]
  },
  {
   "cell_type": "markdown",
   "metadata": {
    "deletable": false,
    "editable": false,
    "nbgrader": {
     "cell_type": "markdown",
     "checksum": "d55b67a02179accb098eadb6b1099e80",
     "grade": false,
     "grade_id": "cell-7dcdef43c03e1d17",
     "locked": true,
     "schema_version": 3,
     "solution": false
    },
    "id": "K1FRgd-gmo5l"
   },
   "source": [
    "### Operatory porównania ( `==`, `>`, `>=`, `<`, `<=`, `!=`)\n",
    "Zawsze zwracany jest typ `bool` (True, False)."
   ]
  },
  {
   "cell_type": "code",
   "execution_count": null,
   "metadata": {
    "colab": {
     "base_uri": "https://localhost:8080/"
    },
    "id": "8LK7as2Omo5l",
    "executionInfo": {
     "status": "ok",
     "timestamp": 1677883736763,
     "user_tz": -60,
     "elapsed": 232,
     "user": {
      "displayName": "Kinga Gajek",
      "userId": "01215373408593541942"
     }
    },
    "outputId": "a3f4f9ef-d630-4767-f8ec-be370c89d7e0"
   },
   "outputs": [
    {
     "output_type": "stream",
     "name": "stdout",
     "text": [
      "False\n",
      "True\n",
      "True\n"
     ]
    }
   ],
   "source": [
    "print(2==3)\n",
    "print(2!=3)\n",
    "print(2<3)"
   ]
  },
  {
   "cell_type": "markdown",
   "metadata": {
    "deletable": false,
    "editable": false,
    "nbgrader": {
     "cell_type": "markdown",
     "checksum": "4f985cf71dd1d58dd36a164913eba8f4",
     "grade": false,
     "grade_id": "cell-914a8c5c273d05e0",
     "locked": true,
     "schema_version": 3,
     "solution": false,
     "task": false
    },
    "id": "JHK9XjU0mo5l"
   },
   "source": [
    "### Operatory logiczne `and`, `or` i `not`\n",
    "Używając operatorów `and`, `or` i `not` tworzymy wyrażenia boolowskie."
   ]
  },
  {
   "cell_type": "code",
   "execution_count": null,
   "metadata": {
    "colab": {
     "base_uri": "https://localhost:8080/"
    },
    "id": "8jXXNcSBmo5m",
    "executionInfo": {
     "status": "ok",
     "timestamp": 1677883732035,
     "user_tz": -60,
     "elapsed": 202,
     "user": {
      "displayName": "Kinga Gajek",
      "userId": "01215373408593541942"
     }
    },
    "outputId": "88319913-87c8-4b63-ddff-663057e5e142"
   },
   "outputs": [
    {
     "output_type": "stream",
     "name": "stdout",
     "text": [
      "10 True; 10 True\n"
     ]
    }
   ],
   "source": [
    "# warunkiem może być dowolne wyrażenie zwracające True lub False\n",
    "a = 10\n",
    "b = a < 20 and a >5\n",
    "print(a, b, end='; ')\n",
    "    \n",
    "# to samo mozemy zapisać prościej\n",
    "b = 5 < a < 20\n",
    "print(a, b)"
   ]
  },
  {
   "cell_type": "markdown",
   "metadata": {
    "deletable": false,
    "editable": false,
    "nbgrader": {
     "cell_type": "markdown",
     "checksum": "82a36464120423834d0cfe15c1ac66a2",
     "grade": false,
     "grade_id": "cell-b2d20edd2c74329d",
     "locked": true,
     "schema_version": 3,
     "solution": false
    },
    "id": "fROr3Li-mo5m"
   },
   "source": [
    "### Operatory `is`, `is not` oraz słowo kluczowe `None`"
   ]
  },
  {
   "cell_type": "code",
   "execution_count": null,
   "metadata": {
    "colab": {
     "base_uri": "https://localhost:8080/"
    },
    "id": "XotnEbaQmo5m",
    "executionInfo": {
     "status": "ok",
     "timestamp": 1677883728970,
     "user_tz": -60,
     "elapsed": 258,
     "user": {
      "displayName": "Kinga Gajek",
      "userId": "01215373408593541942"
     }
    },
    "outputId": "904a7146-3367-403b-811a-f79a44d9d04e"
   },
   "outputs": [
    {
     "output_type": "stream",
     "name": "stdout",
     "text": [
      "False\n",
      "False\n",
      "True\n",
      "True\n"
     ]
    }
   ],
   "source": [
    "a = 2000000000000000000\n",
    "b = 3\n",
    "c = 2000000000000000000\n",
    "print(a is b)\n",
    "print(a is c)\n",
    "print(b is not c)\n",
    "d = None  # None oznacza 'nic', pusty obiekt\n",
    "print(d is None)"
   ]
  },
  {
   "cell_type": "markdown",
   "metadata": {
    "deletable": false,
    "editable": false,
    "nbgrader": {
     "cell_type": "markdown",
     "checksum": "d1bd7ad545ceef2d6a5ffa924bf88943",
     "grade": false,
     "grade_id": "cell-8321d8171abc7fb0",
     "locked": true,
     "schema_version": 3,
     "solution": false
    },
    "id": "LULJ9eVfmo5n"
   },
   "source": [
    "### Biblioteka matematyczna `math`.\n",
    "W Python wbudowane są niektóre podstawowe finkcje matematyczne, taki jak `abs`, `min`, `max`, `sum`, `pow`. Inne znaleźć można w bibliotece (module) `math`. Import bibliotek (modułów, pakietów) w języku Python dokonuje się za pomocą słowa kluczowego `import`."
   ]
  },
  {
   "cell_type": "code",
   "execution_count": null,
   "metadata": {
    "colab": {
     "base_uri": "https://localhost:8080/"
    },
    "id": "AuXmXU5Vmo5n",
    "executionInfo": {
     "status": "ok",
     "timestamp": 1677883714144,
     "user_tz": -60,
     "elapsed": 7,
     "user": {
      "displayName": "Kinga Gajek",
      "userId": "01215373408593541942"
     }
    },
    "outputId": "64fa66a5-4011-4e9b-ad56-476f6595d3a0"
   },
   "outputs": [
    {
     "output_type": "stream",
     "name": "stdout",
     "text": [
      "-4\n",
      "5.5\n"
     ]
    },
    {
     "output_type": "execute_result",
     "data": {
      "text/plain": [
       "4"
      ]
     },
     "metadata": {},
     "execution_count": 11
    }
   ],
   "source": [
    "print(min(1,2,-4,2))\n",
    "print(max(2, 1.4, 3, 5.5))\n",
    "abs(-4)"
   ]
  },
  {
   "cell_type": "code",
   "execution_count": null,
   "metadata": {
    "id": "MzmPSIecmo5n"
   },
   "outputs": [],
   "source": [
    "# aby wczytać pakiet math wpisujemy\n",
    "import math\n",
    "# możemy zaimportowac tylko wybrane funkcje\n",
    "from math import sin, cos"
   ]
  },
  {
   "cell_type": "code",
   "execution_count": null,
   "metadata": {
    "colab": {
     "base_uri": "https://localhost:8080/"
    },
    "id": "uxpYeSZkmo5n",
    "executionInfo": {
     "status": "ok",
     "timestamp": 1677883721663,
     "user_tz": -60,
     "elapsed": 250,
     "user": {
      "displayName": "Kinga Gajek",
      "userId": "01215373408593541942"
     }
    },
    "outputId": "670fc740-612c-4b36-a80f-ffbff8de27b1"
   },
   "outputs": [
    {
     "output_type": "execute_result",
     "data": {
      "text/plain": [
       "0.0"
      ]
     },
     "metadata": {},
     "execution_count": 13
    }
   ],
   "source": [
    "math.log(1)"
   ]
  },
  {
   "cell_type": "code",
   "execution_count": null,
   "metadata": {
    "colab": {
     "base_uri": "https://localhost:8080/"
    },
    "id": "NJiASXk1mo5o",
    "executionInfo": {
     "status": "ok",
     "timestamp": 1677883723007,
     "user_tz": -60,
     "elapsed": 6,
     "user": {
      "displayName": "Kinga Gajek",
      "userId": "01215373408593541942"
     }
    },
    "outputId": "bc142f44-2b54-42de-e694-ddb8e848c4ab"
   },
   "outputs": [
    {
     "output_type": "execute_result",
     "data": {
      "text/plain": [
       "1.0"
      ]
     },
     "metadata": {},
     "execution_count": 14
    }
   ],
   "source": [
    "sin(math.radians(90))"
   ]
  },
  {
   "cell_type": "markdown",
   "metadata": {
    "deletable": false,
    "editable": false,
    "nbgrader": {
     "cell_type": "markdown",
     "checksum": "aa4c6f61c7643acd52f8fd176ddb4ce4",
     "grade": false,
     "grade_id": "cell-069dab1962069f6a",
     "locked": true,
     "schema_version": 3,
     "solution": false
    },
    "id": "YiF0iPU_mo5o"
   },
   "source": [
    "### Wprowadzanie wartości z klawiatury `input()`\n",
    "Funkcja `input()` zwraca obiekt typi `str` (łańcuch znaków/napis). Wobec czego jeśli chcemy wprowadzić liczbę musimy ją po wczytaniu skonwertować na odpowiedni typ stosują metody `int()`, `float()` lub `complex()`. "
   ]
  },
  {
   "cell_type": "code",
   "execution_count": null,
   "metadata": {
    "colab": {
     "base_uri": "https://localhost:8080/"
    },
    "id": "qP0wR13mmo5o",
    "executionInfo": {
     "status": "ok",
     "timestamp": 1677883705962,
     "user_tz": -60,
     "elapsed": 8043,
     "user": {
      "displayName": "Kinga Gajek",
      "userId": "01215373408593541942"
     }
    },
    "outputId": "03b4bb97-3009-4c71-e26f-59aa16aa998a"
   },
   "outputs": [
    {
     "output_type": "stream",
     "name": "stdout",
     "text": [
      "65\n",
      "Wprowadzona wartość to: 65\n",
      "Typ wprowadzonej wartości: <class 'str'>\n"
     ]
    }
   ],
   "source": [
    "a = input()\n",
    "print('Wprowadzona wartość to:', a)\n",
    "print('Typ wprowadzonej wartości:', type(a))"
   ]
  },
  {
   "cell_type": "markdown",
   "metadata": {
    "deletable": false,
    "editable": false,
    "nbgrader": {
     "cell_type": "markdown",
     "checksum": "ffff7402309847b4f955c74eb15ac660",
     "grade": false,
     "grade_id": "cell-0357313d335f2b43",
     "locked": true,
     "schema_version": 3,
     "solution": false
    },
    "id": "yGmOP9jkmo5o"
   },
   "source": [
    "### Ćwiczenie 1:\n",
    "Napisz program, który dla podanej liczby rzeczywistej zwróci licznik i mianownik z ułamka zwykłego tej liczby. \n",
    "#### Rozwiązanie:"
   ]
  },
  {
   "cell_type": "code",
   "execution_count": null,
   "metadata": {
    "colab": {
     "base_uri": "https://localhost:8080/"
    },
    "id": "WziQgV2imo5o",
    "executionInfo": {
     "status": "ok",
     "timestamp": 1677882939740,
     "user_tz": -60,
     "elapsed": 4524,
     "user": {
      "displayName": "Kinga Gajek",
      "userId": "01215373408593541942"
     }
    },
    "outputId": "5b78fba6-480c-48ec-a23a-dbcde6f9476f"
   },
   "outputs": [
    {
     "output_type": "stream",
     "name": "stdout",
     "text": [
      "Podaj liczbe rzeczywistą: \n",
      "3\n",
      "Licznik: 3\n",
      "Mianownik: 1\n"
     ]
    }
   ],
   "source": [
    "print('Podaj liczbe rzeczywistą: ')\n",
    "a = input()\n",
    "a = float(a)\n",
    "b = a.as_integer_ratio()\n",
    "print('Licznik:', b[0])\n",
    "print('Mianownik:', b[1])"
   ]
  },
  {
   "cell_type": "markdown",
   "metadata": {
    "deletable": false,
    "editable": false,
    "nbgrader": {
     "cell_type": "markdown",
     "checksum": "6493f94b29955cecebd8efb557c9005c",
     "grade": false,
     "grade_id": "cell-01780820da67534e",
     "locked": true,
     "schema_version": 3,
     "solution": false
    },
    "id": "3AmGpyUymo5p"
   },
   "source": [
    "### Ćwiczenie 2\n",
    "Napisz program, który przeczyta ze standartowego wejścia dwie liczby rzeczywiste i zapisze je kolejno w zmiennych $x$, $z$ typu `float`, przeczyta dwie liczby całkowite i zapisze je w zmiennych $i$, $j$ typu `int`, a następnie obliczy wartości następujących wyrażeń arytmetycznych:\n",
    "$$w=\\sqrt[3]{\\frac{x+2}{i}}  \\sin^{j}(x^2+z^2)$$\n",
    "$$v={\\frac{\\ln x^2+2x^2+z^{-2}}{(x+z)i}}+\\frac{i}{j} $$\n",
    "\n",
    "\n",
    "Dla $x=1.5, z=2.3, i=2, j=3\\ $ wyrażenia te mają wartości:\n",
    "\n",
    "$w = 1.036828279188784,\\quad v = 1.3903464210141043$"
   ]
  },
  {
   "cell_type": "code",
   "execution_count": null,
   "metadata": {
    "deletable": false,
    "nbgrader": {
     "cell_type": "code",
     "checksum": "7261fcf87555820dbf0f79bc887d3e14",
     "grade": true,
     "grade_id": "cell-4478774f5480718b",
     "locked": false,
     "points": 0,
     "schema_version": 3,
     "solution": true,
     "task": false
    },
    "colab": {
     "base_uri": "https://localhost:8080/"
    },
    "id": "LblG51Jimo5p",
    "executionInfo": {
     "status": "ok",
     "timestamp": 1677883646272,
     "user_tz": -60,
     "elapsed": 9047,
     "user": {
      "displayName": "Kinga Gajek",
      "userId": "01215373408593541942"
     }
    },
    "outputId": "4527cb11-b056-4ae7-b6b4-ad7df4906f4a"
   },
   "outputs": [
    {
     "output_type": "stream",
     "name": "stdout",
     "text": [
      "x = 1.5\n",
      "z = 2.3\n",
      "i = 2\n",
      "j = 3\n",
      "w = 1.036828279188784\n",
      "v = 1.3903464210141043\n"
     ]
    }
   ],
   "source": [
    "import math\n",
    "x = input(\"x = \")\n",
    "x = float(x)\n",
    "z = input(\"z = \")\n",
    "z = float(z)\n",
    "i = input(\"i = \")\n",
    "i = int(i)\n",
    "j = input(\"j = \")\n",
    "j = int(j)\n",
    "w = pow(((x+2)/i), 1.0/3) * pow(math.sin(pow(x,2) + pow(z,2)), j)\n",
    "print(\"w =\", w)\n",
    "v = (math.log(pow(x, 2)) + 2*pow(x, 2) + pow(z, -2)) / ((x+z)*i) + i/j\n",
    "print(\"v =\", v)"
   ]
  },
  {
   "cell_type": "markdown",
   "metadata": {
    "deletable": false,
    "editable": false,
    "nbgrader": {
     "cell_type": "markdown",
     "checksum": "03dba65a46b0e0bf14882f83b0e2dcc5",
     "grade": false,
     "grade_id": "cell-b21531a0b0d3d258",
     "locked": true,
     "schema_version": 3,
     "solution": false
    },
    "id": "w3gcwFYRmo5p"
   },
   "source": [
    "### Temat: Praca z tekstem, Typ `str`.\n",
    "\n",
    "### Definiowanie tekstu\n",
    "Tekst w języku Python definiujemy w apostrofach `'` lub cudzysłowach `\"`. Do definiowania tekstów w więcej niż jednej linijce używamy potrójnych apostrofów `'''` bądź cudzysłowiów `\"\"\"`. Tekst możemy również przypisywać do zmiennych."
   ]
  },
  {
   "cell_type": "code",
   "execution_count": null,
   "metadata": {
    "colab": {
     "base_uri": "https://localhost:8080/"
    },
    "id": "msTuaokumo5p",
    "executionInfo": {
     "status": "ok",
     "timestamp": 1677883801001,
     "user_tz": -60,
     "elapsed": 204,
     "user": {
      "displayName": "Kinga Gajek",
      "userId": "01215373408593541942"
     }
    },
    "outputId": "457f61aa-db23-4192-968e-db3c9d4a4a31"
   },
   "outputs": [
    {
     "output_type": "stream",
     "name": "stdout",
     "text": [
      "tekst w apostrofach\n",
      "tekst w cudzysłowach\n",
      "<class 'str'> <class 'str'>\n"
     ]
    }
   ],
   "source": [
    "napis1 = 'tekst w apostrofach'\n",
    "napis2 = \"tekst w cudzysłowach\"\n",
    "print(napis1)\n",
    "print(napis2)\n",
    "print(type(napis1), type(napis2))"
   ]
  },
  {
   "cell_type": "code",
   "execution_count": null,
   "metadata": {
    "colab": {
     "base_uri": "https://localhost:8080/"
    },
    "id": "hCdUCsMemo5p",
    "executionInfo": {
     "status": "ok",
     "timestamp": 1677883804058,
     "user_tz": -60,
     "elapsed": 228,
     "user": {
      "displayName": "Kinga Gajek",
      "userId": "01215373408593541942"
     }
    },
    "outputId": "f0819076-da08-4ac3-8fa6-b2ae61c88d5b"
   },
   "outputs": [
    {
     "output_type": "stream",
     "name": "stdout",
     "text": [
      "To jest tekst\n",
      "w więcej niż \n",
      "jednej linijce\n"
     ]
    }
   ],
   "source": [
    "napis3 = '''To jest tekst\n",
    "w więcej niż \n",
    "jednej linijce'''\n",
    "print(napis3)"
   ]
  },
  {
   "cell_type": "markdown",
   "metadata": {
    "deletable": false,
    "editable": false,
    "nbgrader": {
     "cell_type": "markdown",
     "checksum": "ec62699796d32343aee0a659f7af9aed",
     "grade": false,
     "grade_id": "cell-d9792267dd70719f",
     "locked": true,
     "schema_version": 3,
     "solution": false
    },
    "id": "iC9CALyMmo5q"
   },
   "source": [
    "Jak widać na powyższym przykładzie nie ma problemów z literami polskimi takimi jak `ą, ć, ł` itp. Winika to z tego, że domyślnie w Python 3 (inaczej niż w Python 2) znaki kodowane są za pomoca kodowania `Unicode (16-bit)`, a nie jak w więkdzości innych języków programowania `ASCII (8-bit)`.\n",
    "Aby zdefiniować tekst i narzucić mu kodowanie `ASCII` wystarczy przed apostrofem lub cudzysłowem postawić literę `b`."
   ]
  },
  {
   "cell_type": "code",
   "execution_count": null,
   "metadata": {
    "id": "C9EzCRf3mo5q"
   },
   "outputs": [],
   "source": [
    "# Unicode\n",
    "print('Śliczny')\n",
    "# ASCII\n",
    "print(b'Sliczny')"
   ]
  },
  {
   "cell_type": "markdown",
   "metadata": {
    "deletable": false,
    "editable": false,
    "nbgrader": {
     "cell_type": "markdown",
     "checksum": "04b196af84b232f9e9deda381d794851",
     "grade": false,
     "grade_id": "cell-b003716c08c8fdc1",
     "locked": true,
     "schema_version": 3,
     "solution": false
    },
    "id": "z-PZCZ5Omo5q"
   },
   "source": [
    "Próba zdefiniowania tesksu zawierającego polskie znaki z kodowaniem `ASCII` zakończy się wyrzuceniem błędu."
   ]
  },
  {
   "cell_type": "code",
   "execution_count": null,
   "metadata": {
    "colab": {
     "base_uri": "https://localhost:8080/",
     "height": 130
    },
    "id": "5BiAUPr5mo5q",
    "executionInfo": {
     "status": "error",
     "timestamp": 1677883834277,
     "user_tz": -60,
     "elapsed": 9,
     "user": {
      "displayName": "Kinga Gajek",
      "userId": "01215373408593541942"
     }
    },
    "outputId": "59e328dd-9e58-4047-b720-637acddd3bc2"
   },
   "outputs": [
    {
     "output_type": "error",
     "ename": "SyntaxError",
     "evalue": "ignored",
     "traceback": [
      "\u001B[0;36m  File \u001B[0;32m\"<ipython-input-36-92df9ffb83af>\"\u001B[0;36m, line \u001B[0;32m1\u001B[0m\n\u001B[0;31m    print(b'Śliczny')\u001B[0m\n\u001B[0m          ^\u001B[0m\n\u001B[0;31mSyntaxError\u001B[0m\u001B[0;31m:\u001B[0m bytes can only contain ASCII literal characters.\n"
     ]
    }
   ],
   "source": [
    "print(b'Śliczny')"
   ]
  },
  {
   "cell_type": "markdown",
   "metadata": {
    "deletable": false,
    "editable": false,
    "nbgrader": {
     "cell_type": "markdown",
     "checksum": "bd99344a2c17df4f3db8fad527700b24",
     "grade": false,
     "grade_id": "cell-11d15726331efec1",
     "locked": true,
     "schema_version": 3,
     "solution": false
    },
    "id": "-FEkz_z1mo5q"
   },
   "source": [
    "### Znaki specjalne (sekwencje sterujące)\n",
    "Domyślnie rozpoznawane i interpretowane sa znaki specjalne (sekwencje sterujące) takie jak np.:\n",
    "- `\\a` - alarm (sygnał akustyczny terminala)\n",
    "- `\\b` - backspace (usuwa poprzedzający znak)\n",
    "- `\\f` - wysuniecie strony (np. w drukarce)\n",
    "- `\\r` - powrót kursora (karetki) do początku wiersza\n",
    "- `\\n` - znak nowego wiersza\n",
    "- `\\t` - tabulacja pozioma\n",
    "- `\\v` - tabulacja pionowa\n",
    "- `\\nnn` - liczba zapisana w systemie oktalnym (ósemkowym), gdzie 'nnn' należy zastąpić trzycyfrową liczbą w tym systemie\n",
    "- `\\xnn` - liczba zapisana w systemie heksadecymalnym (szesnastkowym), gdzie 'nn' należy zastąpić dwucyfrową liczbą w tym systemie"
   ]
  },
  {
   "cell_type": "code",
   "execution_count": null,
   "metadata": {
    "colab": {
     "base_uri": "https://localhost:8080/"
    },
    "id": "pbo-7WAemo5r",
    "executionInfo": {
     "status": "ok",
     "timestamp": 1677883867469,
     "user_tz": -60,
     "elapsed": 256,
     "user": {
      "displayName": "Kinga Gajek",
      "userId": "01215373408593541942"
     }
    },
    "outputId": "1709b41d-af6e-43bb-f127-682f797b7edb"
   },
   "outputs": [
    {
     "output_type": "stream",
     "name": "stdout",
     "text": [
      " Poznajemy podstawowe typy danych\n",
      "\t i instrukcje sterujące używane w\n",
      "języku Python\n"
     ]
    }
   ],
   "source": [
    "print(' Poznajemy podstawowe typy danych\\n\\t i instrukcje sterujące używane w\\njęzyku Python')"
   ]
  },
  {
   "cell_type": "markdown",
   "metadata": {
    "deletable": false,
    "editable": false,
    "nbgrader": {
     "cell_type": "markdown",
     "checksum": "632456ee485ec14e5b2f6d024d936442",
     "grade": false,
     "grade_id": "cell-783d71e00a052b6c",
     "locked": true,
     "schema_version": 3,
     "solution": false
    },
    "id": "4Bds9Hwamo5r"
   },
   "source": [
    "Jak widać znaki `\\, ', \"` mają specjalne znaczenie, aby użyć ich w tekscie należy zamaskować ich działanie stosując znak `\\`, np. \n",
    "- `\\\"` - cudzysłów\n",
    "- `\\'` - apostrof\n",
    "- `\\\\` - ukośnik wsteczny (backslash)"
   ]
  },
  {
   "cell_type": "code",
   "execution_count": null,
   "metadata": {
    "colab": {
     "base_uri": "https://localhost:8080/"
    },
    "id": "ks_OMtrqmo5r",
    "executionInfo": {
     "status": "ok",
     "timestamp": 1677883880975,
     "user_tz": -60,
     "elapsed": 272,
     "user": {
      "displayName": "Kinga Gajek",
      "userId": "01215373408593541942"
     }
    },
    "outputId": "92e37c41-d72c-4840-a031-818462e16b2c"
   },
   "outputs": [
    {
     "output_type": "stream",
     "name": "stdout",
     "text": [
      "Poznajemy podstawowe typy danych i instrukcje sterujące używane w języku \"Python\"\n"
     ]
    }
   ],
   "source": [
    "print('Poznajemy podstawowe typy danych i instrukcje sterujące używane w języku \\\"Python\\\"')"
   ]
  },
  {
   "cell_type": "markdown",
   "metadata": {
    "deletable": false,
    "editable": false,
    "nbgrader": {
     "cell_type": "markdown",
     "checksum": "768d994fb0cf0c226ea6c2edfdb9865a",
     "grade": false,
     "grade_id": "cell-13bca2b2ca90a1b9",
     "locked": true,
     "schema_version": 3,
     "solution": false
    },
    "id": "FfiBKvGumo5r"
   },
   "source": [
    "### Surowy tekst (raw strings)\n",
    "Aby w całym tekscie potraktować znaki specjalne jak zwykłe znaki wystarczy przed apostrofem lub cudzysłowem wstawić znak `r`. Często wykorzystywane np. przy scieżkach do plików."
   ]
  },
  {
   "cell_type": "code",
   "execution_count": null,
   "metadata": {
    "colab": {
     "base_uri": "https://localhost:8080/"
    },
    "id": "p7B_AsDBmo5r",
    "executionInfo": {
     "status": "ok",
     "timestamp": 1677883884628,
     "user_tz": -60,
     "elapsed": 227,
     "user": {
      "displayName": "Kinga Gajek",
      "userId": "01215373408593541942"
     }
    },
    "outputId": "a802ba6c-748e-49a8-9308-654cdc639fc4"
   },
   "outputs": [
    {
     "output_type": "stream",
     "name": "stdout",
     "text": [
      "   Poznajemy podstawowe typy danych\n",
      "\t i instrukcje sterujące\n",
      "używane w języku \"Python\"\n",
      "   Poznajemy podstawowe typy danych\\n\\t i instrukcje sterujące\\nużywane w języku \\\"Python\\\"\n"
     ]
    }
   ],
   "source": [
    "print('   Poznajemy podstawowe typy danych\\n\\t i instrukcje sterujące\\nużywane w języku \\\"Python\\\"')\n",
    "print(r'   Poznajemy podstawowe typy danych\\n\\t i instrukcje sterujące\\nużywane w języku \\\"Python\\\"')"
   ]
  },
  {
   "cell_type": "markdown",
   "metadata": {
    "deletable": false,
    "editable": false,
    "nbgrader": {
     "cell_type": "markdown",
     "checksum": "fe387567fe880ac50c5df704d45369b3",
     "grade": false,
     "grade_id": "cell-c415c9d17d13ce88",
     "locked": true,
     "schema_version": 3,
     "solution": false
    },
    "id": "1GdGpXapmo5s"
   },
   "source": [
    "### Dostęp do poszczególnych znaków i plasterkowanie (slicing) tekstu\n",
    "Z tekstu możemy wybierac pojedyńcze znaki lub fragment teksu. Aby wybrać dowolny znak z tekstu należy użyć metody wbudowanej  `__getitem__` lub prościej operatora `[]`."
   ]
  },
  {
   "cell_type": "code",
   "execution_count": null,
   "metadata": {
    "colab": {
     "base_uri": "https://localhost:8080/"
    },
    "id": "4siVBE3Nmo5s",
    "executionInfo": {
     "status": "ok",
     "timestamp": 1677883900194,
     "user_tz": -60,
     "elapsed": 256,
     "user": {
      "displayName": "Kinga Gajek",
      "userId": "01215373408593541942"
     }
    },
    "outputId": "b73c13df-d183-42d8-c879-91a2de103038"
   },
   "outputs": [
    {
     "output_type": "stream",
     "name": "stdout",
     "text": [
      "I\n",
      "o\n"
     ]
    }
   ],
   "source": [
    "s = 'Informatyka'\n",
    "print(s.__getitem__(0)) # numeracja od 0\n",
    "print(s[3])"
   ]
  },
  {
   "cell_type": "markdown",
   "metadata": {
    "deletable": false,
    "editable": false,
    "nbgrader": {
     "cell_type": "markdown",
     "checksum": "1f5b1021bd9d6291d70d76eba7d67648",
     "grade": false,
     "grade_id": "cell-8bc25f24846c7644",
     "locked": true,
     "schema_version": 3,
     "solution": false
    },
    "id": "6dfLKvhmmo5s"
   },
   "source": [
    "Podanie indeksu większego niż liczba znaków skończy się wyrzyceniem błędu.\n",
    "\n",
    "Możemy numerować pozycje od końca, wstawiając liczby ujemne."
   ]
  },
  {
   "cell_type": "code",
   "execution_count": null,
   "metadata": {
    "colab": {
     "base_uri": "https://localhost:8080/"
    },
    "id": "EO8GKXZmmo5t",
    "executionInfo": {
     "status": "ok",
     "timestamp": 1677883912896,
     "user_tz": -60,
     "elapsed": 228,
     "user": {
      "displayName": "Kinga Gajek",
      "userId": "01215373408593541942"
     }
    },
    "outputId": "f15b0ba9-7f50-4283-b17b-28b14992a4a0"
   },
   "outputs": [
    {
     "output_type": "stream",
     "name": "stdout",
     "text": [
      "a\n",
      "y\n"
     ]
    }
   ],
   "source": [
    "print(s[-1]) # ostatni znak\n",
    "print(s[-3]) # znak trzeci od końca"
   ]
  },
  {
   "cell_type": "markdown",
   "metadata": {
    "deletable": false,
    "editable": false,
    "nbgrader": {
     "cell_type": "markdown",
     "checksum": "5b16476386c22d1fb6c889e598c3bad4",
     "grade": false,
     "grade_id": "cell-938fdf109c7007af",
     "locked": true,
     "schema_version": 3,
     "solution": false
    },
    "id": "A5mpXw3nmo5t"
   },
   "source": [
    "Aby wybrać fragment tekstu należy użyć konstrukcji `[s:e:k]`, gdzie `s` to pozycja pierwszego znaku który chcemy wybrać, `e` to pozycja pierwszego znaku którego nie chcemy wybrać, `k` to krok z jakim wybieramy znaki."
   ]
  },
  {
   "cell_type": "code",
   "execution_count": null,
   "metadata": {
    "colab": {
     "base_uri": "https://localhost:8080/"
    },
    "id": "auS0ESpkmo5u",
    "executionInfo": {
     "status": "ok",
     "timestamp": 1677883919534,
     "user_tz": -60,
     "elapsed": 255,
     "user": {
      "displayName": "Kinga Gajek",
      "userId": "01215373408593541942"
     }
    },
    "outputId": "c47befbf-03e1-4b33-dcb6-e860d823db4d"
   },
   "outputs": [
    {
     "output_type": "stream",
     "name": "stdout",
     "text": [
      "nform\n",
      "nom\n",
      "ty\n"
     ]
    }
   ],
   "source": [
    "# wybieranie fragmentu \n",
    "print(s[1:6])\n",
    "# wybieranie znaków z krokiem\n",
    "print(s[1:6:2])\n",
    "# od tyłu\n",
    "print(s[-4:-2])"
   ]
  },
  {
   "cell_type": "markdown",
   "metadata": {
    "deletable": false,
    "editable": false,
    "nbgrader": {
     "cell_type": "markdown",
     "checksum": "79be7a0012a4f14fa046fd0f5bded3ed",
     "grade": false,
     "grade_id": "cell-239baf5303697213",
     "locked": true,
     "schema_version": 3,
     "solution": false
    },
    "id": "WV9eX8Lumo5u"
   },
   "source": [
    "__Uwaga:__ Tekst podobnie jak krotka jest obiektem niemodyfikowalnym, tzn. nie można zmienić wartości znaku na danej pozycji poprzez stosowanie operatora `[]`."
   ]
  },
  {
   "cell_type": "code",
   "execution_count": null,
   "metadata": {
    "colab": {
     "base_uri": "https://localhost:8080/",
     "height": 182
    },
    "id": "E8gSZkxLmo5v",
    "executionInfo": {
     "status": "error",
     "timestamp": 1677883923191,
     "user_tz": -60,
     "elapsed": 261,
     "user": {
      "displayName": "Kinga Gajek",
      "userId": "01215373408593541942"
     }
    },
    "outputId": "f2f81909-2154-426d-bc61-6d3cc52af688"
   },
   "outputs": [
    {
     "output_type": "error",
     "ename": "TypeError",
     "evalue": "ignored",
     "traceback": [
      "\u001B[0;31m---------------------------------------------------------------------------\u001B[0m",
      "\u001B[0;31mTypeError\u001B[0m                                 Traceback (most recent call last)",
      "\u001B[0;32m<ipython-input-43-ba0f8f2f87e6>\u001B[0m in \u001B[0;36m<module>\u001B[0;34m\u001B[0m\n\u001B[1;32m      1\u001B[0m \u001B[0ms\u001B[0m \u001B[0;34m=\u001B[0m \u001B[0;34m'Informatyka'\u001B[0m\u001B[0;34m\u001B[0m\u001B[0;34m\u001B[0m\u001B[0m\n\u001B[0;32m----> 2\u001B[0;31m \u001B[0ms\u001B[0m\u001B[0;34m[\u001B[0m\u001B[0;36m1\u001B[0m\u001B[0;34m]\u001B[0m \u001B[0;34m=\u001B[0m \u001B[0;34m'A'\u001B[0m  \u001B[0;31m#chcemy zmienić 'a' ma 'A', nie da się\u001B[0m\u001B[0;34m\u001B[0m\u001B[0;34m\u001B[0m\u001B[0m\n\u001B[0m",
      "\u001B[0;31mTypeError\u001B[0m: 'str' object does not support item assignment"
     ]
    }
   ],
   "source": [
    "s = 'Informatyka'\n",
    "s[1] = 'A'  #chcemy zmienić 'a' ma 'A', nie da się"
   ]
  },
  {
   "cell_type": "markdown",
   "metadata": {
    "deletable": false,
    "editable": false,
    "nbgrader": {
     "cell_type": "markdown",
     "checksum": "4ad8e9fb7ee741dc38e29ff9856f967e",
     "grade": false,
     "grade_id": "cell-2cc0c3c12da24876",
     "locked": true,
     "schema_version": 3,
     "solution": false
    },
    "id": "L0aUqTTQmo5v"
   },
   "source": [
    "### Operatory `+`, `*`\n",
    "Dla typu `str` zdefiniowane zostały dwa operatory\n",
    "- `+` - łączenie tekstów, `(str + str = str)`\n",
    "- `*` - powielanie tekstu, `(str * int = str)`"
   ]
  },
  {
   "cell_type": "code",
   "execution_count": null,
   "metadata": {
    "colab": {
     "base_uri": "https://localhost:8080/"
    },
    "id": "o9KMKTTtmo5v",
    "executionInfo": {
     "status": "ok",
     "timestamp": 1677883939968,
     "user_tz": -60,
     "elapsed": 239,
     "user": {
      "displayName": "Kinga Gajek",
      "userId": "01215373408593541942"
     }
    },
    "outputId": "1deda40c-0f98-4dfa-c89c-345e023de0cb"
   },
   "outputs": [
    {
     "output_type": "stream",
     "name": "stdout",
     "text": [
      "Informatyka rok II semestr II\n"
     ]
    }
   ],
   "source": [
    "t1 = 'Informatyka'\n",
    "t2 = 'rok II'\n",
    "t3 = 'semestr II'\n",
    "t4 = t1 + ' ' + t2 + ' ' + t3\n",
    "print(t4)"
   ]
  },
  {
   "cell_type": "code",
   "execution_count": null,
   "metadata": {
    "colab": {
     "base_uri": "https://localhost:8080/"
    },
    "id": "7r1CfuiDmo5v",
    "executionInfo": {
     "status": "ok",
     "timestamp": 1677883944435,
     "user_tz": -60,
     "elapsed": 400,
     "user": {
      "displayName": "Kinga Gajek",
      "userId": "01215373408593541942"
     }
    },
    "outputId": "a0ba9fb8-af4a-42de-a879-ce96bd8f3de4"
   },
   "outputs": [
    {
     "output_type": "stream",
     "name": "stdout",
     "text": [
      "InformatykaInformatykaInformatykaInformatykaInformatyka\n"
     ]
    }
   ],
   "source": [
    "t5 = t1 * 5\n",
    "print(t5)"
   ]
  },
  {
   "cell_type": "markdown",
   "metadata": {
    "deletable": false,
    "editable": false,
    "nbgrader": {
     "cell_type": "markdown",
     "checksum": "0485bd3dc47e0d10ad6fc7a5dc95aaa8",
     "grade": false,
     "grade_id": "cell-437d194315718329",
     "locked": true,
     "schema_version": 3,
     "solution": false
    },
    "id": "6BwwElPgmo5v"
   },
   "source": [
    "### Słowa kluczowe `in`, `not in`\n",
    "Dzięki słową kluczowym `in', 'not in` możemy zapytać czy jakiś znak lub ciąg znaków występuje bądź nie występuje w tekscie."
   ]
  },
  {
   "cell_type": "code",
   "execution_count": null,
   "metadata": {
    "colab": {
     "base_uri": "https://localhost:8080/"
    },
    "id": "nQMQ2iulmo5w",
    "executionInfo": {
     "status": "ok",
     "timestamp": 1677883952262,
     "user_tz": -60,
     "elapsed": 225,
     "user": {
      "displayName": "Kinga Gajek",
      "userId": "01215373408593541942"
     }
    },
    "outputId": "57be35f2-0fab-4dbf-ba75-3c1ca0eff701"
   },
   "outputs": [
    {
     "output_type": "execute_result",
     "data": {
      "text/plain": [
       "True"
      ]
     },
     "metadata": {},
     "execution_count": 46
    }
   ],
   "source": [
    "tekst = \"Informatyka jest super!!!\"\n",
    "'I' in tekst"
   ]
  },
  {
   "cell_type": "code",
   "execution_count": null,
   "metadata": {
    "colab": {
     "base_uri": "https://localhost:8080/"
    },
    "id": "KU2XCUQhmo5w",
    "executionInfo": {
     "status": "ok",
     "timestamp": 1677883954539,
     "user_tz": -60,
     "elapsed": 236,
     "user": {
      "displayName": "Kinga Gajek",
      "userId": "01215373408593541942"
     }
    },
    "outputId": "40bfedf9-d41a-4d65-f127-907046e778ea"
   },
   "outputs": [
    {
     "output_type": "execute_result",
     "data": {
      "text/plain": [
       "False"
      ]
     },
     "metadata": {},
     "execution_count": 47
    }
   ],
   "source": [
    "'i' in tekst"
   ]
  },
  {
   "cell_type": "code",
   "execution_count": null,
   "metadata": {
    "colab": {
     "base_uri": "https://localhost:8080/"
    },
    "id": "2iWrTGJPmo5w",
    "executionInfo": {
     "status": "ok",
     "timestamp": 1677883958053,
     "user_tz": -60,
     "elapsed": 220,
     "user": {
      "displayName": "Kinga Gajek",
      "userId": "01215373408593541942"
     }
    },
    "outputId": "27226174-f079-4705-e018-ba6b3f36ad0b"
   },
   "outputs": [
    {
     "output_type": "execute_result",
     "data": {
      "text/plain": [
       "False"
      ]
     },
     "metadata": {},
     "execution_count": 48
    }
   ],
   "source": [
    "'Informatyka' not in tekst"
   ]
  },
  {
   "cell_type": "markdown",
   "metadata": {
    "deletable": false,
    "editable": false,
    "nbgrader": {
     "cell_type": "markdown",
     "checksum": "b8bb5a3955f89e0a44eda43a0ebdeff0",
     "grade": false,
     "grade_id": "cell-50a495acc20659d6",
     "locked": true,
     "schema_version": 3,
     "solution": false
    },
    "id": "8IoKvPpSmo5w"
   },
   "source": [
    "### Długość tekstu\n",
    "Do zwrócenia liczby znaków w tekscie służy metoda wbudowana `len` "
   ]
  },
  {
   "cell_type": "code",
   "execution_count": null,
   "metadata": {
    "colab": {
     "base_uri": "https://localhost:8080/"
    },
    "id": "eEX4aaBzmo5x",
    "executionInfo": {
     "status": "ok",
     "timestamp": 1677883966335,
     "user_tz": -60,
     "elapsed": 228,
     "user": {
      "displayName": "Kinga Gajek",
      "userId": "01215373408593541942"
     }
    },
    "outputId": "11faacf2-0f28-4945-c4b0-101b878f2062"
   },
   "outputs": [
    {
     "output_type": "stream",
     "name": "stdout",
     "text": [
      "Informatyka jest super!!!\n",
      "25\n"
     ]
    }
   ],
   "source": [
    "print(tekst)\n",
    "print(len(tekst))"
   ]
  },
  {
   "cell_type": "markdown",
   "metadata": {
    "deletable": false,
    "editable": false,
    "nbgrader": {
     "cell_type": "markdown",
     "checksum": "c54a7ee86882dba04c25388167b09e56",
     "grade": false,
     "grade_id": "cell-c43f50a835620f3f",
     "locked": true,
     "schema_version": 3,
     "solution": false
    },
    "id": "6pQdHbqCmo5x"
   },
   "source": [
    "### Operator `%`\n",
    "Bardzo fajny i przydatny przy formatowaniu teskstu jest operator `%`, który pozwala wstawiać do tekstu wartości zmiennych w podobny sposób jak w innych językach np. C."
   ]
  },
  {
   "cell_type": "code",
   "execution_count": null,
   "metadata": {
    "colab": {
     "base_uri": "https://localhost:8080/"
    },
    "id": "xpBne7Hfmo5x",
    "executionInfo": {
     "status": "ok",
     "timestamp": 1677883979978,
     "user_tz": -60,
     "elapsed": 228,
     "user": {
      "displayName": "Kinga Gajek",
      "userId": "01215373408593541942"
     }
    },
    "outputId": "509e1e9b-564f-460a-de10-dc95f738e245"
   },
   "outputs": [
    {
     "output_type": "stream",
     "name": "stdout",
     "text": [
      "Mam na imię Adam i programuję w języku Python od ponad 7 lat.\n"
     ]
    }
   ],
   "source": [
    "imie = 'Adam'\n",
    "jezyk = 'Python'\n",
    "lata = 7\n",
    "print('Mam na imię %s i programuję w języku %s od ponad %d lat.' % (imie, jezyk, lata))"
   ]
  },
  {
   "cell_type": "markdown",
   "metadata": {
    "deletable": false,
    "editable": false,
    "nbgrader": {
     "cell_type": "markdown",
     "checksum": "c6720998f632cafac1d72dea04fa976a",
     "grade": false,
     "grade_id": "cell-bda034424c17f071",
     "locked": true,
     "schema_version": 3,
     "solution": false
    },
    "id": "tZ1wz6Ofmo5x"
   },
   "source": [
    "Możliwy symbole do wykorzystania (wybaczcie ale nie chciało mi się tłumaczyć :)):\n",
    "- `%c` - character\n",
    "- `%s` - string conversion via str() prior to formatting\t\n",
    "- `%i` - signed decimal integer\n",
    "- `%d` - signed decimal integer\n",
    "- `%u` - unsigned decimal integer\n",
    "- `%o` - octal integer\n",
    "- `%x` - hexadecimal integer (lowercase letters)\n",
    "- `%X` - hexadecimal integer (UPPERcase letters)\n",
    "- `%e` - exponential notation (with lowercase 'e')\n",
    "- `%E` - exponential notation (with UPPERcase 'E')\n",
    "- `%f` - floating point real number\n",
    "- `%g` - the shorter of %f and %e\n",
    "- `%G` - the shorter of %f and %E\n",
    "\n",
    "\n",
    "- `*` - argument specifies width or precision\n",
    "- `-` - left justification\t\n",
    "- `+` - display the sign\n",
    "- `<sp>` - leave a blank space before a positive number\n",
    "- `#` - add the octal leading zero ( '0' ) or hexadecimal leading '0x' or '0X', depending on whether 'x' or 'X' were used.\n",
    "- `0` - pad from left with zeros (instead of spaces)\n",
    "- `%` - '%%' leaves you with a single literal '%'\n",
    "- `(var)` - mapping variable (dictionary arguments)\n",
    "- `m.n.` - m is the minimum total width and n is the number of digits to display after the decimal point (if appl.)\n",
    "\n",
    "Przykład:"
   ]
  },
  {
   "cell_type": "code",
   "execution_count": null,
   "metadata": {
    "colab": {
     "base_uri": "https://localhost:8080/"
    },
    "id": "7k1DvGv-mo5y",
    "executionInfo": {
     "status": "ok",
     "timestamp": 1677884074113,
     "user_tz": -60,
     "elapsed": 5,
     "user": {
      "displayName": "Kinga Gajek",
      "userId": "01215373408593541942"
     }
    },
    "outputId": "8256f11b-013c-4cdf-82f7-4f0f97697c4f"
   },
   "outputs": [
    {
     "output_type": "stream",
     "name": "stdout",
     "text": [
      "Liczba pi: +3.141592653590\n"
     ]
    }
   ],
   "source": [
    "from math import pi\n",
    "print('Liczba pi: %+.12f' % pi)"
   ]
  },
  {
   "cell_type": "markdown",
   "metadata": {
    "deletable": false,
    "editable": false,
    "nbgrader": {
     "cell_type": "markdown",
     "checksum": "35fe5a6177bf555ebfd8183e4003d372",
     "grade": false,
     "grade_id": "cell-12b6fd3d31a5e83f",
     "locked": true,
     "schema_version": 3,
     "solution": false
    },
    "id": "3wDQiiEkmo5y"
   },
   "source": [
    "### Metody obiektu `str`\n",
    "Obiekty typu `str` (teksty) posiadają bardzo dużo przydatnych metod gotowych do użycia. Lista wraz z dokumentacją po tym linkiem https://docs.python.org/3/library/stdtypes.html#string-methods. \n",
    "\n",
    "Poniżej kilka przykładowych."
   ]
  },
  {
   "cell_type": "code",
   "execution_count": null,
   "metadata": {
    "colab": {
     "base_uri": "https://localhost:8080/"
    },
    "id": "TB0bOTTcmo5y",
    "executionInfo": {
     "status": "ok",
     "timestamp": 1677884081310,
     "user_tz": -60,
     "elapsed": 238,
     "user": {
      "displayName": "Kinga Gajek",
      "userId": "01215373408593541942"
     }
    },
    "outputId": "5e7a2707-1893-4c54-f7bf-2d835f663df6"
   },
   "outputs": [
    {
     "output_type": "execute_result",
     "data": {
      "text/plain": [
       "17"
      ]
     },
     "metadata": {},
     "execution_count": 52
    }
   ],
   "source": [
    "tekst = 'Informatyka jest super!!!'\n",
    "tekst.find('super') # jeżeli szukana fraza zostanie znaleziona to zwraca pozycje poczatkową, jeśli nie, -1"
   ]
  },
  {
   "cell_type": "code",
   "execution_count": null,
   "metadata": {
    "colab": {
     "base_uri": "https://localhost:8080/",
     "height": 36
    },
    "id": "W4TV-2xomo5y",
    "executionInfo": {
     "status": "ok",
     "timestamp": 1677884084152,
     "user_tz": -60,
     "elapsed": 219,
     "user": {
      "displayName": "Kinga Gajek",
      "userId": "01215373408593541942"
     }
    },
    "outputId": "930c9bef-d53d-4198-ecca-c3fb6d1b635f"
   },
   "outputs": [
    {
     "output_type": "execute_result",
     "data": {
      "text/plain": [
       "'INFORMATYKA JEST SUPER!!!'"
      ],
      "application/vnd.google.colaboratory.intrinsic+json": {
       "type": "string"
      }
     },
     "metadata": {},
     "execution_count": 53
    }
   ],
   "source": [
    "tekst.upper() # zamienia na duże litery"
   ]
  },
  {
   "cell_type": "code",
   "execution_count": null,
   "metadata": {
    "colab": {
     "base_uri": "https://localhost:8080/",
     "height": 36
    },
    "id": "uAnf2JbOmo5y",
    "executionInfo": {
     "status": "ok",
     "timestamp": 1677884086074,
     "user_tz": -60,
     "elapsed": 254,
     "user": {
      "displayName": "Kinga Gajek",
      "userId": "01215373408593541942"
     }
    },
    "outputId": "81709d80-7007-49e4-e663-c8059240e176"
   },
   "outputs": [
    {
     "output_type": "execute_result",
     "data": {
      "text/plain": [
       "'Informatyka jest cool!!!'"
      ],
      "application/vnd.google.colaboratory.intrinsic+json": {
       "type": "string"
      }
     },
     "metadata": {},
     "execution_count": 54
    }
   ],
   "source": [
    "tekst.replace('super', 'cool') "
   ]
  },
  {
   "cell_type": "code",
   "execution_count": null,
   "metadata": {
    "colab": {
     "base_uri": "https://localhost:8080/"
    },
    "id": "hZWzu1vJmo5z",
    "executionInfo": {
     "status": "ok",
     "timestamp": 1677884088032,
     "user_tz": -60,
     "elapsed": 243,
     "user": {
      "displayName": "Kinga Gajek",
      "userId": "01215373408593541942"
     }
    },
    "outputId": "76bfa39c-1409-4c1d-81ca-290cca3fb054"
   },
   "outputs": [
    {
     "output_type": "execute_result",
     "data": {
      "text/plain": [
       "1"
      ]
     },
     "metadata": {},
     "execution_count": 55
    }
   ],
   "source": [
    "tekst.count('at') # zlicza wystąpienie podanego znaku lub ciągu znaków"
   ]
  },
  {
   "cell_type": "code",
   "execution_count": null,
   "metadata": {
    "colab": {
     "base_uri": "https://localhost:8080/",
     "height": 36
    },
    "id": "pohbFN8lmo5z",
    "executionInfo": {
     "status": "ok",
     "timestamp": 1677884089839,
     "user_tz": -60,
     "elapsed": 259,
     "user": {
      "displayName": "Kinga Gajek",
      "userId": "01215373408593541942"
     }
    },
    "outputId": "12ed2f32-c5b4-4b7d-8ab4-dc8c51c1c729"
   },
   "outputs": [
    {
     "output_type": "execute_result",
     "data": {
      "text/plain": [
       "'Informatyka jest super razy 7'"
      ],
      "application/vnd.google.colaboratory.intrinsic+json": {
       "type": "string"
      }
     },
     "metadata": {},
     "execution_count": 56
    }
   ],
   "source": [
    "tekst = 'Informatyka jest {0} razy {1}'\n",
    "tekst.format('super', 7) # często wykorzystywane zamiast operatora %"
   ]
  },
  {
   "cell_type": "markdown",
   "metadata": {
    "deletable": false,
    "editable": false,
    "nbgrader": {
     "cell_type": "markdown",
     "checksum": "299b2f4253482fde28decc7523baccab",
     "grade": false,
     "grade_id": "cell-e0365ff1229fa3f1",
     "locked": true,
     "schema_version": 3,
     "solution": false
    },
    "id": "5x4SOMB_mo5z"
   },
   "source": [
    "### Ćwiczenie 3:\n",
    "Teksty można również porównywać za pomocą operatorów porównania. Sprawdź jak to działa."
   ]
  },
  {
   "cell_type": "code",
   "execution_count": null,
   "metadata": {
    "colab": {
     "base_uri": "https://localhost:8080/"
    },
    "id": "bxiOx6ZCmo5z",
    "executionInfo": {
     "status": "ok",
     "timestamp": 1677884199836,
     "user_tz": -60,
     "elapsed": 3,
     "user": {
      "displayName": "Kinga Gajek",
      "userId": "01215373408593541942"
     }
    },
    "outputId": "2eb3c599-8dbf-4aba-9ea0-a0af6860b005"
   },
   "outputs": [
    {
     "output_type": "execute_result",
     "data": {
      "text/plain": [
       "False"
      ]
     },
     "metadata": {},
     "execution_count": 59
    }
   ],
   "source": [
    "tekst1 = 'Informatyka jest super'\n",
    "tekst2 = 'Informatyka2 jest super'\n",
    "tekst1 == tekst2"
   ]
  },
  {
   "cell_type": "markdown",
   "metadata": {
    "deletable": false,
    "editable": false,
    "nbgrader": {
     "cell_type": "markdown",
     "checksum": "94ce3a8f47cafe76f731a7af030a11f6",
     "grade": false,
     "grade_id": "cell-ac1102a65c432e8f",
     "locked": true,
     "schema_version": 3,
     "solution": false
    },
    "id": "maXXclOfmo5z"
   },
   "source": [
    "### Ćwiczenie 4\n",
    "Napisz program, który we wprowadzonym tekście wyeliminuje pierwsze wystąpienie podanego znak. Zakładamy, że podany znak na pewno występuje w tekście."
   ]
  },
  {
   "cell_type": "code",
   "execution_count": null,
   "metadata": {
    "deletable": false,
    "nbgrader": {
     "cell_type": "code",
     "checksum": "5c5b347019e832ac69bcc84086987938",
     "grade": true,
     "grade_id": "cell-eceed302cb759620",
     "locked": false,
     "points": 0,
     "schema_version": 3,
     "solution": true,
     "task": false
    },
    "colab": {
     "base_uri": "https://localhost:8080/"
    },
    "id": "2KxMyWQGmo50",
    "executionInfo": {
     "status": "ok",
     "timestamp": 1677884953760,
     "user_tz": -60,
     "elapsed": 6931,
     "user": {
      "displayName": "Kinga Gajek",
      "userId": "01215373408593541942"
     }
    },
    "outputId": "bbc78fc9-dcf8-4ea5-919e-b03e862d3127"
   },
   "outputs": [
    {
     "output_type": "stream",
     "name": "stdout",
     "text": [
      "Wprowadź tekst: wprowadź tekst\n",
      "Wprowadź znak: w\n",
      "prowadź tekst\n"
     ]
    }
   ],
   "source": [
    "text = input('Wprowadź tekst: ')\n",
    "znak = input('Wprowadź znak: ')\n",
    "\n",
    "text = text.replace(znak, '', 1)\n",
    "print(text)"
   ]
  },
  {
   "cell_type": "markdown",
   "metadata": {
    "deletable": false,
    "editable": false,
    "nbgrader": {
     "cell_type": "markdown",
     "checksum": "a437ea505cc73f8b2a4a9c0aa41e86a8",
     "grade": false,
     "grade_id": "cell-3e73d41a914dfc5e",
     "locked": true,
     "schema_version": 3,
     "solution": false
    },
    "id": "jGO54osimo50"
   },
   "source": [
    "### Ćwiczenie 5\n",
    "Napisz program, który we wprowadzonym tekscie wyeliminuje ostatnie wystąpienie podanego znak. Zakładamy, że podany znak na pewno wsytępuje w tekscie."
   ]
  },
  {
   "cell_type": "code",
   "execution_count": null,
   "metadata": {
    "deletable": false,
    "nbgrader": {
     "cell_type": "code",
     "checksum": "413689ebb4bd0f5d5efb2864c88b9db6",
     "grade": true,
     "grade_id": "cell-99aa0016d90ebf27",
     "locked": false,
     "points": 0,
     "schema_version": 3,
     "solution": true
    },
    "colab": {
     "base_uri": "https://localhost:8080/"
    },
    "id": "pNLyx_ycmo50",
    "executionInfo": {
     "status": "ok",
     "timestamp": 1677886094598,
     "user_tz": -60,
     "elapsed": 9101,
     "user": {
      "displayName": "Kinga Gajek",
      "userId": "01215373408593541942"
     }
    },
    "outputId": "ed9358f5-f74c-4123-921e-22da55fd6f79"
   },
   "outputs": [
    {
     "output_type": "stream",
     "name": "stdout",
     "text": [
      "Wprowadź tekst: wprowadź tekst\n",
      "Wprowadź znak: w\n",
      "wproadź tekst\n"
     ]
    }
   ],
   "source": [
    "text = input('Wprowadź tekst: ')\n",
    "znak = input('Wprowadź znak: ')\n",
    "\n",
    "nr_indeksu_znak = str.rfind(text, znak)\n",
    "text = text[0:nr_indeksu_znak] + text[nr_indeksu_znak+1:len(text)]\n",
    "print(text)"
   ]
  },
  {
   "cell_type": "markdown",
   "metadata": {
    "deletable": false,
    "editable": false,
    "nbgrader": {
     "cell_type": "markdown",
     "checksum": "18d9d7ce9eefabd6c84a25af4d38f6c6",
     "grade": false,
     "grade_id": "cell-76d46290d9294e08",
     "locked": true,
     "schema_version": 3,
     "solution": false
    },
    "id": "fEvvGC9jmo50"
   },
   "source": [
    "### Temat: Instrukcje sterujące, Pętle.\n",
    "\n",
    "\n",
    "### Instrukcje warunkowe: `if`, `if else`, `if elif else`\n",
    "Do wykonywania prostych testów (sprawdzania warunków) służą instrukcje `if` i `else`.\n",
    "\n",
    "Struktura składni ma postać:\n",
    "\n",
    "```python\n",
    "if warunek:\n",
    "\tinstrukcje_1\n",
    "else:\n",
    "    instrukcje_2\n",
    "```    \n",
    "Warunki zwarcają wartość `True` lub `False`. \n",
    "\n",
    "Zawartość bloków instrukcji ustalana jest na podstawie wcięć. Klauzula `else` nie jest obowiązkowa."
   ]
  },
  {
   "cell_type": "code",
   "execution_count": null,
   "metadata": {
    "colab": {
     "base_uri": "https://localhost:8080/"
    },
    "id": "hddgv2IGmo50",
    "executionInfo": {
     "status": "ok",
     "timestamp": 1677886850675,
     "user_tz": -60,
     "elapsed": 249,
     "user": {
      "displayName": "Kinga Gajek",
      "userId": "01215373408593541942"
     }
    },
    "outputId": "c6add696-00eb-435e-b149-ad1ae9d8d5cd"
   },
   "outputs": [
    {
     "output_type": "stream",
     "name": "stdout",
     "text": [
      "5\n"
     ]
    }
   ],
   "source": [
    "a = 2\n",
    "b = 3\n",
    "if a < b:  # jeżeli warunek jest True to wykonaj instrukcje w bloku (instrukcje z wcięciami (tab))\n",
    "    print(a+b)"
   ]
  },
  {
   "cell_type": "code",
   "execution_count": null,
   "metadata": {
    "colab": {
     "base_uri": "https://localhost:8080/"
    },
    "id": "cbOYBMLLmo51",
    "executionInfo": {
     "status": "ok",
     "timestamp": 1677886852158,
     "user_tz": -60,
     "elapsed": 9,
     "user": {
      "displayName": "Kinga Gajek",
      "userId": "01215373408593541942"
     }
    },
    "outputId": "e1c21c21-7ed2-4c07-e992-7618b39734e1"
   },
   "outputs": [
    {
     "output_type": "stream",
     "name": "stdout",
     "text": [
      "7\n"
     ]
    }
   ],
   "source": [
    "a = 3\n",
    "b = 4\n",
    "if a < b:  # gdy warunek prawdziwy\n",
    "    print(a+b) \n",
    "else:    # gdy warunek fałszywy\n",
    "    print(a-b)"
   ]
  },
  {
   "cell_type": "markdown",
   "metadata": {
    "deletable": false,
    "editable": false,
    "nbgrader": {
     "cell_type": "markdown",
     "checksum": "8fb1ce67dc85a356b0b9e404abf85c3d",
     "grade": false,
     "grade_id": "cell-778ace5cc4beffa8",
     "locked": true,
     "schema_version": 3,
     "solution": false
    },
    "id": "k5JUf0TOmo51"
   },
   "source": [
    "#### Instrukcja `pass`\n",
    "Nie ma ograniczenia odnośnie liczby instrukcji w bloku, ale musi występować co najmniej jedna. Jeżeli nie mamy nic do zrobienia w danym bloku stosujemy instrukcję `pass`.\n",
    "\n",
    "Instrukcja `pass`:\n",
    "- nie robi nic…\n",
    "- może być użyta w miejscu gdzie wymaga tego syntaktyka, ale program nie robi nic\n",
    "- zwykle używane gdy tworzona jest minimalna klasa\n",
    "- używana również podczas pisania nowego kodu w miejscu, gdzie w przyszłości planujemy wywołać jakąś funkcję lub wyrażenie. "
   ]
  },
  {
   "cell_type": "code",
   "execution_count": null,
   "metadata": {
    "id": "sF9gZ2x-mo51"
   },
   "outputs": [],
   "source": [
    "a = 3\n",
    "b = 4\n",
    "if a < b:  # gdy warunek prawdziwy\n",
    "    pass   # nic nie rób \n",
    "else:      # gdy warunek fałszywy\n",
    "    print(a-b)"
   ]
  },
  {
   "cell_type": "markdown",
   "metadata": {
    "deletable": false,
    "editable": false,
    "nbgrader": {
     "cell_type": "markdown",
     "checksum": "24c4096db5874d11bad8f7bce7d60503",
     "grade": false,
     "grade_id": "cell-6b2e86786fc58f97",
     "locked": true,
     "schema_version": 3,
     "solution": false
    },
    "id": "5ohfP5p-mo51"
   },
   "source": [
    "#### Operatory `and`, `or` i `not`\n",
    "Używając operatorów `and`, `or` i `not` tworzymy wyrażenia boolowskie."
   ]
  },
  {
   "cell_type": "code",
   "execution_count": null,
   "metadata": {
    "colab": {
     "base_uri": "https://localhost:8080/"
    },
    "id": "BaL-RVZVmo51",
    "executionInfo": {
     "status": "ok",
     "timestamp": 1677896224460,
     "user_tz": -60,
     "elapsed": 234,
     "user": {
      "displayName": "Kinga Gajek",
      "userId": "01215373408593541942"
     }
    },
    "outputId": "74b04477-66ab-44f5-e099-ab8a60677148"
   },
   "outputs": [
    {
     "output_type": "stream",
     "name": "stdout",
     "text": [
      "10 10; 10 10\n"
     ]
    }
   ],
   "source": [
    "# warunkiem może być dowolne wyrażenie zwracające True lub False\n",
    "a = 10\n",
    "if a < 20 and a >5 :\n",
    "    print(a, a, end='; ')\n",
    "    \n",
    "# to samo mozemy zapisać prościej\n",
    "if 5 < a < 20:\n",
    "    print(a, a)"
   ]
  },
  {
   "cell_type": "markdown",
   "metadata": {
    "deletable": false,
    "editable": false,
    "nbgrader": {
     "cell_type": "markdown",
     "checksum": "e6bf4db6cebb474eea1a7209bc5e430a",
     "grade": false,
     "grade_id": "cell-17a9e1167f23ea53",
     "locked": true,
     "schema_version": 3,
     "solution": false
    },
    "id": "9KZbI0BVmo52"
   },
   "source": [
    "#### Łańcuchowa instrukcja warunkowa \n",
    "Do sprawdzenia wielu różnych warunków używamy instrukcji `elif`. Każdy warunek jest kolejno sprawdzany do momentu, aż dany warunek jest prawdziwy. Klauzula `else` nie jest obowiązkowa. Jeżeli klauzula `else` występuje musi znależć się na końcu."
   ]
  },
  {
   "cell_type": "code",
   "execution_count": null,
   "metadata": {
    "colab": {
     "base_uri": "https://localhost:8080/"
    },
    "id": "YQRh3ohCmo52",
    "executionInfo": {
     "status": "ok",
     "timestamp": 1677886860571,
     "user_tz": -60,
     "elapsed": 233,
     "user": {
      "displayName": "Kinga Gajek",
      "userId": "01215373408593541942"
     }
    },
    "outputId": "58f1f8dd-fbc2-4fe5-dd16-89a08f166196"
   },
   "outputs": [
    {
     "output_type": "stream",
     "name": "stdout",
     "text": [
      "80\n"
     ]
    }
   ],
   "source": [
    "a = 10\n",
    "b = 8\n",
    "if a < b:       # gdy warunek prawdziwy\n",
    "    print(a+b) \n",
    "elif a < 2*b:   # kolejny warunek gdy poprzedni nie jest spełniony\n",
    "    print(a*b)    \n",
    "else:           # gdy warunek fałszywy\n",
    "    print(a-b)"
   ]
  },
  {
   "cell_type": "markdown",
   "metadata": {
    "deletable": false,
    "editable": false,
    "nbgrader": {
     "cell_type": "markdown",
     "checksum": "ef1e152550bcd838a65a6aa0b650818f",
     "grade": false,
     "grade_id": "cell-18d496a2aa016f51",
     "locked": true,
     "schema_version": 3,
     "solution": false
    },
    "id": "Un7Z6ZqBmo52"
   },
   "source": [
    "#### Zagnieżdżona instrukcja warunkowa \n",
    "Jedna instrukcja warunkowa może zostać zagnieżdżona w drugiej. __Uwaga na wcięcia!__."
   ]
  },
  {
   "cell_type": "code",
   "execution_count": null,
   "metadata": {
    "colab": {
     "base_uri": "https://localhost:8080/"
    },
    "id": "wEjI_QU3mo52",
    "executionInfo": {
     "status": "ok",
     "timestamp": 1677886862565,
     "user_tz": -60,
     "elapsed": 228,
     "user": {
      "displayName": "Kinga Gajek",
      "userId": "01215373408593541942"
     }
    },
    "outputId": "8a6471c8-615a-4a28-8dbe-f92882b0b114"
   },
   "outputs": [
    {
     "output_type": "stream",
     "name": "stdout",
     "text": [
      "a większe od b\n"
     ]
    }
   ],
   "source": [
    "a = 10\n",
    "b = 8\n",
    "if a == b:     # gdy warunek prawdziwy\n",
    "    print('a i b są równe') \n",
    "else:          # gdy warunek fałszywy\n",
    "    if a < b:  #zagnieżdżenie - gdy warunek prawdziwy\n",
    "        print('a mniejsze od b')\n",
    "    else:      #zagnieżdżenie - gdy warunek fałszywy\n",
    "        print('a większe od b')"
   ]
  },
  {
   "cell_type": "markdown",
   "metadata": {
    "deletable": false,
    "editable": false,
    "nbgrader": {
     "cell_type": "markdown",
     "checksum": "9a4faf6f42f74d40349db43cc8820114",
     "grade": false,
     "grade_id": "cell-d9dba951fefaed0b",
     "locked": true,
     "schema_version": 3,
     "solution": false
    },
    "id": "Hj3S01pnmo52"
   },
   "source": [
    "### Wyjątki - Przerwanie działania programu\n",
    "Zgłoszenie wyjątku oznacza wystąpienie błędu i przerwanie normalnego wykonywania programu. Aby przerwać działanie programu (zgłosić wyjątek) można użyć instrukcji `raise`. Argumentem instrukcji `raise` jest rodzaj błędu (wyjątku). Jeżeli nie podamy żadnego argumentu do instrukcji `raise` zostanie ponownie zgłoszony ostatni wyjątek. Więcej informacji przy omawianiu obsługi wyjatków :). \n",
    "\n",
    "#### Przykład: \n",
    "Wczytaj z klawiatury liczbę całkowitą. Jeżeli wartość liczby wynosi 1 wypisz komunikat \"Błąd\" i zakończ działanie programu, w przeciwnym wypadku wypisz jej wartość."
   ]
  },
  {
   "cell_type": "code",
   "execution_count": null,
   "metadata": {
    "colab": {
     "base_uri": "https://localhost:8080/"
    },
    "id": "5nOzQbMEmo53",
    "executionInfo": {
     "status": "ok",
     "timestamp": 1677886868800,
     "user_tz": -60,
     "elapsed": 3918,
     "user": {
      "displayName": "Kinga Gajek",
      "userId": "01215373408593541942"
     }
    },
    "outputId": "3fe2279c-e183-4ce5-b4d5-b3c083c26585"
   },
   "outputs": [
    {
     "output_type": "stream",
     "name": "stdout",
     "text": [
      "podaj liczbę całkowitą: 34\n",
      "34\n"
     ]
    }
   ],
   "source": [
    "i = input('podaj liczbę całkowitą: ')\n",
    "i = int(i)\n",
    "if i == 1:\n",
    "    print('Błąd')\n",
    "    raise NotImplementedError \n",
    "else:\n",
    "    print(i)"
   ]
  },
  {
   "cell_type": "markdown",
   "metadata": {
    "deletable": false,
    "editable": false,
    "nbgrader": {
     "cell_type": "markdown",
     "checksum": "7c241b8dc93496591e79c84f08b4c976",
     "grade": false,
     "grade_id": "cell-0ba082502edaa23d",
     "locked": true,
     "schema_version": 3,
     "solution": false
    },
    "id": "dhC5P0BLmo53"
   },
   "source": [
    "### Ćwiczenie 6\n",
    "Napisz program, który dla podanego z klawiatury numeru miesiąca wyprowadzi odpowiadającą mu porę roku, a jeśli podana wartość nie jest numerem miesiąca, to wyprowadzi kilka znaków zapytania."
   ]
  },
  {
   "cell_type": "code",
   "execution_count": null,
   "metadata": {
    "deletable": false,
    "nbgrader": {
     "cell_type": "code",
     "checksum": "de490d63f4d68f76d936a5607c344cb6",
     "grade": true,
     "grade_id": "cell-190c8efc73abafa3",
     "locked": false,
     "points": 0,
     "schema_version": 3,
     "solution": true
    },
    "colab": {
     "base_uri": "https://localhost:8080/"
    },
    "id": "XJoRLi30mo53",
    "executionInfo": {
     "status": "ok",
     "timestamp": 1677886739177,
     "user_tz": -60,
     "elapsed": 2395,
     "user": {
      "displayName": "Kinga Gajek",
      "userId": "01215373408593541942"
     }
    },
    "outputId": "a8a08198-c12f-4c43-cd88-029e428affa3"
   },
   "outputs": [
    {
     "output_type": "stream",
     "name": "stdout",
     "text": [
      "Podaj numer miesiąca: 232\n",
      "??????\n"
     ]
    }
   ],
   "source": [
    "m = input('Podaj numer miesiąca: ')\n",
    "m = int(m)\n",
    "\n",
    "if m == 1:\n",
    "  print('styczeń')\n",
    "elif m == 2:\n",
    "  print('luty')\n",
    "elif m == 3:\n",
    "  print('marzec')\n",
    "elif m == 4:\n",
    "  print('kwiecień')\n",
    "elif m == 5:\n",
    "  print('maj')\n",
    "elif m == 6:\n",
    "  print('czerwiec')\n",
    "elif m == 7:\n",
    "  print('lipiec')\n",
    "elif m == 8:\n",
    "  print('sierpień')\n",
    "elif m == 9:\n",
    "  print('wrzesień')\n",
    "elif m == 10:\n",
    "  print('październik')\n",
    "elif m == 11:\n",
    "  print('listopad')\n",
    "elif m == 12:\n",
    "  print('grudzień')\n",
    "else:\n",
    "  print('??????')\n"
   ]
  },
  {
   "cell_type": "markdown",
   "metadata": {
    "deletable": false,
    "editable": false,
    "nbgrader": {
     "cell_type": "markdown",
     "checksum": "867d264a9482b8de74dde12059b8c6e6",
     "grade": false,
     "grade_id": "cell-39372ea79de47575",
     "locked": true,
     "schema_version": 3,
     "solution": false
    },
    "id": "OVoE_JHimo53"
   },
   "source": [
    "### Pętle: `while`, `for`\n",
    "W Pythonie mamy kilka rodzajów petli. Zawartość bloków instrukcji ustalana jest na podstawie wcięć.\n",
    "\n",
    "### Pętla `while`\n",
    "Struktura składni ma postać:\n",
    "\n",
    "```python\n",
    "while warunek:\n",
    "\tinstrukcje\n",
    "```\n",
    "Określ czy warunek jest `True` lub `False`. Jeżeli jest fałszywy zakończ instrukcję `while` i przejdź dalej. Jeżeli warunek prawdziwy wykonaj `instrukcje` i znowu sprawdź warunek. Zawartość bloku instrukcji ustalana jest na podstawie wcięć."
   ]
  },
  {
   "cell_type": "code",
   "execution_count": null,
   "metadata": {
    "colab": {
     "base_uri": "https://localhost:8080/"
    },
    "id": "99ME7j9qmo54",
    "executionInfo": {
     "status": "ok",
     "timestamp": 1677886873563,
     "user_tz": -60,
     "elapsed": 240,
     "user": {
      "displayName": "Kinga Gajek",
      "userId": "01215373408593541942"
     }
    },
    "outputId": "11bdc0b7-f239-4116-afac-cba68e2aa0e4"
   },
   "outputs": [
    {
     "output_type": "stream",
     "name": "stdout",
     "text": [
      "0 1 2 3 4 5 6 7 8 9 "
     ]
    }
   ],
   "source": [
    "i=0\n",
    "while i < 10: #sprawdź warunek, jeżeli True wykonuj instrukcje w bloku i znowu sprawdź warunek\n",
    "    print(i, end=' ') \n",
    "    i=i+1  # mozna krócej i+=1, Uwaga: nie ma czegoś takiego jak w C: i++"
   ]
  },
  {
   "cell_type": "markdown",
   "metadata": {
    "deletable": false,
    "editable": false,
    "nbgrader": {
     "cell_type": "markdown",
     "checksum": "efce9b78de60837b85c98a0c431a6d4e",
     "grade": false,
     "grade_id": "cell-bd9c59931078ffbb",
     "locked": true,
     "schema_version": 3,
     "solution": false
    },
    "id": "brnwN7VCmo54"
   },
   "source": [
    "### Pętla `for`\n",
    "Pętla `for` w języku Python działa jak pętla `foreach` w niektórych innych językach i składa się z dwóch słów kluczowych `for` oraz `in`. \n",
    "\n",
    "Struktura składni ma postać:\n",
    "```python\n",
    "for zmienna in zbiór_wartości:\n",
    "\tinstrukcje\n",
    "```\n",
    "Wykonuje iteracje po wszystkich elementach zbioru (napis, lista, tupla, słownik)."
   ]
  },
  {
   "cell_type": "code",
   "execution_count": null,
   "metadata": {
    "colab": {
     "base_uri": "https://localhost:8080/"
    },
    "id": "TqNclu9Cmo54",
    "executionInfo": {
     "status": "ok",
     "timestamp": 1677886877874,
     "user_tz": -60,
     "elapsed": 241,
     "user": {
      "displayName": "Kinga Gajek",
      "userId": "01215373408593541942"
     }
    },
    "outputId": "2deaa742-f124-40a0-a278-7ef5f306dfd4"
   },
   "outputs": [
    {
     "output_type": "stream",
     "name": "stdout",
     "text": [
      "1 2 6 7 "
     ]
    }
   ],
   "source": [
    "for i in [1,2,6,7]:\n",
    "    print(i, end=' ')"
   ]
  },
  {
   "cell_type": "markdown",
   "metadata": {
    "deletable": false,
    "editable": false,
    "nbgrader": {
     "cell_type": "markdown",
     "checksum": "626093e2418274f126130b6e139547f6",
     "grade": false,
     "grade_id": "cell-f3471bc89b45760d",
     "locked": true,
     "schema_version": 3,
     "solution": false
    },
    "id": "2iM18jeqmo54"
   },
   "source": [
    "Iterować można nie tylko po listach, ale po wszystkim co posiada jakieś elementy np. tekstach."
   ]
  },
  {
   "cell_type": "code",
   "execution_count": null,
   "metadata": {
    "colab": {
     "base_uri": "https://localhost:8080/"
    },
    "id": "NrOs2nA_mo54",
    "executionInfo": {
     "status": "ok",
     "timestamp": 1677886883357,
     "user_tz": -60,
     "elapsed": 376,
     "user": {
      "displayName": "Kinga Gajek",
      "userId": "01215373408593541942"
     }
    },
    "outputId": "c321a2b9-6782-4d42-f019-d4f2e4e13024"
   },
   "outputs": [
    {
     "output_type": "stream",
     "name": "stdout",
     "text": [
      "i n f o r m a t y k a "
     ]
    }
   ],
   "source": [
    "for litera in 'informatyka':\n",
    "    print(litera, end=' ')"
   ]
  },
  {
   "cell_type": "markdown",
   "metadata": {
    "deletable": false,
    "editable": false,
    "nbgrader": {
     "cell_type": "markdown",
     "checksum": "680a2f6c386ea789e74aebbbee102e7c",
     "grade": false,
     "grade_id": "cell-a87a1b17998c28c7",
     "locked": true,
     "schema_version": 3,
     "solution": false
    },
    "id": "Skss3d35mo55"
   },
   "source": [
    "### Funkcja `range`\n",
    "Przydatnym obiektem przy używaniu pętli jest obiekt `range()`. Funkcja `range()` tworzy listę wartości z przedziału określonego przez trzy argumenty: poczatek, koniec, przyrost."
   ]
  },
  {
   "cell_type": "code",
   "execution_count": null,
   "metadata": {
    "colab": {
     "base_uri": "https://localhost:8080/"
    },
    "id": "90mW6Po7mo55",
    "executionInfo": {
     "status": "ok",
     "timestamp": 1677886895546,
     "user_tz": -60,
     "elapsed": 265,
     "user": {
      "displayName": "Kinga Gajek",
      "userId": "01215373408593541942"
     }
    },
    "outputId": "bc4c08cd-6bed-4752-8ed4-d82a09e925c7"
   },
   "outputs": [
    {
     "output_type": "execute_result",
     "data": {
      "text/plain": [
       "range(0, 100)"
      ]
     },
     "metadata": {},
     "execution_count": 80
    }
   ],
   "source": [
    "range(100)  # generator przedziału liczb całkowitych od 0 do 99 (100 elementow)"
   ]
  },
  {
   "cell_type": "code",
   "execution_count": null,
   "metadata": {
    "colab": {
     "base_uri": "https://localhost:8080/"
    },
    "id": "4-Hzb4eemo55",
    "executionInfo": {
     "status": "ok",
     "timestamp": 1677886899680,
     "user_tz": -60,
     "elapsed": 235,
     "user": {
      "displayName": "Kinga Gajek",
      "userId": "01215373408593541942"
     }
    },
    "outputId": "d9fca6a1-a37f-4dd5-af9e-df9a3309b586"
   },
   "outputs": [
    {
     "output_type": "execute_result",
     "data": {
      "text/plain": [
       "range(5, 80)"
      ]
     },
     "metadata": {},
     "execution_count": 81
    }
   ],
   "source": [
    "range(5,80)  # generator przedziału liczb całkowitych od 5 do 79"
   ]
  },
  {
   "cell_type": "code",
   "execution_count": null,
   "metadata": {
    "colab": {
     "base_uri": "https://localhost:8080/"
    },
    "id": "q1Cl8aN2mo55",
    "executionInfo": {
     "status": "ok",
     "timestamp": 1677886902131,
     "user_tz": -60,
     "elapsed": 322,
     "user": {
      "displayName": "Kinga Gajek",
      "userId": "01215373408593541942"
     }
    },
    "outputId": "e077e7d6-724b-4485-c22b-697ceb608c44"
   },
   "outputs": [
    {
     "output_type": "execute_result",
     "data": {
      "text/plain": [
       "range(5, 80, 2)"
      ]
     },
     "metadata": {},
     "execution_count": 82
    }
   ],
   "source": [
    "range(5, 80, 2) # generator przedziału  liczb całkowitych od 5 do 79 z krokiem 2"
   ]
  },
  {
   "cell_type": "code",
   "execution_count": null,
   "metadata": {
    "colab": {
     "base_uri": "https://localhost:8080/"
    },
    "id": "nO0jhgtSmo55",
    "executionInfo": {
     "status": "ok",
     "timestamp": 1677886903411,
     "user_tz": -60,
     "elapsed": 7,
     "user": {
      "displayName": "Kinga Gajek",
      "userId": "01215373408593541942"
     }
    },
    "outputId": "82bccf4f-2722-4b0b-af6c-0fe8e8d7dd7d"
   },
   "outputs": [
    {
     "output_type": "stream",
     "name": "stdout",
     "text": [
      "5 8 11 14 17 20 23 26 29 32 35 38 41 44 47 50 53 56 59 62 65 68 71 74 77 80 83 86 89 92 95 98 "
     ]
    }
   ],
   "source": [
    "for el in range(5,99,3):\n",
    "    print(el, end=' ')"
   ]
  },
  {
   "cell_type": "markdown",
   "metadata": {
    "deletable": false,
    "editable": false,
    "nbgrader": {
     "cell_type": "markdown",
     "checksum": "acb18651057543a98eef3c68104eea8c",
     "grade": false,
     "grade_id": "cell-5bffeee8d09e50a5",
     "locked": true,
     "schema_version": 3,
     "solution": false
    },
    "id": "URJimH8wmo56"
   },
   "source": [
    "### Funkcja enumerate\n",
    "Równie przydatne jest słowo kluczowe `enumerate`, które dodaje do obiektu iterowanego pozycje elementów"
   ]
  },
  {
   "cell_type": "code",
   "execution_count": null,
   "metadata": {
    "colab": {
     "base_uri": "https://localhost:8080/"
    },
    "id": "c0Zl062Fmo56",
    "executionInfo": {
     "status": "ok",
     "timestamp": 1677886924191,
     "user_tz": -60,
     "elapsed": 246,
     "user": {
      "displayName": "Kinga Gajek",
      "userId": "01215373408593541942"
     }
    },
    "outputId": "94cbfa23-9eec-4ccc-988f-859851955d4c"
   },
   "outputs": [
    {
     "output_type": "execute_result",
     "data": {
      "text/plain": [
       "<enumerate at 0x7f24336ea940>"
      ]
     },
     "metadata": {},
     "execution_count": 84
    }
   ],
   "source": [
    "enumerate(['a','b','c'])  # z listy ['a','b','c'] otrzymujemu liste postaci [(0,'a'), (1,'b'), (2,'c')]"
   ]
  },
  {
   "cell_type": "code",
   "execution_count": null,
   "metadata": {
    "colab": {
     "base_uri": "https://localhost:8080/"
    },
    "id": "QzKAS8w6mo56",
    "executionInfo": {
     "status": "ok",
     "timestamp": 1677886927371,
     "user_tz": -60,
     "elapsed": 3,
     "user": {
      "displayName": "Kinga Gajek",
      "userId": "01215373408593541942"
     }
    },
    "outputId": "fda86c56-2c91-40bf-8ba7-ab93749cf946"
   },
   "outputs": [
    {
     "output_type": "stream",
     "name": "stdout",
     "text": [
      "0 a\n",
      "1 b\n",
      "2 c\n"
     ]
    }
   ],
   "source": [
    "abc = ['a','b','c']\n",
    "for index, element in enumerate(abc):\n",
    "    print(index, element)"
   ]
  },
  {
   "cell_type": "code",
   "execution_count": null,
   "metadata": {
    "colab": {
     "base_uri": "https://localhost:8080/"
    },
    "id": "IH0ooY_hmo56",
    "executionInfo": {
     "status": "ok",
     "timestamp": 1677886934043,
     "user_tz": -60,
     "elapsed": 226,
     "user": {
      "displayName": "Kinga Gajek",
      "userId": "01215373408593541942"
     }
    },
    "outputId": "7aa880f1-c2f9-4e8f-cc2d-5ae5723185e4"
   },
   "outputs": [
    {
     "output_type": "stream",
     "name": "stdout",
     "text": [
      "1 1 3\n",
      "2 1 3\n",
      "3 1 3\n"
     ]
    }
   ],
   "source": [
    "# możliwe jest również coś takiego \n",
    "abc = [[1,1,3],[2,1,3],[3,1,3]]\n",
    "for x, y, z in abc:\n",
    "    print(x,y,z)"
   ]
  },
  {
   "cell_type": "markdown",
   "metadata": {
    "id": "ciMBSw7tmo56"
   },
   "source": [
    "### Przerywanie pętli lub pomijanie iteracji, słowa kluczowe `break`, `continue`, `else`"
   ]
  },
  {
   "cell_type": "code",
   "execution_count": null,
   "metadata": {
    "colab": {
     "base_uri": "https://localhost:8080/"
    },
    "id": "opoijghYmo56",
    "executionInfo": {
     "status": "ok",
     "timestamp": 1677886947075,
     "user_tz": -60,
     "elapsed": 232,
     "user": {
      "displayName": "Kinga Gajek",
      "userId": "01215373408593541942"
     }
    },
    "outputId": "77d9550e-9b46-4819-ebb5-d32e073618b4"
   },
   "outputs": [
    {
     "output_type": "stream",
     "name": "stdout",
     "text": [
      "0 1 2 3 4 5 6 7 8 9 10 "
     ]
    }
   ],
   "source": [
    "# przerywanie pętli while\n",
    "i=0\n",
    "while True:\n",
    "    print(i, end=' ')\n",
    "    i+=1\n",
    "    if i>10:\n",
    "        break  #przerwanie"
   ]
  },
  {
   "cell_type": "code",
   "execution_count": null,
   "metadata": {
    "colab": {
     "base_uri": "https://localhost:8080/"
    },
    "id": "NyPFcxjumo57",
    "executionInfo": {
     "status": "ok",
     "timestamp": 1677886950527,
     "user_tz": -60,
     "elapsed": 238,
     "user": {
      "displayName": "Kinga Gajek",
      "userId": "01215373408593541942"
     }
    },
    "outputId": "ee55e9db-fa1a-457c-8b4b-d24929c8aecc"
   },
   "outputs": [
    {
     "output_type": "stream",
     "name": "stdout",
     "text": [
      "_ 1 2 _ 4 5 _ 7 8 _ 10 "
     ]
    }
   ],
   "source": [
    "# pomijanie iteracji w pętli while\n",
    "i=0\n",
    "while True:\n",
    "    if i % 3 == 0:\n",
    "        i+=1\n",
    "        print('_', end=' ')\n",
    "        continue #przejście do następnej iteracji\n",
    "    print(i, end=' ')\n",
    "    i+=1\n",
    "    if i>10:\n",
    "        break    #przerwanie"
   ]
  },
  {
   "cell_type": "code",
   "execution_count": null,
   "metadata": {
    "colab": {
     "base_uri": "https://localhost:8080/"
    },
    "id": "nYWGIOz8mo57",
    "executionInfo": {
     "status": "ok",
     "timestamp": 1677886954155,
     "user_tz": -60,
     "elapsed": 217,
     "user": {
      "displayName": "Kinga Gajek",
      "userId": "01215373408593541942"
     }
    },
    "outputId": "4be7b550-220b-461c-bcd4-d472ad3f187d"
   },
   "outputs": [
    {
     "output_type": "stream",
     "name": "stdout",
     "text": [
      "0 1 4 9 16 25 36 49 64 81 100 121 144 169 196 225 256 289 324 361 400 441 484 529 576 625 676 729 784 841 900 961 1024 1089 1156 1225 1296 1369 1444 1521 1600 1681 1764 1849 1936 2025 2116 2209 2304 2401 2500 2601 2704 2809 2916 3025 3136 3249 3364 3481 3600 3721 3844 3969 4096 "
     ]
    }
   ],
   "source": [
    "# przerwanie pętli for\n",
    "for i in range(100):\n",
    "    print(i*i, end=' ')\n",
    "    if i*i > 4000:\n",
    "        break    #przerwanie"
   ]
  },
  {
   "cell_type": "code",
   "execution_count": null,
   "metadata": {
    "colab": {
     "base_uri": "https://localhost:8080/"
    },
    "id": "U22yvrh4mo57",
    "executionInfo": {
     "status": "ok",
     "timestamp": 1677886959263,
     "user_tz": -60,
     "elapsed": 291,
     "user": {
      "displayName": "Kinga Gajek",
      "userId": "01215373408593541942"
     }
    },
    "outputId": "b41d685c-d6c6-4262-d6f1-b7a2ca8b7411"
   },
   "outputs": [
    {
     "output_type": "stream",
     "name": "stdout",
     "text": [
      "0 1 4 9 16 25 _ _ _ _ _ _ _ _ _ _ _ _ _ _ _ _ _ _ _ 625 676 729 784 841 900 961 1024 1089 1156 1225 1296 1369 1444 1521 1600 1681 1764 1849 1936 2025 2116 2209 2304 2401 2500 2601 2704 2809 2916 3025 3136 3249 3364 3481 3600 3721 3844 3969 4096 "
     ]
    }
   ],
   "source": [
    "# pomijanie iteracji w pętli for\n",
    "for i in range(100):\n",
    "    if 5 < i < 25:\n",
    "        print('_', end=' ')\n",
    "        continue #przejście do następnej iteracji\n",
    "    print(i*i, end=' ')\n",
    "    if i*i > 4000:\n",
    "        break    #przerwanie"
   ]
  },
  {
   "cell_type": "markdown",
   "metadata": {
    "deletable": false,
    "editable": false,
    "nbgrader": {
     "cell_type": "markdown",
     "checksum": "329fd8385af314e808c3171838c3247d",
     "grade": false,
     "grade_id": "cell-154f0e607ff713d2",
     "locked": true,
     "schema_version": 3,
     "solution": false,
     "task": false
    },
    "id": "yUBy3IKvmo57"
   },
   "source": [
    "W pętlach można używać klauzuli `else` która jest wykonywana gdy wyczerpane zostaną elementy po których iterujemy (pętla `for`) lub gdy warunek przyjmie wartość negatywną dla pętli `while` (nie dotyczy to przypadków gdy wyjście z pętli spowodowane jest przez `break`)"
   ]
  },
  {
   "cell_type": "code",
   "execution_count": null,
   "metadata": {
    "colab": {
     "base_uri": "https://localhost:8080/"
    },
    "id": "Nf1oqYu4mo57",
    "executionInfo": {
     "status": "ok",
     "timestamp": 1677886965634,
     "user_tz": -60,
     "elapsed": 229,
     "user": {
      "displayName": "Kinga Gajek",
      "userId": "01215373408593541942"
     }
    },
    "outputId": "03df8f4f-4567-4b79-8dc9-5b483065cb7f"
   },
   "outputs": [
    {
     "output_type": "stream",
     "name": "stdout",
     "text": [
      "2 jest liczbą pierwszą\n",
      "3 jest liczbą pierwszą\n",
      "4 równa się 2 * 2\n",
      "5 jest liczbą pierwszą\n",
      "6 równa się 2 * 3\n",
      "7 jest liczbą pierwszą\n",
      "8 równa się 2 * 4\n",
      "9 równa się 3 * 3\n",
      "10 równa się 2 * 5\n"
     ]
    }
   ],
   "source": [
    "# użycie klauzuli else w pętli for\n",
    "for liczba in range(2,11):\n",
    "    for i in range(2,liczba):\n",
    "        if liczba%i == 0:\n",
    "            print(liczba,'równa się',i,'*',liczba//i)\n",
    "            break    #przerwanie\n",
    "    else:\n",
    "        # wyjście z pętli bez znalezienia dzielnika\n",
    "        print(liczba,'jest liczbą pierwszą')     "
   ]
  },
  {
   "cell_type": "markdown",
   "metadata": {
    "deletable": false,
    "editable": false,
    "nbgrader": {
     "cell_type": "markdown",
     "checksum": "9a2abbecfdb90ccb81f51c7090ae90fe",
     "grade": false,
     "grade_id": "cell-5942d837e637b587",
     "locked": true,
     "schema_version": 3,
     "solution": false
    },
    "id": "cGQ3broXmo57"
   },
   "source": [
    "### Ćwiczenie 7\n",
    "Wyznacz średnią arytmetyczną liczb naturalnych $v$ mniejszych lub równych od zadanej liczby naturalnej $k$, $k\\geq2$ i spełniających warunek:\n",
    "$$ \\frac{v^{2}}{2}-v \\geq k$$ \n",
    "$$v=1,2, ...k$$"
   ]
  },
  {
   "cell_type": "code",
   "execution_count": null,
   "metadata": {
    "deletable": false,
    "nbgrader": {
     "cell_type": "code",
     "checksum": "54bc135f053e184d335842e9eebf5f1c",
     "grade": true,
     "grade_id": "cell-7530aa043efb6088",
     "locked": false,
     "points": 0,
     "schema_version": 3,
     "solution": true
    },
    "colab": {
     "base_uri": "https://localhost:8080/"
    },
    "id": "CxmAIApBmo58",
    "executionInfo": {
     "status": "ok",
     "timestamp": 1677888165421,
     "user_tz": -60,
     "elapsed": 2279,
     "user": {
      "displayName": "Kinga Gajek",
      "userId": "01215373408593541942"
     }
    },
    "outputId": "c6510602-2a42-4992-e307-608f4d4536cb"
   },
   "outputs": [
    {
     "output_type": "stream",
     "name": "stdout",
     "text": [
      "Podaj k = 10\n",
      "średnia = 8.0\n"
     ]
    }
   ],
   "source": [
    "import math\n",
    "k = input('Podaj k = ')\n",
    "k = int(k)\n",
    "srednia, ilosc, suma = 0, 0, 0\n",
    "\n",
    "if k >= 2:\n",
    "  for v in range(1,k+1):\n",
    "    if (pow(v, 2)/2 - v) >= k:\n",
    "      ilosc = ilosc + 1\n",
    "      suma = suma + v\n",
    "      srednia = suma/ilosc\n",
    "  print('średnia =', srednia)\n",
    "else:\n",
    "  print('Błąd! k < 2')"
   ]
  },
  {
   "cell_type": "markdown",
   "metadata": {
    "deletable": false,
    "editable": false,
    "nbgrader": {
     "cell_type": "markdown",
     "checksum": "77660199f0e2432f9ae4a1ccceda64b5",
     "grade": false,
     "grade_id": "cell-3e73d41a914dfc5d",
     "locked": true,
     "schema_version": 3,
     "solution": false
    },
    "id": "NbZyX9_imo58"
   },
   "source": [
    "## Zadanie 1\n",
    "Napisz program, który obliczy pole oraz objętość torusa. Użyj stałej $\\pi$ z biblioteki `math`.\n",
    "\n",
    "https://pl.wikipedia.org/wiki/Torus_(matematyka)"
   ]
  },
  {
   "cell_type": "code",
   "execution_count": null,
   "metadata": {
    "deletable": false,
    "nbgrader": {
     "cell_type": "code",
     "checksum": "15ab28db29755187a05ad6d159390072",
     "grade": true,
     "grade_id": "cell-99aa0016d90ebf26",
     "locked": false,
     "points": 1,
     "schema_version": 3,
     "solution": true
    },
    "colab": {
     "base_uri": "https://localhost:8080/"
    },
    "id": "n3srGutcmo58",
    "executionInfo": {
     "status": "ok",
     "timestamp": 1677888793347,
     "user_tz": -60,
     "elapsed": 3448,
     "user": {
      "displayName": "Kinga Gajek",
      "userId": "01215373408593541942"
     }
    },
    "outputId": "3300c773-c3b9-4d50-f0a6-29605e86050e"
   },
   "outputs": [
    {
     "output_type": "stream",
     "name": "stdout",
     "text": [
      "Podaj promień okręgu definującego torus: \n",
      "4\n",
      "Podaj odległość środka okręgu od osi obrotu: \n",
      "6\n",
      "pole S = 947.4820225045784\n",
      "objętość V = 1894.9640450091567\n"
     ]
    }
   ],
   "source": [
    "import math\n",
    "\n",
    "print('Podaj promień okręgu definującego torus: ')\n",
    "r = input()\n",
    "r = float(r)\n",
    "print('Podaj odległość środka okręgu od osi obrotu: ')\n",
    "R = input()\n",
    "R = float(R)\n",
    "\n",
    "S = 4*pow(pi, 2)*r*R\n",
    "print('pole S =', S)\n",
    "\n",
    "V = 2*pow(pi, 2)*R*pow(r, 2)\n",
    "print('objętość V =', V)"
   ]
  },
  {
   "cell_type": "markdown",
   "metadata": {
    "deletable": false,
    "editable": false,
    "nbgrader": {
     "cell_type": "markdown",
     "checksum": "81625ed8e24c989fd25f6c749daf8d64",
     "grade": false,
     "grade_id": "cell-aeecbd849dd010c3",
     "locked": true,
     "schema_version": 3,
     "solution": false
    },
    "id": "BkzwjYqDmo59"
   },
   "source": [
    "## Zadanie 2\n",
    "Napisz program, który zaokrągli podaną liczbę w górę do podanej liczby miejsc po przecinku."
   ]
  },
  {
   "cell_type": "code",
   "execution_count": null,
   "metadata": {
    "deletable": false,
    "nbgrader": {
     "cell_type": "code",
     "checksum": "089c8bceebc37f7828a0f60f27787550",
     "grade": true,
     "grade_id": "cell-5f90b4090ae915a9",
     "locked": false,
     "points": 1,
     "schema_version": 3,
     "solution": true
    },
    "colab": {
     "base_uri": "https://localhost:8080/"
    },
    "id": "iSwcabQXmo59",
    "outputId": "f848cada-5d26-447e-8a12-60a58e71fa09",
    "executionInfo": {
     "status": "ok",
     "timestamp": 1677889569323,
     "user_tz": -60,
     "elapsed": 16181,
     "user": {
      "displayName": "Kinga Gajek",
      "userId": "01215373408593541942"
     }
    }
   },
   "outputs": [
    {
     "output_type": "stream",
     "name": "stdout",
     "text": [
      "Podaj liczbę: \n",
      "3.1234521\n",
      "Podaj liczbę miejsc po przecinku: \n",
      "5\n",
      "zaokrąglona liczba = 3.12346\n"
     ]
    }
   ],
   "source": [
    "import math\n",
    "\n",
    "print('Podaj liczbę: ')\n",
    "liczba = input()\n",
    "liczba = float(liczba)\n",
    "print('Podaj liczbę miejsc po przecinku: ')\n",
    "miejsca = input()\n",
    "miejsca = int(miejsca)\n",
    "liczba = math.ceil(liczba * pow(10, miejsca)) / pow(10, miejsca)\n",
    "print('zaokrąglona liczba =', liczba)\n",
    "\n"
   ]
  },
  {
   "cell_type": "markdown",
   "metadata": {
    "deletable": false,
    "editable": false,
    "nbgrader": {
     "cell_type": "markdown",
     "checksum": "d0d1c66324b8cf80514051d909796cda",
     "grade": false,
     "grade_id": "cell-8c114cde9f472c41",
     "locked": true,
     "schema_version": 3,
     "solution": false
    },
    "id": "FlY0K2oFmo59"
   },
   "source": [
    "## Zadanie 3\n",
    "Dana jest liczba $i$ typu `int` oraz liczba $x$ typu `float`. Wyprowadź wartości tych liczb w formatach jak pokazano na przykładzie poniżej (10 pól):\n",
    "\n",
    "```\n",
    "Podaj liczbę całkowią i = 1\n",
    "Podaj liczbę rzeczywistą x = 2.5\n",
    "\n",
    "Formaty przekształcenia dla liczb całkowitych:\n",
    "i |1|\n",
    "i |         1|\n",
    "i |        +1|\n",
    "i |1         |\n",
    "i |0000000001|\n",
    "i |     00001|\n",
    "\n",
    "Formaty przekształcenia dla liczb rzeczywistych:\n",
    "x |2.5|\n",
    "x |       2.5|\n",
    "x |   +2.5000|\n",
    "x |2.5000    |\n",
    "x |00002.5000|\n",
    "x |2.5000e+00|\n",
    "```\n"
   ]
  },
  {
   "cell_type": "code",
   "execution_count": null,
   "metadata": {
    "deletable": false,
    "nbgrader": {
     "cell_type": "code",
     "checksum": "aa15332b58b9784a501c4611f7b75806",
     "grade": true,
     "grade_id": "cell-4eaff50991eca65f",
     "locked": false,
     "points": 1,
     "schema_version": 3,
     "solution": true
    },
    "id": "XldB4wY-mo59",
    "colab": {
     "base_uri": "https://localhost:8080/"
    },
    "executionInfo": {
     "status": "ok",
     "timestamp": 1677891320506,
     "user_tz": -60,
     "elapsed": 4165,
     "user": {
      "displayName": "Kinga Gajek",
      "userId": "01215373408593541942"
     }
    },
    "outputId": "374d828c-9edc-494c-cd67-cb9ab383e79d"
   },
   "outputs": [
    {
     "output_type": "stream",
     "name": "stdout",
     "text": [
      "Podaj liczbę całkowią i = 1\n",
      "Podaj liczbę rzeczywistą x = 2.5\n",
      "Formaty przekształcenia dla liczb całkowitych:\n",
      "i |1|\n",
      "i |         1|\n",
      "i |        +1|\n",
      "i |1         |\n",
      "i |0000000001|\n",
      "i |     00001|\n",
      "Formaty przekształcenia dla liczb rzeczywistych:\n",
      "x |2.5|\n",
      "x |       2.5|\n",
      "x |   +2.5000|\n",
      "x |2.5000    |\n",
      "x |2.5000e+00|\n"
     ]
    }
   ],
   "source": [
    "i = input('Podaj liczbę całkowią i = ')\n",
    "i = int(i)\n",
    "x = input('Podaj liczbę rzeczywistą x = ')\n",
    "x = float(x)\n",
    "\n",
    "print('Formaty przekształcenia dla liczb całkowitych:')\n",
    "print('i |%d|' % i)\n",
    "print('i |%10d|' % i)\n",
    "print('i |%+10d|' % i)\n",
    "print('i |%-10d|' % i)\n",
    "print('i |%010d|' % i)\n",
    "print('i |%10.5d|' % i)\n",
    "\n",
    "print('Formaty przekształcenia dla liczb rzeczywistych:')\n",
    "print('x |%.1f|' %x)\n",
    "print('x |%10.1f|' %x)\n",
    "print('x |%+10.4f|' %x)\n",
    "print('x |%-10.4f|' %x)\n",
    "print('x |%10.4e|' %x)"
   ]
  },
  {
   "cell_type": "markdown",
   "metadata": {
    "deletable": false,
    "editable": false,
    "nbgrader": {
     "cell_type": "markdown",
     "checksum": "1514aa1a4da7e1513689e4f78c579b7b",
     "grade": false,
     "grade_id": "cell-01780820da67534f",
     "locked": true,
     "schema_version": 3,
     "solution": false
    },
    "id": "FRZGCCadmo5-"
   },
   "source": [
    "## Zadanie 4\n",
    "Napisz program, który we wprowadzonym tekście wyeliminuje wszystkie samogłoski i w ich miejsce wstawi podany przez użytkownika znak. Wypisz na ekran tekst po zmianie oraz liczbę zamienionych liter."
   ]
  },
  {
   "cell_type": "code",
   "execution_count": null,
   "metadata": {
    "deletable": false,
    "nbgrader": {
     "cell_type": "code",
     "checksum": "ad3981b027f45b71fbce509fdd153f70",
     "grade": true,
     "grade_id": "cell-a4a3a6d6013148c5",
     "locked": false,
     "points": 1,
     "schema_version": 3,
     "solution": true
    },
    "id": "BNcFHmkcmo5-",
    "colab": {
     "base_uri": "https://localhost:8080/"
    },
    "executionInfo": {
     "status": "ok",
     "timestamp": 1677894776841,
     "user_tz": -60,
     "elapsed": 5238,
     "user": {
      "displayName": "Kinga Gajek",
      "userId": "01215373408593541942"
     }
    },
    "outputId": "d8f4b095-ab97-45bd-831b-5129fb2594bf"
   },
   "outputs": [
    {
     "output_type": "stream",
     "name": "stdout",
     "text": [
      "Wprowadź tekst: samogloski\n",
      "Wprowadź znak: x\n",
      "Nowy tekst:  sxmxglxskx\n",
      "Liczba zmienionych liter:  4\n"
     ]
    }
   ],
   "source": [
    "text = input('Wprowadź tekst: ')\n",
    "znak = input('Wprowadź znak: ')\n",
    "\n",
    "samogloski = 'aeiouyAEIOUY'\n",
    "nowy_text = ''\n",
    "licznik = 0\n",
    "\n",
    "for litera in text:\n",
    "  if litera in samogloski:\n",
    "    nowy_text += znak\n",
    "    licznik += 1  \n",
    "  else:\n",
    "    nowy_text += litera\n",
    "\n",
    "print('Nowy tekst: ', nowy_text)\n",
    "print('Liczba zmienionych liter: ', licznik)"
   ]
  },
  {
   "cell_type": "markdown",
   "metadata": {
    "deletable": false,
    "editable": false,
    "nbgrader": {
     "cell_type": "markdown",
     "checksum": "65859f8d70b204156dc87b0e685f01bb",
     "grade": false,
     "grade_id": "cell-aeecbd849dd010c3c4",
     "locked": true,
     "schema_version": 3,
     "solution": false
    },
    "id": "NpiJ1c--mo5-"
   },
   "source": [
    "## Zadanie 5\n",
    "Dane są dwa teksty. Napisz program, który dołączy fragment tekstu pierwszego od znaku o podanej pozycji na koniec tekstu drugiego oraz poda liczbę słów w nowo utworzonym tekscie. Zakładamy, że słowa rozdziela spacja `(' ')`."
   ]
  },
  {
   "cell_type": "code",
   "execution_count": null,
   "metadata": {
    "deletable": false,
    "nbgrader": {
     "cell_type": "code",
     "checksum": "737266f90c3bc605e2eff6c6b778a39f",
     "grade": true,
     "grade_id": "cell-5f90b4090ae915a1",
     "locked": false,
     "points": 1,
     "schema_version": 3,
     "solution": true
    },
    "id": "Dw9T6UNVmo5-",
    "colab": {
     "base_uri": "https://localhost:8080/"
    },
    "executionInfo": {
     "status": "ok",
     "timestamp": 1677895657431,
     "user_tz": -60,
     "elapsed": 30326,
     "user": {
      "displayName": "Kinga Gajek",
      "userId": "01215373408593541942"
     }
    },
    "outputId": "9329d5ce-0a7f-4538-b801-2a0b98c8ee1f"
   },
   "outputs": [
    {
     "output_type": "stream",
     "name": "stdout",
     "text": [
      "Wprowadź tekst_1: ala ma kota\n",
      "Wprowadź tekst_2: kasia ma psa ale nie\n",
      "Podaj pozycję znaku w tekst_1: 5\n",
      "nowy tekst:  kasia ma psa ale nie a kota\n",
      "liczba słów:  7\n"
     ]
    }
   ],
   "source": [
    "text_1 = input('Wprowadź tekst_1: ')\n",
    "text_2 = input('Wprowadź tekst_2: ')\n",
    "p = input('Podaj pozycję znaku w tekst_1: ')\n",
    "p=int(p)\n",
    "\n",
    "text = text_2 + ' ' + text_1[p:len(text_1)]\n",
    "liczba_slow = len(text.split())\n",
    "print('nowy tekst: ', text)\n",
    "print('liczba słów: ', liczba_slow)"
   ]
  },
  {
   "cell_type": "markdown",
   "metadata": {
    "deletable": false,
    "editable": false,
    "nbgrader": {
     "cell_type": "markdown",
     "checksum": "4bc97967fe285f353b9525456400f9d0",
     "grade": false,
     "grade_id": "cell-093f3217226d4abc",
     "locked": true,
     "schema_version": 3,
     "solution": false
    },
    "id": "fRxMAjBPmo5-"
   },
   "source": [
    "## Zadanie 6\n",
    "Dany jest przedział $[p1,p2]$ liczb naturalnych oraz liczba naturalna $p$ z jego wnętrza. Utwórz sumę liczb naturalnych z przedziału $<p1,p>$ oraz iloczyn pozostałych liczb."
   ]
  },
  {
   "cell_type": "code",
   "execution_count": null,
   "metadata": {
    "deletable": false,
    "nbgrader": {
     "cell_type": "code",
     "checksum": "cffcb3ea5c2ea475d86f605d16f6a0a1",
     "grade": true,
     "grade_id": "cell-bcdcb194e012da23",
     "locked": false,
     "points": 1,
     "schema_version": 3,
     "solution": true
    },
    "id": "asIrJ-DAmo5_",
    "colab": {
     "base_uri": "https://localhost:8080/"
    },
    "executionInfo": {
     "status": "ok",
     "timestamp": 1677896027448,
     "user_tz": -60,
     "elapsed": 233,
     "user": {
      "displayName": "Kinga Gajek",
      "userId": "01215373408593541942"
     }
    },
    "outputId": "9e1c17aa-a7d9-4bc3-dcae-50c31a4fe947"
   },
   "outputs": [
    {
     "output_type": "stream",
     "name": "stdout",
     "text": [
      "suma = 6\n",
      "iloczyn = 6720\n"
     ]
    }
   ],
   "source": [
    "# wprowadz p1\n",
    "p1 = 1\n",
    "# wprowadz p2\n",
    "p2 = 8\n",
    "# wprowadz p\n",
    "p = 3\n",
    "\n",
    "suma = 0\n",
    "iloczyn = 1\n",
    "\n",
    "for i in range (p1, p+1):\n",
    "  suma += i\n",
    "\n",
    "for i in range (p+1, p2+1):\n",
    "  iloczyn *= i\n",
    "\n",
    "print('suma =', suma)\n",
    "print('iloczyn =', iloczyn)"
   ]
  },
  {
   "cell_type": "markdown",
   "metadata": {
    "deletable": false,
    "editable": false,
    "nbgrader": {
     "cell_type": "markdown",
     "checksum": "3b8e51f679160593c7c69bfa3a265884",
     "grade": false,
     "grade_id": "cell-21a9c5df44cff69g",
     "locked": true,
     "schema_version": 3,
     "solution": false
    },
    "id": "1d_jloFfmo5_"
   },
   "source": [
    "## Zadanie 7\n",
    "Napisz program, który pyta użytkownika o dzień tygodnia. Program powinien wypisywać opinię autora o podanym dniu tygodnia. Jeśli użytkownik poda zły dzień (np. poda niepoprawnie jego nazwę), program powinien upomnieć użytkownika, oraz zapytać ponownie. Jeśli użytkownik dwa razy poda nieprawidłowy dzień, program powinien wypisać swoją opinię o użytkowniku i zakończyć działanie."
   ]
  },
  {
   "cell_type": "code",
   "execution_count": 3,
   "metadata": {
    "deletable": false,
    "nbgrader": {
     "cell_type": "code",
     "checksum": "8b6032ee48f74e401ce5bfe1ab0fab0a",
     "grade": true,
     "grade_id": "cell-afb64df2a116f3b7",
     "locked": false,
     "points": 1,
     "schema_version": 3,
     "solution": true
    },
    "id": "loQ-KCJUmo5_",
    "colab": {
     "base_uri": "https://localhost:8080/"
    },
    "executionInfo": {
     "status": "ok",
     "timestamp": 1678408082268,
     "user_tz": -60,
     "elapsed": 4219,
     "user": {
      "displayName": "Kinga Gajek",
      "userId": "01215373408593541942"
     }
    },
    "outputId": "9332956e-163f-410a-c282-1d184b886588"
   },
   "outputs": [
    {
     "output_type": "stream",
     "name": "stdout",
     "text": [
      "Wpisz dzień tygodnia: poniedziałek\n",
      "Bardzo ciężki i nieprzyjemny dzień\n"
     ]
    }
   ],
   "source": [
    "opinie_dni_tygodnia = dict()\n",
    "\n",
    "opinie_dni_tygodnia[\"poniedziałek\"] = \"Bardzo ciężki i nieprzyjemny dzień\"\n",
    "opinie_dni_tygodnia[\"wtorek\"] = \"Najbardzień stresujący dzień tygodnia\"\n",
    "opinie_dni_tygodnia[\"środa\"] = \"Środek tygodnia, kumulacja stresu\"\n",
    "opinie_dni_tygodnia[\"czwartek\"] = \"Całkiem miły dzień, początek myśli o weekendzie\"\n",
    "opinie_dni_tygodnia[\"piątek\"] = \"Początek weekendu, możliwość odpoczęcia po tygodniu\"\n",
    "opinie_dni_tygodnia[\"sobota\"] = \"Przyjemny dzień tygodnia, który można przeznaczyć na swoje zainteresowania\"\n",
    "opinie_dni_tygodnia[\"niedziela\"] = \"Najcięższy i najbardziej depresyjny dzień tygodnia\"\n",
    "\n",
    "dni_tygodnia = [\"poniedziałek\", \"wtorek\", \"środa\", \"czwartek\", \"piątek\", \"sobota\", \"niedziela\"]\n",
    "\n",
    "test = 0\n",
    "\n",
    "while (test < 2):\n",
    "  zapytanie = input(\"Wpisz dzień tygodnia: \")\n",
    "  \n",
    "  if zapytanie.lower() in dni_tygodnia:\n",
    "    print(opinie_dni_tygodnia[zapytanie.lower()])\n",
    "    break\n",
    "  else:\n",
    "    test += 1\n",
    "    if test >= 2:\n",
    "      print(\"Już dwukrotnie błędnie podałeś nazwę dnia tygodnia. Pora poćwiczyć ;)\")\n",
    "      break\n",
    "    else:\n",
    "      print(\"Błędna nazwa dnia tygodnia. Spróbuj jeszcze raz!\")\n"
   ]
  },
  {
   "cell_type": "markdown",
   "metadata": {
    "deletable": false,
    "editable": false,
    "nbgrader": {
     "cell_type": "markdown",
     "checksum": "866ba7f7d1b4d8927424dd1196e01ae8",
     "grade": false,
     "grade_id": "cell-21a9c5df44cff69h",
     "locked": true,
     "schema_version": 3,
     "solution": false
    },
    "id": "I5C9jn8Tmo5_"
   },
   "source": [
    "## Zadanie 8\n",
    "Napisz program sprawdzający czy podana przez użytkownika liczba jest pierwsza.\n",
    "\n",
    "https://pl.wikipedia.org/wiki/Liczba_pierwsza"
   ]
  },
  {
   "cell_type": "code",
   "execution_count": null,
   "metadata": {
    "deletable": false,
    "nbgrader": {
     "cell_type": "code",
     "checksum": "aec9375dd47230a28b79c623bb3625ab",
     "grade": true,
     "grade_id": "cell-afb64df2a116f3b6",
     "locked": false,
     "points": 1,
     "schema_version": 3,
     "solution": true
    },
    "id": "nfNzT3Scmo6A",
    "colab": {
     "base_uri": "https://localhost:8080/"
    },
    "executionInfo": {
     "status": "ok",
     "timestamp": 1677896762336,
     "user_tz": -60,
     "elapsed": 3488,
     "user": {
      "displayName": "Kinga Gajek",
      "userId": "01215373408593541942"
     }
    },
    "outputId": "ad7cbbc9-9549-4057-8704-8c0834f9bcfb"
   },
   "outputs": [
    {
     "output_type": "stream",
     "name": "stdout",
     "text": [
      "Podaj liczbę: 107\n",
      "107 jest liczbą pierwszą\n"
     ]
    }
   ],
   "source": [
    "# wprowadz liczbę\n",
    "liczba = int(input(\"Podaj liczbę: \"))\n",
    "\n",
    "for i in range(2, liczba):\n",
    "  if liczba%i == 0:\n",
    "    print(liczba,'nie jest liczbą pierwszą')\n",
    "    break\n",
    "else:\n",
    "  print(liczba,'jest liczbą pierwszą')"
   ]
  },
  {
   "cell_type": "code",
   "execution_count": null,
   "metadata": {
    "id": "JHQ_MDsMmo6A"
   },
   "outputs": [],
   "source": []
  }
 ],
 "metadata": {
  "kernelspec": {
   "display_name": "Python 3 (ipykernel)",
   "language": "python",
   "name": "python3"
  },
  "language_info": {
   "codemirror_mode": {
    "name": "ipython",
    "version": 3
   },
   "file_extension": ".py",
   "mimetype": "text/x-python",
   "name": "python",
   "nbconvert_exporter": "python",
   "pygments_lexer": "ipython3",
   "version": "3.9.7"
  },
  "colab": {
   "provenance": []
  }
 },
 "nbformat": 4,
 "nbformat_minor": 0
}
