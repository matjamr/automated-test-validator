{
 "cells": [
  {
   "cell_type": "markdown",
   "metadata": {},
   "source": [
    "## Języki symboliczne - rok akademicki 2023/2023\n",
    "\n",
    "Przed rozpoczęciem pracy z notatnikiem zmień jego nazwę zgodnie z wzorem: `NrAlbumu_Nazwisko_Imie_PoprzedniaNazwa`\n",
    "\n",
    "Przed wysłaniem notatnika upewnij się, że rozwiązałeś wszystkie zadania/ćwiczenia, w szczególności, że uzupełniłeś wszystkie pola `YOUR CODE HERE` oraz `YOUR ANSWER HERE`."
   ]
  },
  {
   "cell_type": "markdown",
   "metadata": {
    "nbgrader": {
     "grade": false,
     "grade_id": "cell-b21531a0b0d3d259",
     "locked": true,
     "schema_version": 3,
     "solution": false
    }
   },
   "source": [
    "## Temat_1: \n",
    "## Wprowadzenie do środowiska Jupyter. Typy liczbowe. Praca z tekstem. Instrukcje sterujące. Pętle.\n",
    "Zapoznaj się z treścią niniejszego notatnika czytając i wykonując go komórka po komórce. Wykonaj napotkane zadania/ćwiczenia.\n",
    "\n",
    "### Informacje wstępne\n",
    "#### Instalacja Windows\n",
    "Na zajęciach korzystać będziemy z Pythona w wersji 3.8+ z dystrybucji Anaconda. W salach komputerowych Anaconda została już zainstalowana. \n",
    "Sposób instalacji patrz: \"Instrukcja konfiguracji środowiska\" zawarta w Informacjach Ogólnych kursu.\n",
    "\n",
    "Podczas zajęć pracujemy z wykorzystaniem narzędzia `Jupyter Notebook` (dostępnego w Start -> Anaconda -> Jupyter Notebook). Jest to interaktywna konsola Pythona (pracująca w oparciu o przeglądarkę) w postaci notebook-a, czyli taki plik jak właśnie przeglądasz, więcej o Jupyter na http://jupyter.org/.\n",
    "\n",
    "Stąd pobierzesz dystrybucję Anacondy: https://www.anaconda.com/products/individual\n",
    "\n",
    "Obsługa notebook-ów Jupyter jest możliwa również w innych środowiskach m.in. w środowisku developerskim `Spyder', Visual Studio Code\n",
    "\n",
    "Tu pokazano jak zainstalować obsługę notebook-ów dla środowiska `Spyder`: https://anaconda.org/conda-forge/spyder-notebook\n",
    "\n",
    "Dokumentacja Python 3 https://docs.python.org/3/.\n",
    "Można też skorzystać z dostpnej online  platformy Google Colab\n",
    "\n",
    "### Jupyter Notebook z pakietu Anaconda\n",
    "Najłatwiej uruchomić Jupyter Notebook klikając w Start -> Anaconda -> Jupyter Notebook, jednak lepiej uruchomić konsolę `cmd`, ustawić się w katalogu (należy go wcześniej utworzyć), w którym przechowywane będą materiały z zajęć komendą \n",
    "```\n",
    "cd sciezka\\do\\katalogu\n",
    "```\n",
    "a następnie uruchomić Jupyter Notebook komendą\n",
    "```\n",
    "jupyter notebook\n",
    "```\n",
    "Tak procedura spowoduje, że Jupyter uruchomi się w przeglądarce i odrazu ustawi jako katalog roboczy folder który sobie stworzyliśmy.\n",
    "\n",
    "Czasami przy pierwszym uruchomieniu w konsoli pojawia się link z tokenem, który należy skopiować i wkleić do przeglądarki www.\n",
    "\n",
    "### Zaczynamy\n",
    "### Komentarze w kodzie"
   ]
  },
  {
   "cell_type": "code",
   "execution_count": 1,
   "metadata": {},
   "outputs": [],
   "source": [
    "# to jest komentarz jednolinijkowy, interpreter pomija linie zaczynające się od '#'\n",
    "# Wykonaj komórkę (Shift+Enter) i zobacz że nic się nie wykona"
   ]
  },
  {
   "cell_type": "code",
   "execution_count": 2,
   "metadata": {},
   "outputs": [
    {
     "data": {
      "text/plain": [
       "'\\nTo jest komentarz wielolinijkowy, wszystko pomiędzy trzema znakami cudzysłowia (alternatywnie trzema apostrofami)\\ntraktowane jest jako łańcuch znaków. Jeśli nie zostanie on przypisany do żadnej zmiennej to będzie traktowany jako \\nkomentarz. Często taki sposób wykorzystywany jest do dokumentowania kodu.\\n'"
      ]
     },
     "execution_count": 2,
     "metadata": {},
     "output_type": "execute_result"
    }
   ],
   "source": [
    "'''\n",
    "To jest komentarz wielolinijkowy, wszystko pomiędzy trzema znakami cudzysłowia (alternatywnie trzema apostrofami)\n",
    "traktowane jest jako łańcuch znaków. Jeśli nie zostanie on przypisany do żadnej zmiennej to będzie traktowany jako \n",
    "komentarz. Często taki sposób wykorzystywany jest do dokumentowania kodu.\n",
    "'''"
   ]
  },
  {
   "cell_type": "markdown",
   "metadata": {
    "nbgrader": {
     "grade": false,
     "grade_id": "cell-11d15726331efec0",
     "locked": true,
     "schema_version": 3,
     "solution": false
    }
   },
   "source": [
    "### Funkcja `print()`\n",
    "Funkcja `print()` przyjmuje dowolną liczbę argumentów, dowolnego typu (no nie do końca dowolnego) i ma też parę parametrów/opcji, ale o tym innym razem. \n",
    "\n",
    "Funkcja `print` jest tak zwaną funkcją wbudowaną, inne dostępne i czasami przydatne funkcje wbudowane https://docs.python.org/3/library/functions.html."
   ]
  },
  {
   "cell_type": "code",
   "execution_count": 3,
   "metadata": {},
   "outputs": [
    {
     "name": "stdout",
     "output_type": "stream",
     "text": [
      "Hello\n",
      "Hello 1 3 [1, 3] (2+4j)\n",
      "Hello;1;3;[1, 3];(2+4j):"
     ]
    }
   ],
   "source": [
    "print('Hello')\n",
    "print('Hello',1,3,[1,3],2+4j)\n",
    "print('Hello',1,3,[1,3],2+4j, sep=';',end=':')"
   ]
  },
  {
   "cell_type": "markdown",
   "metadata": {
    "nbgrader": {
     "grade": false,
     "grade_id": "cell-783d71e00a052b6b",
     "locked": true,
     "schema_version": 3,
     "solution": false
    }
   },
   "source": [
    "### Podstawowe typy danych\n",
    "Python jest językiem dynamicznie typowanym, to znaczy, że nie ma potrzeby jawnego określania typu danej zmiennej, interpreter zrobi to za nas sam. Co więcej Python jest językiem w pełni obiektowy, w którym również zmienne są obiektami.\n",
    "#### Typ `int` (liczby całkowite)"
   ]
  },
  {
   "cell_type": "code",
   "execution_count": null,
   "metadata": {},
   "outputs": [],
   "source": [
    "a = 2    # przypisujemy zmiennej a liczbę całkowitą 2\n",
    "print(a) # wydruk zmiennej a\n",
    "type(a)  # wbudowana funkcja type() zwraca typ danego obiektu"
   ]
  },
  {
   "cell_type": "markdown",
   "metadata": {
    "nbgrader": {
     "grade": false,
     "grade_id": "cell-13bca2b2ca90a1b8",
     "locked": true,
     "schema_version": 3,
     "solution": false
    }
   },
   "source": [
    "Przykładowe metody obiektu `int`. Wciskając po napisaniu kropki `Tab` wyświetlone zostaną dostępne pola i metody danego obiektu."
   ]
  },
  {
   "cell_type": "code",
   "execution_count": null,
   "metadata": {},
   "outputs": [],
   "source": [
    "a.bit_length()"
   ]
  },
  {
   "cell_type": "markdown",
   "metadata": {
    "nbgrader": {
     "grade": false,
     "grade_id": "cell-c415c9d17d13ce89",
     "locked": true,
     "schema_version": 3,
     "solution": false
    }
   },
   "source": [
    "#### Typ `float` (liczba zmiennoprzecinkowa)"
   ]
  },
  {
   "cell_type": "code",
   "execution_count": null,
   "metadata": {},
   "outputs": [],
   "source": [
    "b = 2.5\n",
    "print(b)\n",
    "type(b)"
   ]
  },
  {
   "cell_type": "code",
   "execution_count": null,
   "metadata": {},
   "outputs": [],
   "source": [
    "b.is_integer()"
   ]
  },
  {
   "cell_type": "markdown",
   "metadata": {
    "nbgrader": {
     "grade": false,
     "grade_id": "cell-239baf5303697212",
     "locked": true,
     "schema_version": 3,
     "solution": false
    }
   },
   "source": [
    "#### Typ `complex` (liczba zespolona)"
   ]
  },
  {
   "cell_type": "code",
   "execution_count": null,
   "metadata": {},
   "outputs": [],
   "source": [
    "z = 2+4j # j jednostka urojona, piszemy z prawej strony bez spacji\n",
    "print(z)\n",
    "type(z)"
   ]
  },
  {
   "cell_type": "code",
   "execution_count": null,
   "metadata": {},
   "outputs": [],
   "source": [
    "z.imag"
   ]
  },
  {
   "cell_type": "markdown",
   "metadata": {
    "nbgrader": {
     "grade": false,
     "grade_id": "cell-2cc0c3c12da24875",
     "locked": true,
     "schema_version": 3,
     "solution": false
    }
   },
   "source": [
    "#### Typ `bool` (prawda, fałsz)"
   ]
  },
  {
   "cell_type": "code",
   "execution_count": null,
   "metadata": {},
   "outputs": [],
   "source": [
    "prawda = True\n",
    "falsz = False\n",
    "type(prawda)"
   ]
  },
  {
   "cell_type": "markdown",
   "metadata": {
    "nbgrader": {
     "grade": false,
     "grade_id": "cell-437d194315718328",
     "locked": true,
     "schema_version": 3,
     "solution": false
    }
   },
   "source": [
    "#### Typ `tuple` (krotka)\n",
    "Krotka to zestawienie kilku obiektów w jeden obiekt. Mogą to być obiekty różnych typów."
   ]
  },
  {
   "cell_type": "code",
   "execution_count": null,
   "metadata": {},
   "outputs": [],
   "source": [
    "a = (1, 2, 3, 4)\n",
    "b = (1, 3.5, 'a', a)\n",
    "print(a)\n",
    "print(b)\n",
    "print(len(a))\n",
    "type(a)"
   ]
  },
  {
   "cell_type": "markdown",
   "metadata": {
    "nbgrader": {
     "grade": false,
     "grade_id": "cell-50a495acc20659da",
     "locked": true,
     "schema_version": 3,
     "solution": false
    }
   },
   "source": [
    "Elementy krotki można rozpakować do pojedynczych zmiennych."
   ]
  },
  {
   "cell_type": "code",
   "execution_count": null,
   "metadata": {},
   "outputs": [],
   "source": [
    "# rozpakowywanie krotki\n",
    "a,b,c = (1, 2.5, 1+3j)\n",
    "d = (1, 2.5, 1+3j)\n",
    "print(a)\n",
    "print(b)\n",
    "print(c)\n",
    "print(d)"
   ]
  },
  {
   "cell_type": "markdown",
   "metadata": {
    "nbgrader": {
     "grade": false,
     "grade_id": "cell-c43f50a835620f3e",
     "locked": true,
     "schema_version": 3,
     "solution": false
    }
   },
   "source": [
    "Krotka jest obiektem niemodyfikowalnym tzn. nie można przypisać nowego wartości na danej pozycji."
   ]
  },
  {
   "cell_type": "code",
   "execution_count": null,
   "metadata": {},
   "outputs": [],
   "source": [
    "k = (1, 2.5)\n",
    "print(k[0])\n",
    "k[0] = 4.5"
   ]
  },
  {
   "cell_type": "markdown",
   "metadata": {
    "nbgrader": {
     "grade": false,
     "grade_id": "cell-bda034424c17f070",
     "locked": true,
     "schema_version": 3,
     "solution": false
    }
   },
   "source": [
    "#### Typ `str` (łańcuch znaków)"
   ]
  },
  {
   "cell_type": "code",
   "execution_count": null,
   "metadata": {},
   "outputs": [],
   "source": [
    "z = 'Witaj świecie'\n",
    "print(z)\n",
    "type(z)"
   ]
  },
  {
   "cell_type": "code",
   "execution_count": null,
   "metadata": {},
   "outputs": [],
   "source": [
    "print(z.upper())"
   ]
  },
  {
   "cell_type": "markdown",
   "metadata": {
    "nbgrader": {
     "grade": false,
     "grade_id": "cell-12b6fd3d31a5e83e",
     "locked": true,
     "schema_version": 3,
     "solution": false
    }
   },
   "source": [
    "### Operatory arytmetyczne (`+, -, *, /, //, **, %`)"
   ]
  },
  {
   "cell_type": "code",
   "execution_count": null,
   "metadata": {},
   "outputs": [],
   "source": [
    "# dwie liczby typu int\n",
    "a = 2\n",
    "b = 5\n",
    "print(a+b)\n",
    "print(a-b)\n",
    "print(a*b)\n",
    "print(a/b) # rzutuje na float\n",
    "print(a//b) # int\n",
    "print(a**b) # potęgowanie\n",
    "print(a%b) # reszta z dzielenia, modulo"
   ]
  },
  {
   "cell_type": "markdown",
   "metadata": {
    "nbgrader": {
     "grade": false,
     "grade_id": "cell-21476b07590d5ca6",
     "locked": true,
     "schema_version": 3,
     "solution": false
    }
   },
   "source": [
    "Operatory arytmetyczne definiowane są również dla prawie wszystkich typów danych nie tylko liczbowych. Co ważne, Python jest silnie typowany co oznacza m.in., że nie można dowolnie łączyć typów w operacjach arytmetycznych."
   ]
  },
  {
   "cell_type": "code",
   "execution_count": null,
   "metadata": {},
   "outputs": [],
   "source": [
    "2.5 + 'a'"
   ]
  },
  {
   "cell_type": "markdown",
   "metadata": {
    "nbgrader": {
     "grade": false,
     "grade_id": "cell-86c09924fd76d0c0",
     "locked": true,
     "schema_version": 3,
     "solution": false
    }
   },
   "source": [
    "Jednak dla niektórych typów działa tak zwana konwersja niejawna (rzutowanie na obiekt klasy \"nadrzędnej\")"
   ]
  },
  {
   "cell_type": "code",
   "execution_count": null,
   "metadata": {},
   "outputs": [],
   "source": [
    "a = 2.5 + (2-3j)\n",
    "print(a)\n",
    "type(a)"
   ]
  },
  {
   "cell_type": "markdown",
   "metadata": {
    "nbgrader": {
     "grade": false,
     "grade_id": "cell-7dcdef43c03e1d17",
     "locked": true,
     "schema_version": 3,
     "solution": false
    }
   },
   "source": [
    "### Operatory porównania ( `==`, `>`, `>=`, `<`, `<=`, `!=`)\n",
    "Zawsze zwracany jest typ `bool` (True, False)."
   ]
  },
  {
   "cell_type": "code",
   "execution_count": null,
   "metadata": {},
   "outputs": [],
   "source": [
    "print(2==3)\n",
    "print(2!=3)\n",
    "print(2<3)"
   ]
  },
  {
   "cell_type": "markdown",
   "metadata": {
    "nbgrader": {
     "grade": false,
     "grade_id": "cell-914a8c5c273d05e0",
     "locked": true,
     "schema_version": 3,
     "solution": false,
     "task": false
    }
   },
   "source": [
    "### Operatory logiczne `and`, `or` i `not`\n",
    "Używając operatorów `and`, `or` i `not` tworzymy wyrażenia boolowskie."
   ]
  },
  {
   "cell_type": "code",
   "execution_count": null,
   "metadata": {},
   "outputs": [],
   "source": [
    "# warunkiem może być dowolne wyrażenie zwracające True lub False\n",
    "a = 10\n",
    "b = a < 20 and a >5\n",
    "print(a, b, end='; ')\n",
    "    \n",
    "# to samo mozemy zapisać prościej\n",
    "b = 5 < a < 20\n",
    "print(a, b)"
   ]
  },
  {
   "cell_type": "markdown",
   "metadata": {
    "nbgrader": {
     "grade": false,
     "grade_id": "cell-b2d20edd2c74329d",
     "locked": true,
     "schema_version": 3,
     "solution": false
    }
   },
   "source": [
    "### Operatory `is`, `is not` oraz słowo kluczowe `None`"
   ]
  },
  {
   "cell_type": "code",
   "execution_count": null,
   "metadata": {},
   "outputs": [],
   "source": [
    "a = 2000000000000000000\n",
    "b = 3\n",
    "c = 2000000000000000000\n",
    "print(a is b)\n",
    "print(a is c)\n",
    "print(b is not c)\n",
    "d = None  # None oznacza 'nic', pusty obiekt\n",
    "print(d is None)"
   ]
  },
  {
   "cell_type": "markdown",
   "metadata": {
    "nbgrader": {
     "grade": false,
     "grade_id": "cell-8321d8171abc7fb0",
     "locked": true,
     "schema_version": 3,
     "solution": false
    }
   },
   "source": [
    "### Biblioteka matematyczna `math`.\n",
    "W Python wbudowane są niektóre podstawowe finkcje matematyczne, taki jak `abs`, `min`, `max`, `sum`, `pow`. Inne znaleźć można w bibliotece (module) `math`. Import bibliotek (modułów, pakietów) w języku Python dokonuje się za pomocą słowa kluczowego `import`."
   ]
  },
  {
   "cell_type": "code",
   "execution_count": null,
   "metadata": {},
   "outputs": [],
   "source": [
    "print(min(1,2,-4,2))\n",
    "print(max(2, 1.4, 3, 5.5))\n",
    "abs(-4)"
   ]
  },
  {
   "cell_type": "code",
   "execution_count": null,
   "metadata": {},
   "outputs": [],
   "source": [
    "# aby wczytać pakiet math wpisujemy\n",
    "import math\n",
    "# możemy zaimportowac tylko wybrane funkcje\n",
    "from math import sin, cos"
   ]
  },
  {
   "cell_type": "code",
   "execution_count": null,
   "metadata": {},
   "outputs": [],
   "source": [
    "math.log(1)"
   ]
  },
  {
   "cell_type": "code",
   "execution_count": null,
   "metadata": {},
   "outputs": [],
   "source": [
    "sin(math.radians(90))"
   ]
  },
  {
   "cell_type": "markdown",
   "metadata": {
    "nbgrader": {
     "grade": false,
     "grade_id": "cell-069dab1962069f6a",
     "locked": true,
     "schema_version": 3,
     "solution": false
    }
   },
   "source": [
    "### Wprowadzanie wartości z klawiatury `input()`\n",
    "Funkcja `input()` zwraca obiekt typi `str` (łańcuch znaków/napis). Wobec czego jeśli chcemy wprowadzić liczbę musimy ją po wczytaniu skonwertować na odpowiedni typ stosują metody `int()`, `float()` lub `complex()`. "
   ]
  },
  {
   "cell_type": "code",
   "execution_count": null,
   "metadata": {},
   "outputs": [],
   "source": [
    "a = input()\n",
    "print('Wprowadzona wartość to:', a)\n",
    "print('Typ wprowadzonej wartości:', type(a))"
   ]
  },
  {
   "cell_type": "markdown",
   "metadata": {
    "nbgrader": {
     "grade": false,
     "grade_id": "cell-0357313d335f2b43",
     "locked": true,
     "schema_version": 3,
     "solution": false
    }
   },
   "source": [
    "### Ćwiczenie 1:\n",
    "Napisz program, który dla podanej liczby rzeczywistej zwróci licznik i mianownik z ułamka zwykłego tej liczby. \n",
    "#### Rozwiązanie:"
   ]
  },
  {
   "cell_type": "code",
   "execution_count": 2,
   "metadata": {},
   "outputs": [
    {
     "name": "stdout",
     "output_type": "stream",
     "text": [
      "Podaj liczbe rzeczywistą: \n",
      "0.5\n",
      "Licznik: 1\n",
      "Mianownik: 2\n"
     ]
    }
   ],
   "source": [
    "print('Podaj liczbe rzeczywistą: ')\n",
    "a = input()\n",
    "a = float(a)\n",
    "b = a.as_integer_ratio()\n",
    "print('Licznik:', b[0])\n",
    "print('Mianownik:', b[1])"
   ]
  },
  {
   "cell_type": "markdown",
   "metadata": {
    "nbgrader": {
     "grade": false,
     "grade_id": "cell-01780820da67534e",
     "locked": true,
     "schema_version": 3,
     "solution": false
    }
   },
   "source": [
    "### Ćwiczenie 2\n",
    "Napisz program, który przeczyta ze standartowego wejścia dwie liczby rzeczywiste i zapisze je kolejno w zmiennych $x$, $z$ typu `float`, przeczyta dwie liczby całkowite i zapisze je w zmiennych $i$, $j$ typu `int`, a następnie obliczy wartości następujących wyrażeń arytmetycznych:\n",
    "$$w=\\sqrt[3]{\\frac{x+2}{i}}  \\sin^{j}(x^2+z^2)$$\n",
    "$$v={\\frac{\\ln x^2+2x^2+z^{-2}}{(x+z)i}}+\\frac{i}{j} $$\n",
    "\n",
    "\n",
    "Dla $x=1.5, z=2.3, i=2, j=3\\ $ wyrażenia te mają wartości:\n",
    "\n",
    "$w = 1.036828279188784,\\quad v = 1.3903464210141043$"
   ]
  },
  {
   "cell_type": "code",
   "execution_count": null,
   "metadata": {
    "nbgrader": {
     "grade": true,
     "grade_id": "cell-4478774f5480718b",
     "locked": false,
     "points": 0,
     "schema_version": 3,
     "solution": true,
     "task": false
    }
   },
   "outputs": [],
   "source": [
    "import math\n",
    "\n",
    "### BEGIN SOLUTION\n",
    "x = float(input(\"Podaj liczbę x: \"))\n",
    "z = float(input(\"Podaj liczbę z: \"))\n",
    "i = int(input(\"Podaj liczbę i: \"))\n",
    "j = int(input(\"Podaj liczbę j: \"))\n",
    "\n",
    "w = (((x+2)/i)**(1/3))* math.pow(math.sin(x**2 + z**2), j)\n",
    "print(w)\n",
    "v = (math.log(x**2) + 2*x**2 + math.pow(z, -2))/((x+z)*i) + i/j\n",
    "print(j)\n",
    "### END SOLUTION"
   ]
  },
  {
   "cell_type": "markdown",
   "metadata": {
    "nbgrader": {
     "grade": false,
     "grade_id": "cell-b21531a0b0d3d258",
     "locked": true,
     "schema_version": 3,
     "solution": false
    }
   },
   "source": [
    "### Temat: Praca z tekstem, Typ `str`.\n",
    "\n",
    "### Definiowanie tekstu\n",
    "Tekst w języku Python definiujemy w apostrofach `'` lub cudzysłowach `\"`. Do definiowania tekstów w więcej niż jednej linijce używamy potrójnych apostrofów `'''` bądź cudzysłowiów `\"\"\"`. Tekst możemy również przypisywać do zmiennych."
   ]
  },
  {
   "cell_type": "code",
   "execution_count": null,
   "metadata": {},
   "outputs": [],
   "source": [
    "napis1 = 'tekst w apostrofach'\n",
    "napis2 = \"tekst w cudzysłowach\"\n",
    "print(napis1)\n",
    "print(napis2)\n",
    "print(type(napis1), type(napis2))"
   ]
  },
  {
   "cell_type": "code",
   "execution_count": null,
   "metadata": {},
   "outputs": [],
   "source": [
    "napis3 = '''To jest tekst\n",
    "w więcej niż \n",
    "jednej linijce'''\n",
    "print(napis3)"
   ]
  },
  {
   "cell_type": "markdown",
   "metadata": {
    "nbgrader": {
     "grade": false,
     "grade_id": "cell-d9792267dd70719f",
     "locked": true,
     "schema_version": 3,
     "solution": false
    }
   },
   "source": [
    "Jak widać na powyższym przykładzie nie ma problemów z literami polskimi takimi jak `ą, ć, ł` itp. Winika to z tego, że domyślnie w Python 3 (inaczej niż w Python 2) znaki kodowane są za pomoca kodowania `Unicode (16-bit)`, a nie jak w więkdzości innych języków programowania `ASCII (8-bit)`.\n",
    "Aby zdefiniować tekst i narzucić mu kodowanie `ASCII` wystarczy przed apostrofem lub cudzysłowem postawić literę `b`."
   ]
  },
  {
   "cell_type": "code",
   "execution_count": null,
   "metadata": {},
   "outputs": [],
   "source": [
    "# Unicode\n",
    "print('Marszałek')\n",
    "# ASCII\n",
    "print(b'Marszalek')"
   ]
  },
  {
   "cell_type": "markdown",
   "metadata": {
    "nbgrader": {
     "grade": false,
     "grade_id": "cell-b003716c08c8fdc1",
     "locked": true,
     "schema_version": 3,
     "solution": false
    }
   },
   "source": [
    "Próba zdefiniowania tesksu zawierającego polskie znaki z kodowaniem `ASCII` zakończy się wyrzuceniem błędu."
   ]
  },
  {
   "cell_type": "code",
   "execution_count": null,
   "metadata": {},
   "outputs": [],
   "source": [
    "print(b'Marszałek')"
   ]
  },
  {
   "cell_type": "markdown",
   "metadata": {
    "nbgrader": {
     "grade": false,
     "grade_id": "cell-11d15726331efec1",
     "locked": true,
     "schema_version": 3,
     "solution": false
    }
   },
   "source": [
    "### Znaki specjalne (sekwencje sterujące)\n",
    "Domyślnie rozpoznawane i interpretowane sa znaki specjalne (sekwencje sterujące) takie jak np.:\n",
    "- `\\a` - alarm (sygnał akustyczny terminala)\n",
    "- `\\b` - backspace (usuwa poprzedzający znak)\n",
    "- `\\f` - wysuniecie strony (np. w drukarce)\n",
    "- `\\r` - powrót kursora (karetki) do początku wiersza\n",
    "- `\\n` - znak nowego wiersza\n",
    "- `\\t` - tabulacja pozioma\n",
    "- `\\v` - tabulacja pionowa\n",
    "- `\\nnn` - liczba zapisana w systemie oktalnym (ósemkowym), gdzie 'nnn' należy zastąpić trzycyfrową liczbą w tym systemie\n",
    "- `\\xnn` - liczba zapisana w systemie heksadecymalnym (szesnastkowym), gdzie 'nn' należy zastąpić dwucyfrową liczbą w tym systemie"
   ]
  },
  {
   "cell_type": "code",
   "execution_count": null,
   "metadata": {},
   "outputs": [],
   "source": [
    "print(' Poznajemy podstawowe typy danych\\n\\t i instrukcje sterujące używane w\\njęzyku Python')"
   ]
  },
  {
   "cell_type": "markdown",
   "metadata": {
    "nbgrader": {
     "grade": false,
     "grade_id": "cell-783d71e00a052b6c",
     "locked": true,
     "schema_version": 3,
     "solution": false
    }
   },
   "source": [
    "Jak widać znaki `\\, ', \"` mają specjalne znaczenie, aby użyć ich w tekscie należy zamaskować ich działanie stosując znak `\\`, np. \n",
    "- `\\\"` - cudzysłów\n",
    "- `\\'` - apostrof\n",
    "- `\\\\` - ukośnik wsteczny (backslash)"
   ]
  },
  {
   "cell_type": "code",
   "execution_count": null,
   "metadata": {},
   "outputs": [],
   "source": [
    "print('Poznajemy podstawowe typy danych i instrukcje sterujące używane w języku \\\"Python\\\"')"
   ]
  },
  {
   "cell_type": "markdown",
   "metadata": {
    "nbgrader": {
     "grade": false,
     "grade_id": "cell-13bca2b2ca90a1b9",
     "locked": true,
     "schema_version": 3,
     "solution": false
    }
   },
   "source": [
    "### Surowy tekst (raw strings)\n",
    "Aby w całym tekscie potraktować znaki specjalne jak zwykłe znaki wystarczy przed apostrofem lub cudzysłowem wstawić znak `r`. Często wykorzystywane np. przy scieżkach do plików."
   ]
  },
  {
   "cell_type": "code",
   "execution_count": null,
   "metadata": {},
   "outputs": [],
   "source": [
    "print('   Poznajemy podstawowe typy danych\\n\\t i instrukcje sterujące\\nużywane w języku \\\"Python\\\"')\n",
    "print(r'   Poznajemy podstawowe typy danych\\n\\t i instrukcje sterujące\\nużywane w języku \\\"Python\\\"')"
   ]
  },
  {
   "cell_type": "markdown",
   "metadata": {
    "nbgrader": {
     "grade": false,
     "grade_id": "cell-c415c9d17d13ce88",
     "locked": true,
     "schema_version": 3,
     "solution": false
    }
   },
   "source": [
    "### Dostęp do poszczególnych znaków i plasterkowanie (slicing) tekstu\n",
    "Z tekstu możemy wybierac pojedyńcze znaki lub fragment teksu. Aby wybrać dowolny znak z tekstu należy użyć metody wbudowanej  `__getitem__` lub prościej operatora `[]`."
   ]
  },
  {
   "cell_type": "code",
   "execution_count": null,
   "metadata": {},
   "outputs": [],
   "source": [
    "s = 'Informatyka'\n",
    "print(s.__getitem__(0)) # numeracja od 0\n",
    "print(s[3])"
   ]
  },
  {
   "cell_type": "markdown",
   "metadata": {
    "nbgrader": {
     "grade": false,
     "grade_id": "cell-8bc25f24846c7644",
     "locked": true,
     "schema_version": 3,
     "solution": false
    }
   },
   "source": [
    "Podanie indeksu większego niż liczba znaków skończy się wyrzyceniem błędu.\n",
    "\n",
    "Możemy numerować pozycje od końca, wstawiając liczby ujemne."
   ]
  },
  {
   "cell_type": "code",
   "execution_count": null,
   "metadata": {},
   "outputs": [],
   "source": [
    "print(s[-1]) # ostatni znak\n",
    "print(s[-3]) # znak trzeci od końca"
   ]
  },
  {
   "cell_type": "markdown",
   "metadata": {
    "nbgrader": {
     "grade": false,
     "grade_id": "cell-938fdf109c7007af",
     "locked": true,
     "schema_version": 3,
     "solution": false
    }
   },
   "source": [
    "Aby wybrać fragment tekstu należy użyć konstrukcji `[s:e:k]`, gdzie `s` to pozycja pierwszego znaku który chcemy wybrać, `e` to pozycja pierwszego znaku którego nie chcemy wybrać, `k` to krok z jakim wybieramy znaki."
   ]
  },
  {
   "cell_type": "code",
   "execution_count": null,
   "metadata": {},
   "outputs": [],
   "source": [
    "# wybieranie fragmentu \n",
    "print(s[1:6])\n",
    "# wybieranie znaków z krokiem\n",
    "print(s[1:6:2])\n",
    "# od tyłu\n",
    "print(s[-4:-2])"
   ]
  },
  {
   "cell_type": "markdown",
   "metadata": {
    "nbgrader": {
     "grade": false,
     "grade_id": "cell-239baf5303697213",
     "locked": true,
     "schema_version": 3,
     "solution": false
    }
   },
   "source": [
    "__Uwaga:__ Tekst podobnie jak krotka jest obiektem niemodyfikowalnym, tzn. nie można zmienić wartości znaku na danej pozycji poprzez stosowanie operatora `[]`."
   ]
  },
  {
   "cell_type": "code",
   "execution_count": null,
   "metadata": {},
   "outputs": [],
   "source": [
    "s = 'Informatyka'\n",
    "s[1] = 'A'  #chcemy zmienić 'a' ma 'A', nie da się"
   ]
  },
  {
   "cell_type": "markdown",
   "metadata": {
    "nbgrader": {
     "grade": false,
     "grade_id": "cell-2cc0c3c12da24876",
     "locked": true,
     "schema_version": 3,
     "solution": false
    }
   },
   "source": [
    "### Operatory `+`, `*`\n",
    "Dla typu `str` zdefiniowane zostały dwa operatory\n",
    "- `+` - łączenie tekstów, `(str + str = str)`\n",
    "- `*` - powielanie tekstu, `(str * int = str)`"
   ]
  },
  {
   "cell_type": "code",
   "execution_count": null,
   "metadata": {},
   "outputs": [],
   "source": [
    "t1 = 'Informatyka'\n",
    "t2 = 'rok II'\n",
    "t3 = 'semestr II'\n",
    "t4 = t1 + ' ' + t2 + ' ' + t3\n",
    "print(t4)"
   ]
  },
  {
   "cell_type": "code",
   "execution_count": null,
   "metadata": {},
   "outputs": [],
   "source": [
    "t5 = t1 * 5\n",
    "print(t5)"
   ]
  },
  {
   "cell_type": "markdown",
   "metadata": {
    "nbgrader": {
     "grade": false,
     "grade_id": "cell-437d194315718329",
     "locked": true,
     "schema_version": 3,
     "solution": false
    }
   },
   "source": [
    "### Słowa kluczowe `in`, `not in`\n",
    "Dzięki słową kluczowym `in', 'not in` możemy zapytać czy jakiś znak lub ciąg znaków występuje bądź nie występuje w tekscie."
   ]
  },
  {
   "cell_type": "code",
   "execution_count": null,
   "metadata": {},
   "outputs": [],
   "source": [
    "tekst = \"Informatyka jest super!!!\"\n",
    "'I' in tekst"
   ]
  },
  {
   "cell_type": "code",
   "execution_count": null,
   "metadata": {},
   "outputs": [],
   "source": [
    "'i' in tekst"
   ]
  },
  {
   "cell_type": "code",
   "execution_count": null,
   "metadata": {},
   "outputs": [],
   "source": [
    "'Informatyka' not in tekst"
   ]
  },
  {
   "cell_type": "markdown",
   "metadata": {
    "nbgrader": {
     "grade": false,
     "grade_id": "cell-50a495acc20659d6",
     "locked": true,
     "schema_version": 3,
     "solution": false
    }
   },
   "source": [
    "### Długość tekstu\n",
    "Do zwrócenia liczby znaków w tekscie służy metoda wbudowana `len` "
   ]
  },
  {
   "cell_type": "code",
   "execution_count": null,
   "metadata": {},
   "outputs": [],
   "source": [
    "print(tekst)\n",
    "print(len(tekst))"
   ]
  },
  {
   "cell_type": "markdown",
   "metadata": {
    "nbgrader": {
     "grade": false,
     "grade_id": "cell-c43f50a835620f3f",
     "locked": true,
     "schema_version": 3,
     "solution": false
    }
   },
   "source": [
    "### Operator `%`\n",
    "Bardzo fajny i przydatny przy formatowaniu teskstu jest operator `%`, który pozwala wstawiać do tekstu wartości zmiennych w podobny sposób jak w innych językach np. C."
   ]
  },
  {
   "cell_type": "code",
   "execution_count": null,
   "metadata": {},
   "outputs": [],
   "source": [
    "imie = 'Adam'\n",
    "jezyk = 'Python'\n",
    "lata = 7\n",
    "print('Mam na imię %s i programuję w języku %s od ponad %d lat.' % (imie, jezyk, lata))"
   ]
  },
  {
   "cell_type": "markdown",
   "metadata": {
    "nbgrader": {
     "grade": false,
     "grade_id": "cell-bda034424c17f071",
     "locked": true,
     "schema_version": 3,
     "solution": false
    }
   },
   "source": [
    "Możliwy symbole do wykorzystania (wybaczcie ale nie chciało mi się tłumaczyć :)):\n",
    "- `%c` - character\n",
    "- `%s` - string conversion via str() prior to formatting\t\n",
    "- `%i` - signed decimal integer\n",
    "- `%d` - signed decimal integer\n",
    "- `%u` - unsigned decimal integer\n",
    "- `%o` - octal integer\n",
    "- `%x` - hexadecimal integer (lowercase letters)\n",
    "- `%X` - hexadecimal integer (UPPERcase letters)\n",
    "- `%e` - exponential notation (with lowercase 'e')\n",
    "- `%E` - exponential notation (with UPPERcase 'E')\n",
    "- `%f` - floating point real number\n",
    "- `%g` - the shorter of %f and %e\n",
    "- `%G` - the shorter of %f and %E\n",
    "\n",
    "\n",
    "- `*` - argument specifies width or precision\n",
    "- `-` - left justification\t\n",
    "- `+` - display the sign\n",
    "- `<sp>` - leave a blank space before a positive number\n",
    "- `#` - add the octal leading zero ( '0' ) or hexadecimal leading '0x' or '0X', depending on whether 'x' or 'X' were used.\n",
    "- `0` - pad from left with zeros (instead of spaces)\n",
    "- `%` - '%%' leaves you with a single literal '%'\n",
    "- `(var)` - mapping variable (dictionary arguments)\n",
    "- `m.n.` - m is the minimum total width and n is the number of digits to display after the decimal point (if appl.)\n",
    "\n",
    "Przykład:"
   ]
  },
  {
   "cell_type": "code",
   "execution_count": null,
   "metadata": {},
   "outputs": [],
   "source": [
    "from math import pi\n",
    "print('Liczba pi: %+.12f' % pi)"
   ]
  },
  {
   "cell_type": "markdown",
   "metadata": {
    "nbgrader": {
     "grade": false,
     "grade_id": "cell-12b6fd3d31a5e83f",
     "locked": true,
     "schema_version": 3,
     "solution": false
    }
   },
   "source": [
    "### Metody obiektu `str`\n",
    "Obiekty typu `str` (teksty) posiadają bardzo dużo przydatnych metod gotowych do użycia. Lista wraz z dokumentacją po tym linkiem https://docs.python.org/3/library/stdtypes.html#string-methods. \n",
    "\n",
    "Poniżej kilka przykładowych."
   ]
  },
  {
   "cell_type": "code",
   "execution_count": null,
   "metadata": {},
   "outputs": [],
   "source": [
    "tekst = 'Informatyka jest super!!!'\n",
    "tekst.find('super') # jeżeli szukana fraza zostanie znaleziona to zwraca pozycje poczatkową, jeśli nie, -1"
   ]
  },
  {
   "cell_type": "code",
   "execution_count": null,
   "metadata": {},
   "outputs": [],
   "source": [
    "tekst.upper() # zamienia na duże litery"
   ]
  },
  {
   "cell_type": "code",
   "execution_count": null,
   "metadata": {},
   "outputs": [],
   "source": [
    "tekst.replace('super', 'cool') "
   ]
  },
  {
   "cell_type": "code",
   "execution_count": null,
   "metadata": {},
   "outputs": [],
   "source": [
    "tekst.count('at') # zlicza wystąpienie podanego znaku lub ciągu znaków"
   ]
  },
  {
   "cell_type": "code",
   "execution_count": null,
   "metadata": {},
   "outputs": [],
   "source": [
    "tekst = 'Informatyka jest {0} razy {1}'\n",
    "tekst.format('super', 7) # często wykorzystywane zamiast operatora %"
   ]
  },
  {
   "cell_type": "markdown",
   "metadata": {
    "nbgrader": {
     "grade": false,
     "grade_id": "cell-e0365ff1229fa3f1",
     "locked": true,
     "schema_version": 3,
     "solution": false
    }
   },
   "source": [
    "### Ćwiczenie 3:\n",
    "Teksty można również porównywać za pomocą operatorów porównania. Sprawdź jak to działa."
   ]
  },
  {
   "cell_type": "code",
   "execution_count": 1,
   "metadata": {},
   "outputs": [
    {
     "name": "stdout",
     "output_type": "stream",
     "text": [
      "True\n"
     ]
    }
   ],
   "source": [
    "x = 'teskt'\n",
    "print(x == 'teskt')"
   ]
  },
  {
   "cell_type": "markdown",
   "metadata": {
    "nbgrader": {
     "grade": false,
     "grade_id": "cell-ac1102a65c432e8f",
     "locked": true,
     "schema_version": 3,
     "solution": false
    }
   },
   "source": [
    "### Ćwiczenie 4\n",
    "Napisz program, który we wprowadzonym tekście wyeliminuje pierwsze wystąpienie podanego znak. Zakładamy, że podany znak na pewno występuje w tekście."
   ]
  },
  {
   "cell_type": "code",
   "execution_count": null,
   "metadata": {
    "nbgrader": {
     "grade": true,
     "grade_id": "cell-eceed302cb759620",
     "locked": false,
     "points": 0,
     "schema_version": 3,
     "solution": true,
     "task": false
    }
   },
   "outputs": [],
   "source": [
    "text = input('Wprowadź tekst: ')\n",
    "znak = input('Wprowadź znak: ')\n",
    "### BEGIN SOLUTION\n",
    "print(text.find(znak))\n",
    "indx = text.find(znak)\n",
    "if len(text) > indx:\n",
    "    text = text[0 : indx : ] + text[indx + 1 : :]\n",
    "print(text)\n",
    "### END SOLUTION"
   ]
  },
  {
   "cell_type": "markdown",
   "metadata": {
    "nbgrader": {
     "grade": false,
     "grade_id": "cell-3e73d41a914dfc5e",
     "locked": true,
     "schema_version": 3,
     "solution": false
    }
   },
   "source": [
    "### Ćwiczenie 5\n",
    "Napisz program, który we wprowadzonym tekscie wyeliminuje ostatnie wystąpienie podanego znak. Zakładamy, że podany znak na pewno wsytępuje w tekscie."
   ]
  },
  {
   "cell_type": "code",
   "execution_count": null,
   "metadata": {
    "nbgrader": {
     "grade": true,
     "grade_id": "cell-99aa0016d90ebf27",
     "locked": false,
     "points": 0,
     "schema_version": 3,
     "solution": true
    }
   },
   "outputs": [],
   "source": [
    "text = input('Wprowadź tekst: ')\n",
    "znak = input('Wprowadź znak: ')\n",
    "### BEGIN SOLUTION\n",
    "print(text.rfind(znak))\n",
    "indx = text.rfind(znak)\n",
    "if len(text) > indx:\n",
    "    text = text[0 : indx : ] + text[indx + 1 : :]\n",
    "print(text)\n",
    "### END SOLUTION"
   ]
  },
  {
   "cell_type": "markdown",
   "metadata": {
    "nbgrader": {
     "grade": false,
     "grade_id": "cell-76d46290d9294e08",
     "locked": true,
     "schema_version": 3,
     "solution": false
    }
   },
   "source": [
    "### Temat: Instrukcje sterujące, Pętle.\n",
    "\n",
    "\n",
    "### Instrukcje warunkowe: `if`, `if else`, `if elif else`\n",
    "Do wykonywania prostych testów (sprawdzania warunków) służą instrukcje `if` i `else`.\n",
    "\n",
    "Struktura składni ma postać:\n",
    "\n",
    "```python\n",
    "if warunek:\n",
    "\tinstrukcje_1\n",
    "else:\n",
    "    instrukcje_2\n",
    "```    \n",
    "Warunki zwarcają wartość `True` lub `False`. \n",
    "\n",
    "Zawartość bloków instrukcji ustalana jest na podstawie wcięć. Klauzula `else` nie jest obowiązkowa."
   ]
  },
  {
   "cell_type": "code",
   "execution_count": null,
   "metadata": {},
   "outputs": [],
   "source": [
    "a = 2\n",
    "b = 3\n",
    "if a < b:  # jeżeli warunek jest True to wykonaj instrukcje w bloku (instrukcje z wcięciami (tab))\n",
    "    print(a+b)"
   ]
  },
  {
   "cell_type": "code",
   "execution_count": null,
   "metadata": {},
   "outputs": [],
   "source": [
    "a = 3\n",
    "b = 4\n",
    "if a < b:  # gdy warunek prawdziwy\n",
    "    print(a+b) \n",
    "else:    # gdy warunek fałszywy\n",
    "    print(a-b)"
   ]
  },
  {
   "cell_type": "markdown",
   "metadata": {
    "nbgrader": {
     "grade": false,
     "grade_id": "cell-778ace5cc4beffa8",
     "locked": true,
     "schema_version": 3,
     "solution": false
    }
   },
   "source": [
    "#### Instrukcja `pass`\n",
    "Nie ma ograniczenia odnośnie liczby instrukcji w bloku, ale musi występować co najmniej jedna. Jeżeli nie mamy nic do zrobienia w danym bloku stosujemy instrukcję `pass`.\n",
    "\n",
    "Instrukcja `pass`:\n",
    "- nie robi nic…\n",
    "- może być użyta w miejscu gdzie wymaga tego syntaktyka, ale program nie robi nic\n",
    "- zwykle używane gdy tworzona jest minimalna klasa\n",
    "- używana również podczas pisania nowego kodu w miejscu, gdzie w przyszłości planujemy wywołać jakąś funkcję lub wyrażenie. "
   ]
  },
  {
   "cell_type": "code",
   "execution_count": null,
   "metadata": {},
   "outputs": [],
   "source": [
    "a = 3\n",
    "b = 4\n",
    "if a < b:  # gdy warunek prawdziwy\n",
    "    pass   # nic nie rób \n",
    "else:      # gdy warunek fałszywy\n",
    "    print(a-b)"
   ]
  },
  {
   "cell_type": "markdown",
   "metadata": {
    "nbgrader": {
     "grade": false,
     "grade_id": "cell-6b2e86786fc58f97",
     "locked": true,
     "schema_version": 3,
     "solution": false
    }
   },
   "source": [
    "#### Operatory `and`, `or` i `not`\n",
    "Używając operatorów `and`, `or` i `not` tworzymy wyrażenia boolowskie."
   ]
  },
  {
   "cell_type": "code",
   "execution_count": null,
   "metadata": {},
   "outputs": [],
   "source": [
    "# warunkiem może być dowolne wyrażenie zwracające True lub False\n",
    "a = 10\n",
    "if a < 20 and a >5 :\n",
    "    print(a, a, end='; ')\n",
    "    \n",
    "# to samo mozemy zapisać prościej\n",
    "if 5 < a < 20:\n",
    "    print(a, a)"
   ]
  },
  {
   "cell_type": "markdown",
   "metadata": {
    "nbgrader": {
     "grade": false,
     "grade_id": "cell-17a9e1167f23ea53",
     "locked": true,
     "schema_version": 3,
     "solution": false
    }
   },
   "source": [
    "#### Łańcuchowa instrukcja warunkowa \n",
    "Do sprawdzenia wielu różnych warunków używamy instrukcji `elif`. Każdy warunek jest kolejno sprawdzany do momentu, aż dany warunek jest prawdziwy. Klauzula `else` nie jest obowiązkowa. Jeżeli klauzula `else` występuje musi znależć się na końcu."
   ]
  },
  {
   "cell_type": "code",
   "execution_count": null,
   "metadata": {},
   "outputs": [],
   "source": [
    "a = 10\n",
    "b = 8\n",
    "if a < b:       # gdy warunek prawdziwy\n",
    "    print(a+b) \n",
    "elif a < 2*b:   # kolejny warunek gdy poprzedni nie jest spełniony\n",
    "    print(a*b)    \n",
    "else:           # gdy warunek fałszywy\n",
    "    print(a-b)"
   ]
  },
  {
   "cell_type": "markdown",
   "metadata": {
    "nbgrader": {
     "grade": false,
     "grade_id": "cell-18d496a2aa016f51",
     "locked": true,
     "schema_version": 3,
     "solution": false
    }
   },
   "source": [
    "#### Zagnieżdżona instrukcja warunkowa \n",
    "Jedna instrukcja warunkowa może zostać zagnieżdżona w drugiej. __Uwaga na wcięcia!__."
   ]
  },
  {
   "cell_type": "code",
   "execution_count": null,
   "metadata": {},
   "outputs": [],
   "source": [
    "a = 10\n",
    "b = 8\n",
    "if a == b:     # gdy warunek prawdziwy\n",
    "    print('a i b są równe') \n",
    "else:          # gdy warunek fałszywy\n",
    "    if a < b:  #zagnieżdżenie - gdy warunek prawdziwy\n",
    "        print('a mniejsze od b')\n",
    "    else:      #zagnieżdżenie - gdy warunek fałszywy\n",
    "        print('a większe od b')"
   ]
  },
  {
   "cell_type": "markdown",
   "metadata": {
    "nbgrader": {
     "grade": false,
     "grade_id": "cell-d9dba951fefaed0b",
     "locked": true,
     "schema_version": 3,
     "solution": false
    }
   },
   "source": [
    "### Wyjątki - Przerwanie działania programu\n",
    "Zgłoszenie wyjątku oznacza wystąpienie błędu i przerwanie normalnego wykonywania programu. Aby przerwać działanie programu (zgłosić wyjątek) można użyć instrukcji `raise`. Argumentem instrukcji `raise` jest rodzaj błędu (wyjątku). Jeżeli nie podamy żadnego argumentu do instrukcji `raise` zostanie ponownie zgłoszony ostatni wyjątek. Więcej informacji przy omawianiu obsługi wyjatków :). \n",
    "\n",
    "#### Przykład: \n",
    "Wczytaj z klawiatury liczbę całkowitą. Jeżeli wartość liczby wynosi 1 wypisz komunikat \"Błąd\" i zakończ działanie programu, w przeciwnym wypadku wypisz jej wartość."
   ]
  },
  {
   "cell_type": "code",
   "execution_count": null,
   "metadata": {},
   "outputs": [],
   "source": [
    "i = input('podaj liczbę całkowitą: ')\n",
    "i = int(i)\n",
    "if i == 1:\n",
    "    print('Błąd')\n",
    "    raise NotImplementedError \n",
    "else:\n",
    "    print(i)"
   ]
  },
  {
   "cell_type": "markdown",
   "metadata": {
    "nbgrader": {
     "grade": false,
     "grade_id": "cell-0ba082502edaa23d",
     "locked": true,
     "schema_version": 3,
     "solution": false
    }
   },
   "source": [
    "### Ćwiczenie 6\n",
    "Napisz program, który dla podanego z klawiatury numeru miesiąca wyprowadzi odpowiadającą mu porę roku, a jeśli podana wartość nie jest numerem miesiąca, to wyprowadzi kilka znaków zapytania."
   ]
  },
  {
   "cell_type": "code",
   "execution_count": null,
   "metadata": {
    "nbgrader": {
     "grade": true,
     "grade_id": "cell-190c8efc73abafa3",
     "locked": false,
     "points": 0,
     "schema_version": 3,
     "solution": true
    }
   },
   "outputs": [],
   "source": [
    "m = input('Podaj numer miesiąca: ')\n",
    "\n",
    "### BEGIN SOLUTION\n",
    "m=int(m)\n",
    "if m == 1 or m == 2 or m == 12 :\n",
    "    print(\"Zima\")\n",
    "elif m == 3 or m == 4 or m == 5 :\n",
    "    print(\"Wiosna\")\n",
    "elif m == 6 or m == 7 or m == 8 :\n",
    "    print(\"Jesień\")\n",
    "elif  m == 9 or m == 10 or m == 11 :\n",
    "    print(\"Zima\")\n",
    "else :\n",
    "    print(\"???\")\n",
    "### END SOLUTION"
   ]
  },
  {
   "cell_type": "markdown",
   "metadata": {
    "nbgrader": {
     "grade": false,
     "grade_id": "cell-39372ea79de47575",
     "locked": true,
     "schema_version": 3,
     "solution": false
    }
   },
   "source": [
    "### Pętle: `while`, `for`\n",
    "W Pythonie mamy kilka rodzajów petli. Zawartość bloków instrukcji ustalana jest na podstawie wcięć.\n",
    "\n",
    "### Pętla `while`\n",
    "Struktura składni ma postać:\n",
    "\n",
    "```python\n",
    "while warunek:\n",
    "\tinstrukcje\n",
    "```\n",
    "Określ czy warunek jest `True` lub `False`. Jeżeli jest fałszywy zakończ instrukcję `while` i przejdź dalej. Jeżeli warunek prawdziwy wykonaj `instrukcje` i znowu sprawdź warunek. Zawartość bloku instrukcji ustalana jest na podstawie wcięć."
   ]
  },
  {
   "cell_type": "code",
   "execution_count": null,
   "metadata": {},
   "outputs": [],
   "source": [
    "i=0\n",
    "while i < 10: #sprawdź warunek, jeżeli True wykonuj instrukcje w bloku i znowu sprawdź warunek\n",
    "    print(i, end=' ') \n",
    "    i=i+1  # mozna krócej i+=1, Uwaga: nie ma czegoś takiego jak w C: i++"
   ]
  },
  {
   "cell_type": "markdown",
   "metadata": {
    "nbgrader": {
     "grade": false,
     "grade_id": "cell-bd9c59931078ffbb",
     "locked": true,
     "schema_version": 3,
     "solution": false
    }
   },
   "source": [
    "### Pętla `for`\n",
    "Pętla `for` w języku Python działa jak pętla `foreach` w niektórych innych językach i składa się z dwóch słów kluczowych `for` oraz `in`. \n",
    "\n",
    "Struktura składni ma postać:\n",
    "```python\n",
    "for zmienna in zbiór_wartości:\n",
    "\tinstrukcje\n",
    "```\n",
    "Wykonuje iteracje po wszystkich elementach zbioru (napis, lista, tupla, słownik)."
   ]
  },
  {
   "cell_type": "code",
   "execution_count": null,
   "metadata": {},
   "outputs": [],
   "source": [
    "for i in [1,2,6,7]:\n",
    "    print(i, end=' ')"
   ]
  },
  {
   "cell_type": "markdown",
   "metadata": {
    "nbgrader": {
     "grade": false,
     "grade_id": "cell-f3471bc89b45760d",
     "locked": true,
     "schema_version": 3,
     "solution": false
    }
   },
   "source": [
    "Iterować można nie tylko po listach, ale po wszystkim co posiada jakieś elementy np. tekstach."
   ]
  },
  {
   "cell_type": "code",
   "execution_count": null,
   "metadata": {},
   "outputs": [],
   "source": [
    "for litera in 'informatyka':\n",
    "    print(litera, end=' ')"
   ]
  },
  {
   "cell_type": "markdown",
   "metadata": {
    "nbgrader": {
     "grade": false,
     "grade_id": "cell-a87a1b17998c28c7",
     "locked": true,
     "schema_version": 3,
     "solution": false
    }
   },
   "source": [
    "### Funkcja `range`\n",
    "Przydatnym obiektem przy używaniu pętli jest obiekt `range()`. Funkcja `range()` tworzy listę wartości z przedziału określonego przez trzy argumenty: poczatek, koniec, przyrost."
   ]
  },
  {
   "cell_type": "code",
   "execution_count": null,
   "metadata": {},
   "outputs": [],
   "source": [
    "range(100)  # generator przedziału liczb całkowitych od 0 do 99 (100 elementow)"
   ]
  },
  {
   "cell_type": "code",
   "execution_count": null,
   "metadata": {},
   "outputs": [],
   "source": [
    "range(5,80)  # generator przedziału liczb całkowitych od 5 do 79"
   ]
  },
  {
   "cell_type": "code",
   "execution_count": null,
   "metadata": {},
   "outputs": [],
   "source": [
    "range(5, 80, 2) # generator przedziału  liczb całkowitych od 5 do 79 z krokiem 2"
   ]
  },
  {
   "cell_type": "code",
   "execution_count": null,
   "metadata": {},
   "outputs": [],
   "source": [
    "for el in range(5,99,3):\n",
    "    print(el, end=' ')"
   ]
  },
  {
   "cell_type": "markdown",
   "metadata": {
    "nbgrader": {
     "grade": false,
     "grade_id": "cell-5bffeee8d09e50a5",
     "locked": true,
     "schema_version": 3,
     "solution": false
    }
   },
   "source": [
    "### Funkcja enumerate\n",
    "Równie przydatne jest słowo kluczowe `enumerate`, które dodaje do obiektu iterowanego pozycje elementów"
   ]
  },
  {
   "cell_type": "code",
   "execution_count": null,
   "metadata": {},
   "outputs": [],
   "source": [
    "enumerate(['a','b','c'])  # z listy ['a','b','c'] otrzymujemu liste postaci [(0,'a'), (1,'b'), (2,'c')]"
   ]
  },
  {
   "cell_type": "code",
   "execution_count": null,
   "metadata": {},
   "outputs": [],
   "source": [
    "abc = ['a','b','c']\n",
    "for index, element in enumerate(abc):\n",
    "    print(index, element)"
   ]
  },
  {
   "cell_type": "code",
   "execution_count": null,
   "metadata": {},
   "outputs": [],
   "source": [
    "# możliwe jest również coś takiego \n",
    "abc = [[1,1,3],[2,1,3],[3,1,3]]\n",
    "for x, y, z in abc:\n",
    "    print(x,y,z)"
   ]
  },
  {
   "cell_type": "markdown",
   "metadata": {},
   "source": [
    "### Przerywanie pętli lub pomijanie iteracji, słowa kluczowe `break`, `continue`, `else`"
   ]
  },
  {
   "cell_type": "code",
   "execution_count": null,
   "metadata": {},
   "outputs": [],
   "source": [
    "# przerywanie pętli while\n",
    "i=0\n",
    "while True:\n",
    "    print(i, end=' ')\n",
    "    i+=1\n",
    "    if i>10:\n",
    "        break  #przerwanie"
   ]
  },
  {
   "cell_type": "code",
   "execution_count": null,
   "metadata": {},
   "outputs": [],
   "source": [
    "# pomijanie iteracji w pętli while\n",
    "i=0\n",
    "while True:\n",
    "    if i % 3 == 0:\n",
    "        i+=1\n",
    "        print('_', end=' ')\n",
    "        continue #przejście do następnej iteracji\n",
    "    print(i, end=' ')\n",
    "    i+=1\n",
    "    if i>10:\n",
    "        break    #przerwanie"
   ]
  },
  {
   "cell_type": "code",
   "execution_count": null,
   "metadata": {},
   "outputs": [],
   "source": [
    "# przerwanie pętli for\n",
    "for i in range(100):\n",
    "    print(i*i, end=' ')\n",
    "    if i*i > 4000:\n",
    "        break    #przerwanie"
   ]
  },
  {
   "cell_type": "code",
   "execution_count": null,
   "metadata": {},
   "outputs": [],
   "source": [
    "# pomijanie iteracji w pętli for\n",
    "for i in range(100):\n",
    "    if 5 < i < 25:\n",
    "        print('_', end=' ')\n",
    "        continue #przejście do następnej iteracji\n",
    "    print(i*i, end=' ')\n",
    "    if i*i > 4000:\n",
    "        break    #przerwanie"
   ]
  },
  {
   "cell_type": "markdown",
   "metadata": {
    "nbgrader": {
     "grade": false,
     "grade_id": "cell-154f0e607ff713d2",
     "locked": true,
     "schema_version": 3,
     "solution": false,
     "task": false
    }
   },
   "source": [
    "W pętlach można używać klauzuli `else` która jest wykonywana gdy wyczerpane zostaną elementy po których iterujemy (pętla `for`) lub gdy warunek przyjmie wartość negatywną dla pętli `while` (nie dotyczy to przypadków gdy wyjście z pętli spowodowane jest przez `break`)"
   ]
  },
  {
   "cell_type": "code",
   "execution_count": null,
   "metadata": {},
   "outputs": [],
   "source": [
    "# użycie klauzuli else w pętli for\n",
    "for liczba in range(2,11):\n",
    "    for i in range(2,liczba):\n",
    "        if liczba%i == 0:\n",
    "            print(liczba,'równa się',i,'*',liczba//i)\n",
    "            break    #przerwanie\n",
    "    else:\n",
    "        # wyjście z pętli bez znalezienia dzielnika\n",
    "        print(liczba,'jest liczbą pierwszą')     "
   ]
  },
  {
   "cell_type": "markdown",
   "metadata": {
    "nbgrader": {
     "grade": false,
     "grade_id": "cell-5942d837e637b587",
     "locked": true,
     "schema_version": 3,
     "solution": false
    }
   },
   "source": [
    "### Ćwiczenie 7\n",
    "Wyznacz średnią arytmetyczną liczb naturalnych $v$ mniejszych lub równych od zadanej liczby naturalnej $k$, $k\\geq2$ i spełniających warunek:\n",
    "$$ \\frac{v^{2}}{2}-v \\geq k$$ \n",
    "$$v=1,2, ...k$$"
   ]
  },
  {
   "cell_type": "code",
   "execution_count": null,
   "metadata": {
    "nbgrader": {
     "grade": true,
     "grade_id": "cell-7530aa043efb6088",
     "locked": false,
     "points": 0,
     "schema_version": 3,
     "solution": true
    }
   },
   "outputs": [],
   "source": [
    "import math\n",
    "k = input('Podaj k = ')\n",
    "\n",
    "### BEGIN SOLUTION\n",
    "k =int(k)\n",
    "\n",
    "i = 0\n",
    "ct= 0\n",
    "suma = 0\n",
    "for i in range(0, k):\n",
    "\n",
    "    if pow(i, 2)/2 - i >= k :\n",
    "        suma = suma + i\n",
    "        ct = ct +1\n",
    "        i = i +1\n",
    "    else:\n",
    "        i = i \n",
    "print (suma/ct)\n",
    "### END SOLUTION"
   ]
  },
  {
   "cell_type": "markdown",
   "metadata": {
    "nbgrader": {
     "grade": false,
     "grade_id": "cell-3e73d41a914dfc5d",
     "locked": true,
     "schema_version": 3,
     "solution": false
    }
   },
   "source": [
    "## Zadanie 1\n",
    "Napisz program, który obliczy pole oraz objętość torusa. Użyj stałej $\\pi$ z biblioteki `math`.\n",
    "\n",
    "https://pl.wikipedia.org/wiki/Torus_(matematyka)"
   ]
  },
  {
   "cell_type": "code",
   "execution_count": 1,
   "metadata": {
    "nbgrader": {
     "grade": true,
     "grade_id": "cell-99aa0016d90ebf26",
     "locked": false,
     "points": 1,
     "schema_version": 3,
     "solution": true
    }
   },
   "outputs": [
    {
     "name": "stdout",
     "output_type": "stream",
     "text": [
      "Podaj promień okręgu definującego torus: \n",
      "3\n",
      "Podaj odległość środka okręgu od osi obrotu: \n",
      "3\n",
      "Pole torusa wynosi: 355.3057584392169\n",
      "Objętoś torusa wynosi: 532.9586376588254\n"
     ]
    }
   ],
   "source": [
    "import math\n",
    "\n",
    "print('Podaj promień okręgu definującego torus: ')\n",
    "r = input()\n",
    "print('Podaj odległość środka okręgu od osi obrotu: ')\n",
    "R = input()\n",
    "### BEGIN SOLUTION\n",
    "r = float(r)\n",
    "R = float(R)\n",
    "p =  4*math.pi**2*r*R\n",
    "v = 2*math.pi**2*r**2*R\n",
    "print('Pole torusa wynosi:', p)\n",
    "print('Objętoś torusa wynosi:', v)\n",
    "### END SOLUTION"
   ]
  },
  {
   "cell_type": "markdown",
   "metadata": {
    "nbgrader": {
     "grade": false,
     "grade_id": "cell-aeecbd849dd010c3",
     "locked": true,
     "schema_version": 3,
     "solution": false
    }
   },
   "source": [
    "## Zadanie 2\n",
    "Napisz program, który zaokrągli podaną liczbę w górę do podanej liczby miejsc po przecinku."
   ]
  },
  {
   "cell_type": "code",
   "execution_count": 2,
   "metadata": {
    "nbgrader": {
     "grade": true,
     "grade_id": "cell-5f90b4090ae915a9",
     "locked": false,
     "points": 1,
     "schema_version": 3,
     "solution": true
    }
   },
   "outputs": [
    {
     "name": "stdout",
     "output_type": "stream",
     "text": [
      "Podaj liczbę: \n",
      "2.34535\n",
      "Podaj liczbę miejsc po przecinku: \n",
      "3\n",
      "2.346\n"
     ]
    }
   ],
   "source": [
    "import math\n",
    "\n",
    "print('Podaj liczbę: ')\n",
    "liczba = input()\n",
    "print('Podaj liczbę miejsc po przecinku: ')\n",
    "miejsca = input()\n",
    "### BEGIN SOLUTION\n",
    "\n",
    "liczba = float(liczba)\n",
    "miejsca = int(miejsca)\n",
    "\n",
    "def round_up(liczba, miejsca):\n",
    "    x = 10**miejsca\n",
    "    return math.ceil(liczba * x)/ x\n",
    "\n",
    "print(round_up( liczba, miejsca))\n",
    "\n",
    "\n",
    "### END SOLUTION"
   ]
  },
  {
   "cell_type": "markdown",
   "metadata": {
    "nbgrader": {
     "grade": false,
     "grade_id": "cell-8c114cde9f472c41",
     "locked": true,
     "schema_version": 3,
     "solution": false
    }
   },
   "source": [
    "## Zadanie 3\n",
    "Dana jest liczba $i$ typu `int` oraz liczba $x$ typu `float`. Wyprowadź wartości tych liczb w formatach jak pokazano na przykładzie poniżej (10 pól):\n",
    "\n",
    "```\n",
    "Podaj liczbę całkowią i = 1\n",
    "Podaj liczbę rzeczywistą x = 2.5\n",
    "\n",
    "Formaty przekształcenia dla liczb całkowitych:\n",
    "i |1|\n",
    "i |         1|\n",
    "i |        +1|\n",
    "i |1         |\n",
    "i |0000000001|\n",
    "i |     00001|\n",
    "\n",
    "Formaty przekształcenia dla liczb rzeczywistych:\n",
    "x |2.5|\n",
    "x |       2.5|\n",
    "x |   +2.5000|\n",
    "x |2.5000    |\n",
    "x |00002.5000|\n",
    "x |2.5000e+00|\n",
    "```\n"
   ]
  },
  {
   "cell_type": "code",
   "execution_count": null,
   "metadata": {
    "nbgrader": {
     "grade": true,
     "grade_id": "cell-4eaff50991eca65f",
     "locked": false,
     "points": 1,
     "schema_version": 3,
     "solution": true
    }
   },
   "outputs": [],
   "source": [
    "i = input('Podaj liczbę całkowią i = ')\n",
    "x = input('Podaj liczbę rzeczywistą x = ')\n",
    "### BEGIN SOLUTION\n",
    "całkowita = \"\"\"\n",
    "i |{0}|/n\n",
    "i |         {0}|/n\n",
    "i |        +{0}|/n\n",
    "i |{0}         |/n\n",
    "i |000000000{0}|/n\n",
    "i |     0000{0}|/n\n",
    "\"\"\"\n",
    "print(całkowita.format(i))\n",
    "print(całkowita.format(x))\n",
    "### END SOLUTION"
   ]
  },
  {
   "cell_type": "markdown",
   "metadata": {
    "nbgrader": {
     "grade": false,
     "grade_id": "cell-01780820da67534f",
     "locked": true,
     "schema_version": 3,
     "solution": false
    }
   },
   "source": [
    "## Zadanie 4\n",
    "Napisz program, który we wprowadzonym tekście wyeliminuje wszystkie samogłoski i w ich miejsce wstawi podany przez użytkownika znak. Wypisz na ekran tekst po zmianie oraz liczbę zamienionych liter."
   ]
  },
  {
   "cell_type": "code",
   "execution_count": 5,
   "metadata": {
    "nbgrader": {
     "grade": true,
     "grade_id": "cell-a4a3a6d6013148c5",
     "locked": false,
     "points": 1,
     "schema_version": 3,
     "solution": true
    }
   },
   "outputs": [
    {
     "name": "stdout",
     "output_type": "stream",
     "text": [
      "Wprowadź tekst: AAAAAAAAAAAAAAAaaaaaaaaOOOOOOOrYYYĄą\n",
      "Wprowadź znak: x\n",
      "xxxxxxxxxxxxxxxxxxxxxxxxxxxxxxrxxxxx 35\n"
     ]
    }
   ],
   "source": [
    "text = input('Wprowadź tekst: ')\n",
    "znak = input('Wprowadź znak: ')\n",
    "### BEGIN SOLUTION\n",
    "samo = [\"A\",\"a\",\"Ą\", \"ą\",\"E\", \"e\",\"Ę\" \"ę\",\"I\", \"i\",\"O\", \"o\",\"Ó,\" \"ó\",\"U,\", \"u\",\"Y\", \"y\"]\n",
    "i = 0\n",
    "Vowels = 0\n",
    "newText = text \n",
    "for x in samo:\n",
    "    howManyVowels = text.count(x)\n",
    "    Vowels = Vowels + howManyVowels \n",
    "    newText = newText.replace(samo[i], znak)\n",
    "    i +=  1\n",
    "\n",
    "print(newText, Vowels) \n",
    "### END SOLUTION"
   ]
  },
  {
   "cell_type": "markdown",
   "metadata": {
    "nbgrader": {
     "grade": false,
     "grade_id": "cell-aeecbd849dd010c3c4",
     "locked": true,
     "schema_version": 3,
     "solution": false
    }
   },
   "source": [
    "## Zadanie 5\n",
    "Dane są dwa teksty. Napisz program, który dołączy fragment tekstu pierwszego od znaku o podanej pozycji na koniec tekstu drugiego oraz poda liczbę słów w nowo utworzonym tekscie. Zakładamy, że słowa rozdziela spacja `(' ')`."
   ]
  },
  {
   "cell_type": "code",
   "execution_count": 9,
   "metadata": {
    "nbgrader": {
     "grade": true,
     "grade_id": "cell-5f90b4090ae915a1",
     "locked": false,
     "points": 1,
     "schema_version": 3,
     "solution": true
    }
   },
   "outputs": [
    {
     "name": "stdout",
     "output_type": "stream",
     "text": [
      "Wprowadź tekst_1: string into a list where each word is a list item\n",
      "Wprowadź tekst_2: welcome to the jungle\n",
      "Podaj pozycję znaku w tekst_1: 12\n",
      "welcome to the jungle string into \n",
      "6\n"
     ]
    }
   ],
   "source": [
    "text_1 = input('Wprowadź tekst_1: ')\n",
    "text_2 = input('Wprowadź tekst_2: ')\n",
    "p = input('Podaj pozycję znaku w tekst_1: ')\n",
    "### BEGIN SOLUTION\n",
    "p= int(p)\n",
    "newText1 = text_1[0:p]\n",
    "newText2 = text_2 +\" \"+ newText1\n",
    "x = newText2.split()\n",
    "print(newText2)\n",
    "i = 0\n",
    "for y in x:\n",
    "    i = i +1\n",
    "print(i) \n",
    "### END SOLUTION"
   ]
  },
  {
   "cell_type": "markdown",
   "metadata": {
    "nbgrader": {
     "grade": false,
     "grade_id": "cell-093f3217226d4abc",
     "locked": true,
     "schema_version": 3,
     "solution": false
    }
   },
   "source": [
    "## Zadanie 6\n",
    "Dany jest przedział $[p1,p2]$ liczb naturalnych oraz liczba naturalna $p$ z jego wnętrza. Utwórz sumę liczb naturalnych z przedziału $<p1,p>$ oraz iloczyn pozostałych liczb."
   ]
  },
  {
   "cell_type": "code",
   "execution_count": null,
   "metadata": {
    "nbgrader": {
     "grade": true,
     "grade_id": "cell-bcdcb194e012da23",
     "locked": false,
     "points": 1,
     "schema_version": 3,
     "solution": true
    }
   },
   "outputs": [],
   "source": [
    "# wprowadz p1\n",
    "p1 = 1\n",
    "# wprowadz p2\n",
    "p2 = 8\n",
    "# wprowadz p\n",
    "p = 3\n",
    "\n",
    "### BEGIN SOLUTION\n",
    "suma = 0\n",
    "iloczyn = 1\n",
    "for i in range (p1, p + 1):\n",
    "    suma = suma + i \n",
    "   \n",
    "for i in range (p+1, p2 + 1):\n",
    "    iloczyn = iloczyn * i \n",
    "\n",
    "print(suma, iloczyn)\n",
    "### END SOLUTION"
   ]
  },
  {
   "cell_type": "markdown",
   "metadata": {
    "nbgrader": {
     "grade": false,
     "grade_id": "cell-21a9c5df44cff69g",
     "locked": true,
     "schema_version": 3,
     "solution": false
    }
   },
   "source": [
    "## Zadanie 7\n",
    "Napisz program, który pyta użytkownika o dzień tygodnia. Program powinien wypisywać opinię autora o podanym dniu tygodnia. Jeśli użytkownik poda zły dzień (np. poda niepoprawnie jego nazwę), program powinien upomnieć użytkownika, oraz zapytać ponownie. Jeśli użytkownik dwa razy poda nieprawidłowy dzień, program powinien wypisać swoją opinię o użytkowniku i zakończyć działanie."
   ]
  },
  {
   "cell_type": "code",
   "execution_count": null,
   "metadata": {
    "nbgrader": {
     "grade": true,
     "grade_id": "cell-afb64df2a116f3b7",
     "locked": false,
     "points": 1,
     "schema_version": 3,
     "solution": true
    }
   },
   "outputs": [],
   "source": [
    "### BEGIN SOLUTION\n",
    "i = 0\n",
    "while i !=2: \n",
    "    day = input('Jaki jest dzień tygodnia(wpisz wszystkie lietery małe): ')\n",
    "\n",
    "    if day == \"poniedziałek\":\n",
    "        print(\"Poniedziałek jest najgorszy\")\n",
    "    elif day == \"wtorek\":\n",
    "        print(\"Wtorek jest słaby\")\n",
    "    elif day == \"środa\":\n",
    "     print(\"Środa jest ok\")\n",
    "    elif day == \"czwartek\":\n",
    "        print(\"Czwartek jest ok\")\n",
    "    elif day == \"piątek\":\n",
    "        print('Piątek jest super')\n",
    "    elif day == \"sobota\":\n",
    "        print(\"Sobota jest super\")\n",
    "    elif day == \"niedziela\":\n",
    "        print(\"Niedziela jest ok\")\n",
    "    else:\n",
    "        i= i +1 \n",
    "        print(\"Popeniłeś błąd w wpisywaniu dnia tygodnia,pamiętaj o małych literach \")\n",
    "print(\"Użytkownik dwa razy się pomylił, pffff\")\n",
    "\n",
    "### END SOLUTION"
   ]
  },
  {
   "cell_type": "markdown",
   "metadata": {
    "nbgrader": {
     "grade": false,
     "grade_id": "cell-21a9c5df44cff69h",
     "locked": true,
     "schema_version": 3,
     "solution": false
    }
   },
   "source": [
    "## Zadanie 8\n",
    "Napisz program sprawdzający czy podana przez użytkownika liczba jest pierwsza.\n",
    "\n",
    "https://pl.wikipedia.org/wiki/Liczba_pierwsza"
   ]
  },
  {
   "cell_type": "code",
   "execution_count": null,
   "metadata": {
    "nbgrader": {
     "grade": true,
     "grade_id": "cell-afb64df2a116f3b6",
     "locked": false,
     "points": 1,
     "schema_version": 3,
     "solution": true
    }
   },
   "outputs": [],
   "source": [
    "# wprowadz liczbę\n",
    "liczba = int(input(\"Podaj liczbę: \"))\n",
    "\n",
    "### BEGIN SOLUTION\n",
    "import math\n",
    "liczba = int(liczba)\n",
    "sqrt = sqrt(liczba)\n",
    "sqrt2 = int(sqrt.real)\n",
    "\n",
    "i = 2\n",
    "while i < sqrt2:\n",
    "    if liczba%i == 0:\n",
    "        print(liczba, \" jest nie jest liczbą pierwszą\")\n",
    "        i = i+1 \n",
    "        \n",
    "        break\n",
    "    else: \n",
    "        i = i+1 \n",
    "\n",
    "if i == sqrt2 :print(liczba, \"jest liczbą piewrszą\")\n",
    "### END SOLUTION"
   ]
  },
  {
   "cell_type": "code",
   "execution_count": null,
   "metadata": {},
   "outputs": [],
   "source": []
  }
 ],
 "metadata": {
  "celltoolbar": "Create Assignment",
  "kernelspec": {
   "display_name": "Python 3 (ipykernel)",
   "language": "python",
   "name": "python3"
  },
  "language_info": {
   "codemirror_mode": {
    "name": "ipython",
    "version": 3
   },
   "file_extension": ".py",
   "mimetype": "text/x-python",
   "name": "python",
   "nbconvert_exporter": "python",
   "pygments_lexer": "ipython3",
   "version": "3.9.12"
  }
 },
 "nbformat": 4,
 "nbformat_minor": 2
}
