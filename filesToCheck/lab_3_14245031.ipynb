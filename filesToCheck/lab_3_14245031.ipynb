{
  "cells": [
    {
      "cell_type": "markdown",
      "id": "3f7fe99c",
      "metadata": {
        "id": "3f7fe99c"
      },
      "source": [
        "## Języki symboliczne - rok akademicki 2023/2023\n",
        "\n",
        "Przed rozpoczęciem pracy z notatnikiem zmień jego nazwę zgodnie z wzorem: `NrAlbumu_Nazwisko_Imie_PoprzedniaNazwa`\n",
        "\n",
        "Przed wysłaniem notatnika upewnij się, że rozwiązałeś wszystkie zadania/ćwiczenia, w szczególności, że uzupełniłeś wszystkie pola `YOUR CODE HERE` oraz `YOUR ANSWER HERE`."
      ]
    },
    {
      "cell_type": "markdown",
      "id": "acf98f06",
      "metadata": {
        "deletable": false,
        "editable": false,
        "nbgrader": {
          "cell_type": "markdown",
          "checksum": "64125d2408315ec6596d89fe92ba20fd",
          "grade": false,
          "grade_id": "cell-ec984842bc599089",
          "locked": true,
          "schema_version": 3,
          "solution": false
        },
        "id": "acf98f06"
      },
      "source": [
        "# Temat: Listy. Odwzorowania listowe. Kopiowanie płytkie i głębokie.\n",
        "Zapoznaj się z treścią niniejszego notatnika czytając i wykonując go komórka po komórce. Wykonaj napotkane zadania/ćwiczenia.\n",
        "\n",
        "## Typ danych `list` (lista)\n",
        "\n",
        "- Listy należą do typów sekwencyjnych (jak napisy czy krotki).\n",
        "- Elementy listy oddzielone są przecinkami i umieszczone w nawiasach kwadratowych.\n",
        "- Listy są indeksowane liczbami całkowitymi zaczynającymi się od zera.\n",
        "- Dostęp do elementów listy odbywa się w analogicznie jak w napisach czy krotkach.\n",
        "- Elementy listy nie muszą być tego samego typu.\n",
        "- Listy można modyfikować - są strukturami mutowalnymi (w odróżnieniu od napisów i krotek - struktur niemutowalnch).\n",
        "\n",
        "Listy mogą być tworzone na kilka sposobów:\n",
        "- Za pomocą nawiasów kwadratowych, elementy oddzielone przecinkami: `[a]` lub `[a, b, c]`\n",
        "- lista pusta to: `[]`\n",
        "- poprzez wykorzystanie odwzorowań listowych: `[x for x in iterable]`\n",
        "- Za pomocą konstruktora typu (funkcji): `list()` lub `list(iterable)`"
      ]
    },
    {
      "cell_type": "code",
      "execution_count": null,
      "id": "308e233c",
      "metadata": {
        "id": "308e233c",
        "colab": {
          "base_uri": "https://localhost:8080/"
        },
        "outputId": "2544a956-d648-4e71-9e41-53caaca32477"
      },
      "outputs": [
        {
          "output_type": "stream",
          "name": "stdout",
          "text": [
            "[1, 2, '3']\n"
          ]
        },
        {
          "output_type": "execute_result",
          "data": {
            "text/plain": [
              "list"
            ]
          },
          "metadata": {},
          "execution_count": 2
        }
      ],
      "source": [
        "l = [1, 2, '3']\n",
        "print(l)\n",
        "type(l)"
      ]
    },
    {
      "cell_type": "markdown",
      "id": "b2ea167c",
      "metadata": {
        "deletable": false,
        "editable": false,
        "nbgrader": {
          "cell_type": "markdown",
          "checksum": "f039cfc7ba8c27e76f070777ed9612aa",
          "grade": false,
          "grade_id": "cell-f1d6950901ddac86",
          "locked": true,
          "schema_version": 3,
          "solution": false
        },
        "id": "b2ea167c"
      },
      "source": [
        "Długość listy."
      ]
    },
    {
      "cell_type": "code",
      "execution_count": null,
      "id": "94ebde74",
      "metadata": {
        "id": "94ebde74",
        "colab": {
          "base_uri": "https://localhost:8080/"
        },
        "outputId": "76e801f2-155d-40ed-f2f5-8f2e028c6cb9"
      },
      "outputs": [
        {
          "output_type": "execute_result",
          "data": {
            "text/plain": [
              "3"
            ]
          },
          "metadata": {},
          "execution_count": 3
        }
      ],
      "source": [
        "len(l)"
      ]
    },
    {
      "cell_type": "markdown",
      "id": "6f62b464",
      "metadata": {
        "deletable": false,
        "editable": false,
        "nbgrader": {
          "cell_type": "markdown",
          "checksum": "8171abf413cacb9b4c8a5cdcfdecfa20",
          "grade": false,
          "grade_id": "cell-7b156f8b055ac60a",
          "locked": true,
          "schema_version": 3,
          "solution": false
        },
        "id": "6f62b464"
      },
      "source": [
        "Tworzenie listy pustej."
      ]
    },
    {
      "cell_type": "code",
      "execution_count": null,
      "id": "5c1834df",
      "metadata": {
        "id": "5c1834df",
        "colab": {
          "base_uri": "https://localhost:8080/"
        },
        "outputId": "eff2cf32-7efc-4e73-93bf-a0dc5e079af3"
      },
      "outputs": [
        {
          "output_type": "stream",
          "name": "stdout",
          "text": [
            "[] []\n"
          ]
        },
        {
          "output_type": "execute_result",
          "data": {
            "text/plain": [
              "(list, list)"
            ]
          },
          "metadata": {},
          "execution_count": 4
        }
      ],
      "source": [
        "t1 = []\n",
        "# lub\n",
        "t2 = list()\n",
        "print(t1, t2)\n",
        "type(t1), type(t2)"
      ]
    },
    {
      "cell_type": "markdown",
      "id": "a9807bf4",
      "metadata": {
        "deletable": false,
        "editable": false,
        "nbgrader": {
          "cell_type": "markdown",
          "checksum": "f2084d04276bda25e9158b5597aa2117",
          "grade": false,
          "grade_id": "cell-c28c9ee2795fc779",
          "locked": true,
          "schema_version": 3,
          "solution": false
        },
        "id": "a9807bf4"
      },
      "source": [
        "#### Dostęp do poszczególnych elementów, modyfikacja i wycinanie (slicing) list\n",
        "Z listy możemy wybierać pojedyńcze elementy lub fragment listy. Aby wybrać dowolny element z listy należy użyć metody wbudowanej  `__getitem__` lub prościej operatora `[]`.\n",
        "\n",
        "Podanie indeksu większego niż liczba elementów kończy się wyrzuceniem błędu. Możemy numerować pozycje od końca, wstawiając liczby ujemne. \n",
        "\n",
        "Aby wybrać fragment listy należy użyć konstrukcji `[s:e:k]`, gdzie `s` to pozycja pierwszego elementu który chcemy wybrać, `e` to pozycja ostatniego elementu (którego nie wchodzi już w skład wybieranej sekwencji), `k` to krok z jakim wybieramy elementy."
      ]
    },
    {
      "cell_type": "code",
      "execution_count": null,
      "id": "2ca04ba3",
      "metadata": {
        "id": "2ca04ba3",
        "colab": {
          "base_uri": "https://localhost:8080/"
        },
        "outputId": "33792be0-5a9c-4c77-d5f7-193a34070ee4"
      },
      "outputs": [
        {
          "output_type": "stream",
          "name": "stdout",
          "text": [
            "1\n",
            "3\n"
          ]
        }
      ],
      "source": [
        "l = [1, 2, '3']\n",
        "print(l.__getitem__(0))   # numeracja od 0\n",
        "print(l[2])"
      ]
    },
    {
      "cell_type": "code",
      "execution_count": null,
      "id": "99287039",
      "metadata": {
        "id": "99287039",
        "colab": {
          "base_uri": "https://localhost:8080/",
          "height": 36
        },
        "outputId": "9180a339-13d7-41d4-d7d8-b6d06f4f31ed"
      },
      "outputs": [
        {
          "output_type": "execute_result",
          "data": {
            "text/plain": [
              "'3'"
            ],
            "application/vnd.google.colaboratory.intrinsic+json": {
              "type": "string"
            }
          },
          "metadata": {},
          "execution_count": 6
        }
      ],
      "source": [
        "l[-1]   # odczyt elementu o indeksie ujemnym - liczenie wstecz od końca listy"
      ]
    },
    {
      "cell_type": "code",
      "execution_count": null,
      "id": "12fd0b70",
      "metadata": {
        "id": "12fd0b70",
        "colab": {
          "base_uri": "https://localhost:8080/",
          "height": 171
        },
        "outputId": "e766ec82-72a1-4887-f1a9-3a028c07917e"
      },
      "outputs": [
        {
          "output_type": "error",
          "ename": "IndexError",
          "evalue": "ignored",
          "traceback": [
            "\u001b[0;31m---------------------------------------------------------------------------\u001b[0m",
            "\u001b[0;31mIndexError\u001b[0m                                Traceback (most recent call last)",
            "\u001b[0;32m<ipython-input-7-af41e591c4c5>\u001b[0m in \u001b[0;36m<module>\u001b[0;34m\u001b[0m\n\u001b[0;32m----> 1\u001b[0;31m \u001b[0ml\u001b[0m\u001b[0;34m[\u001b[0m\u001b[0;36m3\u001b[0m\u001b[0;34m]\u001b[0m   \u001b[0;31m# odczyt elementu który nie istnieje - błąd!\u001b[0m\u001b[0;34m\u001b[0m\u001b[0;34m\u001b[0m\u001b[0m\n\u001b[0m",
            "\u001b[0;31mIndexError\u001b[0m: list index out of range"
          ]
        }
      ],
      "source": [
        "l[3]   # odczyt elementu który nie istnieje - błąd!"
      ]
    },
    {
      "cell_type": "markdown",
      "id": "d2f7caa3",
      "metadata": {
        "deletable": false,
        "editable": false,
        "nbgrader": {
          "cell_type": "markdown",
          "checksum": "df542f2a0ffc093006cf463786409a9a",
          "grade": false,
          "grade_id": "cell-04a7bda6ca69e4a8",
          "locked": true,
          "schema_version": 3,
          "solution": false
        },
        "id": "d2f7caa3"
      },
      "source": [
        "Slicing (wycinanie), analogiczne jak w napisach."
      ]
    },
    {
      "cell_type": "code",
      "execution_count": null,
      "id": "df28ca9a",
      "metadata": {
        "id": "df28ca9a"
      },
      "outputs": [],
      "source": [
        "a = [1, 2, 3, 4, 5, 6]\n",
        "print('1)', a)\n",
        "print('2)', a[1:4])\n",
        "print('3)', a[:4])\n",
        "print('4)', a[3:])\n",
        "print('5)', a[2:5:2])\n",
        "\n",
        "a[1:3] = []   # zmiana długości listy\n",
        "print('6)', a)"
      ]
    },
    {
      "cell_type": "markdown",
      "id": "094c4d90",
      "metadata": {
        "deletable": false,
        "editable": false,
        "nbgrader": {
          "cell_type": "markdown",
          "checksum": "2f27e4072363cec984007c3948ac892d",
          "grade": false,
          "grade_id": "cell-e8ad3ee4a6b1990e",
          "locked": true,
          "schema_version": 3,
          "solution": false
        },
        "id": "094c4d90"
      },
      "source": [
        "Elementy listy można modyfikować."
      ]
    },
    {
      "cell_type": "code",
      "execution_count": null,
      "id": "9c36011c",
      "metadata": {
        "id": "9c36011c"
      },
      "outputs": [],
      "source": [
        "print(l)\n",
        "print(l[0])\n",
        "l[0] = 'nowe_0'\n",
        "print(l)"
      ]
    },
    {
      "cell_type": "markdown",
      "id": "e523b42a",
      "metadata": {
        "deletable": false,
        "editable": false,
        "nbgrader": {
          "cell_type": "markdown",
          "checksum": "cfe86f8746490c41409b9b2ef8347ec7",
          "grade": false,
          "grade_id": "cell-c6ff42b73cb10f30",
          "locked": true,
          "schema_version": 3,
          "solution": false
        },
        "id": "e523b42a"
      },
      "source": [
        "#### Listy zagnieżdżone.\n",
        "Lista wewnątrz innej listy. Dostęp do elementów listy zagnieżdżonej `[][]`."
      ]
    },
    {
      "cell_type": "code",
      "execution_count": null,
      "id": "457e5a5e",
      "metadata": {
        "id": "457e5a5e"
      },
      "outputs": [],
      "source": [
        "l1 = [1, 2, 3, ['a','b','c']]\n",
        "print(l1)\n",
        "print(len(l1))\n",
        "el = l1[3][1]   # dostęp do elementu o indeksie 1 w liście zagnieżdżonej\n",
        "print(el)"
      ]
    },
    {
      "cell_type": "markdown",
      "id": "36728112",
      "metadata": {
        "deletable": false,
        "editable": false,
        "nbgrader": {
          "cell_type": "markdown",
          "checksum": "3dc7148f9463233f51ee973f4f2c791d",
          "grade": false,
          "grade_id": "cell-dbf6e783298d09b1",
          "locked": true,
          "schema_version": 3,
          "solution": false
        },
        "id": "36728112"
      },
      "source": [
        "#### Przeglądanie elementów listy.\n",
        "Indeksowanie podczas przeglądania. Funkcja `enumerate`."
      ]
    },
    {
      "cell_type": "code",
      "execution_count": null,
      "id": "04568d0f",
      "metadata": {
        "id": "04568d0f"
      },
      "outputs": [],
      "source": [
        "for i in l1:\n",
        "    print(i)"
      ]
    },
    {
      "cell_type": "code",
      "execution_count": null,
      "id": "1c5887c6",
      "metadata": {
        "id": "1c5887c6"
      },
      "outputs": [],
      "source": [
        "for i in range(len(l1)):\n",
        "    print(i, l1[i])"
      ]
    },
    {
      "cell_type": "code",
      "execution_count": null,
      "id": "fa825c74",
      "metadata": {
        "id": "fa825c74"
      },
      "outputs": [],
      "source": [
        "for index, element in enumerate(l1):  # patrz notebook z lab_1.\n",
        "    print(index, element)"
      ]
    },
    {
      "cell_type": "markdown",
      "id": "917a7b7c",
      "metadata": {
        "deletable": false,
        "editable": false,
        "nbgrader": {
          "cell_type": "markdown",
          "checksum": "e5fe9b0372d96bcea5eb6f7d7ab58319",
          "grade": false,
          "grade_id": "cell-4f42bd7616315992",
          "locked": true,
          "schema_version": 3,
          "solution": false
        },
        "id": "917a7b7c"
      },
      "source": [
        "#### Operacje na listach: `+`, `*`."
      ]
    },
    {
      "cell_type": "code",
      "execution_count": null,
      "id": "08e33d9f",
      "metadata": {
        "id": "08e33d9f"
      },
      "outputs": [],
      "source": [
        "# listy tak jak napisy można dodawać (łączyć) i mnożyć przez liczbę (powielać)\n",
        "l1 = [1,2,3]\n",
        "l2 = ['a','b','c']\n",
        "print(l1+l2)\n",
        "print(l1*3)"
      ]
    },
    {
      "cell_type": "markdown",
      "id": "e7dc73e1",
      "metadata": {
        "deletable": false,
        "editable": false,
        "nbgrader": {
          "cell_type": "markdown",
          "checksum": "2dd60b995a3291522bfae07059644d37",
          "grade": false,
          "grade_id": "cell-6838afd0889ee632",
          "locked": true,
          "schema_version": 3,
          "solution": false
        },
        "id": "e7dc73e1"
      },
      "source": [
        "#### Metody obiektu list.\n",
        "Metody dla list (sekwencji):\n",
        "https://docs.python.org/3/library/stdtypes.html#typesseq-mutable.\n",
        "https://docs.python.org/3/tutorial/datastructures.html\n",
        "\n",
        "Wybrane metody do użycia:\n",
        "- `append(x)` - Dodaje na koniec listy element x. Zwieksza rozmiar listy o 1.\n",
        "- `extend(l)` - Rozszerza liste o elementy listy `l`. Zwieksza rozmiar listy o `len(l)`.\n",
        "- `insert(i, x)` - Wstawia element x na pozycji i. Zwieksza rozmiar listy o 1. Zmienia indeksy poszczególnych elementów.\n",
        "- `remove(x)` - Usuwa pierwszy napotkany element listy, którego wartość jest równa x. Zmniejsza rozmiar listy o 1.\n",
        "- `pop(i)` - Usuwa element o podanym indeksie i i go zwraca. Argument i jest argumentem domyślnym, jesli nie zostanie podany przyjmuje indeks ostatniego elementu listy. Zmniejsza rozmiar o 1.\n",
        "- `index(x)` - Zwraca indeks pierwszego elementu listy, którego wartość jest równa x. Jeśli w liście nie ma takiego elementu, wyrzucany jest błąd.\n",
        "- `count(x)` - Zwraca liczbę elementów listy, których wartość jest równa x.\n",
        "- `sort(*, key=None, reverse=False)` - Sortuje liste.\n",
        "- `reverse()` - Odwraca elementy listy.\n",
        "- `del` - Usuwa elementy lub fragmenty listy (`del s[i:j:k]`) (`del` może też być użyte do usuwania zmiennych)\n",
        "- `clear()`  - usuwa całą zawartość listy.\n",
        "\n",
        "__Uwaga!__ Wiekszość metod dla list modyfikuje argument(listę) i zwraca `None`."
      ]
    },
    {
      "cell_type": "code",
      "execution_count": null,
      "id": "20d9a457",
      "metadata": {
        "id": "20d9a457"
      },
      "outputs": [],
      "source": [
        "s = [1, 2, 3, 4, 5, 6]\n",
        "t = [8, 9, 10]\n",
        "print(s)\n",
        "\n",
        "s.append(7)  # dodanie na koniec\n",
        "print(s)\n",
        "s.extend(t)  # rozszerza listę o listę t\n",
        "print(s)\n",
        "s.insert(1, 111)  # wstawia na pozycji 1 liczbę 111\n",
        "print(s)\n",
        "s.remove(2)  # usuwa pierwszą napotkaną 2\n",
        "print(s)\n",
        "a = s.pop(1)  # usuwa element z pozycji 1 i go zwraca\n",
        "print(s, a,sep = '; ')\n",
        "del s[1:3]  # usuwa fragment listy\n",
        "print(s)\n",
        "s.clear()  # usuwa wszystkie elementy listy\n",
        "print(s)"
      ]
    },
    {
      "cell_type": "code",
      "execution_count": null,
      "id": "cc3c8992",
      "metadata": {
        "id": "cc3c8992"
      },
      "outputs": [],
      "source": [
        "s = [1, 2, 3, 4, 3, 2]\n",
        "print(s)\n",
        "\n",
        "print(s.index(4))  # indeks pierwszego elementu o wartości 4\n",
        "print(s.count(3))  # liczba wszystkich elementów o wartości 3\n",
        "s.sort()  # sortowanie\n",
        "print(s)\n",
        "s.reverse() # odwracanie\n",
        "print(s)"
      ]
    },
    {
      "cell_type": "code",
      "execution_count": null,
      "id": "d886a873",
      "metadata": {
        "id": "d886a873"
      },
      "outputs": [],
      "source": [
        "s = [1, 2, 3, 4, 3, 2]\n",
        "print(s)\n",
        "s.sort(reverse = True)  # sortowanie\n",
        "print(s)\n",
        "s = ['c','A','b','M','z','R']\n",
        "s.sort()\n",
        "print(s)\n",
        "s.sort(key = str.lower)\n",
        "print(s)\n",
        "s = ['c','A','b','M','z','R']\n",
        "s.sort(key = str.lower, reverse = True)\n",
        "print(s)"
      ]
    },
    {
      "cell_type": "markdown",
      "id": "76a9fd19",
      "metadata": {
        "deletable": false,
        "editable": false,
        "nbgrader": {
          "cell_type": "markdown",
          "checksum": "4037d6cc1b342344069beb9a634dd586",
          "grade": false,
          "grade_id": "cell-04351e5b0acc8f0d",
          "locked": true,
          "schema_version": 3,
          "solution": false,
          "task": false
        },
        "id": "76a9fd19"
      },
      "source": [
        "Metoda wbudowana `sorted(iterable, key=None, reverse=False)` zwraca nową, posortowaną listę."
      ]
    },
    {
      "cell_type": "code",
      "execution_count": null,
      "id": "6a5f8a66",
      "metadata": {
        "id": "6a5f8a66"
      },
      "outputs": [],
      "source": [
        "s = ['c','A','b','M','z','R']\n",
        "print(s)\n",
        "s1 = sorted(s,key = str.lower, reverse = False)\n",
        "print(s1)\n",
        "tekst = 'informatyka'\n",
        "s1 = sorted(tekst,key = str.lower, reverse = True)\n",
        "print(s1)"
      ]
    },
    {
      "cell_type": "markdown",
      "id": "b83ce1a3",
      "metadata": {
        "deletable": false,
        "editable": false,
        "nbgrader": {
          "cell_type": "markdown",
          "checksum": "5ca99eb7c2161c6ee928dc3e8c72cf2f",
          "grade": false,
          "grade_id": "cell-962f37b812bcd4d5",
          "locked": true,
          "schema_version": 3,
          "solution": false
        },
        "id": "b83ce1a3"
      },
      "source": [
        "### Ćwiczenie 1\n",
        "Zaimplementuj algorytm LIFO używając listy jako stosu. Po każdym dodaniu lub zdjęciu elementu wypisz zawartość stosu.\n",
        "\n",
        "Stos to liniowa struktura danych, w której dane dodawane sa tylko na szczyt stosu i tylko ze szczytu stosu są pobierane. Jest to bufor typu LIFO (ang. Last-In-First-Out) – ostatnie weszło, pierwsze wyszło."
      ]
    },
    {
      "cell_type": "code",
      "execution_count": null,
      "id": "59146fc2",
      "metadata": {
        "deletable": false,
        "nbgrader": {
          "cell_type": "code",
          "checksum": "ea1cbd44cf52dafba0ebcf55e7892a7f",
          "grade": false,
          "grade_id": "cell-69afc2493bbfff96",
          "locked": false,
          "schema_version": 3,
          "solution": true
        },
        "id": "59146fc2"
      },
      "outputs": [],
      "source": [
        "stos = []\n",
        "\n",
        "e=1\n",
        "while(e):\n",
        "  o=input(\"i- in, o - out, a- all, e- exit: \")\n",
        "  if(o==\"i\"):\n",
        "    x=input(\"podaj x: \")\n",
        "    stos.insert(0, x)\n",
        "    print(\"Dodano {}\".format(x))\n",
        "  if(o==\"o\"):\n",
        "    if(len(stos)>0):\n",
        "      print(stos.pop(0))\n",
        "    else:\n",
        "      print(\"Stos pusty\") \n",
        "  if(o==\"a\"):\n",
        "    print(stos)\n",
        "  if(o==\"e\"):\n",
        "    e=0\n"
      ]
    },
    {
      "cell_type": "markdown",
      "id": "1d897465",
      "metadata": {
        "deletable": false,
        "editable": false,
        "nbgrader": {
          "cell_type": "markdown",
          "checksum": "c47f03d20c04b8ed580920117d9f0532",
          "grade": false,
          "grade_id": "cell-7d308dce3e679aac",
          "locked": true,
          "schema_version": 3,
          "solution": false
        },
        "id": "1d897465"
      },
      "source": [
        "#### Tworzenie list z ciągu znaków (łańcuchów), słów  i na odwrót.\n",
        "Funkcje `list()`, `split()`, `join()`. Metoda `join()` jest odwrotnością metody `split()`."
      ]
    },
    {
      "cell_type": "code",
      "execution_count": null,
      "id": "434acae2",
      "metadata": {
        "id": "434acae2"
      },
      "outputs": [],
      "source": [
        "s = 'informatyka'\n",
        "t = list(s)  # tworzenie listy z łańcucha znaków\n",
        "print(t)"
      ]
    },
    {
      "cell_type": "code",
      "execution_count": null,
      "id": "815e318f",
      "metadata": {
        "id": "815e318f"
      },
      "outputs": [],
      "source": [
        "s = 'informatyka jest super!'\n",
        "t = s.split()  # tworzenie listy ze słów\n",
        "print(t)"
      ]
    },
    {
      "cell_type": "code",
      "execution_count": null,
      "id": "9ef304b8",
      "metadata": {
        "id": "9ef304b8"
      },
      "outputs": [],
      "source": [
        "print(t)\n",
        "print(type(t))\n",
        "\n",
        "separator = ' '\n",
        "tekst = separator.join(t) # łączy elementy listy wstawiając między nie separator\n",
        "\n",
        "print(tekst)\n",
        "print(type(tekst))"
      ]
    },
    {
      "cell_type": "markdown",
      "id": "794b7edb",
      "metadata": {
        "deletable": false,
        "editable": false,
        "nbgrader": {
          "cell_type": "markdown",
          "checksum": "0d415db079cb9e3e193cc78ccf58457e",
          "grade": false,
          "grade_id": "cell-3b306c60349c4990",
          "locked": true,
          "schema_version": 3,
          "solution": false
        },
        "id": "794b7edb"
      },
      "source": [
        "## Odwzorowania listowe (list comprehension), czyli uproszczone tworzenie list.\n",
        "\n",
        "Klasyczne tworzenie listy."
      ]
    },
    {
      "cell_type": "code",
      "execution_count": null,
      "id": "0546a360",
      "metadata": {
        "id": "0546a360"
      },
      "outputs": [],
      "source": [
        "tab = []  # utworzenie pustego obiektu typu list\n",
        "for i in range(1,11):  # liczby od 1 do 10\n",
        "    tab.append(i**2)   # lista zawierająca kwadraty liczb\n",
        "print(tab)"
      ]
    },
    {
      "cell_type": "markdown",
      "id": "7d5ee818",
      "metadata": {
        "deletable": false,
        "editable": false,
        "nbgrader": {
          "cell_type": "markdown",
          "checksum": "8231f353e855ee6035194933aea98725",
          "grade": false,
          "grade_id": "cell-11ce128aec1826e4",
          "locked": true,
          "schema_version": 3,
          "solution": false
        },
        "id": "7d5ee818"
      },
      "source": [
        "Używając odwzorowań listowych możemy to samo zapisać krócej."
      ]
    },
    {
      "cell_type": "code",
      "execution_count": null,
      "id": "64c79071",
      "metadata": {
        "id": "64c79071"
      },
      "outputs": [],
      "source": [
        "tab2 = [i**2 for i in range(1,11)]\n",
        "print(tab2)"
      ]
    },
    {
      "cell_type": "markdown",
      "id": "cd0fb83f",
      "metadata": {
        "deletable": false,
        "editable": false,
        "nbgrader": {
          "cell_type": "markdown",
          "checksum": "ca745c75a1f99c9db96c47bb09a55482",
          "grade": false,
          "grade_id": "cell-9d558cf8c2e9ad4f",
          "locked": true,
          "schema_version": 3,
          "solution": false
        },
        "id": "cd0fb83f"
      },
      "source": [
        "Obiektem po którym iterujemy może być dowolny obiekt iterowalny np. lista, zbiór, słownik itp. \n",
        "\n",
        "Możemy również generować w ten sposób listy wielowymiarowe."
      ]
    },
    {
      "cell_type": "code",
      "execution_count": null,
      "id": "d12ae696",
      "metadata": {
        "id": "d12ae696"
      },
      "outputs": [],
      "source": [
        "tab3 = [[i,j] for i in [1,2,3,4] for j in ['a','b','c','d','e']]\n",
        "print(tab3)"
      ]
    },
    {
      "cell_type": "code",
      "execution_count": null,
      "id": "e86da372",
      "metadata": {
        "id": "e86da372"
      },
      "outputs": [],
      "source": [
        "tab4 = [i for i in [1,2,3,4] for j in ['a','b','c','d']]\n",
        "print(tab4)"
      ]
    },
    {
      "cell_type": "code",
      "execution_count": null,
      "id": "5c87c414",
      "metadata": {
        "id": "5c87c414"
      },
      "outputs": [],
      "source": [
        "tab5 = [[i for i in [1,2,3,4]] for j in ['a','b','c','d']]\n",
        "print(tab5)"
      ]
    },
    {
      "cell_type": "markdown",
      "id": "202cf062",
      "metadata": {
        "deletable": false,
        "editable": false,
        "nbgrader": {
          "cell_type": "markdown",
          "checksum": "3576a4146510aac5b2f8c2d44cc38e23",
          "grade": false,
          "grade_id": "cell-f73de08fd1d287db",
          "locked": true,
          "schema_version": 3,
          "solution": false
        },
        "id": "202cf062"
      },
      "source": [
        "W konstrukcji odwzorowań listowych możemy używać również instrukcji warunkowych."
      ]
    },
    {
      "cell_type": "code",
      "execution_count": null,
      "id": "975f4f1e",
      "metadata": {
        "id": "975f4f1e"
      },
      "outputs": [],
      "source": [
        "tab = [i**2 for i in range(1,11)]\n",
        "print(tab)\n",
        "\n",
        "tab2 = [x  for x in tab2 if x%3==0 ]  # tylko liczby podzielne przez 3 z listy tab\n",
        "print(tab2)"
      ]
    },
    {
      "cell_type": "code",
      "execution_count": null,
      "id": "4488d2da",
      "metadata": {
        "id": "4488d2da"
      },
      "outputs": [],
      "source": [
        "tab3 = [x if x%3==0 else 0 for x in tab]  #liczby podzielne przez 3 zostaw bez zmian a pozostałe zastąp zerem\n",
        "print(tab3)"
      ]
    },
    {
      "cell_type": "code",
      "execution_count": null,
      "id": "5812e14a",
      "metadata": {
        "id": "5812e14a"
      },
      "outputs": [],
      "source": [
        "# jeśli wyrażenie będące elementem listy (np.(x,y)) jest krotką należy ująć je w nawiasy\n",
        "lista = [(x,y) for x in [1,2,3] for y in [3,1,4] if x != y]\n",
        "print(lista)"
      ]
    },
    {
      "cell_type": "code",
      "execution_count": null,
      "id": "8fcab701",
      "metadata": {
        "id": "8fcab701"
      },
      "outputs": [],
      "source": [
        "# \"wypłaszczenie\" listy przy użyciu podwójnego for\n",
        "wektor = [[1,2,3],[4,5,6],[7,8,9]]\n",
        "lista1 = [i for x in wektor for i in x]\n",
        "print(lista1,id(lista1))\n",
        "print(wektor, id(wektor))"
      ]
    },
    {
      "cell_type": "markdown",
      "id": "2f287c2b",
      "metadata": {
        "deletable": false,
        "editable": false,
        "nbgrader": {
          "cell_type": "markdown",
          "checksum": "16df2b6d0b12f1869fd11aa4bd55b072",
          "grade": false,
          "grade_id": "cell-6d2f7453d8188d60",
          "locked": true,
          "schema_version": 3,
          "solution": false
        },
        "id": "2f287c2b"
      },
      "source": [
        "### Ćwiczenie 2\n",
        "Napisz funkcję `f_c32` która dla poszczególnych elementów zadanej jako parametr listy wejściowej obliczy pierwiastek z sumy kwadratów jej składowych i zwróci obliczenia w postaci nowej listy nie zmieniając listy wejściowej."
      ]
    },
    {
      "cell_type": "code",
      "execution_count": null,
      "id": "650e2427",
      "metadata": {
        "deletable": false,
        "nbgrader": {
          "cell_type": "code",
          "checksum": "d1675d61a38e65bf6695a35fdddf8e5e",
          "grade": false,
          "grade_id": "cell-9cf8dcdd2ee15d5f",
          "locked": false,
          "schema_version": 3,
          "solution": true
        },
        "id": "650e2427"
      },
      "outputs": [],
      "source": [
        "import math\n",
        "#138182\n",
        "d1 = 1\n",
        "d2 = 2\n",
        "lista_c_32 = [(1,2), (3,4), (5,6), (d1,d2)]\n",
        "\n",
        "def f_c32(l):\n",
        "  newList=[(i[0]**2+i[1]**2)**(1./2.) for i in l]\n",
        "  return(newList)\n",
        "f_c32(lista_c_32)"
      ]
    },
    {
      "cell_type": "markdown",
      "id": "a8902f98",
      "metadata": {
        "deletable": false,
        "editable": false,
        "nbgrader": {
          "cell_type": "markdown",
          "checksum": "92dce764be58de4a0df3f01c01a64e27",
          "grade": false,
          "grade_id": "cell-dfbacb2eee0a38a9",
          "locked": true,
          "schema_version": 3,
          "solution": false
        },
        "id": "a8902f98"
      },
      "source": [
        "## Kopiowanie list (dowolnych kontenerów obiektów).\n",
        "\n",
        "Do kopiowania list (klas, słowników) używamy metod `copy` i `deepcopy` z modułu `copy`.\n",
        "\n",
        "Mamy dwa rodzaje kopiowania:\n",
        "\n",
        "- płytkie - `copy.copy(obiekt)`, tworzy nowy obiekt, ale umieszcza w nim odniesienia (referencje) do elementów zawartych w oryginalnym obiekcie;\n",
        "\n",
        "- głębokie - `copy.deepcopy(obiekt)` najpierw tworzy nowy obiekt, a nastepnie rekurencyjnie kopiuje do niego całą zawartość oryginału;\n",
        "\n",
        "Dla list kopiowanie płytkie można zrealizować przy pomocy metody `copy()` typu `list` lub przez mechanizm wycinania `[:]`."
      ]
    },
    {
      "cell_type": "code",
      "execution_count": null,
      "id": "f30e4910",
      "metadata": {
        "id": "f30e4910"
      },
      "outputs": [],
      "source": [
        "s = [1, 2, 3, 4]\n",
        "t = s             # operator przypisania nie kopiuje obiektów! - tworzy nową zmienną, która jest referencją do org. obiektu\n",
        "print(s, t)\n",
        "print (id(s), id(t))"
      ]
    },
    {
      "cell_type": "code",
      "execution_count": null,
      "id": "b8f979d5",
      "metadata": {
        "id": "b8f979d5"
      },
      "outputs": [],
      "source": [
        "s[1] = 121  # zmieniamy też w t\n",
        "print(s, t)"
      ]
    },
    {
      "cell_type": "markdown",
      "id": "2e0b6af3",
      "metadata": {
        "deletable": false,
        "editable": false,
        "nbgrader": {
          "cell_type": "markdown",
          "checksum": "c674d70ba60137ebc602c19ca099875e",
          "grade": false,
          "grade_id": "cell-1f7d7f48c30de806",
          "locked": true,
          "schema_version": 3,
          "solution": false
        },
        "id": "2e0b6af3"
      },
      "source": [
        "__Uwaga:__ Aby skopiować listy tworząc nowy obiekt (kopię płytką) należy użyć metody `copy()` typu `list` lub użyć operatora `[:]`."
      ]
    },
    {
      "cell_type": "code",
      "execution_count": null,
      "id": "f0e5baa9",
      "metadata": {
        "id": "f0e5baa9"
      },
      "outputs": [],
      "source": [
        "s = [1, 2, 3, 4]\n",
        "p = s.copy()\n",
        "print(s, p)\n",
        "print (id(s), id(p))\n",
        "p[2] = 122\n",
        "print(s, p)"
      ]
    },
    {
      "cell_type": "code",
      "execution_count": null,
      "id": "3b1d2f4e",
      "metadata": {
        "id": "3b1d2f4e"
      },
      "outputs": [],
      "source": [
        "# zamiast copy() można użyć [:]\n",
        "s = [1, 2, 3, 4]\n",
        "q = s[:]\n",
        "s[2]=999\n",
        "print(s, q)\n",
        "print (id(s), id(q))"
      ]
    },
    {
      "cell_type": "markdown",
      "id": "89b9bee5",
      "metadata": {
        "deletable": false,
        "editable": false,
        "nbgrader": {
          "cell_type": "markdown",
          "checksum": "c1ca5d49406c034bf14e4c63420431bd",
          "grade": false,
          "grade_id": "cell-a392f86602d16ca8",
          "locked": true,
          "schema_version": 3,
          "solution": false,
          "task": false
        },
        "id": "89b9bee5"
      },
      "source": [
        "Wykorzystanie modułu `copy` do kopiowania płytkiego listy."
      ]
    },
    {
      "cell_type": "code",
      "execution_count": null,
      "id": "a84410a3",
      "metadata": {
        "id": "a84410a3"
      },
      "outputs": [],
      "source": [
        "import copy\n",
        "s = [1, 2, 3, 4]\n",
        "r = copy.copy(s) # kopia płytka\n",
        "print(s, r)\n",
        "print (id(s), id(r))"
      ]
    },
    {
      "cell_type": "markdown",
      "id": "b2aa05db",
      "metadata": {
        "deletable": false,
        "editable": false,
        "nbgrader": {
          "cell_type": "markdown",
          "checksum": "214750a80d45833d901a65d5e0f3eaa4",
          "grade": false,
          "grade_id": "cell-fdaa8dcacfb1e750",
          "locked": true,
          "schema_version": 3,
          "solution": false,
          "task": false
        },
        "id": "b2aa05db"
      },
      "source": [
        "#### Kopia płytka (shallow copy) vs kopia głęboka (deep copy)\n",
        "\n",
        "Kopiowanie głębokie zabezpiecza nas przed zmianami na oryginalnym obiekcie w odróżnieniu od kopiowania płytkiego."
      ]
    },
    {
      "cell_type": "code",
      "execution_count": null,
      "id": "4e8224ca",
      "metadata": {
        "id": "4e8224ca"
      },
      "outputs": [],
      "source": [
        "import copy                      # import modułu\n",
        "lista1 = [1, 2, [31, 32], 4]\n",
        "lista_p = copy.copy(lista1)      # kopiowanie płytkie\n",
        "print(lista1)                    # elementy oryginalnej listy\n",
        "lista_p[2][0] = 55               # zmiana wartości elementu w nowej liście\n",
        "print(lista1)                    # elementy oryginalnej listy - zmiana !!!"
      ]
    },
    {
      "cell_type": "code",
      "execution_count": null,
      "id": "c245367e",
      "metadata": {
        "id": "c245367e"
      },
      "outputs": [],
      "source": [
        "import copy                      # import modułu\n",
        "lista1 = [1, 2, [31, 32], 4]\n",
        "lista_g = copy.deepcopy(lista1)  # kopiowanie głębokie\n",
        "print(lista1)                    # elementy oryginalnej listy\n",
        "lista_g[2][0] = 55               # zmiana wartości elementu w nowej liście\n",
        "print(lista1)                    # elementy oryginalnej listy - bez zmian !!!"
      ]
    },
    {
      "cell_type": "markdown",
      "id": "894a7277",
      "metadata": {
        "deletable": false,
        "editable": false,
        "nbgrader": {
          "cell_type": "markdown",
          "checksum": "684b348bd194f39489fd60c59a1ae38b",
          "grade": false,
          "grade_id": "cell-de89d29cd69dc3a7",
          "locked": true,
          "schema_version": 3,
          "solution": false
        },
        "id": "894a7277"
      },
      "source": [
        "### Przekazywanie list do funkcji.\n",
        "Przekazywanie list do funkcji odbywa się przez referencje (podobnie jak kopiowanie) tzn. nie tworzony jest nowy obiekt ale tworzone jest nowe odwołanie (alias) do tego samego obiektu."
      ]
    },
    {
      "cell_type": "code",
      "execution_count": null,
      "id": "71ec6144",
      "metadata": {
        "id": "71ec6144"
      },
      "outputs": [],
      "source": [
        "a = [1, 2, 3, 4]\n",
        "print(id(a))  # sprawdzenie id obiektu a\n",
        "\n",
        "def fun(b):\n",
        "    b[2] = 111 \n",
        "    print('funkcja:',id(b))  # sprawdzenie id obiektu b\n",
        "\n",
        "fun(a)  # wywołanie funkcji z obiektem a\n",
        "print(a)"
      ]
    },
    {
      "cell_type": "markdown",
      "id": "e914491e",
      "metadata": {
        "deletable": false,
        "editable": false,
        "nbgrader": {
          "cell_type": "markdown",
          "checksum": "a245a68b5bcf88ee32e97dd23effa1cb",
          "grade": false,
          "grade_id": "cell-b7dc026a0039d3fa",
          "locked": true,
          "schema_version": 3,
          "solution": false
        },
        "id": "e914491e"
      },
      "source": [
        "Jeżeli nie chcemy aby funkcja modyfikowała oryginalną listę tworzymy kopię.\n",
        "\n",
        "__Uwaga__: Jeżeli występują listy zagnieżdzone należy wykonać kopię głęboką."
      ]
    },
    {
      "cell_type": "code",
      "execution_count": null,
      "id": "5bca9e6a",
      "metadata": {
        "id": "5bca9e6a"
      },
      "outputs": [],
      "source": [
        "a = [1, 2, 3, 4]\n",
        "print(id(a))  # sprawdzenie id obiektu a\n",
        "\n",
        "def fun(b):\n",
        "    tmp = b.copy()  # utworzenie płytkiej kopii listy\n",
        "    tmp[2] = 111 \n",
        "    print('funkcja:',id(tmp))  # sprawdzenie id obiektu tmp\n",
        "    return tmp\n",
        "\n",
        "print(fun(a))  # wywołanie funkcji z obiektem a, funkcja zwraca listę\n",
        "print(a)  # lista oryginalna bez zmian"
      ]
    },
    {
      "cell_type": "code",
      "execution_count": null,
      "id": "b1272db5",
      "metadata": {
        "id": "b1272db5"
      },
      "outputs": [],
      "source": [
        "import copy\n",
        "a = [[5], [6,7], [8,9,10]]\n",
        "print(id(a))  # sprawdzenie id obiektu a\n",
        "\n",
        "def fun(b):\n",
        "    tmp = copy.deepcopy(b)  # utworzenie kopii głębokiej listy\n",
        "    tmp[2][0] = 111 \n",
        "    print('funkcja:',id(tmp))  # sprawdzenie id obiektu tmp\n",
        "    return tmp\n",
        "\n",
        "print(fun(a))  # wywołanie funkcji z obiektem a, funkcja zwraca listę\n",
        "print(a)  # lista oryginalna bez zmian"
      ]
    },
    {
      "cell_type": "markdown",
      "id": "42d9a213",
      "metadata": {
        "deletable": false,
        "editable": false,
        "nbgrader": {
          "cell_type": "markdown",
          "checksum": "65d52ec459753a73b7655912f1116677",
          "grade": false,
          "grade_id": "cell-23341f5c2b4703ad",
          "locked": true,
          "schema_version": 3,
          "solution": false
        },
        "id": "42d9a213"
      },
      "source": [
        "### Ćwiczenie 3\n",
        "Napisz funkcję `f_c33` która pobiera listę złożoną z list liczb całkowitych i zwraca sumę wszystkich elementów.\n"
      ]
    },
    {
      "cell_type": "code",
      "execution_count": null,
      "id": "1b560db6",
      "metadata": {
        "deletable": false,
        "nbgrader": {
          "cell_type": "code",
          "checksum": "679a0a2300ecda61425f4ce43f14c625",
          "grade": false,
          "grade_id": "cell-d0d9c2b7fa544b96",
          "locked": false,
          "schema_version": 3,
          "solution": true
        },
        "id": "1b560db6"
      },
      "outputs": [],
      "source": [
        "#138182\n",
        "d1 = 1\n",
        "d2 = 2\n",
        "lista_c_32 = [[5], [6,7], [8,9,10], [d2,d1]]\n",
        "\n",
        "# YOUR CODE HERE\n",
        "def f_c33(l):\n",
        "    return sum([i for x in l for i in x])\n",
        "f_c33(lista_c_32)\n",
        "#print(lista_c_32)"
      ]
    },
    {
      "cell_type": "markdown",
      "id": "c5372987",
      "metadata": {
        "deletable": false,
        "editable": false,
        "nbgrader": {
          "cell_type": "markdown",
          "checksum": "b24b50eb005aa29a6befe4eacda7ca60",
          "grade": false,
          "grade_id": "cell-16d4c94e4bf1db7c",
          "locked": true,
          "schema_version": 3,
          "solution": false
        },
        "id": "c5372987"
      },
      "source": [
        "## Zadanie 1\n",
        "Napisz funkcję `lista_z31`, której argumentem formalnym jest lista zawierająca liczby całkowite. Funkcja pozostawia w liście elementy większe od `5`. Elementy mniejsze od `5` zamienia na `0`. Funkcja zwraca nową (zmodyfikowaną) listę."
      ]
    },
    {
      "cell_type": "code",
      "execution_count": null,
      "id": "94c0c342",
      "metadata": {
        "deletable": false,
        "nbgrader": {
          "cell_type": "code",
          "checksum": "24b1884f2f37d9d0f9f75cbf7cb4113b",
          "grade": true,
          "grade_id": "cell-b753b0808ed69c27",
          "locked": false,
          "points": 1,
          "schema_version": 3,
          "solution": true
        },
        "colab": {
          "base_uri": "https://localhost:8080/"
        },
        "id": "94c0c342",
        "outputId": "63fb7fc1-e000-463e-cd69-37ca7595ba6a"
      },
      "outputs": [
        {
          "output_type": "execute_result",
          "data": {
            "text/plain": [
              "[0, 0, 8, 0, 8, 0]"
            ]
          },
          "metadata": {},
          "execution_count": 10
        }
      ],
      "source": [
        "\n",
        "lista_z31=[1,3,8,1,8,2] #- zawiera kolejne cyfry z NrAlbumu autora: np. lista_z31 = [4,2,5,6,7,2] dla 425672_Kowalski_Jan_JS_Lab_3\n",
        "# YOUR CODE HERE\n",
        "def f_z31(l):\n",
        "  lista=[x if x>5 else 0 for x in l]\n",
        "  return lista\n",
        "f_z31(lista_z31)\n",
        "#print(lista_z31)"
      ]
    },
    {
      "cell_type": "markdown",
      "id": "eacdee57",
      "metadata": {
        "deletable": false,
        "editable": false,
        "nbgrader": {
          "cell_type": "markdown",
          "checksum": "f505a06d307496cea4147c2212b31ee5",
          "grade": false,
          "grade_id": "cell-3c31f3a88a5ee2df",
          "locked": true,
          "schema_version": 3,
          "solution": false
        },
        "id": "eacdee57"
      },
      "source": [
        "## Zadanie 2\n",
        "Napisz funkcję `f_z32`, której argumentem formalnym jest lista zawierająca liczby. Funkcja ma sprawdzić, czy w liście znajdują się co najmniej dwa takie same elementy. Jeżeli `tak` funkcja zwraca wartość `True`. Jeżeli elementy są różne funkcja zwraca `False`. Lista oryginalna ma pozostać bez zmian."
      ]
    },
    {
      "cell_type": "code",
      "execution_count": null,
      "id": "2621eb77",
      "metadata": {
        "deletable": false,
        "nbgrader": {
          "cell_type": "code",
          "checksum": "43a95fdf2e09605ccdcf19e0befe22c1",
          "grade": true,
          "grade_id": "cell-8d5e1cb71dac421e",
          "locked": false,
          "points": 1,
          "schema_version": 3,
          "solution": true
        },
        "colab": {
          "base_uri": "https://localhost:8080/"
        },
        "id": "2621eb77",
        "outputId": "4a89a8ec-8372-42cd-ebb7-f48bf7d25941"
      },
      "outputs": [
        {
          "output_type": "execute_result",
          "data": {
            "text/plain": [
              "True"
            ]
          },
          "metadata": {},
          "execution_count": 12
        }
      ],
      "source": [
        "# YOUR CODE HERE\n",
        "import random\n",
        "#lista_z31=[random.randint(1,10) for i in range(6)]\n",
        "#lista_z32=[1,2,3,4,5,6,6]\n",
        "\n",
        "def f_z32(l):\n",
        "  myset = set(l) #set(l) - wszystkie elementy z listy\n",
        "  #print(len(l),len(myset))\n",
        "  #jeżeli liczba wszystkich elementów jest mniejsza niż długość listy -> występują duplikaty\n",
        "  if(len(l)>len(myset)):\n",
        "    return True\n",
        "  else:\n",
        "    return False\n",
        "\n",
        "f_z32(lista_z31)\n",
        "#print(lista_z31)"
      ]
    },
    {
      "cell_type": "markdown",
      "id": "7dc61763",
      "metadata": {
        "deletable": false,
        "editable": false,
        "nbgrader": {
          "cell_type": "markdown",
          "checksum": "4733067b43630bc760732b73be7537f9",
          "grade": false,
          "grade_id": "cell-93ca59162ede0095",
          "locked": true,
          "schema_version": 3,
          "solution": false
        },
        "id": "7dc61763"
      },
      "source": [
        "## Zadanie 3\n",
        "Napisz funkcję `f_z33`, której argumentem formalnym jest lista zawierająca liczby. Funkcja ma zwrócić listę zawierającą 3 elementy: najmniejszą i największą wartość w liście oraz średnią arytmetyczną wszystkich elementów."
      ]
    },
    {
      "cell_type": "code",
      "execution_count": null,
      "id": "c76f40c7",
      "metadata": {
        "deletable": false,
        "nbgrader": {
          "cell_type": "code",
          "checksum": "cdb2403d7ed8a13ff6f0426a0ea1eac2",
          "grade": true,
          "grade_id": "cell-e5e9b6f23e9b5dea",
          "locked": false,
          "points": 1,
          "schema_version": 3,
          "solution": true
        },
        "colab": {
          "base_uri": "https://localhost:8080/"
        },
        "id": "c76f40c7",
        "outputId": "86895076-8ad4-4419-a0e3-04ba99eb36fb"
      },
      "outputs": [
        {
          "output_type": "execute_result",
          "data": {
            "text/plain": [
              "[1, 8, 3.8333333333333335]"
            ]
          },
          "metadata": {},
          "execution_count": 13
        }
      ],
      "source": [
        "# YOUR CODE HERE\n",
        "#lista_z31=[random.randint(1,10) for i in range(6)]\n",
        "def avg(l):\n",
        "  return sum(l)/len(l)\n",
        "def f_z33(l):\n",
        "  min_number =min(l)\n",
        "  max_number= max(l)\n",
        "  avg_number=avg(l)\n",
        "  return [min_number,max_number,avg_number]\n",
        "\n",
        "f_z33(lista_z31)"
      ]
    },
    {
      "cell_type": "markdown",
      "id": "dc590262",
      "metadata": {
        "deletable": false,
        "editable": false,
        "nbgrader": {
          "cell_type": "markdown",
          "checksum": "f0532e015ed57bd4a55384e7a194941b",
          "grade": false,
          "grade_id": "cell-7360cbcdbd921647",
          "locked": true,
          "schema_version": 3,
          "solution": false
        },
        "id": "dc590262"
      },
      "source": [
        "## Zadanie 4\n",
        "\n",
        "Napisz funkcję `f_z34` kopiującą listę przesłaną jako argument. Wykorzystaj mechanizm `list comprehensions`. Funkcja zwraca nowoutworzoną listę.\n"
      ]
    },
    {
      "cell_type": "code",
      "execution_count": null,
      "id": "a9759474",
      "metadata": {
        "deletable": false,
        "nbgrader": {
          "cell_type": "code",
          "checksum": "a8c35a8b48e1945614eba9839488413a",
          "grade": true,
          "grade_id": "cell-f8a91ff31ea65291",
          "locked": false,
          "points": 1,
          "schema_version": 3,
          "solution": true
        },
        "colab": {
          "base_uri": "https://localhost:8080/"
        },
        "id": "a9759474",
        "outputId": "6d09dd70-1074-4f0f-ee05-149db6cb233d"
      },
      "outputs": [
        {
          "output_type": "execute_result",
          "data": {
            "text/plain": [
              "[1, 3, 8, 1, 8, 2]"
            ]
          },
          "metadata": {},
          "execution_count": 14
        }
      ],
      "source": [
        "# YOUR CODE HERE\n",
        "#lista_z31=[random.randint(1,10) for i in range(6)]\n",
        "def f_z34(l):\n",
        "  return l[:]\n",
        "f_z34(lista_z31)\n",
        "#newList=f_z34(lista_z31)\n",
        "#print(lista_z31,id(lista_z31),\"-----\",newList,id(newList))"
      ]
    },
    {
      "cell_type": "markdown",
      "id": "141182af",
      "metadata": {
        "deletable": false,
        "editable": false,
        "nbgrader": {
          "cell_type": "markdown",
          "checksum": "824c6bacab9fec350a81eb46c2464078",
          "grade": false,
          "grade_id": "cell-54d0774cb1629874",
          "locked": true,
          "schema_version": 3,
          "solution": false,
          "task": false
        },
        "id": "141182af"
      },
      "source": [
        "## Zadanie 5\n",
        "\n",
        "Napisz funkcję `f_z35` przyjmującą jako argument listę, kopiującą ją i zmieniającą każdy element nowej listy (oprócz pierwszego i ostatniego) tak, aby był on średnią arytmetyczną siebie oraz swoich bezpośrednich sąsiadów. Lista przesłana jako argument nie powinna być modyfikowana. Pierwszy i ostatni element listy mają pozostać niezmienione. Funkcja zwraca nowoutworzoną listę.\n",
        "Wykorzystaj listę `lista_z31` i zaprezentuj działanie powyższej funkcji."
      ]
    },
    {
      "cell_type": "code",
      "execution_count": null,
      "id": "7f9c0b0b",
      "metadata": {
        "deletable": false,
        "nbgrader": {
          "cell_type": "code",
          "checksum": "224ba6270bcc9038f77887c5c75ff528",
          "grade": true,
          "grade_id": "cell-f2febd36d47bcf54",
          "locked": false,
          "points": 1,
          "schema_version": 3,
          "solution": true,
          "task": false
        },
        "colab": {
          "base_uri": "https://localhost:8080/"
        },
        "id": "7f9c0b0b",
        "outputId": "ce38ea62-e2a9-45f5-e287-ddbd103098c0"
      },
      "outputs": [
        {
          "output_type": "execute_result",
          "data": {
            "text/plain": [
              "[1, 4.0, 4.333333333333333, 4.444444444444444, 4.814814814814814, 2]"
            ]
          },
          "metadata": {},
          "execution_count": 15
        }
      ],
      "source": [
        "# YOUR CODE HERE\n",
        "#1 3818 2\n",
        "def f_z35(l):\n",
        "  newList=l[:]\n",
        "  for i in range(1,len(newList)-1):\n",
        "    newList[i]=(newList[i-1]+newList[i]+newList[i+1])/3\n",
        "  return newList\n",
        "f_z35(lista_z31)"
      ]
    },
    {
      "cell_type": "markdown",
      "id": "e1b77f1d",
      "metadata": {
        "deletable": false,
        "editable": false,
        "nbgrader": {
          "cell_type": "markdown",
          "checksum": "1f30b0e4112c15813c54dce13b14d180",
          "grade": false,
          "grade_id": "cell-ab2eb135f3577a5d",
          "locked": true,
          "schema_version": 3,
          "solution": false,
          "task": false
        },
        "id": "e1b77f1d"
      },
      "source": [
        "## Zadanie 6\n",
        "\n",
        "Napisz funkcję `f_z36` przyjmującą jako argumenty dwa słowa - Nazwisko oraz Imię autora (takie jak w nazwie tego pliku NrAlbumu_Nazwisko_Imie_PoprzedniaNazwa)) i zwracającą listę, której elementami jest suma odpowiednich elementów przesłanych słów  (c[0]=a[0]+b[0], c[1]=a[1]+b[1] itd.). Jeśli listy nie są równej długości, wyjściowa lista powinna mieć tyle elementów, ile ma krótsza z list. Wykorzystaj mechanizm `list comprehensions`."
      ]
    },
    {
      "cell_type": "code",
      "execution_count": null,
      "id": "639ba023",
      "metadata": {
        "deletable": false,
        "nbgrader": {
          "cell_type": "code",
          "checksum": "5efd211f742a1fec9e45cb9b84481391",
          "grade": true,
          "grade_id": "cell-d881c32c5ed4acb6",
          "locked": false,
          "points": 1,
          "schema_version": 3,
          "solution": true,
          "task": false
        },
        "colab": {
          "base_uri": "https://localhost:8080/"
        },
        "id": "639ba023",
        "outputId": "bd085a59-a502-4366-bc31-c7a3972eb7bd"
      },
      "outputs": [
        {
          "output_type": "stream",
          "name": "stdout",
          "text": [
            "['AH', 'ra', 'tl', 'uu', 'rc']\n"
          ]
        }
      ],
      "source": [
        "#przyklad dla Jana Kowalskiego:\n",
        "a = 'Artur'\n",
        "b = 'Haluch'\n",
        "\n",
        "def f_z36(a,b):\n",
        "  return [x+y for x,y in zip(a,b)]\n",
        "  \n",
        "c = f_z36(a, b)\n",
        "print(c)"
      ]
    },
    {
      "cell_type": "markdown",
      "id": "e471ee5d",
      "metadata": {
        "deletable": false,
        "editable": false,
        "nbgrader": {
          "cell_type": "markdown",
          "checksum": "b955f169d2b564b19d2119039f2060f8",
          "grade": false,
          "grade_id": "cell-fa614b6c8603efa2",
          "locked": true,
          "schema_version": 3,
          "solution": false,
          "task": false
        },
        "id": "e471ee5d"
      },
      "source": [
        "## Zadanie 7\n",
        "\n",
        "Napisz funkcję `f_z37` przyjmującą jako argumenty dwa słowa - Nazwisko oraz Imię autora (takie jak w nazwie NrAlbumu_Nazwisko_Imie_PoprzedniaNazwa)) i zwracającą listę, której elementami jest iloraz odpowiednich elementów przesłanych list (przekonwertowanych na liczby całkowite reprezentujące punkt kodowy w Unicode danego znaku przy pomocy funkcji ord()). Jeśli listy nie są równej długości, wyjściowa lista powinna mieć tyle elementów, ile ma krótsza z list. Wykorzystaj mechanizm `list comprehensions`. Pamiętaj, że nie można dzielić przez zero – jeśli dzielnik miałby być zerem, to pomiń element (wykorzystaj `if` w `list comprehensions`)."
      ]
    },
    {
      "cell_type": "code",
      "execution_count": null,
      "id": "8c33d716",
      "metadata": {
        "deletable": false,
        "nbgrader": {
          "cell_type": "code",
          "checksum": "e03dff8efd2f8f764dfdaab3bfe85e35",
          "grade": true,
          "grade_id": "cell-cc0366108d70eeb3",
          "locked": false,
          "points": 1,
          "schema_version": 3,
          "solution": true,
          "task": false
        },
        "colab": {
          "base_uri": "https://localhost:8080/"
        },
        "id": "8c33d716",
        "outputId": "c5a3a89b-87a3-469f-f2a7-7ec0dcc849fb"
      },
      "outputs": [
        {
          "output_type": "stream",
          "name": "stdout",
          "text": [
            "[0.9027777777777778, 1.175257731958763, 1.0740740740740742, 1.0, 1.1515151515151516]\n"
          ]
        }
      ],
      "source": [
        "# YOUR CODE HERE\n",
        "\n",
        "def f_z37(a,b):\n",
        "  return [ord(x)/ord(y) for x,y in zip(a,b) if(ord(y)!=0)]\n",
        "\n",
        "c = f_z37(a, b)\n",
        "print(c)"
      ]
    },
    {
      "cell_type": "markdown",
      "id": "4a84c559",
      "metadata": {
        "deletable": false,
        "editable": false,
        "nbgrader": {
          "cell_type": "markdown",
          "checksum": "865748ff39274e03146d77e9e85a6a48",
          "grade": false,
          "grade_id": "cell-88a1d1dbe0144d6f",
          "locked": true,
          "schema_version": 3,
          "solution": false,
          "task": false
        },
        "id": "4a84c559"
      },
      "source": [
        "## Zadanie 8\n",
        "\n",
        "Napisz funkcję `f_z38` przyjmującą jako argument listę `lista_z38`, wybierającą z niej trzy najmniejsze elementy w kolejności malejącej oraz dwa największe elementy również w kolejności malejącej (mogą wystąpić powtórzenia). Funkcja zwraca listę złożoną z tych elementów. Wykorzystaj metody/funkcje `sort()`/`sorted()` oraz `reverse()`/`reversed()`.\n",
        "Przykład:\n",
        "\n",
        "```python\n",
        "#dane\n",
        "lista_z38 = [0, 1, -5, 8, 14, 9, 6]\n",
        "#wynik\n",
        "[1, 0, -5, 14, 9]\n",
        "```"
      ]
    },
    {
      "cell_type": "code",
      "execution_count": null,
      "id": "de1ebfa1",
      "metadata": {
        "deletable": false,
        "nbgrader": {
          "cell_type": "code",
          "checksum": "8fc2afd732c3bdf2cfd171dee1444b8e",
          "grade": true,
          "grade_id": "cell-4ebcfdb156ada60c",
          "locked": false,
          "points": 1,
          "schema_version": 3,
          "solution": true,
          "task": false
        },
        "id": "de1ebfa1",
        "colab": {
          "base_uri": "https://localhost:8080/"
        },
        "outputId": "202b2638-3361-4a9e-839d-43c1c173f14f"
      },
      "outputs": [
        {
          "output_type": "stream",
          "name": "stdout",
          "text": [
            "[2, 1, 1, 8, 8]\n"
          ]
        }
      ],
      "source": [
        "#lista_z38 - zawiera kolejne cyfry z NrAlbumu autora: np.:\n",
        "#lista_z38 = [4,2,5,6,7,2]          #dla 425672_Kowalski_Jan_JS_Lab_3\n",
        "lista_z38 = [1,3,8,1,8,2]\n",
        "# YOUR CODE HERE\n",
        "def f_z38(l):\n",
        "  newList=sorted(l)\n",
        "  lowList=newList[:3]\n",
        "  lowList.reverse()\n",
        "\n",
        "  hiList=newList[-2:]\n",
        "  hiList.reverse()\n",
        "\n",
        "  newList=lowList+hiList\n",
        "  return(newList)\n",
        "\n",
        "c = f_z38(lista_z38)\n",
        "print(c)"
      ]
    },
    {
      "cell_type": "markdown",
      "id": "3ab81f42",
      "metadata": {
        "deletable": false,
        "editable": false,
        "nbgrader": {
          "cell_type": "markdown",
          "checksum": "96780f59c7b3f688b2071ba6f4331319",
          "grade": false,
          "grade_id": "cell-a12f5fac94409d80",
          "locked": true,
          "schema_version": 3,
          "solution": false,
          "task": false
        },
        "id": "3ab81f42"
      },
      "source": [
        "## Zadanie 9\n",
        "Napisz funkcję `f_z39` przyjmującą jako argument listę `lista_z39`. Funkcja usuwa z listy co trzeci element oraz wszystkie elementy o wartości mniejszej od 5. Wykorzystaj `del`.\n",
        "\n",
        "Przykład:\n",
        "\n",
        "```python\n",
        "#dane\n",
        "lista_z39 = [1, 2, 3, -4, 5, 6, 7, 8, 9, 10, -11, 12]\n",
        "#wynik\n",
        "[1, 2, 5, 7, 8, 10]\n",
        "```\n"
      ]
    },
    {
      "cell_type": "code",
      "execution_count": 6,
      "id": "ac80574f",
      "metadata": {
        "deletable": false,
        "nbgrader": {
          "cell_type": "code",
          "checksum": "f90a81e38498f0ef46c7b9b711d5eec2",
          "grade": true,
          "grade_id": "cell-88a249a422252816",
          "locked": false,
          "points": 1,
          "schema_version": 3,
          "solution": true,
          "task": false
        },
        "id": "ac80574f",
        "colab": {
          "base_uri": "https://localhost:8080/"
        },
        "outputId": "0c34bdc0-4f48-4525-d1bb-2e51f2b39059"
      },
      "outputs": [
        {
          "output_type": "execute_result",
          "data": {
            "text/plain": [
              "[6, 7]"
            ]
          },
          "metadata": {},
          "execution_count": 6
        }
      ],
      "source": [
        "#lista_z39 - zawiera kolejne cyfry z NrAlbumu autora: np.:\n",
        "#lista_z39 = [4,2,5,6,7,2]          #dla 425672_Kowalski_Jan_JS_Lab_3\n",
        "lista_z39 = [1,3,8,1,8,2]\n",
        "# YOUR CODE HERE\n",
        "def f_z39(l):\n",
        "  del l[2:len(l):3]\n",
        "  l=[i for i in l if i >= 5]\n",
        "  return l\n",
        "\n",
        "f_z39(lista_z39)\n"
      ]
    },
    {
      "cell_type": "markdown",
      "id": "750b6c01",
      "metadata": {
        "deletable": false,
        "editable": false,
        "nbgrader": {
          "cell_type": "markdown",
          "checksum": "140bcdbddc15ae08d568f2bfd40f090d",
          "grade": false,
          "grade_id": "cell-75addf2df4389236",
          "locked": true,
          "schema_version": 3,
          "solution": false,
          "task": false
        },
        "id": "750b6c01"
      },
      "source": [
        "## Zadanie 10\n",
        "\n",
        "Napisz funkcję `f_z310`przyjmującą jako argument listę `lista_z310` oraz pewną liczbę całkowitą `odstęp`, wstawiającą `0` do listy co `odstęp` elementów.\n",
        "\n",
        "Przykład:\n",
        "\n",
        "```python\n",
        "#dane\n",
        "lista_z310 = [1, 2, 3, 4, 5, 6, 7, 8, 9, 10]\n",
        "#wynik dla f_z310(lista_z310,2)\n",
        "[1, 2, 0, 3, 4, 0, 5, 6, 0, 7, 8, 0, 9, 10, 0]\n",
        "#wynik dla f_z310(lista_z310,3)\n",
        "[1, 2, 3, 0, 4, 5, 6, 0, 7, 8, 9, 0, 10]\n",
        "```"
      ]
    },
    {
      "cell_type": "code",
      "execution_count": 7,
      "id": "627cbc4a",
      "metadata": {
        "deletable": false,
        "nbgrader": {
          "cell_type": "code",
          "checksum": "10d588b4d9f66338e66d072e2e01b0c1",
          "grade": true,
          "grade_id": "cell-689dddceae10dd54",
          "locked": false,
          "points": 1,
          "schema_version": 3,
          "solution": true,
          "task": false
        },
        "id": "627cbc4a",
        "colab": {
          "base_uri": "https://localhost:8080/"
        },
        "outputId": "c7d42732-7b61-42d2-a0c6-036015af6c13"
      },
      "outputs": [
        {
          "output_type": "stream",
          "name": "stdout",
          "text": [
            "[1, 3, 0, 8, 1, 0, 8, 2, 0]\n"
          ]
        }
      ],
      "source": [
        "#lista_z310 - zawiera kolejne cyfry z NrAlbumu autora: np.:\n",
        "#lista_z310 = [4,2,5,6,7,2]          #dla 425672_Kowalski_Jan_JS_Lab_3\n",
        "lista_z310 = [1,3,8,1,8,2]\n",
        "# YOUR CODE HERE\n",
        "def f_z310(l,n):\n",
        "  i = n\n",
        "  while i < len(l)+1:\n",
        "    l.insert(i, 0)\n",
        "    i += (n+1)\n",
        "  return l\n",
        "f_z310(lista_z310, 2)\n",
        "print(lista_z310)"
      ]
    },
    {
      "cell_type": "markdown",
      "id": "f7dbb05e",
      "metadata": {
        "deletable": false,
        "editable": false,
        "nbgrader": {
          "cell_type": "markdown",
          "checksum": "3ab1b9661ba9a7bf2754e7c0df2e66c3",
          "grade": false,
          "grade_id": "cell-1a6e42804f009622",
          "locked": true,
          "schema_version": 3,
          "solution": false,
          "task": false
        },
        "id": "f7dbb05e"
      },
      "source": [
        "## Zadanie 11\n",
        "\n",
        "Napisz funkcję `f_z311` przyjmującą jako argument liczbę `n` (gdzie `n` jest liczbą liter w Nazwisku autora). Funkcja zwraca tablicę dwuwymiarową o rozmiarze `n x n` wypełnioną na zmianę `1` i `0`, na kształt szachownicy (pierwszy element tablicy powinien mieć wartość `1`). Wykorzystaj mechanizm `list comprehensions`.\n",
        "Napisz również funkcję `print_f_z311(tab)` wypisującą tablicę `tab` w postaci tablicy dwuwymiarowej\n",
        "tak jak na poniższym przykladzie:\n",
        "\n",
        "Przykład:\n",
        "\n",
        "```python\n",
        "#dane\n",
        "tab = f_z311(3)\n",
        "print_f_z311(tab)\n",
        "#wynik\n",
        "[1, 0, 1]\n",
        "[0, 1, 0] \n",
        "[1, 0, 1]\n",
        "```\n",
        "\n"
      ]
    },
    {
      "cell_type": "code",
      "execution_count": 8,
      "id": "37679c83",
      "metadata": {
        "deletable": false,
        "nbgrader": {
          "cell_type": "code",
          "checksum": "53d5f9864e5d730284b7584a9d45cab8",
          "grade": true,
          "grade_id": "cell-5a0c5ee907859c03",
          "locked": false,
          "points": 1,
          "schema_version": 3,
          "solution": true,
          "task": false
        },
        "id": "37679c83",
        "colab": {
          "base_uri": "https://localhost:8080/"
        },
        "outputId": "192458f1-0ef0-4a70-af4a-c5de6518e54a"
      },
      "outputs": [
        {
          "output_type": "stream",
          "name": "stdout",
          "text": [
            "['1', '0', '1', '0', '1', '0'] \n",
            "\n",
            "['0', '1', '0', '1', '0', '1'] \n",
            "\n",
            "['1', '0', '1', '0', '1', '0'] \n",
            "\n",
            "['0', '1', '0', '1', '0', '1'] \n",
            "\n",
            "['1', '0', '1', '0', '1', '0'] \n",
            "\n",
            "['0', '1', '0', '1', '0', '1'] \n",
            "\n",
            "[['1', '0', '1', '0', '1', '0'], ['0', '1', '0', '1', '0', '1'], ['1', '0', '1', '0', '1', '0'], ['0', '1', '0', '1', '0', '1'], ['1', '0', '1', '0', '1', '0'], ['0', '1', '0', '1', '0', '1']]\n"
          ]
        }
      ],
      "source": [
        "# YOUR CODE HERE\n",
        "def f_z311(n):\n",
        "  return [['1' if (i+j)%2==0 else '0' for i in range(n)] for j in range(n)]\n",
        "def print_f_z311(tab):\n",
        "  for el in tab:\n",
        "    print(el,\"\\n\")\n",
        "n=len(\"Haluch\")\n",
        "tab = f_z311(n)\n",
        "print_f_z311(tab)\n",
        "print(tab)\n"
      ]
    },
    {
      "cell_type": "markdown",
      "id": "b574f003",
      "metadata": {
        "deletable": false,
        "editable": false,
        "nbgrader": {
          "cell_type": "markdown",
          "checksum": "5c261af0cc5eb4fdfea1ea8fd4c4bac3",
          "grade": false,
          "grade_id": "cell-0cd2ec7a31574cb3",
          "locked": true,
          "schema_version": 3,
          "solution": false,
          "task": false
        },
        "id": "b574f003"
      },
      "source": [
        "## Zadanie 12\n",
        "\n",
        "Napisz dwie funkcje `fun1()` i `fun2()`. Funkcja `fun1()` zwraca liczbę samogłosek w tekście przesłanym jako argument. Funkcja `fun2()` przyjmuje jako argument listę wyrazów w tekście i zwraca listę utworzoną z tych elementów przesłanej listy, które zawierają parzystą liczbę samogłosek. Wykorzystaj mechanizm `list comprehensions` oraz operator `in` do sprawdzania czy litera jest samogłoską.\n",
        "\n",
        "```python\n",
        "if znak in \"aiueoyąę\":\n",
        "     print(\"samogłoska\")\n",
        "else:\n",
        "     print(\"nie samogłoska\")\n",
        "```\n",
        "\n",
        "Przykład:\n",
        "\n",
        "```python\n",
        "#dane\n",
        "fun2([\"Robot\", \"Mech\", \"Metal Gear\", \"Android\"])\n",
        "#wynik\n",
        "['Robot', 'Metal Gear']\n",
        "```"
      ]
    },
    {
      "cell_type": "code",
      "execution_count": null,
      "id": "b1467d1b",
      "metadata": {
        "deletable": false,
        "nbgrader": {
          "cell_type": "code",
          "checksum": "f16dec9d10c2cb0aa385e71336cf7b5b",
          "grade": true,
          "grade_id": "cell-f79bb93cf7482155",
          "locked": false,
          "points": 1,
          "schema_version": 3,
          "solution": true,
          "task": false
        },
        "id": "b1467d1b",
        "colab": {
          "base_uri": "https://localhost:8080/"
        },
        "outputId": "942deb66-54f9-45ef-d82f-59b23c559719"
      },
      "outputs": [
        {
          "output_type": "execute_result",
          "data": {
            "text/plain": [
              "['Robot', 'Metal Gear']"
            ]
          },
          "metadata": {},
          "execution_count": 35
        }
      ],
      "source": [
        "# YOUR CODE HERE\n",
        "def fun1(wyraz):\n",
        "  wyraz=wyraz.lower()\n",
        "  licznik=0\n",
        "  for znak in wyraz:\n",
        "    if znak in \"aiueoyąę\":\n",
        "      licznik+=1\n",
        "  return licznik\n",
        "\n",
        "def fun2(l):\n",
        "  newList=[]\n",
        "  for el in l:\n",
        "    if(fun1(el)%2==0):\n",
        "      newList.append(el)\n",
        "  return newList\n",
        "\n",
        "fun2([\"Robot\", \"Mech\", \"Metal Gear\", \"Android\"])\n"
      ]
    },
    {
      "cell_type": "markdown",
      "id": "7fa44821",
      "metadata": {
        "deletable": false,
        "editable": false,
        "nbgrader": {
          "cell_type": "markdown",
          "checksum": "afa8b2c32bb48af90964dd0012de7f79",
          "grade": false,
          "grade_id": "cell-03d560060389930d",
          "locked": true,
          "schema_version": 3,
          "solution": false,
          "task": false
        },
        "id": "7fa44821"
      },
      "source": [
        "## Zadanie 13\n",
        "\n",
        "Zdefiniuj funkcje przyjmującą jako argument formalny dowolną liczbę argumentów. Załóż, że argumenty wejściowe będą zawsze listami. Funkcja powinna zwrócić - bez modyfikacji list oryginalnych - listę zawierającą wszystkie, niepowtarzające się elementy wszystkich list.\n",
        "\n",
        "Przykład.\n",
        "\n",
        "```python\n",
        "#dane\n",
        "l1 = [0, 1, 2, 30, 4]\n",
        "l2 = [3, 4, 5, 6, 7]\n",
        "l3 = [7, 8, 9]\n",
        "l4 = [10, 11, 12, 5]\n",
        "#wynik\n",
        "[0, 1, 2, 3, 4, 5, 6, 7, 8, 9, 10, 11, 12, 30]\n",
        "```"
      ]
    },
    {
      "cell_type": "code",
      "execution_count": 9,
      "id": "8f5f7b76",
      "metadata": {
        "deletable": false,
        "nbgrader": {
          "cell_type": "code",
          "checksum": "58d0a6b6de24f86685b8e28b3f556cb5",
          "grade": true,
          "grade_id": "cell-21e44f5b57c56bfe",
          "locked": false,
          "points": 1,
          "schema_version": 3,
          "solution": true,
          "task": false
        },
        "id": "8f5f7b76",
        "colab": {
          "base_uri": "https://localhost:8080/"
        },
        "outputId": "76d03191-1255-4952-ff26-518b0302c12f"
      },
      "outputs": [
        {
          "output_type": "execute_result",
          "data": {
            "text/plain": [
              "[0, 1, 2, 3, 4, 5, 6, 7, 8, 9, 10, 11, 12, 30]"
            ]
          },
          "metadata": {},
          "execution_count": 9
        }
      ],
      "source": [
        "# YOUR CODE HERE\n",
        "l1 = [0, 1, 2, 30, 4]\n",
        "l2 = [3, 4, 5, 6, 7]\n",
        "l3 = [7, 8, 9]\n",
        "l4 = [10, 11, 12, 5]\n",
        "def f_z313(*args):\n",
        "  uniqueList=[]\n",
        "  for l in args:\n",
        "    for n in l:\n",
        "      if n not in uniqueList:\n",
        "        uniqueList.append(n)\n",
        "  return(sorted(uniqueList))\n",
        "f_z313(l1,l2,l3,l4)"
      ]
    }
  ],
  "metadata": {
    "kernelspec": {
      "display_name": "Python 3 (ipykernel)",
      "language": "python",
      "name": "python3"
    },
    "language_info": {
      "codemirror_mode": {
        "name": "ipython",
        "version": 3
      },
      "file_extension": ".py",
      "mimetype": "text/x-python",
      "name": "python",
      "nbconvert_exporter": "python",
      "pygments_lexer": "ipython3",
      "version": "3.9.7"
    },
    "colab": {
      "provenance": [],
      "collapsed_sections": [
        "2f287c2b"
      ],
      "history_visible": true
    }
  },
  "nbformat": 4,
  "nbformat_minor": 5
}