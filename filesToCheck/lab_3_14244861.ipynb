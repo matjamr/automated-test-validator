{
 "cells":[
  {
   "cell_type":"markdown",
   "source":[
    "## Języki symboliczne - rok akademicki 2023\/2023\n",
    "\n",
    "Przed rozpoczęciem pracy z notatnikiem zmień jego nazwę zgodnie z wzorem: `NrAlbumu_Nazwisko_Imie_PoprzedniaNazwa`\n",
    "\n",
    "Przed wysłaniem notatnika upewnij się, że rozwiązałeś wszystkie zadania\/ćwiczenia, w szczególności, że uzupełniłeś wszystkie pola `YOUR CODE HERE` oraz `YOUR ANSWER HERE`."
   ],
   "attachments":{
    
   },
   "metadata":{
    "datalore":{
     "node_id":"gR7ltFweUxg1dqXZz49TbU",
     "type":"MD",
     "hide_input_from_viewers":false,
     "hide_output_from_viewers":false,
     "report_properties":{
      
     }
    }
   }
  },
  {
   "cell_type":"markdown",
   "source":[
    "# Temat: Listy. Odwzorowania listowe. Kopiowanie płytkie i głębokie.\n",
    "Zapoznaj się z treścią niniejszego notatnika czytając i wykonując go komórka po komórce. Wykonaj napotkane zadania\/ćwiczenia.\n",
    "\n",
    "## Typ danych `list` (lista)\n",
    "\n",
    "- Listy należą do typów sekwencyjnych (jak napisy czy krotki).\n",
    "- Elementy listy oddzielone są przecinkami i umieszczone w nawiasach kwadratowych.\n",
    "- Listy są indeksowane liczbami całkowitymi zaczynającymi się od zera.\n",
    "- Dostęp do elementów listy odbywa się w analogicznie jak w napisach czy krotkach.\n",
    "- Elementy listy nie muszą być tego samego typu.\n",
    "- Listy można modyfikować - są strukturami mutowalnymi (w odróżnieniu od napisów i krotek - struktur niemutowalnch).\n",
    "\n",
    "Listy mogą być tworzone na kilka sposobów:\n",
    "- Za pomocą nawiasów kwadratowych, elementy oddzielone przecinkami: `[a]` lub `[a, b, c]`\n",
    "- lista pusta to: `[]`\n",
    "- poprzez wykorzystanie odwzorowań listowych: `[x for x in iterable]`\n",
    "- Za pomocą konstruktora typu (funkcji): `list()` lub `list(iterable)`"
   ],
   "attachments":{
    
   },
   "metadata":{
    "datalore":{
     "node_id":"hHtRfIb8nk4E80YNV2uDWC",
     "type":"MD",
     "hide_input_from_viewers":false,
     "hide_output_from_viewers":false,
     "report_properties":{
      
     }
    }
   }
  },
  {
   "cell_type":"code",
   "source":[
    "l = [1, 2, '3']\n",
    "print(l)\n",
    "type(l)"
   ],
   "execution_count":2,
   "outputs":[
    {
     "name":"stdout",
     "text":[
      "[1, 2, '3']\n"
     ],
     "output_type":"stream"
    },
    {
     "data":{
      "text\/plain":[
       "list"
      ]
     },
     "metadata":{
      
     },
     "output_type":"display_data"
    }
   ],
   "metadata":{
    "datalore":{
     "node_id":"0jJR53iuDa4vS138WKhgom",
     "type":"CODE",
     "hide_input_from_viewers":false,
     "hide_output_from_viewers":false,
     "report_properties":{
      
     }
    }
   }
  },
  {
   "cell_type":"markdown",
   "source":[
    "Długość listy."
   ],
   "attachments":{
    
   },
   "metadata":{
    "datalore":{
     "node_id":"Rb5dyVA68xLMHp3tuOCZSA",
     "type":"MD",
     "hide_input_from_viewers":false,
     "hide_output_from_viewers":false,
     "report_properties":{
      
     }
    }
   }
  },
  {
   "cell_type":"code",
   "source":[
    "len(l)"
   ],
   "execution_count":3,
   "outputs":[
    {
     "data":{
      "text\/plain":[
       "3"
      ]
     },
     "metadata":{
      
     },
     "output_type":"display_data"
    }
   ],
   "metadata":{
    "datalore":{
     "node_id":"I4FEx0h6d1q3pqAY6JGlfy",
     "type":"CODE",
     "hide_input_from_viewers":false,
     "hide_output_from_viewers":false,
     "report_properties":{
      
     }
    }
   }
  },
  {
   "cell_type":"markdown",
   "source":[
    "Tworzenie listy pustej."
   ],
   "attachments":{
    
   },
   "metadata":{
    "datalore":{
     "node_id":"X9LjSk5j3Elp3DosBkYnho",
     "type":"MD",
     "hide_input_from_viewers":false,
     "hide_output_from_viewers":false,
     "report_properties":{
      
     }
    }
   }
  },
  {
   "cell_type":"code",
   "source":[
    "t1 = []\n",
    "# lub\n",
    "t2 = list()\n",
    "print(t1, t2)\n",
    "type(t1), type(t2)"
   ],
   "execution_count":4,
   "outputs":[
    {
     "name":"stdout",
     "text":[
      "[] []\n"
     ],
     "output_type":"stream"
    },
    {
     "data":{
      "text\/plain":[
       "(list, list)"
      ]
     },
     "metadata":{
      
     },
     "output_type":"display_data"
    }
   ],
   "metadata":{
    "datalore":{
     "node_id":"Hy0uQlXVulMNWvjg1dmz7V",
     "type":"CODE",
     "hide_input_from_viewers":false,
     "hide_output_from_viewers":false,
     "report_properties":{
      
     }
    }
   }
  },
  {
   "cell_type":"markdown",
   "source":[
    "#### Dostęp do poszczególnych elementów, modyfikacja i wycinanie (slicing) list\n",
    "Z listy możemy wybierać pojedyńcze elementy lub fragment listy. Aby wybrać dowolny element z listy należy użyć metody wbudowanej  `__getitem__` lub prościej operatora `[]`.\n",
    "\n",
    "Podanie indeksu większego niż liczba elementów kończy się wyrzuceniem błędu. Możemy numerować pozycje od końca, wstawiając liczby ujemne. \n",
    "\n",
    "Aby wybrać fragment listy należy użyć konstrukcji `[s:e:k]`, gdzie `s` to pozycja pierwszego elementu który chcemy wybrać, `e` to pozycja ostatniego elementu (którego nie wchodzi już w skład wybieranej sekwencji), `k` to krok z jakim wybieramy elementy."
   ],
   "attachments":{
    
   },
   "metadata":{
    "datalore":{
     "node_id":"Z1DMViyYQMjx2XXOgbmbMm",
     "type":"MD",
     "hide_input_from_viewers":false,
     "hide_output_from_viewers":false,
     "report_properties":{
      
     }
    }
   }
  },
  {
   "cell_type":"code",
   "source":[
    "l = [1, 2, '3']\n",
    "print(l.__getitem__(0))   # numeracja od 0\n",
    "print(l[2])"
   ],
   "execution_count":5,
   "outputs":[
    {
     "name":"stdout",
     "text":[
      "1\n",
      "3\n"
     ],
     "output_type":"stream"
    }
   ],
   "metadata":{
    "datalore":{
     "node_id":"UvtIQbSHWnE8uOjfvjJ8J9",
     "type":"CODE",
     "hide_input_from_viewers":false,
     "hide_output_from_viewers":false,
     "report_properties":{
      
     }
    }
   }
  },
  {
   "cell_type":"code",
   "source":[
    "l[-1]   # odczyt elementu o indeksie ujemnym - liczenie wstecz od końca listy"
   ],
   "execution_count":6,
   "outputs":[
    {
     "data":{
      "text\/plain":[
       "'3'"
      ]
     },
     "metadata":{
      
     },
     "output_type":"display_data"
    }
   ],
   "metadata":{
    "datalore":{
     "node_id":"b1sMZzb2ytWVTurY3fATFj",
     "type":"CODE",
     "hide_input_from_viewers":false,
     "hide_output_from_viewers":false,
     "report_properties":{
      
     }
    }
   }
  },
  {
   "cell_type":"code",
   "source":[
    "l[3]   # odczyt elementu który nie istnieje - błąd!"
   ],
   "execution_count":7,
   "outputs":[
    {
     "ename":"IndexError",
     "evalue":"IndexError: list index out of range",
     "traceback":[
      "\u001b[0;31m---------------------------------------------------------------------------",
      "Traceback (most recent call last)",
      "    at line 1 in <module>",
      "IndexError: list index out of range"
     ],
     "output_type":"error"
    }
   ],
   "metadata":{
    "datalore":{
     "node_id":"l9R885KNExhqhvX5Hjeyyo",
     "type":"CODE",
     "hide_input_from_viewers":false,
     "hide_output_from_viewers":false,
     "report_properties":{
      
     }
    }
   }
  },
  {
   "cell_type":"markdown",
   "source":[
    "Slicing (wycinanie), analogiczne jak w napisach."
   ],
   "attachments":{
    
   },
   "metadata":{
    "datalore":{
     "node_id":"xCRcsyrK99upy3duISVJ53",
     "type":"MD",
     "hide_input_from_viewers":false,
     "hide_output_from_viewers":false,
     "report_properties":{
      
     }
    }
   }
  },
  {
   "cell_type":"code",
   "source":[
    "a = [1, 2, 3, 4, 5, 6]\n",
    "print('1)', a)\n",
    "print('2)', a[1:4])\n",
    "print('3)', a[:4])\n",
    "print('4)', a[3:])\n",
    "print('5)', a[2:5:2])\n",
    "\n",
    "a[1:3] = []   # zmiana długości listy\n",
    "print('6)', a)"
   ],
   "execution_count":8,
   "outputs":[
    {
     "name":"stdout",
     "text":[
      "1) [1, 2, 3, 4, 5, 6]\n",
      "2) [2, 3, 4]\n",
      "3) [1, 2, 3, 4]\n",
      "4) [4, 5, 6]\n",
      "5) [3, 5]\n",
      "6) [1, 4, 5, 6]\n"
     ],
     "output_type":"stream"
    }
   ],
   "metadata":{
    "datalore":{
     "node_id":"z4jI6POxsrsYnOYqirEPjf",
     "type":"CODE",
     "hide_input_from_viewers":false,
     "hide_output_from_viewers":false,
     "report_properties":{
      
     }
    }
   }
  },
  {
   "cell_type":"markdown",
   "source":[
    "Elementy listy można modyfikować."
   ],
   "attachments":{
    
   },
   "metadata":{
    "datalore":{
     "node_id":"rSCPzRp2IiEwsz8e0CsSyq",
     "type":"MD",
     "hide_input_from_viewers":false,
     "hide_output_from_viewers":false,
     "report_properties":{
      
     }
    }
   }
  },
  {
   "cell_type":"code",
   "source":[
    "print(l)\n",
    "print(l[0])\n",
    "l[0] = 'nowe_0'\n",
    "print(l)"
   ],
   "execution_count":9,
   "outputs":[
    {
     "name":"stdout",
     "text":[
      "[1, 2, '3']\n",
      "1\n",
      "['nowe_0', 2, '3']\n"
     ],
     "output_type":"stream"
    }
   ],
   "metadata":{
    "datalore":{
     "node_id":"iO1jUGFKrB1NbEIGaYvlwD",
     "type":"CODE",
     "hide_input_from_viewers":false,
     "hide_output_from_viewers":false,
     "report_properties":{
      
     }
    }
   }
  },
  {
   "cell_type":"markdown",
   "source":[
    "#### Listy zagnieżdżone.\n",
    "Lista wewnątrz innej listy. Dostęp do elementów listy zagnieżdżonej `[][]`."
   ],
   "attachments":{
    
   },
   "metadata":{
    "datalore":{
     "node_id":"IjopnDzqmqffW7FPfIb9se",
     "type":"MD",
     "hide_input_from_viewers":false,
     "hide_output_from_viewers":false,
     "report_properties":{
      
     }
    }
   }
  },
  {
   "cell_type":"code",
   "source":[
    "l1 = [1, 2, 3, ['a','b','c']]\n",
    "print(l1)\n",
    "print(len(l1))\n",
    "el = l1[3][1]   # dostęp do elementu o indeksie 1 w liście zagnieżdżonej\n",
    "print(el)"
   ],
   "execution_count":10,
   "outputs":[
    {
     "name":"stdout",
     "text":[
      "[1, 2, 3, ['a', 'b', 'c']]\n",
      "4\n",
      "b\n"
     ],
     "output_type":"stream"
    }
   ],
   "metadata":{
    "datalore":{
     "node_id":"W2kcB7JF8Jo9FCu38yk07b",
     "type":"CODE",
     "hide_input_from_viewers":false,
     "hide_output_from_viewers":false,
     "report_properties":{
      
     }
    }
   }
  },
  {
   "cell_type":"markdown",
   "source":[
    "#### Przeglądanie elementów listy.\n",
    "Indeksowanie podczas przeglądania. Funkcja `enumerate`."
   ],
   "attachments":{
    
   },
   "metadata":{
    "datalore":{
     "node_id":"JOCuJb7xPVleE1CY5sqYEx",
     "type":"MD",
     "hide_input_from_viewers":false,
     "hide_output_from_viewers":false,
     "report_properties":{
      
     }
    }
   }
  },
  {
   "cell_type":"code",
   "source":[
    "for i in l1:\n",
    "    print(i)"
   ],
   "execution_count":11,
   "outputs":[
    {
     "name":"stdout",
     "text":[
      "1\n",
      "2\n",
      "3\n",
      "['a', 'b', 'c']\n"
     ],
     "output_type":"stream"
    }
   ],
   "metadata":{
    "datalore":{
     "node_id":"f2Bq5aRnLrcbUX9zBLBOc9",
     "type":"CODE",
     "hide_input_from_viewers":false,
     "hide_output_from_viewers":false,
     "report_properties":{
      
     }
    }
   }
  },
  {
   "cell_type":"code",
   "source":[
    "for i in range(len(l1)):\n",
    "    print(i, l1[i])"
   ],
   "execution_count":12,
   "outputs":[
    {
     "name":"stdout",
     "text":[
      "0 1\n",
      "1 2\n",
      "2 3\n",
      "3 ['a', 'b', 'c']\n"
     ],
     "output_type":"stream"
    }
   ],
   "metadata":{
    "datalore":{
     "node_id":"Jh0w7Wxkyr082qnLLBa8Pq",
     "type":"CODE",
     "hide_input_from_viewers":false,
     "hide_output_from_viewers":false,
     "report_properties":{
      
     }
    }
   }
  },
  {
   "cell_type":"code",
   "source":[
    "for index, element in enumerate(l1):  # patrz notebook z lab_1.\n",
    "    print(index, element)"
   ],
   "execution_count":13,
   "outputs":[
    {
     "name":"stdout",
     "text":[
      "0 1\n",
      "1 2\n",
      "2 3\n",
      "3 ['a', 'b', 'c']\n"
     ],
     "output_type":"stream"
    }
   ],
   "metadata":{
    "datalore":{
     "node_id":"nyVMQbhxUteDhbVeGV9FE4",
     "type":"CODE",
     "hide_input_from_viewers":false,
     "hide_output_from_viewers":false,
     "report_properties":{
      
     }
    }
   }
  },
  {
   "cell_type":"markdown",
   "source":[
    "#### Operacje na listach: `+`, `*`."
   ],
   "attachments":{
    
   },
   "metadata":{
    "datalore":{
     "node_id":"PBQ1Eeg8cN3XhGKdH5nkRN",
     "type":"MD",
     "hide_input_from_viewers":false,
     "hide_output_from_viewers":false,
     "report_properties":{
      
     }
    }
   }
  },
  {
   "cell_type":"code",
   "source":[
    "# listy tak jak napisy można dodawać (łączyć) i mnożyć przez liczbę (powielać)\n",
    "l1 = [1,2,3]\n",
    "l2 = ['a','b','c']\n",
    "print(l1+l2)\n",
    "print(l1*3)"
   ],
   "execution_count":14,
   "outputs":[
    {
     "name":"stdout",
     "text":[
      "[1, 2, 3, 'a', 'b', 'c']\n",
      "[1, 2, 3, 1, 2, 3, 1, 2, 3]\n"
     ],
     "output_type":"stream"
    }
   ],
   "metadata":{
    "datalore":{
     "node_id":"8lq64WgzRbWsaIpMetCGta",
     "type":"CODE",
     "hide_input_from_viewers":false,
     "hide_output_from_viewers":false,
     "report_properties":{
      
     }
    }
   }
  },
  {
   "cell_type":"markdown",
   "source":[
    "#### Metody obiektu list.\n",
    "Metody dla list (sekwencji):\n",
    "https:\/\/docs.python.org\/3\/library\/stdtypes.html#typesseq-mutable.\n",
    "https:\/\/docs.python.org\/3\/tutorial\/datastructures.html\n",
    "\n",
    "Wybrane metody do użycia:\n",
    "- `append(x)` - Dodaje na koniec listy element x. Zwieksza rozmiar listy o 1.\n",
    "- `extend(l)` - Rozszerza liste o elementy listy `l`. Zwieksza rozmiar listy o `len(l)`.\n",
    "- `insert(i, x)` - Wstawia element x na pozycji i. Zwieksza rozmiar listy o 1. Zmienia indeksy poszczególnych elementów.\n",
    "- `remove(x)` - Usuwa pierwszy napotkany element listy, którego wartość jest równa x. Zmniejsza rozmiar listy o 1.\n",
    "- `pop(i)` - Usuwa element o podanym indeksie i i go zwraca. Argument i jest argumentem domyślnym, jesli nie zostanie podany przyjmuje indeks ostatniego elementu listy. Zmniejsza rozmiar o 1.\n",
    "- `index(x)` - Zwraca indeks pierwszego elementu listy, którego wartość jest równa x. Jeśli w liście nie ma takiego elementu, wyrzucany jest błąd.\n",
    "- `count(x)` - Zwraca liczbę elementów listy, których wartość jest równa x.\n",
    "- `sort(*, key=None, reverse=False)` - Sortuje liste.\n",
    "- `reverse()` - Odwraca elementy listy.\n",
    "- `del` - Usuwa elementy lub fragmenty listy (`del s[i:j:k]`) (`del` może też być użyte do usuwania zmiennych)\n",
    "- `clear()`  - usuwa całą zawartość listy.\n",
    "\n",
    "__Uwaga!__ Wiekszość metod dla list modyfikuje argument(listę) i zwraca `None`."
   ],
   "attachments":{
    
   },
   "metadata":{
    "datalore":{
     "node_id":"kkrULmeeFPywgQRrHIPE2U",
     "type":"MD",
     "hide_input_from_viewers":false,
     "hide_output_from_viewers":false,
     "report_properties":{
      
     }
    }
   }
  },
  {
   "cell_type":"code",
   "source":[
    "s = [1, 2, 3, 4, 5, 6]\n",
    "t = [8, 9, 10]\n",
    "print(s)\n",
    "\n",
    "s.append(7)  # dodanie na koniec\n",
    "print(s)\n",
    "s.extend(t)  # rozszerza listę o listę t\n",
    "print(s)\n",
    "s.insert(1, 111)  # wstawia na pozycji 1 liczbę 111\n",
    "print(s)\n",
    "s.remove(2)  # usuwa pierwszą napotkaną 2\n",
    "print(s)\n",
    "a = s.pop(1)  # usuwa element z pozycji 1 i go zwraca\n",
    "print(s, a,sep = '; ')\n",
    "del s[1:3]  # usuwa fragment listy\n",
    "print(s)\n",
    "s.clear()  # usuwa wszystkie elementy listy\n",
    "print(s)"
   ],
   "execution_count":15,
   "outputs":[
    {
     "name":"stdout",
     "text":[
      "[1, 2, 3, 4, 5, 6]\n",
      "[1, 2, 3, 4, 5, 6, 7]\n",
      "[1, 2, 3, 4, 5, 6, 7, 8, 9, 10]\n",
      "[1, 111, 2, 3, 4, 5, 6, 7, 8, 9, 10]\n",
      "[1, 111, 3, 4, 5, 6, 7, 8, 9, 10]\n",
      "[1, 3, 4, 5, 6, 7, 8, 9, 10]; 111\n",
      "[1, 5, 6, 7, 8, 9, 10]\n",
      "[]\n"
     ],
     "output_type":"stream"
    }
   ],
   "metadata":{
    "datalore":{
     "node_id":"RlF4s0TjRJyLyTkrLhAxQb",
     "type":"CODE",
     "hide_input_from_viewers":false,
     "hide_output_from_viewers":false,
     "report_properties":{
      
     }
    }
   }
  },
  {
   "cell_type":"code",
   "source":[
    "s = [1, 2, 3, 4, 3, 2]\n",
    "print(s)\n",
    "\n",
    "print(s.index(4))  # indeks pierwszego elementu o wartości 4\n",
    "print(s.count(3))  # liczba wszystkich elementów o wartości 3\n",
    "s.sort()  # sortowanie\n",
    "print(s)\n",
    "s.reverse() # odwracanie\n",
    "print(s)"
   ],
   "execution_count":17,
   "outputs":[
    {
     "name":"stdout",
     "text":[
      "[1, 2, 3, 4, 3, 2]\n",
      "3\n",
      "2\n",
      "[1, 2, 2, 3, 3, 4]\n",
      "[4, 3, 3, 2, 2, 1]\n"
     ],
     "output_type":"stream"
    }
   ],
   "metadata":{
    "datalore":{
     "node_id":"9tlVb8FvjlgJLvdeFk3TEc",
     "type":"CODE",
     "hide_input_from_viewers":false,
     "hide_output_from_viewers":false,
     "report_properties":{
      
     }
    }
   }
  },
  {
   "cell_type":"code",
   "source":[
    "s = [1, 2, 3, 4, 3, 2]\n",
    "print(s)\n",
    "s.sort(reverse = True)  # sortowanie\n",
    "print(s)\n",
    "s = ['c','A','b','M','z','R']\n",
    "s.sort()\n",
    "print(s)\n",
    "s.sort(key = str.lower)\n",
    "print(s)\n",
    "s = ['c','A','b','M','z','R']\n",
    "s.sort(key = str.lower, reverse = True)\n",
    "print(s)"
   ],
   "execution_count":18,
   "outputs":[
    {
     "name":"stdout",
     "text":[
      "[1, 2, 3, 4, 3, 2]\n",
      "[4, 3, 3, 2, 2, 1]\n",
      "['A', 'M', 'R', 'b', 'c', 'z']\n",
      "['A', 'b', 'c', 'M', 'R', 'z']\n",
      "['z', 'R', 'M', 'c', 'b', 'A']\n"
     ],
     "output_type":"stream"
    }
   ],
   "metadata":{
    "datalore":{
     "node_id":"Xs0VC5RPkxuU5XklolziQR",
     "type":"CODE",
     "hide_input_from_viewers":false,
     "hide_output_from_viewers":false,
     "report_properties":{
      
     }
    }
   }
  },
  {
   "cell_type":"markdown",
   "source":[
    "Metoda wbudowana `sorted(iterable, key=None, reverse=False)` zwraca nową, posortowaną listę."
   ],
   "attachments":{
    
   },
   "metadata":{
    "datalore":{
     "node_id":"vfoSLGDMx86Od7EsulEdXM",
     "type":"MD",
     "hide_input_from_viewers":false,
     "hide_output_from_viewers":false,
     "report_properties":{
      
     }
    }
   }
  },
  {
   "cell_type":"code",
   "source":[
    "s = ['c','A','b','M','z','R']\n",
    "print(s)\n",
    "s1 = sorted(s,key = str.lower, reverse = False)\n",
    "print(s1)\n",
    "tekst = 'informatyka'\n",
    "s1 = sorted(tekst,key = str.lower, reverse = True)\n",
    "print(s1)"
   ],
   "execution_count":19,
   "outputs":[
    {
     "name":"stdout",
     "text":[
      "['c', 'A', 'b', 'M', 'z', 'R']\n",
      "['A', 'b', 'c', 'M', 'R', 'z']\n",
      "['y', 't', 'r', 'o', 'n', 'm', 'k', 'i', 'f', 'a', 'a']\n"
     ],
     "output_type":"stream"
    }
   ],
   "metadata":{
    "datalore":{
     "node_id":"2pbfpAZkr6Hzat9ZYs9jOo",
     "type":"CODE",
     "hide_input_from_viewers":false,
     "hide_output_from_viewers":false,
     "report_properties":{
      
     }
    }
   }
  },
  {
   "cell_type":"markdown",
   "source":[
    "### Ćwiczenie 1\n",
    "Zaimplementuj algorytm LIFO używając listy jako stosu. Po każdym dodaniu lub zdjęciu elementu wypisz zawartość stosu.\n",
    "\n",
    "Stos to liniowa struktura danych, w której dane dodawane sa tylko na szczyt stosu i tylko ze szczytu stosu są pobierane. Jest to bufor typu LIFO (ang. Last-In-First-Out) – ostatnie weszło, pierwsze wyszło."
   ],
   "attachments":{
    
   },
   "metadata":{
    "datalore":{
     "node_id":"20EGRiM8yfx2b5J7HYMFaZ",
     "type":"MD",
     "hide_input_from_viewers":false,
     "hide_output_from_viewers":false,
     "report_properties":{
      
     }
    }
   }
  },
  {
   "cell_type":"code",
   "source":[
    "stos = []\n",
    "\n",
    "# YOUR CODE HERE\n",
    "def add_to_stack(elem: any):\n",
    "    global stos\n",
    "    stos.append(elem)\n",
    "\n",
    "def get_element():\n",
    "    global stos\n",
    "    return stos.pop()\n",
    "\n",
    "def main():\n",
    "    global stos\n",
    "    print(f'stos: {stos}\\n1. Dodaj do stosu\\n2. Wyciągnij element stosu\\n\\n0 - Zakończ')\n",
    "    option = int(input())\n",
    "    if option == 1:\n",
    "        add_to_stack(input('Podaj element:'))\n",
    "    elif option == 2:\n",
    "        print(f'Wyciągnięty element: {get_element()}')\n",
    "    elif option == 0:\n",
    "        return exit(0)\n",
    "    else:\n",
    "        print('Niepoprawna opcja!')\n",
    "    \n",
    "    main()\n",
    "\n",
    "if __name__ == '__main__':\n",
    "    main()"
   ],
   "execution_count":1,
   "outputs":[
    {
     "name":"stdout",
     "text":[
      "stos: []\n",
      "1. Dodaj do stosu\n",
      "2. Wyciągnij element stosu\n",
      "\n",
      "0 - Zakończ\n",
      " 1\n",
      "Podaj element: 1\n",
      "stos: ['1']\n",
      "1. Dodaj do stosu\n",
      "2. Wyciągnij element stosu\n",
      "\n",
      "0 - Zakończ\n",
      " 0\n"
     ],
     "output_type":"stream"
    },
    {
     "ename":"KeyboardInterrupt",
     "evalue":"KeyboardInterrupt: Interrupted by user",
     "traceback":[
      "\u001b[0;31m---------------------------------------------------------------------------",
      "Traceback (most recent call last)",
      "    at line 28 in <module>",
      "    at line 25 in main()",
      "    at line 15 in main()",
      "    at line 848 in raw_input(self, prompt)",
      "    at line 892 in _input_request(self, prompt, ident, parent, password)",
      "KeyboardInterrupt: Interrupted by user"
     ],
     "output_type":"error"
    }
   ],
   "metadata":{
    "datalore":{
     "node_id":"rNdTgJ8AEhH9KcUgkBydQN",
     "type":"CODE",
     "hide_input_from_viewers":false,
     "hide_output_from_viewers":false,
     "report_properties":{
      
     }
    }
   }
  },
  {
   "cell_type":"markdown",
   "source":[
    "#### Tworzenie list z ciągu znaków (łańcuchów), słów  i na odwrót.\n",
    "Funkcje `list()`, `split()`, `join()`. Metoda `join()` jest odwrotnością metody `split()`."
   ],
   "attachments":{
    
   },
   "metadata":{
    "datalore":{
     "node_id":"QX0itFb6uQcmVICkcbRdeb",
     "type":"MD",
     "hide_input_from_viewers":false,
     "hide_output_from_viewers":false,
     "report_properties":{
      
     }
    }
   }
  },
  {
   "cell_type":"code",
   "source":[
    "s = 'informatyka'\n",
    "t = list(s)  # tworzenie listy z łańcucha znaków\n",
    "print(t)"
   ],
   "execution_count":2,
   "outputs":[
    {
     "name":"stdout",
     "text":[
      "['i', 'n', 'f', 'o', 'r', 'm', 'a', 't', 'y', 'k', 'a']\n"
     ],
     "output_type":"stream"
    }
   ],
   "metadata":{
    "datalore":{
     "node_id":"R6efXG93KxjZmt67QkKGhI",
     "type":"CODE",
     "hide_input_from_viewers":false,
     "hide_output_from_viewers":false,
     "report_properties":{
      
     }
    }
   }
  },
  {
   "cell_type":"code",
   "source":[
    "s = 'informatyka jest super!'\n",
    "t = s.split()  # tworzenie listy ze słów\n",
    "print(t)"
   ],
   "execution_count":3,
   "outputs":[
    {
     "name":"stdout",
     "text":[
      "['informatyka', 'jest', 'super!']\n"
     ],
     "output_type":"stream"
    }
   ],
   "metadata":{
    "datalore":{
     "node_id":"CwtPmfiiY33f8JNiuN5fdG",
     "type":"CODE",
     "hide_input_from_viewers":false,
     "hide_output_from_viewers":false,
     "report_properties":{
      
     }
    }
   }
  },
  {
   "cell_type":"code",
   "source":[
    "print(t)\n",
    "print(type(t))\n",
    "\n",
    "separator = ' '\n",
    "tekst = separator.join(t) # łączy elementy listy wstawiając między nie separator\n",
    "\n",
    "print(tekst)\n",
    "print(type(tekst))"
   ],
   "execution_count":4,
   "outputs":[
    {
     "name":"stdout",
     "text":[
      "['informatyka', 'jest', 'super!']\n",
      "<class 'list'>\n",
      "informatyka jest super!\n",
      "<class 'str'>\n"
     ],
     "output_type":"stream"
    }
   ],
   "metadata":{
    "datalore":{
     "node_id":"6xqs7YwSOIe088B6n53aAj",
     "type":"CODE",
     "hide_input_from_viewers":false,
     "hide_output_from_viewers":false,
     "report_properties":{
      
     }
    }
   }
  },
  {
   "cell_type":"markdown",
   "source":[
    "## Odwzorowania listowe (list comprehension), czyli uproszczone tworzenie list.\n",
    "\n",
    "Klasyczne tworzenie listy."
   ],
   "attachments":{
    
   },
   "metadata":{
    "datalore":{
     "node_id":"foXA6u181SFGjU9pXhjHhi",
     "type":"MD",
     "hide_input_from_viewers":false,
     "hide_output_from_viewers":false,
     "report_properties":{
      
     }
    }
   }
  },
  {
   "cell_type":"code",
   "source":[
    "tab = []  # utworzenie pustego obiektu typu list\n",
    "for i in range(1,11):  # liczby od 1 do 10\n",
    "    tab.append(i**2)   # lista zawierająca kwadraty liczb\n",
    "print(tab)"
   ],
   "execution_count":1,
   "outputs":[
    {
     "name":"stdout",
     "text":[
      "[1, 4, 9, 16, 25, 36, 49, 64, 81, 100]\n"
     ],
     "output_type":"stream"
    }
   ],
   "metadata":{
    "datalore":{
     "node_id":"wUkoKexXDdilHjoB7cRAmL",
     "type":"CODE",
     "hide_input_from_viewers":false,
     "hide_output_from_viewers":false,
     "report_properties":{
      
     }
    }
   }
  },
  {
   "cell_type":"markdown",
   "source":[
    "Używając odwzorowań listowych możemy to samo zapisać krócej."
   ],
   "attachments":{
    
   },
   "metadata":{
    "datalore":{
     "node_id":"WNZjgpKAThGIjsIHL8GltI",
     "type":"MD",
     "hide_input_from_viewers":false,
     "hide_output_from_viewers":false,
     "report_properties":{
      
     }
    }
   }
  },
  {
   "cell_type":"code",
   "source":[
    "tab2 = [i**2 for i in range(1,11)]\n",
    "print(tab2)"
   ],
   "execution_count":2,
   "outputs":[
    {
     "name":"stdout",
     "text":[
      "[1, 4, 9, 16, 25, 36, 49, 64, 81, 100]\n"
     ],
     "output_type":"stream"
    }
   ],
   "metadata":{
    "datalore":{
     "node_id":"Xihu0epSycUDjxOxpqdiGl",
     "type":"CODE",
     "hide_input_from_viewers":false,
     "hide_output_from_viewers":false,
     "report_properties":{
      
     }
    }
   }
  },
  {
   "cell_type":"markdown",
   "source":[
    "Obiektem po którym iterujemy może być dowolny obiekt iterowalny np. lista, zbiór, słownik itp. \n",
    "\n",
    "Możemy również generować w ten sposób listy wielowymiarowe."
   ],
   "attachments":{
    
   },
   "metadata":{
    "datalore":{
     "node_id":"vUbpU3dCiYDGeVGB0PlAAN",
     "type":"MD",
     "hide_input_from_viewers":false,
     "hide_output_from_viewers":false,
     "report_properties":{
      
     }
    }
   }
  },
  {
   "cell_type":"code",
   "source":[
    "tab3 = [[i,j] for i in [1,2,3,4] for j in ['a','b','c','d']]\n",
    "print(tab3)"
   ],
   "execution_count":3,
   "outputs":[
    {
     "name":"stdout",
     "text":[
      "[[1, 'a'], [1, 'b'], [1, 'c'], [1, 'd'], [2, 'a'], [2, 'b'], [2, 'c'], [2, 'd'], [3, 'a'], [3, 'b'], [3, 'c'], [3, 'd'], [4, 'a'], [4, 'b'], [4, 'c'], [4, 'd']]\n"
     ],
     "output_type":"stream"
    }
   ],
   "metadata":{
    "datalore":{
     "node_id":"7LTOU2EBlUd1L6acW3UBT1",
     "type":"CODE",
     "hide_input_from_viewers":false,
     "hide_output_from_viewers":false,
     "report_properties":{
      
     }
    }
   }
  },
  {
   "cell_type":"code",
   "source":[
    "tab4 = [i for i in [1,2,3,4] for j in ['a','b','c','d']]\n",
    "print(tab4)"
   ],
   "execution_count":4,
   "outputs":[
    {
     "name":"stdout",
     "text":[
      "[1, 1, 1, 1, 2, 2, 2, 2, 3, 3, 3, 3, 4, 4, 4, 4]\n"
     ],
     "output_type":"stream"
    }
   ],
   "metadata":{
    "datalore":{
     "node_id":"WcdRnUvkIbGnfkTevu969O",
     "type":"CODE",
     "hide_input_from_viewers":false,
     "hide_output_from_viewers":false,
     "report_properties":{
      
     }
    }
   }
  },
  {
   "cell_type":"code",
   "source":[
    "tab5 = [[i for i in [1,2,3,4]] for j in ['a','b','c','d']]\n",
    "print(tab5)"
   ],
   "execution_count":5,
   "outputs":[
    {
     "name":"stdout",
     "text":[
      "[[1, 2, 3, 4], [1, 2, 3, 4], [1, 2, 3, 4], [1, 2, 3, 4]]\n"
     ],
     "output_type":"stream"
    }
   ],
   "metadata":{
    "datalore":{
     "node_id":"cjHcGtEEZmReNP8z8jRHMY",
     "type":"CODE",
     "hide_input_from_viewers":false,
     "hide_output_from_viewers":false,
     "report_properties":{
      
     }
    }
   }
  },
  {
   "cell_type":"markdown",
   "source":[
    "W konstrukcji odwzorowań listowych możemy używać również instrukcji warunkowych."
   ],
   "attachments":{
    
   },
   "metadata":{
    "datalore":{
     "node_id":"erW6IIyKidcQv2kas5NO0I",
     "type":"MD",
     "hide_input_from_viewers":false,
     "hide_output_from_viewers":false,
     "report_properties":{
      
     }
    }
   }
  },
  {
   "cell_type":"code",
   "source":[
    "tab = [i**2 for i in range(1,11)]\n",
    "print(tab)\n",
    "\n",
    "tab2 = [x  for x in tab2 if x%3==0 ]  # tylko liczby podzielne przez 3 z listy tab\n",
    "print(tab2)"
   ],
   "execution_count":6,
   "outputs":[
    {
     "name":"stdout",
     "text":[
      "[1, 4, 9, 16, 25, 36, 49, 64, 81, 100]\n",
      "[9, 36, 81]\n"
     ],
     "output_type":"stream"
    }
   ],
   "metadata":{
    "datalore":{
     "node_id":"cfbFA3JJiGUkUK1v9IsG1v",
     "type":"CODE",
     "hide_input_from_viewers":false,
     "hide_output_from_viewers":false,
     "report_properties":{
      
     }
    }
   }
  },
  {
   "cell_type":"code",
   "source":[
    "tab3 = [x if x%3==0 else 0 for x in tab]  #liczby podzielne przez 3 zostaw bez zmian a pozostałe zastąp zerem\n",
    "print(tab3)"
   ],
   "execution_count":7,
   "outputs":[
    {
     "name":"stdout",
     "text":[
      "[0, 0, 9, 0, 0, 36, 0, 0, 81, 0]\n"
     ],
     "output_type":"stream"
    }
   ],
   "metadata":{
    "datalore":{
     "node_id":"uRLnnT0o5tNpBbY6N1fkii",
     "type":"CODE",
     "hide_input_from_viewers":false,
     "hide_output_from_viewers":false,
     "report_properties":{
      
     }
    }
   }
  },
  {
   "cell_type":"code",
   "source":[
    "# jeśli wyrażenie będące elementem listy (np.(x,y)) jest krotką należy ująć je w nawiasy\n",
    "lista = [(x,y) for x in [1,2,3] for y in [3,1,4] if x != y]\n",
    "print(lista)"
   ],
   "execution_count":8,
   "outputs":[
    {
     "name":"stdout",
     "text":[
      "[(1, 3), (1, 4), (2, 3), (2, 1), (2, 4), (3, 1), (3, 4)]\n"
     ],
     "output_type":"stream"
    }
   ],
   "metadata":{
    "datalore":{
     "node_id":"FLhC1j8JLCsoHqihI8vlXJ",
     "type":"CODE",
     "hide_input_from_viewers":false,
     "hide_output_from_viewers":false,
     "report_properties":{
      
     }
    }
   }
  },
  {
   "cell_type":"code",
   "source":[
    "# \"wypłaszczenie\" listy przy użyciu podwójnego for\n",
    "wektor = [[1,2,3],[4,5,6],[7,8,9]]\n",
    "lista1 = [i for x in wektor for i in x]\n",
    "print(lista1)"
   ],
   "execution_count":9,
   "outputs":[
    {
     "name":"stdout",
     "text":[
      "[1, 2, 3, 4, 5, 6, 7, 8, 9]\n"
     ],
     "output_type":"stream"
    }
   ],
   "metadata":{
    "datalore":{
     "node_id":"cnoX4lq4aS7vMt2pAKnPTx",
     "type":"CODE",
     "hide_input_from_viewers":false,
     "hide_output_from_viewers":false,
     "report_properties":{
      
     }
    }
   }
  },
  {
   "cell_type":"markdown",
   "source":[
    "### Ćwiczenie 2\n",
    "Napisz funkcję `f_c32` która dla poszczególnych elementów zadanej jako parametr listy wejściowej obliczy pierwiastek z sumy kwadratów jej składowych i zwróci obliczenia w postaci nowej listy nie zmieniając listy wejściowej."
   ],
   "attachments":{
    
   },
   "metadata":{
    "datalore":{
     "node_id":"krDEiyPPwnXAZBuKhhpW9O",
     "type":"MD",
     "hide_input_from_viewers":false,
     "hide_output_from_viewers":false,
     "report_properties":{
      
     }
    }
   }
  },
  {
   "cell_type":"code",
   "source":[
    "import math\n",
    "d1 = 1\n",
    "d2 = 4\n",
    "lista_c_32 = [(1,2), (3,4), (5,6), (d1,d2)]\n",
    "\n",
    "# YOUR CODE HERE\n",
    "def f_c32(list_c):\n",
    "    values = []\n",
    "    for i in list_c:\n",
    "        i0 = math.pow(i[0], 2)\n",
    "        i1 = math.pow(i[1], 2)\n",
    "        values.append(math.sqrt(i0 + i1))\n",
    "        \n",
    "    return values\n",
    "\n",
    "print(f_c32(lista_c_32))"
   ],
   "execution_count":10,
   "outputs":[
    {
     "name":"stdout",
     "text":[
      "[2.23606797749979, 5.0, 7.810249675906654, 4.123105625617661]\n"
     ],
     "output_type":"stream"
    }
   ],
   "metadata":{
    "datalore":{
     "node_id":"7TegeayRvmTkFuTzcw6Obv",
     "type":"CODE",
     "hide_input_from_viewers":false,
     "hide_output_from_viewers":false,
     "report_properties":{
      
     }
    }
   }
  },
  {
   "cell_type":"markdown",
   "source":[
    "## Kopiowanie list (dowolnych kontenerów obiektów).\n",
    "\n",
    "Do kopiowania list (klas, słowników) używamy metod `copy` i `deepcopy` z modułu `copy`.\n",
    "\n",
    "Mamy dwa rodzaje kopiowania:\n",
    "\n",
    "- płytkie - `copy.copy(obiekt)`, tworzy nowy obiekt, ale umieszcza w nim odniesienia (referencje) do elementów zawartych w oryginalnym obiekcie;\n",
    "\n",
    "- głębokie - `copy.deepcopy(obiekt)` najpierw tworzy nowy obiekt, a nastepnie rekurencyjnie kopiuje do niego całą zawartość oryginału;\n",
    "\n",
    "Dla list kopiowanie płytkie można zrealizować przy pomocy metody `copy()` typu `list` lub przez mechanizm wycinania `[:]`."
   ],
   "attachments":{
    
   },
   "metadata":{
    "datalore":{
     "node_id":"zfynX333CQpoth5Qq6kKRb",
     "type":"MD",
     "hide_input_from_viewers":false,
     "hide_output_from_viewers":false,
     "report_properties":{
      
     }
    }
   }
  },
  {
   "cell_type":"code",
   "source":[
    "s = [1, 2, 3, 4]\n",
    "t = s             # operator przypisania nie kopiuje obiektów! - tworzy nową zmienną, która jest referencją do org. obiektu\n",
    "print(s, t)\n",
    "print (id(s), id(t))"
   ],
   "execution_count":9,
   "outputs":[
    {
     "name":"stdout",
     "text":[
      "[1, 2, 3, 4] [1, 2, 3, 4]\n",
      "140102344197312 140102344197312\n"
     ],
     "output_type":"stream"
    }
   ],
   "metadata":{
    "datalore":{
     "node_id":"PUO8U5irft4l2zPSD6K4YS",
     "type":"CODE",
     "hide_input_from_viewers":false,
     "hide_output_from_viewers":false,
     "report_properties":{
      
     }
    }
   }
  },
  {
   "cell_type":"code",
   "source":[
    "s[1] = 121  # zmieniamy też w t\n",
    "print(s, t)"
   ],
   "execution_count":10,
   "outputs":[
    {
     "name":"stdout",
     "text":[
      "[1, 121, 3, 4] [1, 121, 3, 4]\n"
     ],
     "output_type":"stream"
    }
   ],
   "metadata":{
    "datalore":{
     "node_id":"omw1xzPBpGX39zYYd6zzOj",
     "type":"CODE",
     "hide_input_from_viewers":false,
     "hide_output_from_viewers":false,
     "report_properties":{
      
     }
    }
   }
  },
  {
   "cell_type":"markdown",
   "source":[
    "__Uwaga:__ Aby skopiować listy tworząc nowy obiekt (kopię płytką) należy użyć metody `copy()` typu `list` lub użyć operatora `[:]`."
   ],
   "attachments":{
    
   },
   "metadata":{
    "datalore":{
     "node_id":"1NTfE8OCteZ5vUAkSiIvcO",
     "type":"MD",
     "hide_input_from_viewers":false,
     "hide_output_from_viewers":false,
     "report_properties":{
      
     }
    }
   }
  },
  {
   "cell_type":"code",
   "source":[
    "s = [1, 2, 3, 4]\n",
    "p = s.copy()\n",
    "print(s, p)\n",
    "print (id(s), id(p))\n",
    "p[2] = 122\n",
    "print(s, p)"
   ],
   "execution_count":12,
   "outputs":[
    {
     "name":"stdout",
     "text":[
      "[1, 2, 3, 4] [1, 2, 3, 4]\n",
      "140102622571520 140102576028800\n",
      "[1, 2, 3, 4] [1, 2, 122, 4]\n"
     ],
     "output_type":"stream"
    }
   ],
   "metadata":{
    "datalore":{
     "node_id":"HJ2v74wIKKEeUT8RAUn5T9",
     "type":"CODE",
     "hide_input_from_viewers":false,
     "hide_output_from_viewers":false,
     "report_properties":{
      
     }
    }
   }
  },
  {
   "cell_type":"code",
   "source":[
    "# zamiast copy() można użyć [:]\n",
    "s = [1, 2, 3, 4]\n",
    "q = s[:]\n",
    "s[2]=999\n",
    "print(s, q)\n",
    "print (id(s), id(q))"
   ],
   "execution_count":13,
   "outputs":[
    {
     "name":"stdout",
     "text":[
      "[1, 2, 999, 4] [1, 2, 3, 4]\n",
      "140102344352192 140102344354304\n"
     ],
     "output_type":"stream"
    }
   ],
   "metadata":{
    "datalore":{
     "node_id":"OrhQEhwCablZUYPEB6glPu",
     "type":"CODE",
     "hide_input_from_viewers":false,
     "hide_output_from_viewers":false,
     "report_properties":{
      
     }
    }
   }
  },
  {
   "cell_type":"markdown",
   "source":[
    "Wykorzystanie modułu `copy` do kopiowania płytkiego listy."
   ],
   "attachments":{
    
   },
   "metadata":{
    "datalore":{
     "node_id":"2as4fXaJOEZqORD0LW2ARR",
     "type":"MD",
     "hide_input_from_viewers":false,
     "hide_output_from_viewers":false,
     "report_properties":{
      
     }
    }
   }
  },
  {
   "cell_type":"code",
   "source":[
    "import copy\n",
    "s = [1, 2, 3, 4]\n",
    "r = copy.copy(s) # kopia płytka\n",
    "print(s, r)\n",
    "print (id(s), id(r))"
   ],
   "execution_count":14,
   "outputs":[
    {
     "name":"stdout",
     "text":[
      "[1, 2, 3, 4] [1, 2, 3, 4]\n",
      "140102622571136 140102623459392\n"
     ],
     "output_type":"stream"
    }
   ],
   "metadata":{
    "datalore":{
     "node_id":"nIbGFIrLWiTtCjpbOTBCMf",
     "type":"CODE",
     "hide_input_from_viewers":false,
     "hide_output_from_viewers":false,
     "report_properties":{
      
     }
    }
   }
  },
  {
   "cell_type":"markdown",
   "source":[
    "#### Kopia płytka (shallow copy) vs kopia głęboka (deep copy)\n",
    "\n",
    "Kopiowanie głębokie zabezpiecza nas przed zmianami na oryginalnym obiekcie w odróżnieniu od kopiowania płytkiego."
   ],
   "attachments":{
    
   },
   "metadata":{
    "datalore":{
     "node_id":"45TvKIPj5Yo9HmsgRlQ0JH",
     "type":"MD",
     "hide_input_from_viewers":false,
     "hide_output_from_viewers":false,
     "report_properties":{
      
     }
    }
   }
  },
  {
   "cell_type":"code",
   "source":[
    "import copy                      # import modułu\n",
    "lista1 = [1, 2, [31, 32], 4]\n",
    "lista_p = copy.copy(lista1)      # kopiowanie płytkie\n",
    "print(lista1)                    # elementy oryginalnej listy\n",
    "lista_p[2][0] = 55               # zmiana wartości elementu w nowej liście\n",
    "print(lista1)                    # elementy oryginalnej listy - zmiana !!!"
   ],
   "execution_count":15,
   "outputs":[
    {
     "name":"stdout",
     "text":[
      "[1, 2, [31, 32], 4]\n",
      "[1, 2, [55, 32], 4]\n"
     ],
     "output_type":"stream"
    }
   ],
   "metadata":{
    "datalore":{
     "node_id":"cMkhct535KyGtxfc69u7tj",
     "type":"CODE",
     "hide_input_from_viewers":false,
     "hide_output_from_viewers":false,
     "report_properties":{
      
     }
    }
   }
  },
  {
   "cell_type":"code",
   "source":[
    "import copy                      # import modułu\n",
    "lista1 = [1, 2, [31, 32], 4]\n",
    "lista_g = copy.deepcopy(lista1)  # kopiowanie głębokie\n",
    "print(lista1)                    # elementy oryginalnej listy\n",
    "lista_g[2][0] = 55               # zmiana wartości elementu w nowej liście\n",
    "print(lista1)                    # elementy oryginalnej listy - bez zmian !!!"
   ],
   "execution_count":16,
   "outputs":[
    {
     "name":"stdout",
     "text":[
      "[1, 2, [31, 32], 4]\n",
      "[1, 2, [31, 32], 4]\n"
     ],
     "output_type":"stream"
    }
   ],
   "metadata":{
    "datalore":{
     "node_id":"O7Id6BbOwDovcqTIBL6nYe",
     "type":"CODE",
     "hide_input_from_viewers":false,
     "hide_output_from_viewers":false,
     "report_properties":{
      
     }
    }
   }
  },
  {
   "cell_type":"markdown",
   "source":[
    "### Przekazywanie list do funkcji.\n",
    "Przekazywanie list do funkcji odbywa się przez referencje (podobnie jak kopiowanie) tzn. nie tworzony jest nowy obiekt ale tworzone jest nowe odwołanie (alias) do tego samego obiektu."
   ],
   "attachments":{
    
   },
   "metadata":{
    "datalore":{
     "node_id":"i94mb0jPWpkoMxkWNzNqLk",
     "type":"MD",
     "hide_input_from_viewers":false,
     "hide_output_from_viewers":false,
     "report_properties":{
      
     }
    }
   }
  },
  {
   "cell_type":"code",
   "source":[
    "a = [1, 2, 3, 4]\n",
    "print(id(a))  # sprawdzenie id obiektu a\n",
    "\n",
    "def fun(b):\n",
    "    b[2] = 111 \n",
    "    print('funkcja:',id(b))  # sprawdzenie id obiektu b\n",
    "\n",
    "fun(a)  # wywołanie funkcji z obiektem a\n",
    "print(a)"
   ],
   "execution_count":17,
   "outputs":[
    {
     "name":"stdout",
     "text":[
      "140102623459712\n",
      "funkcja: 140102623459712\n",
      "[1, 2, 111, 4]\n"
     ],
     "output_type":"stream"
    }
   ],
   "metadata":{
    "datalore":{
     "node_id":"NU2DdTxFpzJUy57aEbJRCj",
     "type":"CODE",
     "hide_input_from_viewers":false,
     "hide_output_from_viewers":false,
     "report_properties":{
      
     }
    }
   }
  },
  {
   "cell_type":"markdown",
   "source":[
    "Jeżeli nie chcemy aby funkcja modyfikowała oryginalną listę tworzymy kopię.\n",
    "\n",
    "__Uwaga__: Jeżeli występują listy zagnieżdzone należy wykonać kopię głęboką."
   ],
   "attachments":{
    
   },
   "metadata":{
    "datalore":{
     "node_id":"kPiGCQ1oH05Oig4tN1kHAP",
     "type":"MD",
     "hide_input_from_viewers":false,
     "hide_output_from_viewers":false,
     "report_properties":{
      
     }
    }
   }
  },
  {
   "cell_type":"code",
   "source":[
    "a = [1, 2, 3, 4]\n",
    "print(id(a))  # sprawdzenie id obiektu a\n",
    "\n",
    "def fun(b):\n",
    "    tmp = b.copy()  # utworzenie płytkiej kopii listy\n",
    "    tmp[2] = 111 \n",
    "    print('funkcja:',id(tmp))  # sprawdzenie id obiektu tmp\n",
    "    return tmp\n",
    "\n",
    "print(fun(a))  # wywołanie funkcji z obiektem a, funkcja zwraca listę\n",
    "print(a)  # lista oryginalna bez zmian"
   ],
   "execution_count":18,
   "outputs":[
    {
     "name":"stdout",
     "text":[
      "140102623470016\n",
      "funkcja: 140102622908160\n",
      "[1, 2, 111, 4]\n",
      "[1, 2, 3, 4]\n"
     ],
     "output_type":"stream"
    }
   ],
   "metadata":{
    "datalore":{
     "node_id":"8II9Ka0qBh9LvhzEwPXmML",
     "type":"CODE",
     "hide_input_from_viewers":false,
     "hide_output_from_viewers":false,
     "report_properties":{
      
     }
    }
   }
  },
  {
   "cell_type":"code",
   "source":[
    "import copy\n",
    "a = [[5], [6,7], [8,9,10]]\n",
    "print(id(a))  # sprawdzenie id obiektu a\n",
    "\n",
    "def fun(b):\n",
    "    tmp = copy.deepcopy(b)  # utworzenie kopii głębokiej listy\n",
    "    tmp[2][0] = 111 \n",
    "    print('funkcja:',id(tmp))  # sprawdzenie id obiektu tmp\n",
    "    return tmp\n",
    "\n",
    "print(fun(a))  # wywołanie funkcji z obiektem a, funkcja zwraca listę\n",
    "print(a)  # lista oryginalna bez zmian"
   ],
   "execution_count":19,
   "outputs":[
    {
     "name":"stdout",
     "text":[
      "140102622571264\n",
      "funkcja: 140102622452672\n",
      "[[5], [6, 7], [111, 9, 10]]\n",
      "[[5], [6, 7], [8, 9, 10]]\n"
     ],
     "output_type":"stream"
    }
   ],
   "metadata":{
    "datalore":{
     "node_id":"yIqHawegg5o0AUvDrAg7gl",
     "type":"CODE",
     "hide_input_from_viewers":false,
     "hide_output_from_viewers":false,
     "report_properties":{
      
     }
    }
   }
  },
  {
   "cell_type":"markdown",
   "source":[
    "### Ćwiczenie 3\n",
    "Napisz funkcję `f_c33` która pobiera listę złożoną z list liczb całkowitych i zwraca sumę wszystkich elementów."
   ],
   "attachments":{
    
   },
   "metadata":{
    "datalore":{
     "node_id":"tuTnf7UrYqzrXCT9pIwtzN",
     "type":"MD",
     "hide_input_from_viewers":false,
     "hide_output_from_viewers":false,
     "report_properties":{
      
     }
    }
   }
  },
  {
   "cell_type":"code",
   "source":[
    "d1 = 1\n",
    "d2 = 4\n",
    "lista_c_32 = [[5], [6,7], [8,9,10], [d2,d1]]\n",
    "\n",
    "# YOUR CODE HERE\n",
    "def f_c33(c_list):\n",
    "    value = 0\n",
    "    for i in c_list:\n",
    "        for j in i:\n",
    "            value += j\n",
    "\n",
    "    return value\n",
    "\n",
    "print(f_c33(lista_c_32))"
   ],
   "execution_count":8,
   "outputs":[
    {
     "name":"stdout",
     "text":[
      "50\n"
     ],
     "output_type":"stream"
    }
   ],
   "metadata":{
    "datalore":{
     "node_id":"kQfChtkLUxaH1novuF98X2",
     "type":"CODE",
     "hide_input_from_viewers":false,
     "hide_output_from_viewers":false,
     "report_properties":{
      
     }
    }
   }
  },
  {
   "cell_type":"markdown",
   "source":[
    "## Zadanie 1\n",
    "Napisz funkcję `lista_z31`, której argumentem formalnym jest lista zawierająca liczby całkowite. Funkcja pozostawia w liście elementy większe od `5`. Elementy mniejsze od `5` zamienia na `0`. Funkcja zwraca nową (zmodyfikowaną) listę."
   ],
   "attachments":{
    
   },
   "metadata":{
    "datalore":{
     "node_id":"wKB67pYYS19FWYZzP6kOUb",
     "type":"MD",
     "hide_input_from_viewers":false,
     "hide_output_from_viewers":false,
     "report_properties":{
      
     }
    }
   }
  },
  {
   "cell_type":"code",
   "source":[
    "#lista_z31 - zawiera kolejne cyfry z NrAlbumu autora: np. lista_z31 = [4,2,5,6,7,2] dla 425672_Kowalski_Jan_JS_Lab_3\n",
    "lista_z31 = [1, 3, 8, 1, 6, 4]\n",
    "\n",
    "# YOUR CODE HERE\n",
    "def f_z31(z_list):\n",
    "    for i in range(len(z_list)):\n",
    "        z_list[i] = z_list[i] if z_list[i] > 5 else 0\n",
    "\n",
    "f_z31(lista_z31)\n",
    "print(lista_z31)"
   ],
   "execution_count":2,
   "outputs":[
    {
     "name":"stdout",
     "text":[
      "[0, 0, 8, 0, 6, 0]\n"
     ],
     "output_type":"stream"
    }
   ],
   "metadata":{
    "datalore":{
     "node_id":"OO24w8DqXqjKZw3ibg5BFc",
     "type":"CODE",
     "hide_input_from_viewers":false,
     "hide_output_from_viewers":false,
     "report_properties":{
      
     }
    }
   }
  },
  {
   "cell_type":"markdown",
   "source":[
    "## Zadanie 2\n",
    "Napisz funkcję `f_z32`, której argumentem formalnym jest lista zawierająca liczby. Funkcja ma sprawdzić, czy w liście znajdują się co najmniej dwa takie same elementy. Jeżeli `tak` funkcja zwraca wartość `True`. Jeżeli elementy są różne funkcja zwraca `False`. Lista oryginalna ma pozostać bez zmian."
   ],
   "attachments":{
    
   },
   "metadata":{
    "datalore":{
     "node_id":"5cYOLLe5K6STmZhLghejro",
     "type":"MD",
     "hide_input_from_viewers":false,
     "hide_output_from_viewers":false,
     "report_properties":{
      
     }
    }
   }
  },
  {
   "cell_type":"code",
   "source":[
    "# YOUR CODE HERE\n",
    "def f_z32(z_list):\n",
    "    tmp = list(set(z_list))\n",
    "    if len(z_list) is not len(tmp):\n",
    "        return True\n",
    "    \n",
    "    return False\n",
    "\n",
    "print(f_z32(lista_z31))\n",
    "print(lista_z31)"
   ],
   "execution_count":3,
   "outputs":[
    {
     "name":"stdout",
     "text":[
      "True\n",
      "[0, 0, 8, 0, 6, 0]\n"
     ],
     "output_type":"stream"
    }
   ],
   "metadata":{
    "datalore":{
     "node_id":"MIeyHEB2Qu9kqSfuBosi6W",
     "type":"CODE",
     "hide_input_from_viewers":false,
     "hide_output_from_viewers":false,
     "report_properties":{
      
     }
    }
   }
  },
  {
   "cell_type":"markdown",
   "source":[
    "## Zadanie 3\n",
    "Napisz funkcję `f_z33`, której argumentem formalnym jest lista zawierająca liczby. Funkcja ma zwrócić listę zawierającą 3 elementy: najmniejszą i największą wartość w liście oraz średnią arytmetyczną wszystkich elementów."
   ],
   "attachments":{
    
   },
   "metadata":{
    "datalore":{
     "node_id":"tRXU8N537ZK4zMzQoNFYl3",
     "type":"MD",
     "hide_input_from_viewers":false,
     "hide_output_from_viewers":false,
     "report_properties":{
      
     }
    }
   }
  },
  {
   "cell_type":"code",
   "source":[
    "# YOUR CODE HERE\n",
    "def f_z33(z_list):\n",
    "    nmin = min(z_list)\n",
    "    nmax = max(z_list)\n",
    "    navg = sum(z_list) \/ len(z_list)\n",
    "\n",
    "    return [nmin, nmax, navg]\n",
    "\n",
    "f_z33(lista_z31)"
   ],
   "execution_count":4,
   "outputs":[
    {
     "data":{
      "text\/plain":[
       "[0, 8, 2.3333333333333335]"
      ]
     },
     "metadata":{
      
     },
     "output_type":"display_data"
    }
   ],
   "metadata":{
    "datalore":{
     "node_id":"DSvZS1pRpUYPWGR3TrJmmY",
     "type":"CODE",
     "hide_input_from_viewers":false,
     "hide_output_from_viewers":false,
     "report_properties":{
      
     }
    }
   }
  },
  {
   "cell_type":"markdown",
   "source":[
    "## Zadanie 4\n",
    "\n",
    "Napisz funkcję `f_z34` kopiującą listę przesłaną jako argument. Wykorzystaj mechanizm `list comprehensions`. Funkcja zwraca nowoutworzoną listę."
   ],
   "attachments":{
    
   },
   "metadata":{
    "datalore":{
     "node_id":"mRKZAKoCuwICqEfmIHNsHW",
     "type":"MD",
     "hide_input_from_viewers":false,
     "hide_output_from_viewers":false,
     "report_properties":{
      
     }
    }
   }
  },
  {
   "cell_type":"code",
   "source":[
    "# YOUR CODE HERE\n",
    "def f_z34(z_list):\n",
    "    new_list = [i for i in z_list]\n",
    "\n",
    "    return new_list\n",
    "\n",
    "print(f_z34(lista_z31))"
   ],
   "execution_count":6,
   "outputs":[
    {
     "name":"stdout",
     "text":[
      "[0, 0, 8, 0, 6, 0]\n"
     ],
     "output_type":"stream"
    }
   ],
   "metadata":{
    "datalore":{
     "node_id":"W0OJqbCAWC7hUejlSt457j",
     "type":"CODE",
     "hide_input_from_viewers":false,
     "hide_output_from_viewers":false,
     "report_properties":{
      
     }
    }
   }
  },
  {
   "cell_type":"markdown",
   "source":[
    "## Zadanie 5\n",
    "\n",
    "Napisz funkcję `f_z35` przyjmującą jako argument listę, kopiującą ją i zmieniającą każdy element nowej listy (oprócz pierwszego i ostatniego) tak, aby był on średnią arytmetyczną siebie oraz swoich bezpośrednich sąsiadów. Lista przesłana jako argument nie powinna być modyfikowana. Pierwszy i ostatni element listy mają pozostać niezmienione. Funkcja zwraca nowoutworzoną listę.\n",
    "Wykorzystaj listę `lista_z31` i zaprezentuj działanie powyższej funkcji."
   ],
   "attachments":{
    
   },
   "metadata":{
    "datalore":{
     "node_id":"V835lUhtGpR0EEeqG2vSHt",
     "type":"MD",
     "hide_input_from_viewers":false,
     "hide_output_from_viewers":false,
     "report_properties":{
      
     }
    }
   }
  },
  {
   "cell_type":"code",
   "source":[
    "# YOUR CODE HERE\n",
    "def f_z35(z_list):\n",
    "    new_list = []\n",
    "    leng = len(z_list)\n",
    "    new_list.append(z_list[0])\n",
    "    for i in range(1, leng - 1):\n",
    "        new_list.append((z_list[i - 1] + z_list[i] + z_list[i + 1]) \/ 3)\n",
    "\n",
    "    new_list.append(z_list[leng - 1])\n",
    "\n",
    "    return new_list\n",
    "\n",
    "print(f_z35(lista_z31))"
   ],
   "execution_count":12,
   "outputs":[
    {
     "name":"stdout",
     "text":[
      "[0, 2.6666666666666665, 2.6666666666666665, 4.666666666666667, 2.0, 0]\n"
     ],
     "output_type":"stream"
    }
   ],
   "metadata":{
    "datalore":{
     "node_id":"sfRhGKuaPoeBIlbmbiBs58",
     "type":"CODE",
     "hide_input_from_viewers":false,
     "hide_output_from_viewers":false,
     "report_properties":{
      
     }
    }
   }
  },
  {
   "cell_type":"markdown",
   "source":[
    "## Zadanie 6\n",
    "\n",
    "Napisz funkcję `f_z36` przyjmującą jako argumenty dwa słowa - Nazwisko oraz Imię autora (takie jak w nazwie tego pliku NrAlbumu_Nazwisko_Imie_PoprzedniaNazwa)) i zwracającą listę, której elementami jest suma odpowiednich elementów przesłanych słów  (c[0]=a[0]+b[0], c[1]=a[1]+b[1] itd.). Jeśli listy nie są równej długości, wyjściowa lista powinna mieć tyle elementów, ile ma krótsza z list. Wykorzystaj mechanizm `list comprehensions`."
   ],
   "attachments":{
    
   },
   "metadata":{
    "datalore":{
     "node_id":"MZDi0Hq9EILiiD7HZF4eaK",
     "type":"MD",
     "hide_input_from_viewers":false,
     "hide_output_from_viewers":false,
     "report_properties":{
      
     }
    }
   }
  },
  {
   "cell_type":"code",
   "source":[
    "#przyklad dla Jana Kowalskiego:\n",
    "a = 'Adamczyk'\n",
    "b = 'Maciej'\n",
    "\n",
    "# YOUR CODE HERE\n",
    "def f_z36(n, i):\n",
    "    nlen = len(n)\n",
    "    ilen = len(i)\n",
    "    if nlen > ilen:\n",
    "        n = n[:ilen]\n",
    "    else:\n",
    "        i = i[:nlen]\n",
    "\n",
    "    c = [n[x] + i[x] for x in range(len(i))]\n",
    "\n",
    "    return c\n",
    "\n",
    "c = f_z36(a, b)\n",
    "print(c)"
   ],
   "execution_count":22,
   "outputs":[
    {
     "name":"stdout",
     "text":[
      "['AM', 'da', 'ac', 'mi', 'ce', 'zj']\n"
     ],
     "output_type":"stream"
    }
   ],
   "metadata":{
    "datalore":{
     "node_id":"1MokpHif7BZVaPamt6eHXQ",
     "type":"CODE",
     "hide_input_from_viewers":false,
     "hide_output_from_viewers":false,
     "report_properties":{
      
     }
    }
   }
  },
  {
   "cell_type":"markdown",
   "source":[
    "## Zadanie 7\n",
    "\n",
    "Napisz funkcję `f_z37` przyjmującą jako argumenty dwa słowa - Nazwisko oraz Imię autora (takie jak w nazwie NrAlbumu_Nazwisko_Imie_PoprzedniaNazwa)) i zwracającą listę, której elementami jest iloraz odpowiednich elementów przesłanych list (przekonwertowanych na liczby całkowite reprezentujące punkt kodowy w Unicode danego znaku przy pomocy funkcji ord()). Jeśli listy nie są równej długości, wyjściowa lista powinna mieć tyle elementów, ile ma krótsza z list. Wykorzystaj mechanizm `list comprehensions`. Pamiętaj, że nie można dzielić przez zero – jeśli dzielnik miałby być zerem, to pomiń element (wykorzystaj `if` w `list comprehensions`)."
   ],
   "attachments":{
    
   },
   "metadata":{
    "datalore":{
     "node_id":"0FzRitI1XrLuConlybA68L",
     "type":"MD",
     "hide_input_from_viewers":false,
     "hide_output_from_viewers":false,
     "report_properties":{
      
     }
    }
   }
  },
  {
   "cell_type":"code",
   "source":[
    "# YOUR CODE HERE\n",
    "def f_z37(n, i):\n",
    "    nlen = len(n)\n",
    "    ilen = len(i)\n",
    "    if nlen > ilen:\n",
    "        n = n[:ilen]\n",
    "    else:\n",
    "        i = i[:nlen]\n",
    "\n",
    "    c = [ord(n[x]) \/ ord(i[x]) for x in range(len(i))]\n",
    "\n",
    "    return c\n",
    "\n",
    "c = f_z37(a, b)\n",
    "print(c)"
   ],
   "execution_count":29,
   "outputs":[
    {
     "name":"stdout",
     "text":[
      "[0.8441558441558441, 1.0309278350515463, 0.9797979797979798, 1.0380952380952382, 0.9801980198019802, 1.150943396226415]\n"
     ],
     "output_type":"stream"
    }
   ],
   "metadata":{
    "datalore":{
     "node_id":"6o8sET45fkpthusqyAPNN6",
     "type":"CODE",
     "hide_input_from_viewers":false,
     "hide_output_from_viewers":false,
     "report_properties":{
      
     }
    }
   }
  },
  {
   "cell_type":"markdown",
   "source":[
    "## Zadanie 8\n",
    "\n",
    "Napisz funkcję `f_z38` przyjmującą jako argument listę `lista_z38`, wybierającą z niej trzy najmniejsze elementy w kolejności malejącej oraz dwa największe elementy również w kolejności malejącej (mogą wystąpić powtórzenia). Funkcja zwraca listę złożoną z tych elementów. Wykorzystaj metody\/funkcje `sort()`\/`sorted()` oraz `reverse()`\/`reversed()`.\n",
    "Przykład:\n",
    "\n",
    "```python\n",
    "#dane\n",
    "lista_z38 = [0, 1, -5, 8, 14, 9, 6]\n",
    "#wynik\n",
    "[1, 0, -5, 14, 9]\n",
    "```"
   ],
   "attachments":{
    
   },
   "metadata":{
    "datalore":{
     "node_id":"lcibEourb4PaawjLkLYR1u",
     "type":"MD",
     "hide_input_from_viewers":false,
     "hide_output_from_viewers":false,
     "report_properties":{
      
     }
    }
   }
  },
  {
   "cell_type":"code",
   "source":[
    "#lista_z38 - zawiera kolejne cyfry z NrAlbumu autora: np.:\n",
    "#lista_z38 = [4,2,5,6,7,2]          #dla 425672_Kowalski_Jan_JS_Lab_3\n",
    "lista_z38 = [1, 3, 8, 1, 6, 4]\n",
    "\n",
    "# YOUR CODE HERE\n",
    "def f_z38(z_list):\n",
    "    list_min = []\n",
    "    list_max = []\n",
    "    tmp = z_list.copy()\n",
    "    tmp.sort()\n",
    "    list_min = [tmp[i] for i in range(3)]\n",
    "    list_min.reverse()\n",
    "    list_max = [tmp[i] for i in range(-1, -3, -1)]\n",
    "    c = list_min + list_max\n",
    "\n",
    "    return c\n",
    "\n",
    "c = f_z38(lista_z38)\n",
    "print(c)"
   ],
   "execution_count":43,
   "outputs":[
    {
     "name":"stdout",
     "text":[
      "[3, 1, 1, 8, 6]\n"
     ],
     "output_type":"stream"
    }
   ],
   "metadata":{
    "datalore":{
     "node_id":"oQgrihWtGUwW650wPj8Sih",
     "type":"CODE",
     "hide_input_from_viewers":false,
     "hide_output_from_viewers":false,
     "report_properties":{
      
     }
    }
   }
  },
  {
   "cell_type":"markdown",
   "source":[
    "## Zadanie 9\n",
    "Napisz funkcję `f_z39` przyjmującą jako argument listę `lista_z39`. Funkcja usuwa z listy co trzeci element oraz wszystkie elementy o wartości mniejszej od 5. Wykorzystaj `del`.\n",
    "\n",
    "Przykład:\n",
    "\n",
    "```python\n",
    "#dane\n",
    "lista_z39 = [1, 2, 3, -4, 5, 6, 7, 8, 9, 10, -11, 12]\n",
    "#wynik\n",
    "[1, 2, 5, 7, 8, 10]\n",
    "```"
   ],
   "attachments":{
    
   },
   "metadata":{
    "datalore":{
     "node_id":"yRBeP3O3kEtwykWLPk3uls",
     "type":"MD",
     "hide_input_from_viewers":false,
     "hide_output_from_viewers":false,
     "report_properties":{
      
     }
    }
   }
  },
  {
   "cell_type":"code",
   "source":[
    "#lista_z39 - zawiera kolejne cyfry z NrAlbumu autora: np.:\n",
    "#lista_z39 = [4,2,5,6,7,2]          #dla 425672_Kowalski_Jan_JS_Lab_3\n",
    "lista_z39 = [1, 3, 8, 1, 6, 4]\n",
    "\n",
    "# YOUR CODE HERE\n",
    "def f_z39(z_list):\n",
    "    count = 0\n",
    "    deleted = 0\n",
    "    for i in range(len(z_list)):\n",
    "        i -= deleted\n",
    "        if count == 2:\n",
    "            del z_list[i]\n",
    "            deleted += 1\n",
    "            count = 0\n",
    "        elif z_list[i] < 5:\n",
    "            del z_list[i]\n",
    "            count += 1\n",
    "            deleted += 1\n",
    "        else:\n",
    "            count += 1\n",
    "\n",
    "f_z39(lista_z39)\n",
    "print(lista_z39)"
   ],
   "execution_count":2,
   "outputs":[
    {
     "name":"stdout",
     "text":[
      "[6]\n"
     ],
     "output_type":"stream"
    }
   ],
   "metadata":{
    "datalore":{
     "node_id":"nxz8BLxX49hupONMNF0Wxp",
     "type":"CODE",
     "hide_input_from_viewers":false,
     "hide_output_from_viewers":false,
     "report_properties":{
      
     }
    }
   }
  },
  {
   "cell_type":"markdown",
   "source":[
    "## Zadanie 10\n",
    "\n",
    "Napisz funkcję `f_z310`przyjmującą jako argument listę `lista_z310` oraz pewną liczbę całkowitą `odstęp`, wstawiającą `0` do listy co `odstęp` elementów.\n",
    "\n",
    "Przykład:\n",
    "\n",
    "```python\n",
    "#dane\n",
    "lista_z310 = [1, 2, 3, 4, 5, 6, 7, 8, 9, 10]\n",
    "#wynik dla f_z310(lista_z310,2)\n",
    "[1, 2, 0, 3, 4, 0, 5, 6, 0, 7, 8, 0, 9, 10, 0]\n",
    "#wynik dla f_z310(lista_z310,3)\n",
    "[1, 2, 3, 0, 4, 5, 6, 0, 7, 8, 9, 0, 10]\n",
    "```"
   ],
   "attachments":{
    
   },
   "metadata":{
    "datalore":{
     "node_id":"zlbacV5s7xrACrW8XQ8RNN",
     "type":"MD",
     "hide_input_from_viewers":false,
     "hide_output_from_viewers":false,
     "report_properties":{
      
     }
    }
   }
  },
  {
   "cell_type":"code",
   "source":[
    "#lista_z310 - zawiera kolejne cyfry z NrAlbumu autora: np.:\n",
    "lista_z310 = [1, 3, 8, 1, 6, 4]          #dla 425672_Kowalski_Jan_JS_Lab_3\n",
    "\n",
    "# YOUR CODE HERE\n",
    "def f_z310(z_list, odstep):\n",
    "    i = 0\n",
    "    added = 0\n",
    "    for z in range(len(z_list)):\n",
    "        z += added\n",
    "        if i == odstep:\n",
    "            temp = z_list[z]\n",
    "            z_list[z] = 0\n",
    "            leng = len(z_list)\n",
    "            z_list.append(z_list[leng - 1])\n",
    "            added += 1\n",
    "            for j in range(leng - 1, z, -1):\n",
    "                z_list[j + 1] = z_list[j]\n",
    "\n",
    "            z_list[z + 1] = temp\n",
    "            i = 1\n",
    "        else:\n",
    "            i += 1\n",
    "        \n",
    "\n",
    "f_z310(lista_z310, 2)\n",
    "print(lista_z310)"
   ],
   "execution_count":23,
   "outputs":[
    {
     "name":"stdout",
     "text":[
      "[1, 3, 0, 8, 1, 0, 6, 4]\n"
     ],
     "output_type":"stream"
    }
   ],
   "metadata":{
    "datalore":{
     "node_id":"nUySkrS7ucRc8FJ6mK91mT",
     "type":"CODE",
     "hide_input_from_viewers":false,
     "hide_output_from_viewers":false,
     "report_properties":{
      
     }
    }
   }
  },
  {
   "cell_type":"markdown",
   "source":[
    "## Zadanie 11\n",
    "\n",
    "Napisz funkcję `f_z311` przyjmującą jako argument liczbę `n` (gdzie `n` jest liczbą liter w Nazwisku autora). Funkcja zwraca tablicę dwuwymiarową o rozmiarze `n x n` wypełnioną na zmianę `1` i `0`, na kształt szachownicy (pierwszy element tablicy powinien mieć wartość `1`). Wykorzystaj mechanizm `list comprehensions`.\n",
    "Napisz również funkcję `print_f_z311(tab)` wypisującą tablicę `tab` w postaci tablicy dwuwymiarowej\n",
    "tak jak na poniższym przykladzie:\n",
    "\n",
    "Przykład:\n",
    "\n",
    "```python\n",
    "#dane\n",
    "tab = f_z311(3)\n",
    "print_f_z311(tab)\n",
    "#wynik\n",
    "[1, 0, 1]\n",
    "[0, 1, 0] \n",
    "[1, 0, 1]\n",
    "```\n"
   ],
   "attachments":{
    
   },
   "metadata":{
    "datalore":{
     "node_id":"a5Z0OpDbNqh42AqMsV815N",
     "type":"MD",
     "hide_input_from_viewers":false,
     "hide_output_from_viewers":false,
     "report_properties":{
      
     }
    }
   }
  },
  {
   "cell_type":"code",
   "source":[
    "# YOUR CODE HERE\n",
    "def f_z311(n):\n",
    "    tab = []\n",
    "    for i in range(n):\n",
    "        temp = []\n",
    "        last = False\n",
    "        if i > 0:\n",
    "            last = tab[i - 1][0]\n",
    "        for _ in range(n):\n",
    "            last = not last\n",
    "            temp.append(int(last))\n",
    "\n",
    "        tab.append(temp)\n",
    "\n",
    "    return tab\n",
    "\n",
    "def print_f_z311(tab):\n",
    "    for row in tab:\n",
    "        print(row)\n",
    "\n",
    "n = len('Adamczyk')\n",
    "tab = f_z311(n)\n",
    "print(tab)\n",
    "print_f_z311(tab)"
   ],
   "execution_count":2,
   "outputs":[
    {
     "name":"stdout",
     "text":[
      "[[1, 0, 1, 0, 1, 0, 1, 0], [0, 1, 0, 1, 0, 1, 0, 1], [1, 0, 1, 0, 1, 0, 1, 0], [0, 1, 0, 1, 0, 1, 0, 1], [1, 0, 1, 0, 1, 0, 1, 0], [0, 1, 0, 1, 0, 1, 0, 1], [1, 0, 1, 0, 1, 0, 1, 0], [0, 1, 0, 1, 0, 1, 0, 1]]\n",
      "[1, 0, 1, 0, 1, 0, 1, 0]\n",
      "[0, 1, 0, 1, 0, 1, 0, 1]\n",
      "[1, 0, 1, 0, 1, 0, 1, 0]\n",
      "[0, 1, 0, 1, 0, 1, 0, 1]\n",
      "[1, 0, 1, 0, 1, 0, 1, 0]\n",
      "[0, 1, 0, 1, 0, 1, 0, 1]\n",
      "[1, 0, 1, 0, 1, 0, 1, 0]\n",
      "[0, 1, 0, 1, 0, 1, 0, 1]\n"
     ],
     "output_type":"stream"
    }
   ],
   "metadata":{
    "datalore":{
     "node_id":"xdN085PguPQjkJ7fB2lXHv",
     "type":"CODE",
     "hide_input_from_viewers":false,
     "hide_output_from_viewers":false,
     "report_properties":{
      
     }
    }
   }
  },
  {
   "cell_type":"markdown",
   "source":[
    "## Zadanie 12\n",
    "\n",
    "Napisz dwie funkcje `fun1()` i `fun2()`. Funkcja `fun1()` zwraca liczbę samogłosek w tekście przesłanym jako argument. Funkcja `fun2()` przyjmuje jako argument listę wyrazów w tekście i zwraca listę utworzoną z tych elementów przesłanej listy, które zawierają parzystą liczbę samogłosek. Wykorzystaj mechanizm `list comprehensions` oraz operator `in` do sprawdzania czy litera jest samogłoską.\n",
    "\n",
    "```python\n",
    "if znak in \"aiueoyąę\":\n",
    "     print(\"samogłoska\")\n",
    "else:\n",
    "     print(\"nie samogłoska\")\n",
    "```\n",
    "\n",
    "Przykład:\n",
    "\n",
    "```python\n",
    "#dane\n",
    "fun2([\"Robot\", \"Mech\", \"Metal Gear\", \"Android\"])\n",
    "#wynik\n",
    "['Robot', 'Metal Gear']\n",
    "```"
   ],
   "attachments":{
    
   },
   "metadata":{
    "datalore":{
     "node_id":"wKFgDA6JOR7leMCrKTdKLR",
     "type":"MD",
     "hide_input_from_viewers":false,
     "hide_output_from_viewers":false,
     "report_properties":{
      
     }
    }
   }
  },
  {
   "cell_type":"code",
   "source":[
    "# YOUR CODE HERE\n",
    "def fun1(txt):\n",
    "    i = 0\n",
    "    txt = txt.lower()\n",
    "    for c in txt:\n",
    "        if c in 'aiueoyąę':\n",
    "            i += 1\n",
    "\n",
    "    return i\n",
    "\n",
    "def fun2(word_list):\n",
    "    return [word for word in word_list if fun1(word) % 2 == 0]\n",
    "\n",
    "fun2([\"Robot\", \"Mech\", \"Metal Gear\", \"Android\"])"
   ],
   "execution_count":13,
   "outputs":[
    {
     "data":{
      "text\/plain":[
       "['Robot', 'Metal Gear']"
      ]
     },
     "metadata":{
      
     },
     "output_type":"display_data"
    }
   ],
   "metadata":{
    "datalore":{
     "node_id":"BM5Q5NzJFWQnd6MPVEMrXP",
     "type":"CODE",
     "hide_input_from_viewers":false,
     "hide_output_from_viewers":false,
     "report_properties":{
      
     }
    }
   }
  },
  {
   "cell_type":"markdown",
   "source":[
    "## Zadanie 13\n",
    "\n",
    "Zdefiniuj funkcje przyjmującą jako argument formalny dowolną liczbę argumentów. Załóż, że argumenty wejściowe będą zawsze listami. Funkcja powinna zwrócić - bez modyfikacji list oryginalnych - listę zawierającą wszystkie, niepowtarzające się elementy wszystkich list.\n",
    "\n",
    "Przykład.\n",
    "\n",
    "```python\n",
    "#dane\n",
    "l1 = [0, 1, 2, 30, 4]\n",
    "l2 = [3, 4, 5, 6, 7]\n",
    "l3 = [7, 8, 9]\n",
    "l4 = [10, 11, 12, 5]\n",
    "#wynik\n",
    "[0, 1, 2, 3, 4, 5, 6, 7, 8, 9, 10, 11, 12, 30]\n",
    "```"
   ],
   "attachments":{
    
   },
   "metadata":{
    "datalore":{
     "node_id":"jrTQTYGjJuMSeUFt5OGMtP",
     "type":"MD",
     "hide_input_from_viewers":false,
     "hide_output_from_viewers":false,
     "report_properties":{
      
     }
    }
   }
  },
  {
   "cell_type":"code",
   "source":[
    "# YOUR CODE HERE\n",
    "def lists(*args):\n",
    "    tab = []\n",
    "    for arg in args:\n",
    "        tab += arg\n",
    "    \n",
    "    tab = list(set(tab))\n",
    "\n",
    "    return tab\n",
    "\n",
    "l1 = [0, 1, 2, 30, 4]\n",
    "l2 = [3, 4, 5, 6, 7]\n",
    "l3 = [7, 8, 9]\n",
    "l4 = [10, 11, 12, 5]\n",
    "tab = lists(l1, l2, l3, l4)"
   ],
   "execution_count":19,
   "outputs":[
    
   ],
   "metadata":{
    "datalore":{
     "node_id":"Tcn9Al2rPt3xxSL8nxwDLE",
     "type":"CODE",
     "hide_input_from_viewers":false,
     "hide_output_from_viewers":false,
     "report_properties":{
      
     }
    }
   }
  }
 ],
 "metadata":{
  "kernelspec":{
   "display_name":"Python",
   "language":"python",
   "name":"python"
  },
  "datalore":{
   "version":1,
   "computation_mode":"JUPYTER",
   "package_manager":"pip",
   "base_environment":"default",
   "packages":[
    
   ]
  }
 },
 "nbformat":4,
 "nbformat_minor":4
}
