{
 "cells": [
  {
   "cell_type": "markdown",
   "id": "3f7fe99c",
   "metadata": {},
   "source": [
    "## Języki symboliczne - rok akademicki 2023/2023\n",
    "\n",
    "Przed rozpoczęciem pracy z notatnikiem zmień jego nazwę zgodnie z wzorem: `NrAlbumu_Nazwisko_Imie_PoprzedniaNazwa`\n",
    "\n",
    "Przed wysłaniem notatnika upewnij się, że rozwiązałeś wszystkie zadania/ćwiczenia, w szczególności, że uzupełniłeś wszystkie pola `YOUR CODE HERE` oraz `YOUR ANSWER HERE`."
   ]
  },
  {
   "cell_type": "markdown",
   "id": "acf98f06",
   "metadata": {
    "deletable": false,
    "editable": false,
    "nbgrader": {
     "cell_type": "markdown",
     "checksum": "64125d2408315ec6596d89fe92ba20fd",
     "grade": false,
     "grade_id": "cell-ec984842bc599089",
     "locked": true,
     "schema_version": 3,
     "solution": false
    }
   },
   "source": [
    "# Temat: Listy. Odwzorowania listowe. Kopiowanie płytkie i głębokie.\n",
    "Zapoznaj się z treścią niniejszego notatnika czytając i wykonując go komórka po komórce. Wykonaj napotkane zadania/ćwiczenia.\n",
    "\n",
    "## Typ danych `list` (lista)\n",
    "\n",
    "- Listy należą do typów sekwencyjnych (jak napisy czy krotki).\n",
    "- Elementy listy oddzielone są przecinkami i umieszczone w nawiasach kwadratowych.\n",
    "- Listy są indeksowane liczbami całkowitymi zaczynającymi się od zera.\n",
    "- Dostęp do elementów listy odbywa się w analogicznie jak w napisach czy krotkach.\n",
    "- Elementy listy nie muszą być tego samego typu.\n",
    "- Listy można modyfikować - są strukturami mutowalnymi (w odróżnieniu od napisów i krotek - struktur niemutowalnch).\n",
    "\n",
    "Listy mogą być tworzone na kilka sposobów:\n",
    "- Za pomocą nawiasów kwadratowych, elementy oddzielone przecinkami: `[a]` lub `[a, b, c]`\n",
    "- lista pusta to: `[]`\n",
    "- poprzez wykorzystanie odwzorowań listowych: `[x for x in iterable]`\n",
    "- Za pomocą konstruktora typu (funkcji): `list()` lub `list(iterable)`"
   ]
  },
  {
   "cell_type": "code",
   "execution_count": 79,
   "id": "308e233c",
   "metadata": {},
   "outputs": [
    {
     "name": "stdout",
     "output_type": "stream",
     "text": [
      "[1, 2, '3']\n"
     ]
    },
    {
     "data": {
      "text/plain": [
       "list"
      ]
     },
     "execution_count": 79,
     "metadata": {},
     "output_type": "execute_result"
    }
   ],
   "source": [
    "l = [1, 2, '3']\n",
    "print(l)\n",
    "type(l)"
   ]
  },
  {
   "cell_type": "markdown",
   "id": "b2ea167c",
   "metadata": {
    "deletable": false,
    "editable": false,
    "nbgrader": {
     "cell_type": "markdown",
     "checksum": "f039cfc7ba8c27e76f070777ed9612aa",
     "grade": false,
     "grade_id": "cell-f1d6950901ddac86",
     "locked": true,
     "schema_version": 3,
     "solution": false
    }
   },
   "source": [
    "Długość listy."
   ]
  },
  {
   "cell_type": "code",
   "execution_count": 80,
   "id": "94ebde74",
   "metadata": {},
   "outputs": [
    {
     "data": {
      "text/plain": [
       "3"
      ]
     },
     "execution_count": 80,
     "metadata": {},
     "output_type": "execute_result"
    }
   ],
   "source": [
    "len(l)"
   ]
  },
  {
   "cell_type": "markdown",
   "id": "6f62b464",
   "metadata": {
    "deletable": false,
    "editable": false,
    "nbgrader": {
     "cell_type": "markdown",
     "checksum": "8171abf413cacb9b4c8a5cdcfdecfa20",
     "grade": false,
     "grade_id": "cell-7b156f8b055ac60a",
     "locked": true,
     "schema_version": 3,
     "solution": false
    }
   },
   "source": [
    "Tworzenie listy pustej."
   ]
  },
  {
   "cell_type": "code",
   "execution_count": 81,
   "id": "5c1834df",
   "metadata": {},
   "outputs": [
    {
     "name": "stdout",
     "output_type": "stream",
     "text": [
      "[] []\n"
     ]
    },
    {
     "data": {
      "text/plain": [
       "(list, list)"
      ]
     },
     "execution_count": 81,
     "metadata": {},
     "output_type": "execute_result"
    }
   ],
   "source": [
    "t1 = []\n",
    "# lub\n",
    "t2 = list()\n",
    "print(t1, t2)\n",
    "type(t1), type(t2)"
   ]
  },
  {
   "cell_type": "markdown",
   "id": "a9807bf4",
   "metadata": {
    "deletable": false,
    "editable": false,
    "nbgrader": {
     "cell_type": "markdown",
     "checksum": "f2084d04276bda25e9158b5597aa2117",
     "grade": false,
     "grade_id": "cell-c28c9ee2795fc779",
     "locked": true,
     "schema_version": 3,
     "solution": false
    }
   },
   "source": [
    "#### Dostęp do poszczególnych elementów, modyfikacja i wycinanie (slicing) list\n",
    "Z listy możemy wybierać pojedyńcze elementy lub fragment listy. Aby wybrać dowolny element z listy należy użyć metody wbudowanej  `__getitem__` lub prościej operatora `[]`.\n",
    "\n",
    "Podanie indeksu większego niż liczba elementów kończy się wyrzuceniem błędu. Możemy numerować pozycje od końca, wstawiając liczby ujemne. \n",
    "\n",
    "Aby wybrać fragment listy należy użyć konstrukcji `[s:e:k]`, gdzie `s` to pozycja pierwszego elementu który chcemy wybrać, `e` to pozycja ostatniego elementu (którego nie wchodzi już w skład wybieranej sekwencji), `k` to krok z jakim wybieramy elementy."
   ]
  },
  {
   "cell_type": "code",
   "execution_count": 82,
   "id": "2ca04ba3",
   "metadata": {},
   "outputs": [
    {
     "name": "stdout",
     "output_type": "stream",
     "text": [
      "1\n",
      "3\n"
     ]
    }
   ],
   "source": [
    "l = [1, 2, '3']\n",
    "print(l.__getitem__(0))   # numeracja od 0\n",
    "print(l[2])"
   ]
  },
  {
   "cell_type": "code",
   "execution_count": 5,
   "id": "99287039",
   "metadata": {},
   "outputs": [
    {
     "data": {
      "text/plain": [
       "'3'"
      ]
     },
     "execution_count": 5,
     "metadata": {},
     "output_type": "execute_result"
    }
   ],
   "source": [
    "l[-1]   # odczyt elementu o indeksie ujemnym - liczenie wstecz od końca listy"
   ]
  },
  {
   "cell_type": "code",
   "execution_count": 83,
   "id": "12fd0b70",
   "metadata": {},
   "outputs": [
    {
     "ename": "IndexError",
     "evalue": "list index out of range",
     "output_type": "error",
     "traceback": [
      "\u001b[1;31m---------------------------------------------------------------------------\u001b[0m",
      "\u001b[1;31mIndexError\u001b[0m                                Traceback (most recent call last)",
      "Cell \u001b[1;32mIn [83], line 1\u001b[0m\n\u001b[1;32m----> 1\u001b[0m l[\u001b[39m3\u001b[39;49m]\n",
      "\u001b[1;31mIndexError\u001b[0m: list index out of range"
     ]
    }
   ],
   "source": [
    "l[3]   # odczyt elementu który nie istnieje - błąd!"
   ]
  },
  {
   "cell_type": "markdown",
   "id": "d2f7caa3",
   "metadata": {
    "deletable": false,
    "editable": false,
    "nbgrader": {
     "cell_type": "markdown",
     "checksum": "df542f2a0ffc093006cf463786409a9a",
     "grade": false,
     "grade_id": "cell-04a7bda6ca69e4a8",
     "locked": true,
     "schema_version": 3,
     "solution": false
    }
   },
   "source": [
    "Slicing (wycinanie), analogiczne jak w napisach."
   ]
  },
  {
   "cell_type": "code",
   "execution_count": 7,
   "id": "df28ca9a",
   "metadata": {},
   "outputs": [
    {
     "name": "stdout",
     "output_type": "stream",
     "text": [
      "1) [1, 2, 3, 4, 5, 6]\n",
      "2) [2, 3, 4]\n",
      "3) [1, 2, 3, 4]\n",
      "4) [4, 5, 6]\n",
      "5) [3, 5]\n",
      "6) [1, 4, 5, 6]\n"
     ]
    }
   ],
   "source": [
    "a = [1, 2, 3, 4, 5, 6]\n",
    "print('1)', a)\n",
    "print('2)', a[1:4])\n",
    "print('3)', a[:4])\n",
    "print('4)', a[3:])\n",
    "print('5)', a[2:5:2])\n",
    "\n",
    "a[1:3] = []   # zmiana długości listy\n",
    "print('6)', a)"
   ]
  },
  {
   "cell_type": "markdown",
   "id": "094c4d90",
   "metadata": {
    "deletable": false,
    "editable": false,
    "nbgrader": {
     "cell_type": "markdown",
     "checksum": "2f27e4072363cec984007c3948ac892d",
     "grade": false,
     "grade_id": "cell-e8ad3ee4a6b1990e",
     "locked": true,
     "schema_version": 3,
     "solution": false
    }
   },
   "source": [
    "Elementy listy można modyfikować."
   ]
  },
  {
   "cell_type": "code",
   "execution_count": 8,
   "id": "9c36011c",
   "metadata": {},
   "outputs": [
    {
     "name": "stdout",
     "output_type": "stream",
     "text": [
      "[1, 2, '3']\n",
      "1\n",
      "['nowe_0', 2, '3']\n"
     ]
    }
   ],
   "source": [
    "print(l)\n",
    "print(l[0])\n",
    "l[0] = 'nowe_0'\n",
    "print(l)"
   ]
  },
  {
   "cell_type": "markdown",
   "id": "e523b42a",
   "metadata": {
    "deletable": false,
    "editable": false,
    "nbgrader": {
     "cell_type": "markdown",
     "checksum": "cfe86f8746490c41409b9b2ef8347ec7",
     "grade": false,
     "grade_id": "cell-c6ff42b73cb10f30",
     "locked": true,
     "schema_version": 3,
     "solution": false
    }
   },
   "source": [
    "#### Listy zagnieżdżone.\n",
    "Lista wewnątrz innej listy. Dostęp do elementów listy zagnieżdżonej `[][]`."
   ]
  },
  {
   "cell_type": "code",
   "execution_count": 9,
   "id": "457e5a5e",
   "metadata": {},
   "outputs": [
    {
     "name": "stdout",
     "output_type": "stream",
     "text": [
      "[1, 2, 3, ['a', 'b', 'c']]\n",
      "b\n"
     ]
    }
   ],
   "source": [
    "l1 = [1, 2, 3, ['a','b','c']]\n",
    "print(l1)\n",
    "el = l1[3][1]   # dostęp do elementu o indeksie 1 w liście zagnieżdżonej\n",
    "print(el)"
   ]
  },
  {
   "cell_type": "markdown",
   "id": "36728112",
   "metadata": {
    "deletable": false,
    "editable": false,
    "nbgrader": {
     "cell_type": "markdown",
     "checksum": "3dc7148f9463233f51ee973f4f2c791d",
     "grade": false,
     "grade_id": "cell-dbf6e783298d09b1",
     "locked": true,
     "schema_version": 3,
     "solution": false
    }
   },
   "source": [
    "#### Przeglądanie elementów listy.\n",
    "Indeksowanie podczas przeglądania. Funkcja `enumerate`."
   ]
  },
  {
   "cell_type": "code",
   "execution_count": 10,
   "id": "04568d0f",
   "metadata": {},
   "outputs": [
    {
     "name": "stdout",
     "output_type": "stream",
     "text": [
      "1\n",
      "2\n",
      "3\n",
      "['a', 'b', 'c']\n"
     ]
    }
   ],
   "source": [
    "for i in l1:\n",
    "    print(i)"
   ]
  },
  {
   "cell_type": "code",
   "execution_count": 11,
   "id": "1c5887c6",
   "metadata": {},
   "outputs": [
    {
     "name": "stdout",
     "output_type": "stream",
     "text": [
      "0 1\n",
      "1 2\n",
      "2 3\n",
      "3 ['a', 'b', 'c']\n"
     ]
    }
   ],
   "source": [
    "for i in range(len(l1)):\n",
    "    print(i, l1[i])"
   ]
  },
  {
   "cell_type": "code",
   "execution_count": 12,
   "id": "fa825c74",
   "metadata": {},
   "outputs": [
    {
     "name": "stdout",
     "output_type": "stream",
     "text": [
      "0 1\n",
      "1 2\n",
      "2 3\n",
      "3 ['a', 'b', 'c']\n"
     ]
    }
   ],
   "source": [
    "for index, element in enumerate(l1):  # patrz notebook z lab_1.\n",
    "    print(index, element)"
   ]
  },
  {
   "cell_type": "markdown",
   "id": "917a7b7c",
   "metadata": {
    "deletable": false,
    "editable": false,
    "nbgrader": {
     "cell_type": "markdown",
     "checksum": "e5fe9b0372d96bcea5eb6f7d7ab58319",
     "grade": false,
     "grade_id": "cell-4f42bd7616315992",
     "locked": true,
     "schema_version": 3,
     "solution": false
    }
   },
   "source": [
    "#### Operacje na listach: `+`, `*`."
   ]
  },
  {
   "cell_type": "code",
   "execution_count": 13,
   "id": "08e33d9f",
   "metadata": {},
   "outputs": [
    {
     "name": "stdout",
     "output_type": "stream",
     "text": [
      "[1, 2, 3, 'a', 'b', 'c']\n",
      "[1, 2, 3, 1, 2, 3, 1, 2, 3]\n"
     ]
    }
   ],
   "source": [
    "# listy tak jak napisy można dodawać (łączyć) i mnożyć przez liczbę (powielać)\n",
    "l1 = [1,2,3]\n",
    "l2 = ['a','b','c']\n",
    "print(l1+l2)\n",
    "print(l1*3)"
   ]
  },
  {
   "cell_type": "markdown",
   "id": "e7dc73e1",
   "metadata": {
    "deletable": false,
    "editable": false,
    "nbgrader": {
     "cell_type": "markdown",
     "checksum": "2dd60b995a3291522bfae07059644d37",
     "grade": false,
     "grade_id": "cell-6838afd0889ee632",
     "locked": true,
     "schema_version": 3,
     "solution": false
    }
   },
   "source": [
    "#### Metody obiektu list.\n",
    "Metody dla list (sekwencji):\n",
    "https://docs.python.org/3/library/stdtypes.html#typesseq-mutable.\n",
    "https://docs.python.org/3/tutorial/datastructures.html\n",
    "\n",
    "Wybrane metody do użycia:\n",
    "- `append(x)` - Dodaje na koniec listy element x. Zwieksza rozmiar listy o 1.\n",
    "- `extend(l)` - Rozszerza liste o elementy listy `l`. Zwieksza rozmiar listy o `len(l)`.\n",
    "- `insert(i, x)` - Wstawia element x na pozycji i. Zwieksza rozmiar listy o 1. Zmienia indeksy poszczególnych elementów.\n",
    "- `remove(x)` - Usuwa pierwszy napotkany element listy, którego wartość jest równa x. Zmniejsza rozmiar listy o 1.\n",
    "- `pop(i)` - Usuwa element o podanym indeksie i i go zwraca. Argument i jest argumentem domyślnym, jesli nie zostanie podany przyjmuje indeks ostatniego elementu listy. Zmniejsza rozmiar o 1.\n",
    "- `index(x)` - Zwraca indeks pierwszego elementu listy, którego wartość jest równa x. Jeśli w liście nie ma takiego elementu, wyrzucany jest błąd.\n",
    "- `count(x)` - Zwraca liczbę elementów listy, których wartość jest równa x.\n",
    "- `sort(*, key=None, reverse=False)` - Sortuje liste.\n",
    "- `reverse()` - Odwraca elementy listy.\n",
    "- `del` - Usuwa elementy lub fragmenty listy (`del s[i:j:k]`) (`del` może też być użyte do usuwania zmiennych)\n",
    "- `clear()`  - usuwa całą zawartość listy.\n",
    "\n",
    "__Uwaga!__ Wiekszość metod dla list modyfikuje argument(listę) i zwraca `None`."
   ]
  },
  {
   "cell_type": "code",
   "execution_count": 14,
   "id": "20d9a457",
   "metadata": {},
   "outputs": [
    {
     "name": "stdout",
     "output_type": "stream",
     "text": [
      "[1, 2, 3, 4, 5, 6]\n",
      "[1, 2, 3, 4, 5, 6, 7]\n",
      "[1, 2, 3, 4, 5, 6, 7, 8, 9, 10]\n",
      "[1, 111, 2, 3, 4, 5, 6, 7, 8, 9, 10]\n",
      "[1, 111, 3, 4, 5, 6, 7, 8, 9, 10]\n",
      "[1, 3, 4, 5, 6, 7, 8, 9, 10]; 111\n",
      "[1, 5, 6, 7, 8, 9, 10]\n",
      "[]\n"
     ]
    }
   ],
   "source": [
    "s = [1, 2, 3, 4, 5, 6]\n",
    "t = [8, 9, 10]\n",
    "print(s)\n",
    "\n",
    "s.append(7)  # dodanie na koniec\n",
    "print(s)\n",
    "s.extend(t)  # rozszerza listę o listę t\n",
    "print(s)\n",
    "s.insert(1, 111)  # wstawia na pozycji 1 liczbę 111\n",
    "print(s)\n",
    "s.remove(2)  # usuwa pierwszą napotkaną 2\n",
    "print(s)\n",
    "a = s.pop(1)  # usuwa element z pozycji 1 i go zwraca\n",
    "print(s, a,sep = '; ')\n",
    "del s[1:3]  # usuwa fragment listy\n",
    "print(s)\n",
    "s.clear()  # usuwa wszystkie elementy listy\n",
    "print(s)"
   ]
  },
  {
   "cell_type": "code",
   "execution_count": 15,
   "id": "cc3c8992",
   "metadata": {},
   "outputs": [
    {
     "name": "stdout",
     "output_type": "stream",
     "text": [
      "[1, 2, 3, 4, 3, 2]\n",
      "3\n",
      "2\n",
      "[1, 2, 2, 3, 3, 4]\n",
      "[4, 3, 3, 2, 2, 1]\n"
     ]
    }
   ],
   "source": [
    "s = [1, 2, 3, 4, 3, 2]\n",
    "print(s)\n",
    "\n",
    "print(s.index(4))  # indeks pierwszego elementu o wartości 4\n",
    "print(s.count(3))  # liczba wszystkich elementów o wartości 3\n",
    "s.sort()  # sortowanie\n",
    "print(s)\n",
    "s.reverse() # odwracanie\n",
    "print(s)"
   ]
  },
  {
   "cell_type": "code",
   "execution_count": 16,
   "id": "d886a873",
   "metadata": {},
   "outputs": [
    {
     "name": "stdout",
     "output_type": "stream",
     "text": [
      "[1, 2, 3, 4, 3, 2]\n",
      "[4, 3, 3, 2, 2, 1]\n",
      "['A', 'M', 'R', 'b', 'c', 'z']\n",
      "['A', 'b', 'c', 'M', 'R', 'z']\n",
      "['z', 'R', 'M', 'c', 'b', 'A']\n"
     ]
    }
   ],
   "source": [
    "s = [1, 2, 3, 4, 3, 2]\n",
    "print(s)\n",
    "s.sort(reverse = True)  # sortowanie\n",
    "print(s)\n",
    "s = ['c','A','b','M','z','R']\n",
    "s.sort()\n",
    "print(s)\n",
    "s.sort(key = str.lower)\n",
    "print(s)\n",
    "s = ['c','A','b','M','z','R']\n",
    "s.sort(key = str.lower, reverse = True)\n",
    "print(s)"
   ]
  },
  {
   "cell_type": "markdown",
   "id": "76a9fd19",
   "metadata": {
    "deletable": false,
    "editable": false,
    "nbgrader": {
     "cell_type": "markdown",
     "checksum": "4037d6cc1b342344069beb9a634dd586",
     "grade": false,
     "grade_id": "cell-04351e5b0acc8f0d",
     "locked": true,
     "schema_version": 3,
     "solution": false,
     "task": false
    }
   },
   "source": [
    "Metoda wbudowana `sorted(iterable, key=None, reverse=False)` zwraca nową, posortowaną listę."
   ]
  },
  {
   "cell_type": "code",
   "execution_count": 17,
   "id": "6a5f8a66",
   "metadata": {},
   "outputs": [
    {
     "name": "stdout",
     "output_type": "stream",
     "text": [
      "['c', 'A', 'b', 'M', 'z', 'R']\n",
      "['A', 'b', 'c', 'M', 'R', 'z']\n",
      "['y', 't', 'r', 'o', 'n', 'm', 'k', 'i', 'f', 'a', 'a']\n"
     ]
    }
   ],
   "source": [
    "s = ['c','A','b','M','z','R']\n",
    "print(s)\n",
    "s1 = sorted(s,key = str.lower, reverse = False)\n",
    "print(s1)\n",
    "tekst = 'informatyka'\n",
    "s1 = sorted(tekst,key = str.lower, reverse = True)\n",
    "print(s1)"
   ]
  },
  {
   "cell_type": "markdown",
   "id": "b83ce1a3",
   "metadata": {
    "deletable": false,
    "editable": false,
    "nbgrader": {
     "cell_type": "markdown",
     "checksum": "5ca99eb7c2161c6ee928dc3e8c72cf2f",
     "grade": false,
     "grade_id": "cell-962f37b812bcd4d5",
     "locked": true,
     "schema_version": 3,
     "solution": false
    }
   },
   "source": [
    "### Ćwiczenie 1\n",
    "Zaimplementuj algorytm LIFO używając listy jako stosu. Po każdym dodaniu lub zdjęciu elementu wypisz zawartość stosu.\n",
    "\n",
    "Stos to liniowa struktura danych, w której dane dodawane sa tylko na szczyt stosu i tylko ze szczytu stosu są pobierane. Jest to bufor typu LIFO (ang. Last-In-First-Out) – ostatnie weszło, pierwsze wyszło."
   ]
  },
  {
   "cell_type": "code",
   "execution_count": 20,
   "id": "59146fc2",
   "metadata": {
    "deletable": false,
    "nbgrader": {
     "cell_type": "code",
     "checksum": "ea1cbd44cf52dafba0ebcf55e7892a7f",
     "grade": false,
     "grade_id": "cell-69afc2493bbfff96",
     "locked": false,
     "schema_version": 3,
     "solution": true
    }
   },
   "outputs": [
    {
     "name": "stdout",
     "output_type": "stream",
     "text": [
      "[1]\n",
      "[1, 2]\n",
      "[1, 2, 1]\n",
      "[1]\n"
     ]
    }
   ],
   "source": [
    "stos = []\n",
    "\n",
    "# YOUR CODE HERE\n",
    "def add(element):\n",
    "  stos.append(element)\n",
    "\n",
    "def take():\n",
    "  return stos.pop()\n",
    "\n",
    "add(1)\n",
    "print(stos)\n",
    "\n",
    "add(2)\n",
    "print(stos)\n",
    "\n",
    "add(1)\n",
    "print(stos)\n",
    "\n",
    "take()\n",
    "take()\n",
    "print(stos)"
   ]
  },
  {
   "cell_type": "markdown",
   "id": "1d897465",
   "metadata": {
    "deletable": false,
    "editable": false,
    "nbgrader": {
     "cell_type": "markdown",
     "checksum": "c47f03d20c04b8ed580920117d9f0532",
     "grade": false,
     "grade_id": "cell-7d308dce3e679aac",
     "locked": true,
     "schema_version": 3,
     "solution": false
    }
   },
   "source": [
    "#### Tworzenie list z ciągu znaków (łańcuchów), słów  i na odwrót.\n",
    "Funkcje `list()`, `split()`, `join()`. Metoda `join()` jest odwrotnością metody `split()`."
   ]
  },
  {
   "cell_type": "code",
   "execution_count": 21,
   "id": "434acae2",
   "metadata": {},
   "outputs": [
    {
     "name": "stdout",
     "output_type": "stream",
     "text": [
      "['i', 'n', 'f', 'o', 'r', 'm', 'a', 't', 'y', 'k', 'a']\n"
     ]
    }
   ],
   "source": [
    "s = 'informatyka'\n",
    "t = list(s)  # tworzenie listy z łańcucha znaków\n",
    "print(t)"
   ]
  },
  {
   "cell_type": "code",
   "execution_count": 22,
   "id": "815e318f",
   "metadata": {},
   "outputs": [
    {
     "name": "stdout",
     "output_type": "stream",
     "text": [
      "['informatyka', 'jest', 'super!']\n"
     ]
    }
   ],
   "source": [
    "s = 'informatyka jest super!'\n",
    "t = s.split()  # tworzenie listy ze słów\n",
    "print(t)"
   ]
  },
  {
   "cell_type": "code",
   "execution_count": 23,
   "id": "9ef304b8",
   "metadata": {},
   "outputs": [
    {
     "name": "stdout",
     "output_type": "stream",
     "text": [
      "['informatyka', 'jest', 'super!']\n",
      "<class 'list'>\n",
      "informatyka jest super!\n",
      "<class 'str'>\n"
     ]
    }
   ],
   "source": [
    "print(t)\n",
    "print(type(t))\n",
    "\n",
    "separator = ' '\n",
    "tekst = separator.join(t) # łączy elementy listy wstawiając między nie separator\n",
    "\n",
    "print(tekst)\n",
    "print(type(tekst))"
   ]
  },
  {
   "cell_type": "markdown",
   "id": "794b7edb",
   "metadata": {
    "deletable": false,
    "editable": false,
    "nbgrader": {
     "cell_type": "markdown",
     "checksum": "0d415db079cb9e3e193cc78ccf58457e",
     "grade": false,
     "grade_id": "cell-3b306c60349c4990",
     "locked": true,
     "schema_version": 3,
     "solution": false
    }
   },
   "source": [
    "## Odwzorowania listowe (list comprehension), czyli uproszczone tworzenie list.\n",
    "\n",
    "Klasyczne tworzenie listy."
   ]
  },
  {
   "cell_type": "code",
   "execution_count": 24,
   "id": "0546a360",
   "metadata": {},
   "outputs": [
    {
     "name": "stdout",
     "output_type": "stream",
     "text": [
      "[1, 4, 9, 16, 25, 36, 49, 64, 81, 100]\n"
     ]
    }
   ],
   "source": [
    "tab = []  # utworzenie pustego obiektu typu list\n",
    "for i in range(1,11):  # liczby od 1 do 10\n",
    "    tab.append(i**2)   # lista zawierająca kwadraty liczb\n",
    "print(tab)"
   ]
  },
  {
   "cell_type": "markdown",
   "id": "7d5ee818",
   "metadata": {
    "deletable": false,
    "editable": false,
    "nbgrader": {
     "cell_type": "markdown",
     "checksum": "8231f353e855ee6035194933aea98725",
     "grade": false,
     "grade_id": "cell-11ce128aec1826e4",
     "locked": true,
     "schema_version": 3,
     "solution": false
    }
   },
   "source": [
    "Używając odwzorowań listowych możemy to samo zapisać krócej."
   ]
  },
  {
   "cell_type": "code",
   "execution_count": 25,
   "id": "64c79071",
   "metadata": {},
   "outputs": [
    {
     "name": "stdout",
     "output_type": "stream",
     "text": [
      "[1, 4, 9, 16, 25, 36, 49, 64, 81, 100]\n"
     ]
    }
   ],
   "source": [
    "tab2 = [i**2 for i in range(1,11)]\n",
    "print(tab2)"
   ]
  },
  {
   "cell_type": "markdown",
   "id": "cd0fb83f",
   "metadata": {
    "deletable": false,
    "editable": false,
    "nbgrader": {
     "cell_type": "markdown",
     "checksum": "ca745c75a1f99c9db96c47bb09a55482",
     "grade": false,
     "grade_id": "cell-9d558cf8c2e9ad4f",
     "locked": true,
     "schema_version": 3,
     "solution": false
    }
   },
   "source": [
    "Obiektem po którym iterujemy może być dowolny obiekt iterowalny np. lista, zbiór, słownik itp. \n",
    "\n",
    "Możemy również generować w ten sposób listy wielowymiarowe."
   ]
  },
  {
   "cell_type": "code",
   "execution_count": 26,
   "id": "d12ae696",
   "metadata": {},
   "outputs": [
    {
     "name": "stdout",
     "output_type": "stream",
     "text": [
      "[[1, 'a'], [1, 'b'], [1, 'c'], [1, 'd'], [2, 'a'], [2, 'b'], [2, 'c'], [2, 'd'], [3, 'a'], [3, 'b'], [3, 'c'], [3, 'd'], [4, 'a'], [4, 'b'], [4, 'c'], [4, 'd']]\n"
     ]
    }
   ],
   "source": [
    "tab3 = [[i,j] for i in [1,2,3,4] for j in ['a','b','c','d']]\n",
    "print(tab3)"
   ]
  },
  {
   "cell_type": "code",
   "execution_count": 27,
   "id": "e86da372",
   "metadata": {},
   "outputs": [
    {
     "name": "stdout",
     "output_type": "stream",
     "text": [
      "[1, 1, 1, 1, 2, 2, 2, 2, 3, 3, 3, 3, 4, 4, 4, 4]\n"
     ]
    }
   ],
   "source": [
    "tab4 = [i for i in [1,2,3,4] for j in ['a','b','c','d']]\n",
    "print(tab4)"
   ]
  },
  {
   "cell_type": "code",
   "execution_count": 28,
   "id": "5c87c414",
   "metadata": {},
   "outputs": [
    {
     "name": "stdout",
     "output_type": "stream",
     "text": [
      "[[1, 2, 3, 4], [1, 2, 3, 4], [1, 2, 3, 4], [1, 2, 3, 4]]\n"
     ]
    }
   ],
   "source": [
    "tab5 = [[i for i in [1,2,3,4]] for j in ['a','b','c','d']]\n",
    "print(tab5)"
   ]
  },
  {
   "cell_type": "markdown",
   "id": "202cf062",
   "metadata": {
    "deletable": false,
    "editable": false,
    "nbgrader": {
     "cell_type": "markdown",
     "checksum": "3576a4146510aac5b2f8c2d44cc38e23",
     "grade": false,
     "grade_id": "cell-f73de08fd1d287db",
     "locked": true,
     "schema_version": 3,
     "solution": false
    }
   },
   "source": [
    "W konstrukcji odwzorowań listowych możemy używać również instrukcji warunkowych."
   ]
  },
  {
   "cell_type": "code",
   "execution_count": 29,
   "id": "975f4f1e",
   "metadata": {},
   "outputs": [
    {
     "name": "stdout",
     "output_type": "stream",
     "text": [
      "[1, 4, 9, 16, 25, 36, 49, 64, 81, 100]\n",
      "[9, 36, 81]\n"
     ]
    }
   ],
   "source": [
    "tab = [i**2 for i in range(1,11)]\n",
    "print(tab)\n",
    "\n",
    "tab2 = [x  for x in tab2 if x%3==0 ]  # tylko liczby podzielne przez 3 z listy tab\n",
    "print(tab2)"
   ]
  },
  {
   "cell_type": "code",
   "execution_count": 30,
   "id": "4488d2da",
   "metadata": {},
   "outputs": [
    {
     "name": "stdout",
     "output_type": "stream",
     "text": [
      "[0, 0, 9, 0, 0, 36, 0, 0, 81, 0]\n"
     ]
    }
   ],
   "source": [
    "tab3 = [x if x%3==0 else 0 for x in tab]  #liczby podzielne przez 3 zostaw bez zmian a pozostałe zastąp zerem\n",
    "print(tab3)"
   ]
  },
  {
   "cell_type": "code",
   "execution_count": 31,
   "id": "5812e14a",
   "metadata": {},
   "outputs": [
    {
     "name": "stdout",
     "output_type": "stream",
     "text": [
      "[(1, 3), (1, 4), (2, 3), (2, 1), (2, 4), (3, 1), (3, 4)]\n"
     ]
    }
   ],
   "source": [
    "# jeśli wyrażenie będące elementem listy (np.(x,y)) jest krotką należy ująć je w nawiasy\n",
    "lista = [(x,y) for x in [1,2,3] for y in [3,1,4] if x != y]\n",
    "print(lista)"
   ]
  },
  {
   "cell_type": "code",
   "execution_count": 32,
   "id": "8fcab701",
   "metadata": {},
   "outputs": [
    {
     "name": "stdout",
     "output_type": "stream",
     "text": [
      "[1, 2, 3, 4, 5, 6, 7, 8, 9]\n"
     ]
    }
   ],
   "source": [
    "# \"wypłaszczenie\" listy przy użyciu podwójnego for\n",
    "wektor = [[1,2,3],[4,5,6],[7,8,9]]\n",
    "lista1 = [i for x in wektor for i in x]\n",
    "print(lista1)"
   ]
  },
  {
   "cell_type": "markdown",
   "id": "2f287c2b",
   "metadata": {
    "deletable": false,
    "editable": false,
    "nbgrader": {
     "cell_type": "markdown",
     "checksum": "16df2b6d0b12f1869fd11aa4bd55b072",
     "grade": false,
     "grade_id": "cell-6d2f7453d8188d60",
     "locked": true,
     "schema_version": 3,
     "solution": false
    }
   },
   "source": [
    "### Ćwiczenie 2\n",
    "Napisz funkcję `f_c32` która dla poszczególnych elementów zadanej jako parametr listy wejściowej obliczy pierwiastek z sumy kwadratów jej składowych i zwróci obliczenia w postaci nowej listy nie zmieniając listy wejściowej."
   ]
  },
  {
   "cell_type": "code",
   "execution_count": 33,
   "id": "650e2427",
   "metadata": {
    "deletable": false,
    "nbgrader": {
     "cell_type": "code",
     "checksum": "d1675d61a38e65bf6695a35fdddf8e5e",
     "grade": false,
     "grade_id": "cell-9cf8dcdd2ee15d5f",
     "locked": false,
     "schema_version": 3,
     "solution": true
    }
   },
   "outputs": [
    {
     "data": {
      "text/plain": [
       "[2.23606797749979, 5.0, 7.810249675906654, 3.1622776601683795]"
      ]
     },
     "execution_count": 33,
     "metadata": {},
     "output_type": "execute_result"
    }
   ],
   "source": [
    "import math\n",
    "d1 = 1\n",
    "d2 = 3\n",
    "lista_c_32 = [(1,2), (3,4), (5,6), (d1,d2)]\n",
    "\n",
    "# YOUR CODE HERE\n",
    "def func_c32(lista):\n",
    "  result = []  \n",
    "    \n",
    "  for parameters in lista:\n",
    "    if (len(parameters) == 2):\n",
    "      value = math.sqrt(parameters[0] ** 2 + parameters[1] ** 2)\n",
    "      result.append(value)\n",
    "    else:\n",
    "      result.append('Zle parametry')\n",
    "    \n",
    "  return result                \n",
    "\n",
    "func_c32(lista_c_32)"
   ]
  },
  {
   "cell_type": "markdown",
   "id": "a8902f98",
   "metadata": {
    "deletable": false,
    "editable": false,
    "nbgrader": {
     "cell_type": "markdown",
     "checksum": "92dce764be58de4a0df3f01c01a64e27",
     "grade": false,
     "grade_id": "cell-dfbacb2eee0a38a9",
     "locked": true,
     "schema_version": 3,
     "solution": false
    }
   },
   "source": [
    "## Kopiowanie list (dowolnych kontenerów obiektów).\n",
    "\n",
    "Do kopiowania list (klas, słowników) używamy metod `copy` i `deepcopy` z modułu `copy`.\n",
    "\n",
    "Mamy dwa rodzaje kopiowania:\n",
    "\n",
    "- płytkie - `copy.copy(obiekt)`, tworzy nowy obiekt, ale umieszcza w nim odniesienia (referencje) do elementów zawartych w oryginalnym obiekcie;\n",
    "\n",
    "- głębokie - `copy.deepcopy(obiekt)` najpierw tworzy nowy obiekt, a nastepnie rekurencyjnie kopiuje do niego całą zawartość oryginału;\n",
    "\n",
    "Dla list kopiowanie płytkie można zrealizować przy pomocy metody `copy()` typu `list` lub przez mechanizm wycinania `[:]`."
   ]
  },
  {
   "cell_type": "code",
   "execution_count": 34,
   "id": "f30e4910",
   "metadata": {},
   "outputs": [
    {
     "name": "stdout",
     "output_type": "stream",
     "text": [
      "[1, 2, 3, 4] [1, 2, 3, 4]\n",
      "2056051443712 2056051443712\n"
     ]
    }
   ],
   "source": [
    "s = [1, 2, 3, 4]\n",
    "t = s             # operator przypisania nie kopiuje obiektów! - tworzy nową zmienną, która jest referencją do org. obiektu\n",
    "print(s, t)\n",
    "print (id(s), id(t))"
   ]
  },
  {
   "cell_type": "code",
   "execution_count": 35,
   "id": "b8f979d5",
   "metadata": {},
   "outputs": [
    {
     "name": "stdout",
     "output_type": "stream",
     "text": [
      "[1, 121, 3, 4] [1, 121, 3, 4]\n"
     ]
    }
   ],
   "source": [
    "s[1] = 121  # zmieniamy też w t\n",
    "print(s, t)"
   ]
  },
  {
   "cell_type": "markdown",
   "id": "2e0b6af3",
   "metadata": {
    "deletable": false,
    "editable": false,
    "nbgrader": {
     "cell_type": "markdown",
     "checksum": "c674d70ba60137ebc602c19ca099875e",
     "grade": false,
     "grade_id": "cell-1f7d7f48c30de806",
     "locked": true,
     "schema_version": 3,
     "solution": false
    }
   },
   "source": [
    "__Uwaga:__ Aby skopiować listy tworząc nowy obiekt (kopię płytką) należy użyć metody `copy()` typu `list` lub użyć operatora `[:]`."
   ]
  },
  {
   "cell_type": "code",
   "execution_count": 36,
   "id": "f0e5baa9",
   "metadata": {},
   "outputs": [
    {
     "name": "stdout",
     "output_type": "stream",
     "text": [
      "[1, 2, 3, 4] [1, 2, 3, 4]\n",
      "2056051442624 2056051347456\n",
      "[1, 2, 3, 4] [1, 2, 122, 4]\n"
     ]
    }
   ],
   "source": [
    "s = [1, 2, 3, 4]\n",
    "p = s.copy()\n",
    "print(s, p)\n",
    "print (id(s), id(p))\n",
    "p[2] = 122\n",
    "print(s, p)"
   ]
  },
  {
   "cell_type": "code",
   "execution_count": 37,
   "id": "3b1d2f4e",
   "metadata": {},
   "outputs": [
    {
     "name": "stdout",
     "output_type": "stream",
     "text": [
      "[1, 2, 999, 4] [1, 2, 3, 4]\n",
      "2056051379712 2056051325952\n"
     ]
    }
   ],
   "source": [
    "# zamiast copy() można użyć [:]\n",
    "s = [1, 2, 3, 4]\n",
    "q = s[:]\n",
    "s[2]=999\n",
    "print(s, q)\n",
    "print (id(s), id(q))"
   ]
  },
  {
   "cell_type": "markdown",
   "id": "89b9bee5",
   "metadata": {
    "deletable": false,
    "editable": false,
    "nbgrader": {
     "cell_type": "markdown",
     "checksum": "c1ca5d49406c034bf14e4c63420431bd",
     "grade": false,
     "grade_id": "cell-a392f86602d16ca8",
     "locked": true,
     "schema_version": 3,
     "solution": false,
     "task": false
    }
   },
   "source": [
    "Wykorzystanie modułu `copy` do kopiowania płytkiego listy."
   ]
  },
  {
   "cell_type": "code",
   "execution_count": 38,
   "id": "a84410a3",
   "metadata": {},
   "outputs": [
    {
     "name": "stdout",
     "output_type": "stream",
     "text": [
      "[1, 2, 3, 4] [1, 2, 3, 4]\n",
      "2056019309888 2056051443648\n"
     ]
    }
   ],
   "source": [
    "import copy\n",
    "s = [1, 2, 3, 4]\n",
    "r = copy.copy(s) # kopia płytka\n",
    "print(s, r)\n",
    "print (id(s), id(r))"
   ]
  },
  {
   "cell_type": "markdown",
   "id": "b2aa05db",
   "metadata": {
    "deletable": false,
    "editable": false,
    "nbgrader": {
     "cell_type": "markdown",
     "checksum": "214750a80d45833d901a65d5e0f3eaa4",
     "grade": false,
     "grade_id": "cell-fdaa8dcacfb1e750",
     "locked": true,
     "schema_version": 3,
     "solution": false,
     "task": false
    }
   },
   "source": [
    "#### Kopia płytka (shallow copy) vs kopia głęboka (deep copy)\n",
    "\n",
    "Kopiowanie głębokie zabezpiecza nas przed zmianami na oryginalnym obiekcie w odróżnieniu od kopiowania płytkiego."
   ]
  },
  {
   "cell_type": "code",
   "execution_count": 39,
   "id": "4e8224ca",
   "metadata": {},
   "outputs": [
    {
     "name": "stdout",
     "output_type": "stream",
     "text": [
      "[1, 2, [31, 32], 4]\n",
      "[1, 2, [55, 32], 4]\n"
     ]
    }
   ],
   "source": [
    "import copy                      # import modułu\n",
    "lista1 = [1, 2, [31, 32], 4]\n",
    "lista_p = copy.copy(lista1)      # kopiowanie płytkie\n",
    "print(lista1)                    # elementy oryginalnej listy\n",
    "lista_p[2][0] = 55               # zmiana wartości elementu w nowej liście\n",
    "print(lista1)                    # elementy oryginalnej listy - zmiana !!!"
   ]
  },
  {
   "cell_type": "code",
   "execution_count": 40,
   "id": "c245367e",
   "metadata": {},
   "outputs": [
    {
     "name": "stdout",
     "output_type": "stream",
     "text": [
      "[1, 2, [31, 32], 4]\n",
      "[1, 2, [31, 32], 4]\n"
     ]
    }
   ],
   "source": [
    "import copy                      # import modułu\n",
    "lista1 = [1, 2, [31, 32], 4]\n",
    "lista_g = copy.deepcopy(lista1)  # kopiowanie głębokie\n",
    "print(lista1)                    # elementy oryginalnej listy\n",
    "lista_g[2][0] = 55               # zmiana wartości elementu w nowej liście\n",
    "print(lista1)                    # elementy oryginalnej listy - bez zmian !!!"
   ]
  },
  {
   "cell_type": "markdown",
   "id": "894a7277",
   "metadata": {
    "deletable": false,
    "editable": false,
    "nbgrader": {
     "cell_type": "markdown",
     "checksum": "684b348bd194f39489fd60c59a1ae38b",
     "grade": false,
     "grade_id": "cell-de89d29cd69dc3a7",
     "locked": true,
     "schema_version": 3,
     "solution": false
    }
   },
   "source": [
    "### Przekazywanie list do funkcji.\n",
    "Przekazywanie list do funkcji odbywa się przez referencje (podobnie jak kopiowanie) tzn. nie tworzony jest nowy obiekt ale tworzone jest nowe odwołanie (alias) do tego samego obiektu."
   ]
  },
  {
   "cell_type": "code",
   "execution_count": 41,
   "id": "71ec6144",
   "metadata": {},
   "outputs": [
    {
     "name": "stdout",
     "output_type": "stream",
     "text": [
      "2056051116800\n",
      "funkcja: 2056051116800\n",
      "[1, 2, 111, 4]\n"
     ]
    }
   ],
   "source": [
    "a = [1, 2, 3, 4]\n",
    "print(id(a))  # sprawdzenie id obiektu a\n",
    "\n",
    "def fun(b):\n",
    "    b[2] = 111 \n",
    "    print('funkcja:',id(b))  # sprawdzenie id obiektu b\n",
    "\n",
    "fun(a)  # wywołanie funkcji z obiektem a\n",
    "print(a)"
   ]
  },
  {
   "cell_type": "markdown",
   "id": "e914491e",
   "metadata": {
    "deletable": false,
    "editable": false,
    "nbgrader": {
     "cell_type": "markdown",
     "checksum": "a245a68b5bcf88ee32e97dd23effa1cb",
     "grade": false,
     "grade_id": "cell-b7dc026a0039d3fa",
     "locked": true,
     "schema_version": 3,
     "solution": false
    }
   },
   "source": [
    "Jeżeli nie chcemy aby funkcja modyfikowała oryginalną listę tworzymy kopię.\n",
    "\n",
    "__Uwaga__: Jeżeli występują listy zagnieżdzone należy wykonać kopię głęboką."
   ]
  },
  {
   "cell_type": "code",
   "execution_count": 42,
   "id": "5bca9e6a",
   "metadata": {},
   "outputs": [
    {
     "name": "stdout",
     "output_type": "stream",
     "text": [
      "2056051117824\n",
      "funkcja: 2056015103872\n",
      "[1, 2, 111, 4]\n",
      "[1, 2, 3, 4]\n"
     ]
    }
   ],
   "source": [
    "a = [1, 2, 3, 4]\n",
    "print(id(a))  # sprawdzenie id obiektu a\n",
    "\n",
    "def fun(b):\n",
    "    tmp = b.copy()  # utworzenie płytkiej kopii listy\n",
    "    tmp[2] = 111 \n",
    "    print('funkcja:',id(tmp))  # sprawdzenie id obiektu tmp\n",
    "    return tmp\n",
    "\n",
    "print(fun(a))  # wywołanie funkcji z obiektem a, funkcja zwraca listę\n",
    "print(a)  # lista oryginalna bez zmian"
   ]
  },
  {
   "cell_type": "code",
   "execution_count": 43,
   "id": "b1272db5",
   "metadata": {},
   "outputs": [
    {
     "name": "stdout",
     "output_type": "stream",
     "text": [
      "2056051442112\n",
      "funkcja: 2056051119744\n",
      "[[5], [6, 7], [111, 9, 10]]\n",
      "[[5], [6, 7], [8, 9, 10]]\n"
     ]
    }
   ],
   "source": [
    "import copy\n",
    "a = [[5], [6,7], [8,9,10]]\n",
    "print(id(a))  # sprawdzenie id obiektu a\n",
    "\n",
    "def fun(b):\n",
    "    tmp = copy.deepcopy(b)  # utworzenie kopii głębokiej listy\n",
    "    tmp[2][0] = 111 \n",
    "    print('funkcja:',id(tmp))  # sprawdzenie id obiektu tmp\n",
    "    return tmp\n",
    "\n",
    "print(fun(a))  # wywołanie funkcji z obiektem a, funkcja zwraca listę\n",
    "print(a)  # lista oryginalna bez zmian"
   ]
  },
  {
   "cell_type": "markdown",
   "id": "42d9a213",
   "metadata": {
    "deletable": false,
    "editable": false,
    "nbgrader": {
     "cell_type": "markdown",
     "checksum": "65d52ec459753a73b7655912f1116677",
     "grade": false,
     "grade_id": "cell-23341f5c2b4703ad",
     "locked": true,
     "schema_version": 3,
     "solution": false
    }
   },
   "source": [
    "### Ćwiczenie 3\n",
    "Napisz funkcję `f_c33` która pobiera listę złożoną z list liczb całkowitych i zwraca sumę wszystkich elementów.\n"
   ]
  },
  {
   "cell_type": "code",
   "execution_count": 44,
   "id": "1b560db6",
   "metadata": {
    "deletable": false,
    "nbgrader": {
     "cell_type": "code",
     "checksum": "679a0a2300ecda61425f4ce43f14c625",
     "grade": false,
     "grade_id": "cell-d0d9c2b7fa544b96",
     "locked": false,
     "schema_version": 3,
     "solution": true
    }
   },
   "outputs": [
    {
     "data": {
      "text/plain": [
       "[5, 13, 27, 4]"
      ]
     },
     "execution_count": 44,
     "metadata": {},
     "output_type": "execute_result"
    }
   ],
   "source": [
    "d1 = 1\n",
    "d2 = 3\n",
    "lista_c_32 = [[5], [6,7], [8,9,10], [d2,d1]]\n",
    "\n",
    "# YOUR CODE HERE\n",
    "def f_c33(list):\n",
    "  result = []\n",
    "  \n",
    "  for index, subList in enumerate(list):\n",
    "    result.append(0)\n",
    "    \n",
    "    for element in subList:\n",
    "      result[index] += element\n",
    "    \n",
    "  return result  \n",
    "\n",
    "f_c33(lista_c_32)\n"
   ]
  },
  {
   "cell_type": "markdown",
   "id": "c5372987",
   "metadata": {
    "deletable": false,
    "editable": false,
    "nbgrader": {
     "cell_type": "markdown",
     "checksum": "b24b50eb005aa29a6befe4eacda7ca60",
     "grade": false,
     "grade_id": "cell-16d4c94e4bf1db7c",
     "locked": true,
     "schema_version": 3,
     "solution": false
    }
   },
   "source": [
    "## Zadanie 1\n",
    "Napisz funkcję `lista_z31`, której argumentem formalnym jest lista zawierająca liczby całkowite. Funkcja pozostawia w liście elementy większe od `5`. Elementy mniejsze od `5` zamienia na `0`. Funkcja zwraca nową (zmodyfikowaną) listę."
   ]
  },
  {
   "cell_type": "code",
   "execution_count": 45,
   "id": "94c0c342",
   "metadata": {
    "deletable": false,
    "nbgrader": {
     "cell_type": "code",
     "checksum": "24b1884f2f37d9d0f9f75cbf7cb4113b",
     "grade": true,
     "grade_id": "cell-b753b0808ed69c27",
     "locked": false,
     "points": 1,
     "schema_version": 3,
     "solution": true
    }
   },
   "outputs": [
    {
     "name": "stdout",
     "output_type": "stream",
     "text": [
      "[0, 0, 9, 8, 7, 0]\n",
      "[1, 3, 9, 8, 7, 3]\n"
     ]
    }
   ],
   "source": [
    "lista_z31 = [1, 3, 9, 8, 7, 3]\n",
    "\n",
    "# YOUR CODE HERE\n",
    "def f_z31(list):\n",
    "  result = copy.deepcopy(list)\n",
    "\n",
    "  for i in range(len(result)):\n",
    "    if (result[i] <= 5):\n",
    "      result[i] = 0\n",
    "    \n",
    "  return result  \n",
    "      \n",
    "print(f_z31(lista_z31))\n",
    "print(lista_z31)"
   ]
  },
  {
   "cell_type": "markdown",
   "id": "eacdee57",
   "metadata": {
    "deletable": false,
    "editable": false,
    "nbgrader": {
     "cell_type": "markdown",
     "checksum": "f505a06d307496cea4147c2212b31ee5",
     "grade": false,
     "grade_id": "cell-3c31f3a88a5ee2df",
     "locked": true,
     "schema_version": 3,
     "solution": false
    }
   },
   "source": [
    "## Zadanie 2\n",
    "Napisz funkcję `f_z32`, której argumentem formalnym jest lista zawierająca liczby. Funkcja ma sprawdzić, czy w liście znajdują się co najmniej dwa takie same elementy. Jeżeli `tak` funkcja zwraca wartość `True`. Jeżeli elementy są różne funkcja zwraca `False`. Lista oryginalna ma pozostać bez zmian."
   ]
  },
  {
   "cell_type": "code",
   "execution_count": 46,
   "id": "2621eb77",
   "metadata": {
    "deletable": false,
    "nbgrader": {
     "cell_type": "code",
     "checksum": "43a95fdf2e09605ccdcf19e0befe22c1",
     "grade": true,
     "grade_id": "cell-8d5e1cb71dac421e",
     "locked": false,
     "points": 1,
     "schema_version": 3,
     "solution": true
    }
   },
   "outputs": [
    {
     "name": "stdout",
     "output_type": "stream",
     "text": [
      "[True, False]\n",
      "[(1, 1), (2, 1)]\n"
     ]
    }
   ],
   "source": [
    "# YOUR CODE HERE\n",
    "lista_z32 = [(1, 1), (2, 1)]\n",
    "\n",
    "def f_z32(list):\n",
    "  result = []  \n",
    "    \n",
    "  for subList in list:\n",
    "    if (len(subList) == 2):\n",
    "      result.append(subList[0] == subList[1])\n",
    "        \n",
    "  return result      \n",
    "\n",
    "print(f_z32(lista_z32))\n",
    "print(lista_z32)"
   ]
  },
  {
   "cell_type": "markdown",
   "id": "7dc61763",
   "metadata": {
    "deletable": false,
    "editable": false,
    "nbgrader": {
     "cell_type": "markdown",
     "checksum": "4733067b43630bc760732b73be7537f9",
     "grade": false,
     "grade_id": "cell-93ca59162ede0095",
     "locked": true,
     "schema_version": 3,
     "solution": false
    }
   },
   "source": [
    "## Zadanie 3\n",
    "Napisz funkcję `f_z33`, której argumentem formalnym jest lista zawierająca liczby. Funkcja ma zwrócić listę zawierającą 3 elementy: najmniejszą i największą wartość w liście oraz średnią arytmetyczną wszystkich elementów."
   ]
  },
  {
   "cell_type": "code",
   "execution_count": 84,
   "id": "c76f40c7",
   "metadata": {
    "deletable": false,
    "nbgrader": {
     "cell_type": "code",
     "checksum": "cdb2403d7ed8a13ff6f0426a0ea1eac2",
     "grade": true,
     "grade_id": "cell-e5e9b6f23e9b5dea",
     "locked": false,
     "points": 1,
     "schema_version": 3,
     "solution": true
    }
   },
   "outputs": [
    {
     "data": {
      "text/plain": [
       "[1, 9, 5.166666666666667]"
      ]
     },
     "execution_count": 84,
     "metadata": {},
     "output_type": "execute_result"
    }
   ],
   "source": [
    "# YOUR CODE HERE\n",
    "def f_z33(list):\n",
    "  sum = 0\n",
    "  avg = 0\n",
    "  max = list[0]\n",
    "  min = list[0]\n",
    "\n",
    "    \n",
    "  for n in list:\n",
    "    sum += n\n",
    "    \n",
    "    if (max < n):\n",
    "      max = n\n",
    "    \n",
    "    if (min > n):\n",
    "      min = n\n",
    "    \n",
    "  avg = sum / len(list)  \n",
    "        \n",
    "  return [min, max, avg]\n",
    "\n",
    "f_z33(lista_z31)\n"
   ]
  },
  {
   "cell_type": "markdown",
   "id": "dc590262",
   "metadata": {
    "deletable": false,
    "editable": false,
    "nbgrader": {
     "cell_type": "markdown",
     "checksum": "f0532e015ed57bd4a55384e7a194941b",
     "grade": false,
     "grade_id": "cell-7360cbcdbd921647",
     "locked": true,
     "schema_version": 3,
     "solution": false
    }
   },
   "source": [
    "## Zadanie 4\n",
    "\n",
    "Napisz funkcję `f_z34` kopiującą listę przesłaną jako argument. Wykorzystaj mechanizm `list comprehensions`. Funkcja zwraca nowoutworzoną listę.\n"
   ]
  },
  {
   "cell_type": "code",
   "execution_count": 85,
   "id": "a9759474",
   "metadata": {
    "deletable": false,
    "nbgrader": {
     "cell_type": "code",
     "checksum": "a8c35a8b48e1945614eba9839488413a",
     "grade": true,
     "grade_id": "cell-f8a91ff31ea65291",
     "locked": false,
     "points": 1,
     "schema_version": 3,
     "solution": true
    }
   },
   "outputs": [
    {
     "data": {
      "text/plain": [
       "[1, 3, 9, 8, 7, 3]"
      ]
     },
     "execution_count": 85,
     "metadata": {},
     "output_type": "execute_result"
    }
   ],
   "source": [
    "# YOUR CODE HERE\n",
    "def f_z34(list):\n",
    "  return [n for n in list]\n",
    "    \n",
    "f_z34(lista_z31)"
   ]
  },
  {
   "cell_type": "markdown",
   "id": "141182af",
   "metadata": {
    "deletable": false,
    "editable": false,
    "nbgrader": {
     "cell_type": "markdown",
     "checksum": "824c6bacab9fec350a81eb46c2464078",
     "grade": false,
     "grade_id": "cell-54d0774cb1629874",
     "locked": true,
     "schema_version": 3,
     "solution": false,
     "task": false
    }
   },
   "source": [
    "## Zadanie 5\n",
    "\n",
    "Napisz funkcję `f_z35` przyjmującą jako argument listę, kopiującą ją i zmieniającą każdy element nowej listy (oprócz pierwszego i ostatniego) tak, aby był on średnią arytmetyczną siebie oraz swoich bezpośrednich sąsiadów. Lista przesłana jako argument nie powinna być modyfikowana. Pierwszy i ostatni element listy mają pozostać niezmienione. Funkcja zwraca nowoutworzoną listę.\n",
    "Wykorzystaj listę `lista_z31` i zaprezentuj działanie powyższej funkcji."
   ]
  },
  {
   "cell_type": "code",
   "execution_count": 50,
   "id": "7f9c0b0b",
   "metadata": {
    "deletable": false,
    "nbgrader": {
     "cell_type": "code",
     "checksum": "224ba6270bcc9038f77887c5c75ff528",
     "grade": true,
     "grade_id": "cell-f2febd36d47bcf54",
     "locked": false,
     "points": 1,
     "schema_version": 3,
     "solution": true,
     "task": false
    }
   },
   "outputs": [
    {
     "data": {
      "text/plain": [
       "[2.0, 3, 9, 8, 7, 3]"
      ]
     },
     "execution_count": 50,
     "metadata": {},
     "output_type": "execute_result"
    }
   ],
   "source": [
    "# YOUR CODE HERE\n",
    "def f_z35(list):\n",
    "  result = copy.deepcopy(list)\n",
    "    \n",
    "  for index in range(len(list)):\n",
    "    if index == 0:\n",
    "      result[index] = (list[index] + list[index + 1]) / 2\n",
    "    \n",
    "    elif index + 1 == len(list):\n",
    "      result[index] = (list[index] + list[index - 1]) / 2\n",
    "      \n",
    "    else:\n",
    "     result[index] = (list[index] + list[index + 1] + list[index - 1]) / 3\n",
    "    return result          \n",
    "\n",
    "f_z35(lista_z31)"
   ]
  },
  {
   "cell_type": "markdown",
   "id": "e1b77f1d",
   "metadata": {
    "deletable": false,
    "editable": false,
    "nbgrader": {
     "cell_type": "markdown",
     "checksum": "1f30b0e4112c15813c54dce13b14d180",
     "grade": false,
     "grade_id": "cell-ab2eb135f3577a5d",
     "locked": true,
     "schema_version": 3,
     "solution": false,
     "task": false
    }
   },
   "source": [
    "## Zadanie 6\n",
    "\n",
    "Napisz funkcję `f_z36` przyjmującą jako argumenty dwa słowa - Nazwisko oraz Imię autora (takie jak w nazwie tego pliku NrAlbumu_Nazwisko_Imie_PoprzedniaNazwa)) i zwracającą listę, której elementami jest suma odpowiednich elementów przesłanych słów  (c[0]=a[0]+b[0], c[1]=a[1]+b[1] itd.). Jeśli listy nie są równej długości, wyjściowa lista powinna mieć tyle elementów, ile ma krótsza z list. Wykorzystaj mechanizm `list comprehensions`."
   ]
  },
  {
   "cell_type": "code",
   "execution_count": 51,
   "id": "639ba023",
   "metadata": {
    "deletable": false,
    "nbgrader": {
     "cell_type": "code",
     "checksum": "5efd211f742a1fec9e45cb9b84481391",
     "grade": true,
     "grade_id": "cell-d881c32c5ed4acb6",
     "locked": false,
     "points": 1,
     "schema_version": 3,
     "solution": true,
     "task": false
    }
   },
   "outputs": [
    {
     "name": "stdout",
     "output_type": "stream",
     "text": [
      "['KŁ', 'uu', 'rk', 'na', 'is', 'kz']\n"
     ]
    }
   ],
   "source": [
    "#przyklad dla Jana Kowalskiego:\n",
    "a = 'Kurnik'\n",
    "b = 'Łukasz'\n",
    "\n",
    "# YOUR CODE HERE\n",
    "def f_z36(a, b):    \n",
    "  return [a[index] + b[index] for index in range(len(a)) if (a[index] and b[index])]\n",
    "\n",
    "c = f_z36(a, b)\n",
    "print(c)"
   ]
  },
  {
   "cell_type": "markdown",
   "id": "e471ee5d",
   "metadata": {
    "deletable": false,
    "editable": false,
    "nbgrader": {
     "cell_type": "markdown",
     "checksum": "b955f169d2b564b19d2119039f2060f8",
     "grade": false,
     "grade_id": "cell-fa614b6c8603efa2",
     "locked": true,
     "schema_version": 3,
     "solution": false,
     "task": false
    }
   },
   "source": [
    "## Zadanie 7\n",
    "\n",
    "Napisz funkcję `f_z37` przyjmującą jako argumenty dwa słowa - Nazwisko oraz Imię autora (takie jak w nazwie NrAlbumu_Nazwisko_Imie_PoprzedniaNazwa)) i zwracającą listę, której elementami jest iloraz odpowiednich elementów przesłanych list (przekonwertowanych na liczby całkowite reprezentujące punkt kodowy w Unicode danego znaku przy pomocy funkcji ord()). Jeśli listy nie są równej długości, wyjściowa lista powinna mieć tyle elementów, ile ma krótsza z list. Wykorzystaj mechanizm `list comprehensions`. Pamiętaj, że nie można dzielić przez zero – jeśli dzielnik miałby być zerem, to pomiń element (wykorzystaj `if` w `list comprehensions`)."
   ]
  },
  {
   "cell_type": "code",
   "execution_count": 52,
   "id": "8c33d716",
   "metadata": {
    "deletable": false,
    "nbgrader": {
     "cell_type": "code",
     "checksum": "e03dff8efd2f8f764dfdaab3bfe85e35",
     "grade": true,
     "grade_id": "cell-cc0366108d70eeb3",
     "locked": false,
     "points": 1,
     "schema_version": 3,
     "solution": true,
     "task": false
    }
   },
   "outputs": [
    {
     "name": "stdout",
     "output_type": "stream",
     "text": [
      "[0.2336448598130841, 1.0, 1.0654205607476634, 1.134020618556701, 0.9130434782608695, 0.8770491803278688]\n"
     ]
    }
   ],
   "source": [
    "# YOUR CODE HERE\n",
    "def f_z37(a, b):    \n",
    "  return [ord(a[index]) / ord(b[index]) for index in range(len(a)) if (ord(b[index]) != 0)]\n",
    "\n",
    "c = f_z37(a, b)\n",
    "print(c)"
   ]
  },
  {
   "cell_type": "markdown",
   "id": "4a84c559",
   "metadata": {
    "deletable": false,
    "editable": false,
    "nbgrader": {
     "cell_type": "markdown",
     "checksum": "865748ff39274e03146d77e9e85a6a48",
     "grade": false,
     "grade_id": "cell-88a1d1dbe0144d6f",
     "locked": true,
     "schema_version": 3,
     "solution": false,
     "task": false
    }
   },
   "source": [
    "## Zadanie 8\n",
    "\n",
    "Napisz funkcję `f_z38` przyjmującą jako argument listę `lista_z38`, wybierającą z niej trzy najmniejsze elementy w kolejności malejącej oraz dwa największe elementy również w kolejności malejącej (mogą wystąpić powtórzenia). Funkcja zwraca listę złożoną z tych elementów. Wykorzystaj metody/funkcje `sort()`/`sorted()` oraz `reverse()`/`reversed()`.\n",
    "Przykład:\n",
    "\n",
    "```python\n",
    "#dane\n",
    "lista_z38 = [0, 1, -5, 8, 14, 9, 6]\n",
    "#wynik\n",
    "[1, 0, -5, 14, 9]\n",
    "```"
   ]
  },
  {
   "cell_type": "code",
   "execution_count": 53,
   "id": "de1ebfa1",
   "metadata": {
    "deletable": false,
    "nbgrader": {
     "cell_type": "code",
     "checksum": "8fc2afd732c3bdf2cfd171dee1444b8e",
     "grade": true,
     "grade_id": "cell-4ebcfdb156ada60c",
     "locked": false,
     "points": 1,
     "schema_version": 3,
     "solution": true,
     "task": false
    }
   },
   "outputs": [
    {
     "name": "stdout",
     "output_type": "stream",
     "text": [
      "[3, 3, 1, 9, 8]\n"
     ]
    }
   ],
   "source": [
    "#lista_z38 - zawiera kolejne cyfry z NrAlbumu autora: np.:\n",
    "lista_z38 = [1,3,9,8,7,3]          #dla 425672_Kowalski_Jan_JS_Lab_3\n",
    "\n",
    "# YOUR CODE HERE\n",
    "def f_z38(list):\n",
    "  result = []\n",
    "  copyList = copy.deepcopy(list)\n",
    "  copyList.sort()\n",
    "  \n",
    "  for i in range(0, 3):\n",
    "    result.append(copyList[i])\n",
    "    \n",
    "  result.reverse()\n",
    "  copyList.reverse()\n",
    "    \n",
    "  for i in range(0, 2):\n",
    "    result.append(copyList[i])\n",
    "    \n",
    "  return result\n",
    "\n",
    "\n",
    "\n",
    "c = f_z38(lista_z38)\n",
    "print(c)"
   ]
  },
  {
   "cell_type": "markdown",
   "id": "3ab81f42",
   "metadata": {
    "deletable": false,
    "editable": false,
    "nbgrader": {
     "cell_type": "markdown",
     "checksum": "96780f59c7b3f688b2071ba6f4331319",
     "grade": false,
     "grade_id": "cell-a12f5fac94409d80",
     "locked": true,
     "schema_version": 3,
     "solution": false,
     "task": false
    }
   },
   "source": [
    "## Zadanie 9\n",
    "Napisz funkcję `f_z39` przyjmującą jako argument listę `lista_z39`. Funkcja usuwa z listy co trzeci element oraz wszystkie elementy o wartości mniejszej od 5. Wykorzystaj `del`.\n",
    "\n",
    "Przykład:\n",
    "\n",
    "```python\n",
    "#dane\n",
    "lista_z39 = [1, 2, 3, -4, 5, 6, 7, 8, 9, 10, -11, 12]\n",
    "#wynik\n",
    "[1, 2, 5, 7, 8, 10]\n",
    "```\n"
   ]
  },
  {
   "cell_type": "code",
   "execution_count": 55,
   "id": "ac80574f",
   "metadata": {
    "deletable": false,
    "nbgrader": {
     "cell_type": "code",
     "checksum": "f90a81e38498f0ef46c7b9b711d5eec2",
     "grade": true,
     "grade_id": "cell-88a249a422252816",
     "locked": false,
     "points": 1,
     "schema_version": 3,
     "solution": true,
     "task": false
    }
   },
   "outputs": [
    {
     "name": "stdout",
     "output_type": "stream",
     "text": [
      "[3, 9, 7, 3]\n",
      "[9, 7]\n"
     ]
    }
   ],
   "source": [
    "#lista_z39 - zawiera kolejne cyfry z NrAlbumu autora: np.:\n",
    "lista_z39 = [1,3,9,8,7,3]          #dla 425672_Kowalski_Jan_JS_Lab_3\n",
    "\n",
    "# YOUR CODE HERE\n",
    "def func(list):\n",
    "  for index, element in enumerate(list):\n",
    "    if (element < 5): \n",
    "      del list[index]\n",
    "      func(list)\n",
    "      break\n",
    "\n",
    "def f_z39(list):\n",
    "  del list[0::3]\n",
    "  print(list)\n",
    "  func(list) \n",
    "\n",
    "f_z39(lista_z39)\n",
    "print(lista_z39)"
   ]
  },
  {
   "cell_type": "markdown",
   "id": "750b6c01",
   "metadata": {
    "deletable": false,
    "editable": false,
    "nbgrader": {
     "cell_type": "markdown",
     "checksum": "140bcdbddc15ae08d568f2bfd40f090d",
     "grade": false,
     "grade_id": "cell-75addf2df4389236",
     "locked": true,
     "schema_version": 3,
     "solution": false,
     "task": false
    }
   },
   "source": [
    "## Zadanie 10\n",
    "\n",
    "Napisz funkcję `f_z310`przyjmującą jako argument listę `lista_z310` oraz pewną liczbę całkowitą `odstęp`, wstawiającą `0` do listy co `odstęp` elementów.\n",
    "\n",
    "Przykład:\n",
    "\n",
    "```python\n",
    "#dane\n",
    "lista_z310 = [1, 2, 3, 4, 5, 6, 7, 8, 9, 10]\n",
    "#wynik dla f_z310(lista_z310,2)\n",
    "[1, 2, 0, 3, 4, 0, 5, 6, 0, 7, 8, 0, 9, 10, 0]\n",
    "#wynik dla f_z310(lista_z310,3)\n",
    "[1, 2, 3, 0, 4, 5, 6, 0, 7, 8, 9, 0, 10]\n",
    "```"
   ]
  },
  {
   "cell_type": "code",
   "execution_count": 57,
   "id": "627cbc4a",
   "metadata": {
    "deletable": false,
    "nbgrader": {
     "cell_type": "code",
     "checksum": "10d588b4d9f66338e66d072e2e01b0c1",
     "grade": true,
     "grade_id": "cell-689dddceae10dd54",
     "locked": false,
     "points": 1,
     "schema_version": 3,
     "solution": true,
     "task": false
    }
   },
   "outputs": [
    {
     "name": "stdout",
     "output_type": "stream",
     "text": [
      "[1, 0, 3, 0, 9, 0, 8, 0, 7, 0, 3, 0]\n"
     ]
    }
   ],
   "source": [
    "#lista_z310 - zawiera kolejne cyfry z NrAlbumu autora: np.:\n",
    "lista_z310 = [1,3,9,8,7,3]          #dla 425672_Kowalski_Jan_JS_Lab_3\n",
    "\n",
    "# YOUR CODE HERE\n",
    "def f_z310(list, zero):\n",
    "  count = round(len(list) / zero)\n",
    "    \n",
    "  for i in range(count):\n",
    "    list.insert((i + 1) * zero + i, 0)\n",
    "\n",
    "f_z310(lista_z310, 1)\n",
    "print(lista_z310)"
   ]
  },
  {
   "cell_type": "markdown",
   "id": "f7dbb05e",
   "metadata": {
    "deletable": false,
    "editable": false,
    "nbgrader": {
     "cell_type": "markdown",
     "checksum": "3ab1b9661ba9a7bf2754e7c0df2e66c3",
     "grade": false,
     "grade_id": "cell-1a6e42804f009622",
     "locked": true,
     "schema_version": 3,
     "solution": false,
     "task": false
    }
   },
   "source": [
    "## Zadanie 11\n",
    "\n",
    "Napisz funkcję `f_z311` przyjmującą jako argument liczbę `n` (gdzie `n` jest liczbą liter w Nazwisku autora). Funkcja zwraca tablicę dwuwymiarową o rozmiarze `n x n` wypełnioną na zmianę `1` i `0`, na kształt szachownicy (pierwszy element tablicy powinien mieć wartość `1`). Wykorzystaj mechanizm `list comprehensions`.\n",
    "Napisz również funkcję `print_f_z311(tab)` wypisującą tablicę `tab` w postaci tablicy dwuwymiarowej\n",
    "tak jak na poniższym przykladzie:\n",
    "\n",
    "Przykład:\n",
    "\n",
    "```python\n",
    "#dane\n",
    "tab = f_z311(3)\n",
    "print_f_z311(tab)\n",
    "#wynik\n",
    "[1, 0, 1]\n",
    "[0, 1, 0] \n",
    "[1, 0, 1]\n",
    "```\n",
    "\n"
   ]
  },
  {
   "cell_type": "code",
   "execution_count": 61,
   "id": "37679c83",
   "metadata": {
    "deletable": false,
    "nbgrader": {
     "cell_type": "code",
     "checksum": "53d5f9864e5d730284b7584a9d45cab8",
     "grade": true,
     "grade_id": "cell-5a0c5ee907859c03",
     "locked": false,
     "points": 1,
     "schema_version": 3,
     "solution": true,
     "task": false
    }
   },
   "outputs": [
    {
     "name": "stdout",
     "output_type": "stream",
     "text": [
      "[[1, 0, 1, 0, 1, 0], [0, 1, 0, 1, 0, 1], [1, 0, 1, 0, 1, 0], [0, 1, 0, 1, 0, 1], [1, 0, 1, 0, 1, 0], [0, 1, 0, 1, 0, 1]]\n"
     ]
    }
   ],
   "source": [
    "# YOUR CODE HERE\n",
    "def f_z311(n):\n",
    "  return [[(1 if j % 2 == 0 else 0) if i % 2 == 0 else (0 if j % 2 == 0 else 1) for i in range(n)] for j in range(n)]  \n",
    "\n",
    "n = len('Kurnik')\n",
    "tab = f_z311(n)\n",
    "print(tab)"
   ]
  },
  {
   "cell_type": "markdown",
   "id": "b574f003",
   "metadata": {
    "deletable": false,
    "editable": false,
    "nbgrader": {
     "cell_type": "markdown",
     "checksum": "5c261af0cc5eb4fdfea1ea8fd4c4bac3",
     "grade": false,
     "grade_id": "cell-0cd2ec7a31574cb3",
     "locked": true,
     "schema_version": 3,
     "solution": false,
     "task": false
    }
   },
   "source": [
    "## Zadanie 12\n",
    "\n",
    "Napisz dwie funkcje `fun1()` i `fun2()`. Funkcja `fun1()` zwraca liczbę samogłosek w tekście przesłanym jako argument. Funkcja `fun2()` przyjmuje jako argument listę wyrazów w tekście i zwraca listę utworzoną z tych elementów przesłanej listy, które zawierają parzystą liczbę samogłosek. Wykorzystaj mechanizm `list comprehensions` oraz operator `in` do sprawdzania czy litera jest samogłoską.\n",
    "\n",
    "```python\n",
    "if znak in \"aiueoyąę\":\n",
    "     print(\"samogłoska\")\n",
    "else:\n",
    "     print(\"nie samogłoska\")\n",
    "```\n",
    "\n",
    "Przykład:\n",
    "\n",
    "```python\n",
    "#dane\n",
    "fun2([\"Robot\", \"Mech\", \"Metal Gear\", \"Android\"])\n",
    "#wynik\n",
    "['Robot', 'Metal Gear']\n",
    "```"
   ]
  },
  {
   "cell_type": "code",
   "execution_count": 77,
   "id": "b1467d1b",
   "metadata": {
    "deletable": false,
    "nbgrader": {
     "cell_type": "code",
     "checksum": "f16dec9d10c2cb0aa385e71336cf7b5b",
     "grade": true,
     "grade_id": "cell-f79bb93cf7482155",
     "locked": false,
     "points": 1,
     "schema_version": 3,
     "solution": true,
     "task": false
    }
   },
   "outputs": [
    {
     "data": {
      "text/plain": [
       "['Robot', 'Metal Gear', 'Android']"
      ]
     },
     "execution_count": 77,
     "metadata": {},
     "output_type": "execute_result"
    }
   ],
   "source": [
    "# YOUR CODE HERE\n",
    "text = \"aiueoyąę\"\n",
    "def fun1(word):\n",
    "  return len([letter for letter in word if letter in text])\n",
    "\n",
    "def fun2(words):\n",
    "  return [word for word in words if fun1(word) % 2 == 0]\n",
    "\n",
    "#def fun2(words):\n",
    "  return [word for word in words if fun1(word) % 2 == 1]\n",
    "\n",
    "fun2([\"Robot\", \"Mech\", \"Metal Gear\", \"Android\"])"
   ]
  },
  {
   "cell_type": "markdown",
   "id": "7fa44821",
   "metadata": {
    "deletable": false,
    "editable": false,
    "nbgrader": {
     "cell_type": "markdown",
     "checksum": "afa8b2c32bb48af90964dd0012de7f79",
     "grade": false,
     "grade_id": "cell-03d560060389930d",
     "locked": true,
     "schema_version": 3,
     "solution": false,
     "task": false
    }
   },
   "source": [
    "## Zadanie 13\n",
    "\n",
    "Zdefiniuj funkcje przyjmującą jako argument formalny dowolną liczbę argumentów. Załóż, że argumenty wejściowe będą zawsze listami. Funkcja powinna zwrócić - bez modyfikacji list oryginalnych - listę zawierającą wszystkie, niepowtarzające się elementy wszystkich list.\n",
    "\n",
    "Przykład.\n",
    "\n",
    "```python\n",
    "#dane\n",
    "l1 = [0, 1, 2, 30, 4]\n",
    "l2 = [3, 4, 5, 6, 7]\n",
    "l3 = [7, 8, 9]\n",
    "l4 = [10, 11, 12, 5]\n",
    "#wynik\n",
    "[0, 1, 2, 3, 4, 5, 6, 7, 8, 9, 10, 11, 12, 30]\n",
    "```"
   ]
  },
  {
   "cell_type": "code",
   "execution_count": 78,
   "id": "8f5f7b76",
   "metadata": {
    "deletable": false,
    "nbgrader": {
     "cell_type": "code",
     "checksum": "58d0a6b6de24f86685b8e28b3f556cb5",
     "grade": true,
     "grade_id": "cell-21e44f5b57c56bfe",
     "locked": false,
     "points": 1,
     "schema_version": 3,
     "solution": true,
     "task": false
    }
   },
   "outputs": [
    {
     "data": {
      "text/plain": [
       "[0, 1, 2, 3, 4, 5, 6, 7, 8, 9, 10, 11, 12, 30]"
      ]
     },
     "execution_count": 78,
     "metadata": {},
     "output_type": "execute_result"
    }
   ],
   "source": [
    "# YOUR CODE HERE\n",
    "l1 = [0, 1, 2, 30, 4]\n",
    "l2 = [3, 4, 5, 6, 7]\n",
    "l3 = [7, 8, 9]\n",
    "l4 = [10, 11, 12, 5]\n",
    "\n",
    "def merge(*args):\n",
    "  result = []  \n",
    "    \n",
    "  for arg in args:\n",
    "    result += arg   \n",
    "  return list(set(result))\n",
    "\n",
    "merge(l1, l2, l3, l4)"
   ]
  },
  {
   "cell_type": "code",
   "execution_count": null,
   "id": "f5a7e312",
   "metadata": {},
   "outputs": [],
   "source": []
  }
 ],
 "metadata": {
  "kernelspec": {
   "display_name": "Python 3.10.2 64-bit",
   "language": "python",
   "name": "python3"
  },
  "language_info": {
   "codemirror_mode": {
    "name": "ipython",
    "version": 3
   },
   "file_extension": ".py",
   "mimetype": "text/x-python",
   "name": "python",
   "nbconvert_exporter": "python",
   "pygments_lexer": "ipython3",
   "version": "3.10.2"
  },
  "vscode": {
   "interpreter": {
    "hash": "e593ac106456af50ce7af38f9671c411b49d6cd90f9b885e167f0f594e09038c"
   }
  }
 },
 "nbformat": 4,
 "nbformat_minor": 5
}
